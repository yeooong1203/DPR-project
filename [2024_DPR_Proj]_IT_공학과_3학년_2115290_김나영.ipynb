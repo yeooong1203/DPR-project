{
  "cells": [
    {
      "cell_type": "markdown",
      "metadata": {
        "id": "view-in-github",
        "colab_type": "text"
      },
      "source": [
        "<a href=\"https://colab.research.google.com/github/yeooong1203/DPR-project/blob/main/%5B2024_DPR_Proj%5D_IT_%EA%B3%B5%ED%95%99%EA%B3%BC_3%ED%95%99%EB%85%84_2115290_%EA%B9%80%EB%82%98%EC%98%81.ipynb\" target=\"_parent\"><img src=\"https://colab.research.google.com/assets/colab-badge.svg\" alt=\"Open In Colab\"/></a>"
      ]
    },
    {
      "cell_type": "markdown",
      "metadata": {
        "id": "3UfsdELEX1JE"
      },
      "source": [
        "# **MOTIVATION**"
      ]
    },
    {
      "cell_type": "markdown",
      "metadata": {
        "id": "Jf4elJyJt16B"
      },
      "source": [
        "> 프로젝트 주제 : 유튜브 악성 댓글 탐지 프로그램"
      ]
    },
    {
      "cell_type": "markdown",
      "metadata": {
        "id": "VoTjTG2yX4jw"
      },
      "source": [
        "인터넷의 '익명성'을 악의적으로 이용하여 다른 사람을 험담하고 비난하는 이른바 '악플'은 과거부터 현재까지 계속해서 문제가 되어오고 있습니다.\n",
        "특히 SNS, 유튜브가 사람들의 주요 소통 창구가 되며 대부분의 정보가 인터넷으로부터 공유되는 요즘에는 이러한 악성댓글이 큰 사회적 문제가 되고 있습니다.\n",
        "\n",
        "이에 따라 악성 댓글을 감지하는 프로그램의 필요성을 느꼈고, 그중에서도 **유튜브 악성 댓글 탐지 프로그램**을 만들기로 결정하였습니다. 수많은 플랫폼들 가운데 유튜브로 선정한 이유는 유튜브는 다른 SNS 플랫폼에 비해 특정 성별이나 연령에 치우치지 않고 많은 사람들이 이용하는 서비스였으며, 매달 전세계에서 유튜브에 로그인하는 사용자는 20억명 가까이 되는 활발한 소통 창구로 이용되고 있기 때문입니다.\n",
        "\n",
        "저는 프로젝트를 '한국어'로 쓰인 댓글을 탐지하는 프로그램으로 한정하여 제작하였으나 유튜브는 한국뿐만아니라 전세계인들이 사용하는 플랫폼인만큼 이후 외국어를 처리하는 부분을 추가한다면 전세계의 건강한 인터넷 문화에 조금이나마 도움을 줄 수 있을 것이라 기대됩니다."
      ]
    },
    {
      "cell_type": "markdown",
      "metadata": {
        "id": "OyG6IdOhX9iC"
      },
      "source": [
        "# **이 프로그램에 사용된 데이터 패턴**"
      ]
    },
    {
      "cell_type": "markdown",
      "metadata": {
        "id": "2h3JB0xWhou9"
      },
      "source": [
        "이 프로그램에서는 \"**텍스트 데이터**\", 그중에서도 비정형 데이터인 자연어를 처리하는 것을 목표로 합니다."
      ]
    },
    {
      "cell_type": "markdown",
      "metadata": {
        "id": "sx1yGvaEYEr5"
      },
      "source": [
        "# **데이터 수집 과정 및 AUGMENTATION**"
      ]
    },
    {
      "cell_type": "markdown",
      "metadata": {
        "id": "EDe2J1MPDxYD"
      },
      "source": [
        "### <크롤링>"
      ]
    },
    {
      "cell_type": "markdown",
      "metadata": {
        "id": "7_XsdszNiuad"
      },
      "source": [
        "\"유튜브 악성 댓글\"을 탐지하는 프로그램인 만큼 제가 수집해야 할 데이터는 \"유튜브 댓글\"이었습니다. 우선 수많은 크롤링 기법 중 \"셀레니움\"을 활용해 직접 유튜브에 접근하여 크롤링을 하려고 시도하였으나, 유튜브에서 자동화 봇으로 인지하고 접근을 차단해 데이터를 얻어오기 쉽지 않았습니다. 또한 사이트가 업데이트 될 경우 HTML 문서 형식이 바뀌게 되어 동작하지 않을 위험성이 있어 데이터 수집 방법을 변경하게 되었습니다.\n",
        "\n",
        "---\n",
        "\n",
        "\n",
        "\n",
        "제가 유튜브 댓글 데이터를 수집한 방법은 **Google에서 제공하는 YouTube Data API를 이용**하는 것이었습니다.\n",
        "\n",
        "세부적인 수집 과정은 다음과 같습니다.\n",
        "1. Google Cloud에 접속하여 새로운 API 프로젝트를 생성한 후 Youtube Data API v3을 활성화 시켰습니다.\n",
        "2. API 활성화 화면에서 사용자 인증 정보를 입력하면 API 키를 발급 받을 수 있습니다.\n",
        "\n",
        "이렇게 발급받은 API 키를 이용해 Python으로 크롤링 과정을 진행하였습니다.\n",
        "\n",
        "---\n",
        "\n"
      ]
    },
    {
      "cell_type": "markdown",
      "metadata": {
        "id": "LBwY2XIQlxPh"
      },
      "source": [
        "크롤링을 통해 저는 댓글과 작성자를 추출해 왔습니다.\n",
        "\n",
        "이때 사용한 유튜브 영상은 다양한 컨텐츠를 반영해야 좋은 프로그램을 만들 수 있으므로 뷰티 / 먹방 / 유명인 / 아이돌 이렇게 4가지 유형에 해당하는 영상들을 선정하여 크롤링을 진행하였습니다.\n",
        "\n",
        "크롤링을 통해 얻은 데이터들은 엑셀 파일에 저장해 놓았습니다.\n",
        "\n",
        "---\n",
        "\n"
      ]
    },
    {
      "cell_type": "markdown",
      "metadata": {
        "id": "l6OA9TjmpUgv"
      },
      "source": [
        "### <내가 직접 생성한 데이터>"
      ]
    },
    {
      "cell_type": "markdown",
      "metadata": {
        "id": "zp30pp0cqiZz"
      },
      "source": [
        "이렇게 크롤링을 통해 얻어온 데이터 뿐만 아니라\n",
        "\n",
        "이번 프로젝트는 \"내가\" 생성한 데이터를 사용하는 것이 목표였으므로 저만의 데이터 또한 데이터셋에 추가하여 데이터 셋을 구성하였습니다.\n",
        "\n",
        "제가 다루는 데이터는 텍스트 데이터 였으므로 **과거에 직접 작성했던 유튜브 댓글들을 불러와 데이터셋에 추가하고 레이블링 작업**도 하였습니다.\n",
        "\n",
        "아래 두 개의 사진은 순서대로\n",
        "\n",
        "(위) youtube 계정 설정에서 \"내 YouTube\" 댓글을 찾아본 화면과\n",
        "\n",
        "(아래) 여기서 가져온 댓글을 엑셀 파일에 추가하고 레이블링을 완료한 화면\n",
        "입니다.\n",
        "\n",
        "비록 저는 평소에 댓글을 잘 쓰는 편이 아니라 총 11개의 데이터뿐 이었지만 제가 작성한 댓글 중에는 악성댓글이 없었으며 이에 따라 모두 일반 댓글인 0으로 레이블링 될 것이기 때문에 데이터의 균형성 차원에서 오히려 너무 많은 0 레이블을 갖는 데이터를 추가하면 성능에 좋은 영향을 미치지 않을 것 같아 적절한 수준이라고 판단하였습니다."
      ]
    },
    {
      "cell_type": "markdown",
      "metadata": {
        "id": "u3jtA-KTqZmK"
      },
      "source": [
        "<center>\n",
        "<img src ='https://drive.google.com/uc?id=1d7seci0pOATaAZKYlOnpmAcspRshnTNs' /></br>\n",
        "</center>"
      ]
    },
    {
      "cell_type": "markdown",
      "metadata": {
        "id": "uVMfSm2IpZcp"
      },
      "source": [
        "<center>\n",
        "<img src = 'https://drive.google.com/uc?id=1JL2Jj1HllmpstfXBlr1c2iV0pWu83Z8-' /><br>\n",
        "</center>"
      ]
    },
    {
      "cell_type": "markdown",
      "metadata": {
        "id": "xzKUNFE4D1IV"
      },
      "source": [
        "### <레이블링>"
      ]
    },
    {
      "cell_type": "markdown",
      "metadata": {
        "id": "BktKoXFFq_Pl"
      },
      "source": [
        "제가 생성한 데이터가 아닌 크롤링으로 얻어온 데이터들은 유튜브 댓글과 작성자만을 포함하고 있기 때문에 지도학습을 통해 프로그램을 완성하기 위해서는 정답값인 레이블을 추가하는 레이블링 작업이 필요하였습니다.\n",
        "\n",
        "레이블링 하는 방법을 구글링으로 많이 검색해보았으나\n",
        "'작성 의도'까지 파악해 분류를 해야 하는 이 프로그램의 경우에는 **수동 레이블링** 작업이 가장 적합하다고 생각되었습니다.\n",
        "\n",
        "엑셀 파일을 열어 Label 열을 만들고 댓글을 하나하나 읽어가며 악성댓글의 경우 1, 일반댓글의 경우 0으로 레이블링 작업을 수행했습니다."
      ]
    },
    {
      "cell_type": "markdown",
      "metadata": {
        "id": "o6ay_grGqqn8"
      },
      "source": [
        " 이 프로그램의 악성댓글 판단 기준 입니다.\n",
        "1. 타인을 불쾌하게 할 수 있는 발언, 비난, 험담을 하는 댓글\n",
        "2. 직접적으로 특정 대상을 상대로 욕설을 사용한 댓글\n",
        "3. 직접적인 언급은 없으나 작성 의도가 다분히 악성적인 댓글\n",
        "4. 여러번 반복해서 같은 내용의 댓글을 남기는 댓글 테러를 하는 경우\n",
        "5. 출처없는 정확하지 않은 사실을 바탕으로 추측성 댓글을 남겨 부정적인 여론을 형성할 수 있는 댓글.\n",
        "6. 해당 유튜버에게는 옹호적인 입장을 밝히고 있으나 동시에 다른 사람, 혹은 특정 집단을 거세게, 과하게 비난하며 옹호하는 댓글.\n",
        "\n",
        "이 6가지 기준을 바탕으로 레이블링 작업을 완료하였습니다.\n"
      ]
    },
    {
      "cell_type": "markdown",
      "metadata": {
        "id": "5whpxFwuvQmq"
      },
      "source": [
        "<center>\n",
        "<img src = 'https://drive.google.com/uc?id=1u3KVizcz04sqq43vX3IPZk6Tx2dInFIF' /> <br>\n",
        "</center>\n",
        "\n",
        "레이블링 작업을 완료한 일부 화면 capture본 입니다.\n",
        "\n",
        "---\n",
        "\n"
      ]
    },
    {
      "cell_type": "markdown",
      "metadata": {
        "id": "HAgSe_aeD4gz"
      },
      "source": [
        "### <데이터 증식>"
      ]
    },
    {
      "cell_type": "markdown",
      "metadata": {
        "id": "DoAdiTcEv9ft"
      },
      "source": [
        "아무래도 수동으로 레이블링 작업을 진행하다 보니 많은 양의 데이터를 다루기에는 시간적 한계가 있었습니다.\n",
        "\n",
        "따라서 저는 레이블링이 완료된 총 915개의 원본 데이터를 가지고 data augmentation 기법을 활용해 데이터셋 크기의 부족함을 보완하는 방향으로 프로젝트를 진행하였습니다."
      ]
    },
    {
      "cell_type": "markdown",
      "metadata": {
        "id": "rd6xOntPzD4P"
      },
      "source": [
        "텍스트 데이터는 단어 하나만으로 문장의 의미가 완전히 바뀔 수 있기에 이미지나 영상 데이터와 달리 회전, 밝기 조절, 노이즈 삽입 등을 이용해 비교적 간단하고 안전하게 데이터를 증식할 수 없었습니다.\n",
        "텍스트 데이터의 증식 기법을 찾아본 결과 유의어 대체, 역번역, 임의의 단어 삽입 / 삭제, 문장 내 임의의 두 단어 위치 바꾸기 등이 있었습니다.\n",
        "\n",
        "특히나 이 프로그램처럼 적은 양의 데이터셋으로 딥러닝을 진행하는 경우 잘못 증식했다가 문장의 의미가 크게 바뀌어 프로그램 성능 악화에 크게 기여할 가능성이 있기에 가장 안전한 방법이 무엇일지 열심히 찾아보았습니다.\n",
        "\n",
        "mecab을 사용하고 싶었지만 mecab은 윈도우 체제에서 지원을 안해서 여러가지 환경 변경 및 설치를 통해 시도하는 방법이 있어 따라했으나 .. 3일 내내 도전했지만 모두 실패하여 결국 사용하지 못했습니다."
      ]
    },
    {
      "cell_type": "markdown",
      "metadata": {
        "id": "Tl8zvH3zxHsM"
      },
      "source": [
        "대신에 저는 **파이썬 라이브러리의 nlpaug**를 사용해 **data augmentation을 진행** 하였습니다.\n",
        "파이썬 라이브러리의 nlpaug 가 제공하는 Augmenter는 여러가지가 있는데, 그중에서 저는 **SynonymAug를 사용**하였습니다.\n",
        "\n",
        "SynonymAug는 문장에서 임의의 단어를 골라 유의어로 대체하는 방식을 통해 데이터 증식을 돕는 Augmenter입니다.\n",
        "\n",
        "SynonymAug는 유의어를 선정할 때 WordNet과 PPDB에 있는 유의어들을 기반으로 하므로 데이터의 질을 크게 떨어뜨리지 않으면서 안전한 텍스트 데이터 증식이 가능하다고 판단하여 SynonymAug를 이용해 데이터 증식을 진행하였습니다."
      ]
    },
    {
      "cell_type": "markdown",
      "metadata": {
        "id": "f-nQ_s0OYI0G"
      },
      "source": [
        "# **데이터셋 크기 & 딥러닝 가능성**"
      ]
    },
    {
      "cell_type": "markdown",
      "metadata": {
        "id": "OgyWIB2a2Jta"
      },
      "source": [
        "### 데이터셋 크기"
      ]
    },
    {
      "cell_type": "markdown",
      "metadata": {
        "id": "Bni7QY3ESJJ-"
      },
      "source": [
        "(원본데이터) 926개 -> (증식 후) 1개"
      ]
    },
    {
      "cell_type": "markdown",
      "metadata": {
        "id": "A8PcYGn37Ey5"
      },
      "source": [
        "### 딥러닝 가능성.\n",
        "\n"
      ]
    },
    {
      "cell_type": "markdown",
      "metadata": {
        "id": "1KnE6BdKEzkB"
      },
      "source": [
        "1. 데이터 크기의 타당성\n",
        "-> 이 프로그램은 텍스트 데이터셋을 사용하며 이 데이터셋은 약 930개의 유튜브 댓글로 이루어져 있습니다. 이는 이진 분류를 위한 딥러닝 모델을 훈련하기에는 다소 적은 양이지만 데이터 증식 기법을 통해 데이터를 늘릴 수 있으며 하이퍼파라미터 최적화 기법도 동원한다면 충분히 유의미한 결과를 얻을 수 있다고 판단됩니다."
      ]
    },
    {
      "cell_type": "markdown",
      "metadata": {
        "id": "8tK4Y6KwP4Wv"
      },
      "source": [
        "2. 데이터의 대표성\n",
        "-> 데이터는 실제 문제를 잘 대표해야 하므로 다양한 유형의 악성 댓글을 포함시키고자 노력했습니다. 가장 악성 댓글이 많이 달리는 뷰티/먹방/유명인/아이돌 이렇게 4가지 유형에 해당하는 영상들의 댓글을 골고루 수집하였습니다."
      ]
    },
    {
      "cell_type": "markdown",
      "metadata": {
        "id": "1L_6VZAqxkpi"
      },
      "source": [
        "3. 개별 데이터의 유의미성\n",
        "\n",
        "-> 저의 데이터셋에 있는 유튜브 댓글 하나당 단어 길이 평균을 확인해본 결과 약\n",
        "56 글자로 이루어져 있었습니다. 한 댓글의 평균 길이가 길다는 것은 충분한 내용을 담고 있고 분석에 유의미한 단어 또는 어구를 담고 있을 가능성이 높으며 의미 없는 댓글일 가능성이 낮으므로\n",
        "\n",
        "비록 데이터 전체 규모는 작더라도 제가 사용한 데이터의 quality는 나쁘지 않다고 볼 수 있었습니다.\n",
        "\n",
        "<center>\n",
        "<img src = 'https://drive.google.com/uc?id=1-uBuIRdaR3GSRhRGa30VOtFTAFG-HSU-'/><br>\n",
        "</center>"
      ]
    },
    {
      "cell_type": "markdown",
      "metadata": {
        "id": "tQyxqV0VYrFN"
      },
      "source": [
        "# 프로그램 코드"
      ]
    },
    {
      "cell_type": "markdown",
      "metadata": {
        "id": "fumj4TxyVDDK"
      },
      "source": [
        "### 필요한 패키지 및 모듈 임포트하고 설치"
      ]
    },
    {
      "cell_type": "code",
      "execution_count": null,
      "metadata": {
        "id": "m2KIWgJaubUv"
      },
      "outputs": [],
      "source": [
        "import pandas as pd\n",
        "import numpy as np\n",
        "import re\n",
        "import matplotlib.pyplot as plt"
      ]
    },
    {
      "cell_type": "markdown",
      "metadata": {
        "id": "JPhTDPVIKid-"
      },
      "source": [
        "### 데이터 업로드 및 데이터 정보 확인"
      ]
    },
    {
      "cell_type": "code",
      "execution_count": null,
      "metadata": {
        "id": "9E0cv923PmOn"
      },
      "outputs": [],
      "source": [
        "url = 'https://raw.githubusercontent.com/yeooong1203/DPR-project/main/youtube_comment.csv'\n",
        "df = pd.read_csv(url)"
      ]
    },
    {
      "cell_type": "code",
      "execution_count": null,
      "metadata": {
        "colab": {
          "base_uri": "https://localhost:8080/"
        },
        "id": "4nHi3RL22HcF",
        "outputId": "ae03eb23-45c1-40f2-a741-6269da954ecd"
      },
      "outputs": [
        {
          "data": {
            "application/vnd.google.colaboratory.intrinsic+json": {
              "summary": "{\n  \"name\": \"df\",\n  \"rows\": 925,\n  \"fields\": [\n    {\n      \"column\": \"Author\",\n      \"properties\": {\n        \"dtype\": \"string\",\n        \"num_unique_values\": 814,\n        \"samples\": [\n          \"@Sunny-yf7py\",\n          \"@user-yi4ei9kz9s\",\n          \"@user-ef4dv7gs6s\"\n        ],\n        \"semantic_type\": \"\",\n        \"description\": \"\"\n      }\n    },\n    {\n      \"column\": \"Comment\",\n      \"properties\": {\n        \"dtype\": \"string\",\n        \"num_unique_values\": 911,\n        \"samples\": [\n          \"\\uc544\\uaef4\\ubd10\\uc57c\\uc9c0 \\uc5b8\\ub2c8 \\uc601\\uc0c1\\uc740 \\uc790\\uae30\\uc804\\uc5d0 \\ubcf4\\uba74 \\ub108\\ubb34 \\uc88b\\uc544\\uc694\\u314e\\u314e \\ubd84\\ub7c9 \\ucd5c\\uace0\",\n          \"\\uc774\\ubd84\\ub4e4 \\ub304\\uc11c\\uc778\\uac70\\uc8e0\",\n          \"\\uc55e\\ub2c8\\ub85c \\uc74c\\uc2dd \\uc539\\uc73c\\uba74 \\uce58\\uc544\\uac74\\uac15\\uc5d0 \\uc548\\uc88b\\uc544\\uc694 \\uc5b4\\uae08\\ub2c8\\ub85c \\uc539\\uc73c\\uc138\\uc6a9\"\n        ],\n        \"semantic_type\": \"\",\n        \"description\": \"\"\n      }\n    },\n    {\n      \"column\": \"Label\",\n      \"properties\": {\n        \"dtype\": \"number\",\n        \"std\": 0,\n        \"min\": 0,\n        \"max\": 1,\n        \"num_unique_values\": 2,\n        \"samples\": [\n          0,\n          1\n        ],\n        \"semantic_type\": \"\",\n        \"description\": \"\"\n      }\n    }\n  ]\n}",
              "type": "dataframe",
              "variable_name": "df"
            },
            "text/html": [
              "\n",
              "  <div id=\"df-42e0dcc1-d7d9-497a-bb82-6b5701702f41\" class=\"colab-df-container\">\n",
              "    <div>\n",
              "<style scoped>\n",
              "    .dataframe tbody tr th:only-of-type {\n",
              "        vertical-align: middle;\n",
              "    }\n",
              "\n",
              "    .dataframe tbody tr th {\n",
              "        vertical-align: top;\n",
              "    }\n",
              "\n",
              "    .dataframe thead th {\n",
              "        text-align: right;\n",
              "    }\n",
              "</style>\n",
              "<table border=\"1\" class=\"dataframe\">\n",
              "  <thead>\n",
              "    <tr style=\"text-align: right;\">\n",
              "      <th></th>\n",
              "      <th>Author</th>\n",
              "      <th>Comment</th>\n",
              "      <th>Label</th>\n",
              "    </tr>\n",
              "  </thead>\n",
              "  <tbody>\n",
              "    <tr>\n",
              "      <th>0</th>\n",
              "      <td>@Quasar32</td>\n",
              "      <td>엠생인생 사는 서준아ㅋㅋㅋ평일 내내 그러고 다녀보니 어때 기분이 좀 나아졌어 주말에...</td>\n",
              "      <td>1</td>\n",
              "    </tr>\n",
              "    <tr>\n",
              "      <th>1</th>\n",
              "      <td>@user-rq3zn4rh2w</td>\n",
              "      <td>냉정하게 요목조목 두쪽다 들어봤으니  결과 를 기다리면된다 편 가르기식으로 감정적으...</td>\n",
              "      <td>0</td>\n",
              "    </tr>\n",
              "    <tr>\n",
              "      <th>2</th>\n",
              "      <td>@kenshiina3029</td>\n",
              "      <td>나 국민인데강대표는 국민한테 미안해할 필요없다 다만 이번 소란과 관련해 도의적인 책...</td>\n",
              "      <td>0</td>\n",
              "    </tr>\n",
              "    <tr>\n",
              "      <th>3</th>\n",
              "      <td>@user-vb6eb2cy8n</td>\n",
              "      <td>국민앞에 나와서 피해자 한테 머리 숙여 사죄하고 국민앞에서 벌을 받고 다시는 국민 ...</td>\n",
              "      <td>1</td>\n",
              "    </tr>\n",
              "    <tr>\n",
              "      <th>4</th>\n",
              "      <td>@user-oi1py5zw1u</td>\n",
              "      <td>직원들은 인간이니까말할주둥아리가있던지말던지그리고아줌마말좀 그만하세요  다나와요레오가...</td>\n",
              "      <td>1</td>\n",
              "    </tr>\n",
              "  </tbody>\n",
              "</table>\n",
              "</div>\n",
              "    <div class=\"colab-df-buttons\">\n",
              "\n",
              "  <div class=\"colab-df-container\">\n",
              "    <button class=\"colab-df-convert\" onclick=\"convertToInteractive('df-42e0dcc1-d7d9-497a-bb82-6b5701702f41')\"\n",
              "            title=\"Convert this dataframe to an interactive table.\"\n",
              "            style=\"display:none;\">\n",
              "\n",
              "  <svg xmlns=\"http://www.w3.org/2000/svg\" height=\"24px\" viewBox=\"0 -960 960 960\">\n",
              "    <path d=\"M120-120v-720h720v720H120Zm60-500h600v-160H180v160Zm220 220h160v-160H400v160Zm0 220h160v-160H400v160ZM180-400h160v-160H180v160Zm440 0h160v-160H620v160ZM180-180h160v-160H180v160Zm440 0h160v-160H620v160Z\"/>\n",
              "  </svg>\n",
              "    </button>\n",
              "\n",
              "  <style>\n",
              "    .colab-df-container {\n",
              "      display:flex;\n",
              "      gap: 12px;\n",
              "    }\n",
              "\n",
              "    .colab-df-convert {\n",
              "      background-color: #E8F0FE;\n",
              "      border: none;\n",
              "      border-radius: 50%;\n",
              "      cursor: pointer;\n",
              "      display: none;\n",
              "      fill: #1967D2;\n",
              "      height: 32px;\n",
              "      padding: 0 0 0 0;\n",
              "      width: 32px;\n",
              "    }\n",
              "\n",
              "    .colab-df-convert:hover {\n",
              "      background-color: #E2EBFA;\n",
              "      box-shadow: 0px 1px 2px rgba(60, 64, 67, 0.3), 0px 1px 3px 1px rgba(60, 64, 67, 0.15);\n",
              "      fill: #174EA6;\n",
              "    }\n",
              "\n",
              "    .colab-df-buttons div {\n",
              "      margin-bottom: 4px;\n",
              "    }\n",
              "\n",
              "    [theme=dark] .colab-df-convert {\n",
              "      background-color: #3B4455;\n",
              "      fill: #D2E3FC;\n",
              "    }\n",
              "\n",
              "    [theme=dark] .colab-df-convert:hover {\n",
              "      background-color: #434B5C;\n",
              "      box-shadow: 0px 1px 3px 1px rgba(0, 0, 0, 0.15);\n",
              "      filter: drop-shadow(0px 1px 2px rgba(0, 0, 0, 0.3));\n",
              "      fill: #FFFFFF;\n",
              "    }\n",
              "  </style>\n",
              "\n",
              "    <script>\n",
              "      const buttonEl =\n",
              "        document.querySelector('#df-42e0dcc1-d7d9-497a-bb82-6b5701702f41 button.colab-df-convert');\n",
              "      buttonEl.style.display =\n",
              "        google.colab.kernel.accessAllowed ? 'block' : 'none';\n",
              "\n",
              "      async function convertToInteractive(key) {\n",
              "        const element = document.querySelector('#df-42e0dcc1-d7d9-497a-bb82-6b5701702f41');\n",
              "        const dataTable =\n",
              "          await google.colab.kernel.invokeFunction('convertToInteractive',\n",
              "                                                    [key], {});\n",
              "        if (!dataTable) return;\n",
              "\n",
              "        const docLinkHtml = 'Like what you see? Visit the ' +\n",
              "          '<a target=\"_blank\" href=https://colab.research.google.com/notebooks/data_table.ipynb>data table notebook</a>'\n",
              "          + ' to learn more about interactive tables.';\n",
              "        element.innerHTML = '';\n",
              "        dataTable['output_type'] = 'display_data';\n",
              "        await google.colab.output.renderOutput(dataTable, element);\n",
              "        const docLink = document.createElement('div');\n",
              "        docLink.innerHTML = docLinkHtml;\n",
              "        element.appendChild(docLink);\n",
              "      }\n",
              "    </script>\n",
              "  </div>\n",
              "\n",
              "\n",
              "<div id=\"df-a31216f3-02d8-4065-984b-11d97064b892\">\n",
              "  <button class=\"colab-df-quickchart\" onclick=\"quickchart('df-a31216f3-02d8-4065-984b-11d97064b892')\"\n",
              "            title=\"Suggest charts\"\n",
              "            style=\"display:none;\">\n",
              "\n",
              "<svg xmlns=\"http://www.w3.org/2000/svg\" height=\"24px\"viewBox=\"0 0 24 24\"\n",
              "     width=\"24px\">\n",
              "    <g>\n",
              "        <path d=\"M19 3H5c-1.1 0-2 .9-2 2v14c0 1.1.9 2 2 2h14c1.1 0 2-.9 2-2V5c0-1.1-.9-2-2-2zM9 17H7v-7h2v7zm4 0h-2V7h2v10zm4 0h-2v-4h2v4z\"/>\n",
              "    </g>\n",
              "</svg>\n",
              "  </button>\n",
              "\n",
              "<style>\n",
              "  .colab-df-quickchart {\n",
              "      --bg-color: #E8F0FE;\n",
              "      --fill-color: #1967D2;\n",
              "      --hover-bg-color: #E2EBFA;\n",
              "      --hover-fill-color: #174EA6;\n",
              "      --disabled-fill-color: #AAA;\n",
              "      --disabled-bg-color: #DDD;\n",
              "  }\n",
              "\n",
              "  [theme=dark] .colab-df-quickchart {\n",
              "      --bg-color: #3B4455;\n",
              "      --fill-color: #D2E3FC;\n",
              "      --hover-bg-color: #434B5C;\n",
              "      --hover-fill-color: #FFFFFF;\n",
              "      --disabled-bg-color: #3B4455;\n",
              "      --disabled-fill-color: #666;\n",
              "  }\n",
              "\n",
              "  .colab-df-quickchart {\n",
              "    background-color: var(--bg-color);\n",
              "    border: none;\n",
              "    border-radius: 50%;\n",
              "    cursor: pointer;\n",
              "    display: none;\n",
              "    fill: var(--fill-color);\n",
              "    height: 32px;\n",
              "    padding: 0;\n",
              "    width: 32px;\n",
              "  }\n",
              "\n",
              "  .colab-df-quickchart:hover {\n",
              "    background-color: var(--hover-bg-color);\n",
              "    box-shadow: 0 1px 2px rgba(60, 64, 67, 0.3), 0 1px 3px 1px rgba(60, 64, 67, 0.15);\n",
              "    fill: var(--button-hover-fill-color);\n",
              "  }\n",
              "\n",
              "  .colab-df-quickchart-complete:disabled,\n",
              "  .colab-df-quickchart-complete:disabled:hover {\n",
              "    background-color: var(--disabled-bg-color);\n",
              "    fill: var(--disabled-fill-color);\n",
              "    box-shadow: none;\n",
              "  }\n",
              "\n",
              "  .colab-df-spinner {\n",
              "    border: 2px solid var(--fill-color);\n",
              "    border-color: transparent;\n",
              "    border-bottom-color: var(--fill-color);\n",
              "    animation:\n",
              "      spin 1s steps(1) infinite;\n",
              "  }\n",
              "\n",
              "  @keyframes spin {\n",
              "    0% {\n",
              "      border-color: transparent;\n",
              "      border-bottom-color: var(--fill-color);\n",
              "      border-left-color: var(--fill-color);\n",
              "    }\n",
              "    20% {\n",
              "      border-color: transparent;\n",
              "      border-left-color: var(--fill-color);\n",
              "      border-top-color: var(--fill-color);\n",
              "    }\n",
              "    30% {\n",
              "      border-color: transparent;\n",
              "      border-left-color: var(--fill-color);\n",
              "      border-top-color: var(--fill-color);\n",
              "      border-right-color: var(--fill-color);\n",
              "    }\n",
              "    40% {\n",
              "      border-color: transparent;\n",
              "      border-right-color: var(--fill-color);\n",
              "      border-top-color: var(--fill-color);\n",
              "    }\n",
              "    60% {\n",
              "      border-color: transparent;\n",
              "      border-right-color: var(--fill-color);\n",
              "    }\n",
              "    80% {\n",
              "      border-color: transparent;\n",
              "      border-right-color: var(--fill-color);\n",
              "      border-bottom-color: var(--fill-color);\n",
              "    }\n",
              "    90% {\n",
              "      border-color: transparent;\n",
              "      border-bottom-color: var(--fill-color);\n",
              "    }\n",
              "  }\n",
              "</style>\n",
              "\n",
              "  <script>\n",
              "    async function quickchart(key) {\n",
              "      const quickchartButtonEl =\n",
              "        document.querySelector('#' + key + ' button');\n",
              "      quickchartButtonEl.disabled = true;  // To prevent multiple clicks.\n",
              "      quickchartButtonEl.classList.add('colab-df-spinner');\n",
              "      try {\n",
              "        const charts = await google.colab.kernel.invokeFunction(\n",
              "            'suggestCharts', [key], {});\n",
              "      } catch (error) {\n",
              "        console.error('Error during call to suggestCharts:', error);\n",
              "      }\n",
              "      quickchartButtonEl.classList.remove('colab-df-spinner');\n",
              "      quickchartButtonEl.classList.add('colab-df-quickchart-complete');\n",
              "    }\n",
              "    (() => {\n",
              "      let quickchartButtonEl =\n",
              "        document.querySelector('#df-a31216f3-02d8-4065-984b-11d97064b892 button');\n",
              "      quickchartButtonEl.style.display =\n",
              "        google.colab.kernel.accessAllowed ? 'block' : 'none';\n",
              "    })();\n",
              "  </script>\n",
              "</div>\n",
              "    </div>\n",
              "  </div>\n"
            ],
            "text/plain": [
              "             Author                                            Comment  Label\n",
              "0         @Quasar32  엠생인생 사는 서준아ㅋㅋㅋ평일 내내 그러고 다녀보니 어때 기분이 좀 나아졌어 주말에...      1\n",
              "1  @user-rq3zn4rh2w  냉정하게 요목조목 두쪽다 들어봤으니  결과 를 기다리면된다 편 가르기식으로 감정적으...      0\n",
              "2    @kenshiina3029  나 국민인데강대표는 국민한테 미안해할 필요없다 다만 이번 소란과 관련해 도의적인 책...      0\n",
              "3  @user-vb6eb2cy8n  국민앞에 나와서 피해자 한테 머리 숙여 사죄하고 국민앞에서 벌을 받고 다시는 국민 ...      1\n",
              "4  @user-oi1py5zw1u  직원들은 인간이니까말할주둥아리가있던지말던지그리고아줌마말좀 그만하세요  다나와요레오가...      1"
            ]
          },
          "execution_count": 3,
          "metadata": {},
          "output_type": "execute_result"
        }
      ],
      "source": [
        "df.head()"
      ]
    },
    {
      "cell_type": "code",
      "execution_count": null,
      "metadata": {
        "colab": {
          "base_uri": "https://localhost:8080/"
        },
        "id": "deIuVEDU2IQh",
        "outputId": "184b6071-7eb5-45c0-f8d0-f8f301e948c7"
      },
      "outputs": [
        {
          "data": {
            "text/plain": [
              "925"
            ]
          },
          "execution_count": 4,
          "metadata": {},
          "output_type": "execute_result"
        }
      ],
      "source": [
        "len(df)"
      ]
    },
    {
      "cell_type": "markdown",
      "metadata": {
        "id": "kBdMiMAkU-tk"
      },
      "source": [
        "## 데이터 전처리"
      ]
    },
    {
      "cell_type": "markdown",
      "metadata": {
        "id": "AEozpr-BG7IV"
      },
      "source": [
        "### 결측값 제거"
      ]
    },
    {
      "cell_type": "code",
      "execution_count": null,
      "metadata": {
        "colab": {
          "base_uri": "https://localhost:8080/"
        },
        "id": "39uFbr6N3un7",
        "outputId": "515d057b-2079-45d1-9d13-3f76a07eff2e"
      },
      "outputs": [
        {
          "name": "stdout",
          "output_type": "stream",
          "text": [
            "<class 'pandas.core.frame.DataFrame'>\n",
            "RangeIndex: 925 entries, 0 to 924\n",
            "Data columns (total 3 columns):\n",
            " #   Column   Non-Null Count  Dtype \n",
            "---  ------   --------------  ----- \n",
            " 0   Author   925 non-null    object\n",
            " 1   Comment  925 non-null    object\n",
            " 2   Label    925 non-null    int64 \n",
            "dtypes: int64(1), object(2)\n",
            "memory usage: 21.8+ KB\n"
          ]
        }
      ],
      "source": [
        "df.info()"
      ]
    },
    {
      "cell_type": "markdown",
      "metadata": {
        "id": "MmPq2-9gzA0S"
      },
      "source": [
        "직접 레이블링을 했기에 NULL값이 없을 가능성이 높지만\n",
        "\n",
        "혹시 놓친 NULL 값이 있는지 info 메서드를 사용해 확인하였습니다. 925개의 행에 대해 3개의 열 모두 결측값 없이 완전함을 확인하였습니다."
      ]
    },
    {
      "cell_type": "markdown",
      "metadata": {
        "id": "rLZ6VqoVS9vI"
      },
      "source": [
        "### 형태소 분석 및 토큰화 + 불용어 제거"
      ]
    },
    {
      "cell_type": "markdown",
      "metadata": {
        "id": "Eo4j8eL5dVLf"
      },
      "source": [
        "### konlpy (okt)"
      ]
    },
    {
      "cell_type": "markdown",
      "metadata": {
        "id": "jkgZvAiW0e3q"
      },
      "source": [
        "필요한 환경들을 설치하였습니다."
      ]
    },
    {
      "cell_type": "code",
      "execution_count": null,
      "metadata": {
        "colab": {
          "base_uri": "https://localhost:8080/"
        },
        "id": "DETKj9I9TP24",
        "outputId": "0c4ad998-f266-404a-cfa4-ec8ee0b9085f"
      },
      "outputs": [
        {
          "name": "stdout",
          "output_type": "stream",
          "text": [
            "Requirement already satisfied: Korpora in /usr/local/lib/python3.10/dist-packages (0.2.0)\n",
            "Requirement already satisfied: dataclasses>=0.6 in /usr/local/lib/python3.10/dist-packages (from Korpora) (0.6)\n",
            "Requirement already satisfied: numpy>=1.18.0 in /usr/local/lib/python3.10/dist-packages (from Korpora) (1.25.2)\n",
            "Requirement already satisfied: tqdm>=4.46.0 in /usr/local/lib/python3.10/dist-packages (from Korpora) (4.66.4)\n",
            "Requirement already satisfied: requests>=2.20.0 in /usr/local/lib/python3.10/dist-packages (from Korpora) (2.31.0)\n",
            "Requirement already satisfied: xlrd>=1.2.0 in /usr/local/lib/python3.10/dist-packages (from Korpora) (2.0.1)\n",
            "Requirement already satisfied: charset-normalizer<4,>=2 in /usr/local/lib/python3.10/dist-packages (from requests>=2.20.0->Korpora) (3.3.2)\n",
            "Requirement already satisfied: idna<4,>=2.5 in /usr/local/lib/python3.10/dist-packages (from requests>=2.20.0->Korpora) (3.7)\n",
            "Requirement already satisfied: urllib3<3,>=1.21.1 in /usr/local/lib/python3.10/dist-packages (from requests>=2.20.0->Korpora) (2.0.7)\n",
            "Requirement already satisfied: certifi>=2017.4.17 in /usr/local/lib/python3.10/dist-packages (from requests>=2.20.0->Korpora) (2024.2.2)\n"
          ]
        }
      ],
      "source": [
        "!pip install Korpora"
      ]
    },
    {
      "cell_type": "code",
      "execution_count": null,
      "metadata": {
        "colab": {
          "base_uri": "https://localhost:8080/"
        },
        "id": "-zMKgInzj90j",
        "outputId": "ad081f25-7b53-492d-89b5-3b8d6c36600b"
      },
      "outputs": [
        {
          "name": "stdout",
          "output_type": "stream",
          "text": [
            "Requirement already satisfied: konlpy in /usr/local/lib/python3.10/dist-packages (0.6.0)\n",
            "Requirement already satisfied: JPype1>=0.7.0 in /usr/local/lib/python3.10/dist-packages (from konlpy) (1.5.0)\n",
            "Requirement already satisfied: lxml>=4.1.0 in /usr/local/lib/python3.10/dist-packages (from konlpy) (4.9.4)\n",
            "Requirement already satisfied: numpy>=1.6 in /usr/local/lib/python3.10/dist-packages (from konlpy) (1.25.2)\n",
            "Requirement already satisfied: packaging in /usr/local/lib/python3.10/dist-packages (from JPype1>=0.7.0->konlpy) (24.0)\n"
          ]
        }
      ],
      "source": [
        "!pip install konlpy"
      ]
    },
    {
      "cell_type": "markdown",
      "metadata": {
        "id": "VoDsc8130g_k"
      },
      "source": [
        "형태소 분석기 Okt를 이용하여 토큰화를 진행하였고, 이 과정에서 불용어 제거도 함께 진행하였습니다."
      ]
    },
    {
      "cell_type": "code",
      "execution_count": null,
      "metadata": {
        "id": "OXRu0h3lTXLC"
      },
      "outputs": [],
      "source": [
        "from konlpy.tag import Okt\n",
        "\n",
        "# 형태소 분석기 초기화\n",
        "okt = Okt()\n",
        "\n",
        "# 형태소 분석 및 불용어 제거 함수\n",
        "def preprocess_text(text, stopwords):\n",
        "    morphs = okt.morphs(text)\n",
        "    cleaned_text = [word for word in morphs if word not in stopwords]\n",
        "    return cleaned_text  # 리스트 형태로 반환\n",
        "\n",
        "# 불용어 리스트\n",
        "stopwords = ['ㄴ','ㄹ','도', '는', '다', '의', '가', '이', '은', '한', '에', '면', '어서', '지만', '으니','하',\n",
        "             '고', '을', '를', '인', '듯', '과', '와', '네', '들', '듯', '지', '임', '게', '좀', '으로', '로', '하다','합니다','입니다']\n",
        "\n",
        "# 텍스트 전처리 함수 적용\n",
        "df['Comment'] = df['Comment'].apply(lambda x: preprocess_text(x, stopwords))\n",
        "\n",
        "# 토큰화된 결과를 리스트에 담기\n",
        "comments = df['Comment'].tolist()\n"
      ]
    },
    {
      "cell_type": "markdown",
      "metadata": {
        "id": "jSYIARge0rtO"
      },
      "source": [
        "토큰화와 불용어 제거가 완료된 이후의 데이터 모습입니다."
      ]
    },
    {
      "cell_type": "code",
      "execution_count": null,
      "metadata": {
        "colab": {
          "base_uri": "https://localhost:8080/",
          "height": 206
        },
        "id": "BNOuvkdymnje",
        "outputId": "fda4ea5c-3b11-4ee4-fe6f-bd08622fa107"
      },
      "outputs": [
        {
          "data": {
            "application/vnd.google.colaboratory.intrinsic+json": {
              "summary": "{\n  \"name\": \"df\",\n  \"rows\": 925,\n  \"fields\": [\n    {\n      \"column\": \"Author\",\n      \"properties\": {\n        \"dtype\": \"string\",\n        \"num_unique_values\": 814,\n        \"samples\": [\n          \"@Sunny-yf7py\",\n          \"@user-yi4ei9kz9s\",\n          \"@user-ef4dv7gs6s\"\n        ],\n        \"semantic_type\": \"\",\n        \"description\": \"\"\n      }\n    },\n    {\n      \"column\": \"Comment\",\n      \"properties\": {\n        \"dtype\": \"object\",\n        \"semantic_type\": \"\",\n        \"description\": \"\"\n      }\n    },\n    {\n      \"column\": \"Label\",\n      \"properties\": {\n        \"dtype\": \"number\",\n        \"std\": 0,\n        \"min\": 0,\n        \"max\": 1,\n        \"num_unique_values\": 2,\n        \"samples\": [\n          0,\n          1\n        ],\n        \"semantic_type\": \"\",\n        \"description\": \"\"\n      }\n    }\n  ]\n}",
              "type": "dataframe",
              "variable_name": "df"
            },
            "text/html": [
              "\n",
              "  <div id=\"df-72d4938d-739c-4b77-9530-f99d071d4ad1\" class=\"colab-df-container\">\n",
              "    <div>\n",
              "<style scoped>\n",
              "    .dataframe tbody tr th:only-of-type {\n",
              "        vertical-align: middle;\n",
              "    }\n",
              "\n",
              "    .dataframe tbody tr th {\n",
              "        vertical-align: top;\n",
              "    }\n",
              "\n",
              "    .dataframe thead th {\n",
              "        text-align: right;\n",
              "    }\n",
              "</style>\n",
              "<table border=\"1\" class=\"dataframe\">\n",
              "  <thead>\n",
              "    <tr style=\"text-align: right;\">\n",
              "      <th></th>\n",
              "      <th>Author</th>\n",
              "      <th>Comment</th>\n",
              "      <th>Label</th>\n",
              "    </tr>\n",
              "  </thead>\n",
              "  <tbody>\n",
              "    <tr>\n",
              "      <th>0</th>\n",
              "      <td>@Quasar32</td>\n",
              "      <td>[엠생, 인생, 사는, 서준, 아, ㅋㅋㅋ, 평일, 내내, 그러고, 다녀, 보니, ...</td>\n",
              "      <td>1</td>\n",
              "    </tr>\n",
              "    <tr>\n",
              "      <th>1</th>\n",
              "      <td>@user-rq3zn4rh2w</td>\n",
              "      <td>[냉정하게, 요, 목조, 목, 두, 쪽, 들어, 봤으니, 결과, 기다리면, 된다, ...</td>\n",
              "      <td>0</td>\n",
              "    </tr>\n",
              "    <tr>\n",
              "      <th>2</th>\n",
              "      <td>@kenshiina3029</td>\n",
              "      <td>[나, 국민, 인데, 강, 대표, 국민, 한테, 미안해, 할, 필요없다, 다만, 이...</td>\n",
              "      <td>0</td>\n",
              "    </tr>\n",
              "    <tr>\n",
              "      <th>3</th>\n",
              "      <td>@user-vb6eb2cy8n</td>\n",
              "      <td>[국민, 앞, 나와서, 피해자, 한테, 머리, 숙여, 사죄, 하고, 국민, 앞, 에...</td>\n",
              "      <td>1</td>\n",
              "    </tr>\n",
              "    <tr>\n",
              "      <th>4</th>\n",
              "      <td>@user-oi1py5zw1u</td>\n",
              "      <td>[직원, 인간, 이니까, 말, 할, 주둥아리, 있던지말던지, 그리고, 아줌마, 말좀...</td>\n",
              "      <td>1</td>\n",
              "    </tr>\n",
              "  </tbody>\n",
              "</table>\n",
              "</div>\n",
              "    <div class=\"colab-df-buttons\">\n",
              "\n",
              "  <div class=\"colab-df-container\">\n",
              "    <button class=\"colab-df-convert\" onclick=\"convertToInteractive('df-72d4938d-739c-4b77-9530-f99d071d4ad1')\"\n",
              "            title=\"Convert this dataframe to an interactive table.\"\n",
              "            style=\"display:none;\">\n",
              "\n",
              "  <svg xmlns=\"http://www.w3.org/2000/svg\" height=\"24px\" viewBox=\"0 -960 960 960\">\n",
              "    <path d=\"M120-120v-720h720v720H120Zm60-500h600v-160H180v160Zm220 220h160v-160H400v160Zm0 220h160v-160H400v160ZM180-400h160v-160H180v160Zm440 0h160v-160H620v160ZM180-180h160v-160H180v160Zm440 0h160v-160H620v160Z\"/>\n",
              "  </svg>\n",
              "    </button>\n",
              "\n",
              "  <style>\n",
              "    .colab-df-container {\n",
              "      display:flex;\n",
              "      gap: 12px;\n",
              "    }\n",
              "\n",
              "    .colab-df-convert {\n",
              "      background-color: #E8F0FE;\n",
              "      border: none;\n",
              "      border-radius: 50%;\n",
              "      cursor: pointer;\n",
              "      display: none;\n",
              "      fill: #1967D2;\n",
              "      height: 32px;\n",
              "      padding: 0 0 0 0;\n",
              "      width: 32px;\n",
              "    }\n",
              "\n",
              "    .colab-df-convert:hover {\n",
              "      background-color: #E2EBFA;\n",
              "      box-shadow: 0px 1px 2px rgba(60, 64, 67, 0.3), 0px 1px 3px 1px rgba(60, 64, 67, 0.15);\n",
              "      fill: #174EA6;\n",
              "    }\n",
              "\n",
              "    .colab-df-buttons div {\n",
              "      margin-bottom: 4px;\n",
              "    }\n",
              "\n",
              "    [theme=dark] .colab-df-convert {\n",
              "      background-color: #3B4455;\n",
              "      fill: #D2E3FC;\n",
              "    }\n",
              "\n",
              "    [theme=dark] .colab-df-convert:hover {\n",
              "      background-color: #434B5C;\n",
              "      box-shadow: 0px 1px 3px 1px rgba(0, 0, 0, 0.15);\n",
              "      filter: drop-shadow(0px 1px 2px rgba(0, 0, 0, 0.3));\n",
              "      fill: #FFFFFF;\n",
              "    }\n",
              "  </style>\n",
              "\n",
              "    <script>\n",
              "      const buttonEl =\n",
              "        document.querySelector('#df-72d4938d-739c-4b77-9530-f99d071d4ad1 button.colab-df-convert');\n",
              "      buttonEl.style.display =\n",
              "        google.colab.kernel.accessAllowed ? 'block' : 'none';\n",
              "\n",
              "      async function convertToInteractive(key) {\n",
              "        const element = document.querySelector('#df-72d4938d-739c-4b77-9530-f99d071d4ad1');\n",
              "        const dataTable =\n",
              "          await google.colab.kernel.invokeFunction('convertToInteractive',\n",
              "                                                    [key], {});\n",
              "        if (!dataTable) return;\n",
              "\n",
              "        const docLinkHtml = 'Like what you see? Visit the ' +\n",
              "          '<a target=\"_blank\" href=https://colab.research.google.com/notebooks/data_table.ipynb>data table notebook</a>'\n",
              "          + ' to learn more about interactive tables.';\n",
              "        element.innerHTML = '';\n",
              "        dataTable['output_type'] = 'display_data';\n",
              "        await google.colab.output.renderOutput(dataTable, element);\n",
              "        const docLink = document.createElement('div');\n",
              "        docLink.innerHTML = docLinkHtml;\n",
              "        element.appendChild(docLink);\n",
              "      }\n",
              "    </script>\n",
              "  </div>\n",
              "\n",
              "\n",
              "<div id=\"df-8a93e5ab-2f3b-4278-ab4d-463f8ddc186c\">\n",
              "  <button class=\"colab-df-quickchart\" onclick=\"quickchart('df-8a93e5ab-2f3b-4278-ab4d-463f8ddc186c')\"\n",
              "            title=\"Suggest charts\"\n",
              "            style=\"display:none;\">\n",
              "\n",
              "<svg xmlns=\"http://www.w3.org/2000/svg\" height=\"24px\"viewBox=\"0 0 24 24\"\n",
              "     width=\"24px\">\n",
              "    <g>\n",
              "        <path d=\"M19 3H5c-1.1 0-2 .9-2 2v14c0 1.1.9 2 2 2h14c1.1 0 2-.9 2-2V5c0-1.1-.9-2-2-2zM9 17H7v-7h2v7zm4 0h-2V7h2v10zm4 0h-2v-4h2v4z\"/>\n",
              "    </g>\n",
              "</svg>\n",
              "  </button>\n",
              "\n",
              "<style>\n",
              "  .colab-df-quickchart {\n",
              "      --bg-color: #E8F0FE;\n",
              "      --fill-color: #1967D2;\n",
              "      --hover-bg-color: #E2EBFA;\n",
              "      --hover-fill-color: #174EA6;\n",
              "      --disabled-fill-color: #AAA;\n",
              "      --disabled-bg-color: #DDD;\n",
              "  }\n",
              "\n",
              "  [theme=dark] .colab-df-quickchart {\n",
              "      --bg-color: #3B4455;\n",
              "      --fill-color: #D2E3FC;\n",
              "      --hover-bg-color: #434B5C;\n",
              "      --hover-fill-color: #FFFFFF;\n",
              "      --disabled-bg-color: #3B4455;\n",
              "      --disabled-fill-color: #666;\n",
              "  }\n",
              "\n",
              "  .colab-df-quickchart {\n",
              "    background-color: var(--bg-color);\n",
              "    border: none;\n",
              "    border-radius: 50%;\n",
              "    cursor: pointer;\n",
              "    display: none;\n",
              "    fill: var(--fill-color);\n",
              "    height: 32px;\n",
              "    padding: 0;\n",
              "    width: 32px;\n",
              "  }\n",
              "\n",
              "  .colab-df-quickchart:hover {\n",
              "    background-color: var(--hover-bg-color);\n",
              "    box-shadow: 0 1px 2px rgba(60, 64, 67, 0.3), 0 1px 3px 1px rgba(60, 64, 67, 0.15);\n",
              "    fill: var(--button-hover-fill-color);\n",
              "  }\n",
              "\n",
              "  .colab-df-quickchart-complete:disabled,\n",
              "  .colab-df-quickchart-complete:disabled:hover {\n",
              "    background-color: var(--disabled-bg-color);\n",
              "    fill: var(--disabled-fill-color);\n",
              "    box-shadow: none;\n",
              "  }\n",
              "\n",
              "  .colab-df-spinner {\n",
              "    border: 2px solid var(--fill-color);\n",
              "    border-color: transparent;\n",
              "    border-bottom-color: var(--fill-color);\n",
              "    animation:\n",
              "      spin 1s steps(1) infinite;\n",
              "  }\n",
              "\n",
              "  @keyframes spin {\n",
              "    0% {\n",
              "      border-color: transparent;\n",
              "      border-bottom-color: var(--fill-color);\n",
              "      border-left-color: var(--fill-color);\n",
              "    }\n",
              "    20% {\n",
              "      border-color: transparent;\n",
              "      border-left-color: var(--fill-color);\n",
              "      border-top-color: var(--fill-color);\n",
              "    }\n",
              "    30% {\n",
              "      border-color: transparent;\n",
              "      border-left-color: var(--fill-color);\n",
              "      border-top-color: var(--fill-color);\n",
              "      border-right-color: var(--fill-color);\n",
              "    }\n",
              "    40% {\n",
              "      border-color: transparent;\n",
              "      border-right-color: var(--fill-color);\n",
              "      border-top-color: var(--fill-color);\n",
              "    }\n",
              "    60% {\n",
              "      border-color: transparent;\n",
              "      border-right-color: var(--fill-color);\n",
              "    }\n",
              "    80% {\n",
              "      border-color: transparent;\n",
              "      border-right-color: var(--fill-color);\n",
              "      border-bottom-color: var(--fill-color);\n",
              "    }\n",
              "    90% {\n",
              "      border-color: transparent;\n",
              "      border-bottom-color: var(--fill-color);\n",
              "    }\n",
              "  }\n",
              "</style>\n",
              "\n",
              "  <script>\n",
              "    async function quickchart(key) {\n",
              "      const quickchartButtonEl =\n",
              "        document.querySelector('#' + key + ' button');\n",
              "      quickchartButtonEl.disabled = true;  // To prevent multiple clicks.\n",
              "      quickchartButtonEl.classList.add('colab-df-spinner');\n",
              "      try {\n",
              "        const charts = await google.colab.kernel.invokeFunction(\n",
              "            'suggestCharts', [key], {});\n",
              "      } catch (error) {\n",
              "        console.error('Error during call to suggestCharts:', error);\n",
              "      }\n",
              "      quickchartButtonEl.classList.remove('colab-df-spinner');\n",
              "      quickchartButtonEl.classList.add('colab-df-quickchart-complete');\n",
              "    }\n",
              "    (() => {\n",
              "      let quickchartButtonEl =\n",
              "        document.querySelector('#df-8a93e5ab-2f3b-4278-ab4d-463f8ddc186c button');\n",
              "      quickchartButtonEl.style.display =\n",
              "        google.colab.kernel.accessAllowed ? 'block' : 'none';\n",
              "    })();\n",
              "  </script>\n",
              "</div>\n",
              "    </div>\n",
              "  </div>\n"
            ],
            "text/plain": [
              "             Author                                            Comment  Label\n",
              "0         @Quasar32  [엠생, 인생, 사는, 서준, 아, ㅋㅋㅋ, 평일, 내내, 그러고, 다녀, 보니, ...      1\n",
              "1  @user-rq3zn4rh2w  [냉정하게, 요, 목조, 목, 두, 쪽, 들어, 봤으니, 결과, 기다리면, 된다, ...      0\n",
              "2    @kenshiina3029  [나, 국민, 인데, 강, 대표, 국민, 한테, 미안해, 할, 필요없다, 다만, 이...      0\n",
              "3  @user-vb6eb2cy8n  [국민, 앞, 나와서, 피해자, 한테, 머리, 숙여, 사죄, 하고, 국민, 앞, 에...      1\n",
              "4  @user-oi1py5zw1u  [직원, 인간, 이니까, 말, 할, 주둥아리, 있던지말던지, 그리고, 아줌마, 말좀...      1"
            ]
          },
          "execution_count": 9,
          "metadata": {},
          "output_type": "execute_result"
        }
      ],
      "source": [
        "df.head()"
      ]
    },
    {
      "cell_type": "markdown",
      "metadata": {
        "id": "v-fpLbhW01De"
      },
      "source": [
        "이후 Embedding 모델을 사용하여 학습 시킬 때 Embedding 층의 input 차원을 몇으로 할 건지 정하려면 토큰화하여 얻은 단어 사전의 단어 개수를 알아야 하므로 이 코드를 통해 vocab_size를 구했습니다."
      ]
    },
    {
      "cell_type": "code",
      "execution_count": null,
      "metadata": {
        "colab": {
          "base_uri": "https://localhost:8080/"
        },
        "id": "qSoCvJHeuNz4",
        "outputId": "1db3abbd-7900-45d5-ba7f-ef055f62d9bd"
      },
      "outputs": [
        {
          "name": "stdout",
          "output_type": "stream",
          "text": [
            "어휘 크기: 5940\n"
          ]
        }
      ],
      "source": [
        "# 전처리된 텍스트 데이터에서 모든 단어 모으기\n",
        "all_words = [word for sublist in comments for word in sublist]\n",
        "\n",
        "# 중복 제거하여 고유한 단어만 남기기\n",
        "unique_words = set(all_words)\n",
        "\n",
        "# 어휘 크기 계산\n",
        "vocab_size = len(unique_words)\n",
        "print(\"어휘 크기:\", vocab_size)"
      ]
    },
    {
      "cell_type": "markdown",
      "metadata": {
        "id": "dM9JmVkUHXg9"
      },
      "source": [
        "### 훈련셋 데이터셋 분리"
      ]
    },
    {
      "cell_type": "code",
      "execution_count": null,
      "metadata": {
        "colab": {
          "base_uri": "https://localhost:8080/"
        },
        "id": "1jkZVa6YHZvh",
        "outputId": "8dc5dec1-44b3-4043-abb7-ec626d51fed0"
      },
      "outputs": [
        {
          "name": "stdout",
          "output_type": "stream",
          "text": [
            "훈련셋 크기: (748,) (748,)\n",
            "검증셋 크기: (84,) (84,)\n",
            "테스트셋 크기: (93,) (93,)\n"
          ]
        }
      ],
      "source": [
        "from sklearn.model_selection import train_test_split\n",
        "comments = df[\"Comment\"]\n",
        "labels = df[\"Label\"]\n",
        "\n",
        "X_train, X_test, y_train, y_test = train_test_split(comments, labels, test_size=0.1, random_state=42)\n",
        "X_train, X_val, y_train, y_val = train_test_split(X_train, y_train, test_size=0.1, random_state=42)\n",
        "\n",
        "# 결과 확인\n",
        "print(\"훈련셋 크기:\", X_train.shape, y_train.shape)\n",
        "print(\"검증셋 크기:\", X_val.shape, y_val.shape)\n",
        "print(\"테스트셋 크기:\", X_test.shape, y_test.shape)\n"
      ]
    },
    {
      "cell_type": "markdown",
      "metadata": {
        "id": "dTC7GJ7Yw5F8"
      },
      "source": [
        "### 데이터 augmentation"
      ]
    },
    {
      "cell_type": "markdown",
      "metadata": {
        "id": "Gd0jPbgX2MJF"
      },
      "source": [
        "nlpaug를 사용하기 위해 필요한 환경을 설치해줍니다."
      ]
    },
    {
      "cell_type": "code",
      "execution_count": null,
      "metadata": {
        "colab": {
          "base_uri": "https://localhost:8080/"
        },
        "collapsed": true,
        "id": "7f6B_hZmdqAn",
        "outputId": "9f040488-d08b-4b04-a7cc-4a5c0f7e92a8"
      },
      "outputs": [
        {
          "name": "stdout",
          "output_type": "stream",
          "text": [
            "Requirement already satisfied: nlpaug in /usr/local/lib/python3.10/dist-packages (1.1.11)\n",
            "Requirement already satisfied: pandas in /usr/local/lib/python3.10/dist-packages (2.0.3)\n",
            "Requirement already satisfied: numpy>=1.16.2 in /usr/local/lib/python3.10/dist-packages (from nlpaug) (1.25.2)\n",
            "Requirement already satisfied: requests>=2.22.0 in /usr/local/lib/python3.10/dist-packages (from nlpaug) (2.31.0)\n",
            "Requirement already satisfied: gdown>=4.0.0 in /usr/local/lib/python3.10/dist-packages (from nlpaug) (5.1.0)\n",
            "Requirement already satisfied: python-dateutil>=2.8.2 in /usr/local/lib/python3.10/dist-packages (from pandas) (2.8.2)\n",
            "Requirement already satisfied: pytz>=2020.1 in /usr/local/lib/python3.10/dist-packages (from pandas) (2023.4)\n",
            "Requirement already satisfied: tzdata>=2022.1 in /usr/local/lib/python3.10/dist-packages (from pandas) (2024.1)\n",
            "Requirement already satisfied: beautifulsoup4 in /usr/local/lib/python3.10/dist-packages (from gdown>=4.0.0->nlpaug) (4.12.3)\n",
            "Requirement already satisfied: filelock in /usr/local/lib/python3.10/dist-packages (from gdown>=4.0.0->nlpaug) (3.14.0)\n",
            "Requirement already satisfied: tqdm in /usr/local/lib/python3.10/dist-packages (from gdown>=4.0.0->nlpaug) (4.66.4)\n",
            "Requirement already satisfied: six>=1.5 in /usr/local/lib/python3.10/dist-packages (from python-dateutil>=2.8.2->pandas) (1.16.0)\n",
            "Requirement already satisfied: charset-normalizer<4,>=2 in /usr/local/lib/python3.10/dist-packages (from requests>=2.22.0->nlpaug) (3.3.2)\n",
            "Requirement already satisfied: idna<4,>=2.5 in /usr/local/lib/python3.10/dist-packages (from requests>=2.22.0->nlpaug) (3.7)\n",
            "Requirement already satisfied: urllib3<3,>=1.21.1 in /usr/local/lib/python3.10/dist-packages (from requests>=2.22.0->nlpaug) (2.0.7)\n",
            "Requirement already satisfied: certifi>=2017.4.17 in /usr/local/lib/python3.10/dist-packages (from requests>=2.22.0->nlpaug) (2024.2.2)\n",
            "Requirement already satisfied: soupsieve>1.2 in /usr/local/lib/python3.10/dist-packages (from beautifulsoup4->gdown>=4.0.0->nlpaug) (2.5)\n",
            "Requirement already satisfied: PySocks!=1.5.7,>=1.5.6 in /usr/local/lib/python3.10/dist-packages (from requests>=2.22.0->nlpaug) (1.7.1)\n"
          ]
        }
      ],
      "source": [
        "!pip install nlpaug pandas\n"
      ]
    },
    {
      "cell_type": "markdown",
      "metadata": {
        "id": "6U98g8HC2Swt"
      },
      "source": [
        "ContextualWordEmbsAug를 사용해 데이터 증식을 진행합니다."
      ]
    },
    {
      "cell_type": "code",
      "execution_count": null,
      "metadata": {
        "colab": {
          "base_uri": "https://localhost:8080/"
        },
        "id": "HMyyiqZU2yD3",
        "outputId": "ad2ade0b-f8b5-4bb8-cbd2-815c8f87cfa8"
      },
      "outputs": [
        {
          "name": "stderr",
          "output_type": "stream",
          "text": [
            "[nltk_data] Downloading package wordnet to /root/nltk_data...\n",
            "[nltk_data] Downloading package omw-1.4 to /root/nltk_data...\n",
            "[nltk_data] Downloading package averaged_perceptron_tagger to\n",
            "[nltk_data]     /root/nltk_data...\n",
            "[nltk_data]   Unzipping taggers/averaged_perceptron_tagger.zip.\n"
          ]
        },
        {
          "name": "stdout",
          "output_type": "stream",
          "text": [
            "[['예', '몽', '님', '영상', '자주', '올려주세요', '너무', '행복해요', '완전', '팬', '이에요'], ['피부', '붉게', '올라오신거', '혹시', '피부', '나', '몸', '이상', '있으', '신건', '아닌지', '걱정', '되네요', '피부', '과를', '가보', '심', '어떨까', '요'], ['개통', '령', 'ixl', '전', '볼줄도', '모르고', '볼', '시간', '없어요', 'thirty nine', '같은', '새', '빨', '보이는', '말', '처', '하고', '걸', '그대로', '믿는', '개통', '령빠', '문제', 'ㅋ', '2022년', '기사', '보면', '강형욱', '이런', '상황', '발견', '할', '경우', '엔', '누가', '치우지', '않았는지', '돌려', '본다며', '엘리베이터', '에서', '반려견', '오줌', '쌌는데', '그냥', '가는', '분도', '있다', '그', '보호자', '색출', '해서', '민망하게', '만드는', '짓은', '안', '하지만', '누가', '그랬는지는', '알', '있다', '했던데', '보지', '않고', '보는', '법도', '모른다', '시전', '제', 'ternion', '자인', '고객', '나온', '녹화', '본을', '고객', '동', '의도', '없이', '경찰', '입회', '없이', '사장', '마음대로', '보는것도', '위법', '여지', '큰데', 'ㅋ', '자기', '보고싶을', '때', '돌려', '보누', 'ㅋㅋ'], ['나도', '치킨', '먹을', '생각', '만', '하면', '텐션', '오르고', '설렘', '넘치는', '사람', '으로써', '저', '행복감', '알', '대리', '만족', '하구', '갑니다'], ['구두', '영상', '찾아보다가', '우연히', '보게', '되었는데', '말씀', '논리', '정연', '너무', '잘', '하시고', '일단', '멘탈', '너무', '멋있으세요', '닮고싶어서', '구독', '했습니다'], ['그냥', '내', '관심', '있는', '영상', '보고', '재밌으면', '됐지', '뭐', '이리', '남', '한테', '관심', '이렇게', '많을까', '진짜', '인생', '피곤하게', '사는듯'], ['아니', '근데', '감시', '맞다고', '해도', '그게', '뭐', '문제', '내', '운영', '하는', '곳', '인데', '볼수있는거', '아님', '화장실', '아니고', '뭔'], ['난', '언니', '목소리', '참', '좋아요'], ['527847', '참고', '해', '둘게요', '이제', '금수', '저', '단어', '금지'], ['꽤', '오래전', '부터', '구독', '해', '왔습니다', '처음', '봤을', '때', '나', '지금', '이나', '성숙한', '태도', '저', '자신', '많이', '배우게', '됩니다', '항상', '응원'], ['직원', '참', '바보', '회사', '메신저', '그런', '사담', 'ㅋㅋㅋ'], ['아니', '하트', '주시', '거', '랑', '한별', '님', '댓글', '답', '하실', '때', '어떤', '말투', '주시는지는', '본인', '마음', '아닌가', '음', '댓글', '말투', '공격', '적', '이지', '않았다면', '한별', '님', '좋게', '말씀', '해주시', '않았을까', '하는', '생각', '드네', '요'], ['거', '보고', '치킨', '시켰다', '못', '참겠다'], ['보니', '모든', '악플', '원인', '열등감', '이다', '불쌍해', '진심'], ['본인', '방금', '편의점', '갔는데', '검정', '봉투', '주길래', '편의점', '때려', '부수', '왔다', '배변', '봉투', '주길래', '부들부들하고있는데', '까지', '있는거', '보고', '개', '박살', '내', '옴', '손발', '덜덜', '떨려서', '이제', '7년', '간', '정신과', '약', '먹고', '편의점', '사장', '고소하려고'], ['항상', '그래', '왔다', '조선인', '괴롭힌', '건', '조선인', '였고', '조선인', '팔', '아', '먹은', '것', '조선인', '였다', '그러다', '조선', '멸망', '케', '것', '조선인', '였다', '백년', '지났지만', '바뀐게', '아무', '것', '없다'], ['치워'], ['예', '며', '들었어요'], ['사람', '꼭', '자기', '주관', '편견', '고정관념', '객관', '사실', '인지', '하고', '받아들인다', '무식하게'], ['밥', '먹으면서', '보면', '같이', '밥', '먹는', '기분', '이라', '좋아요', '나긋나긋한', '목소리', '랑', '재밌는', '자막', '이랑', '계속', '보게', '되네요'], ['표정', 'ㅋㅋㅋㅋㅋㅋㅋㅋ', '후'], ['아일릿', '안무', 'ㅈ', '같노'], ['잘', '배', '꼈네', '클라스', '달', '배꼈쿠', '만', 'ㅋㅋㅋㅋ', '뉴', '스', '후속', '느낌', '이든', '이유', '나', '만', '일까', '뉴진스', '장원', '영파', '느낌', '남', 'ㅎㅎ'], ['인종차별', '왜', '차이니즈', '재패니즈', '라고', '만', '차별', '할까', '우린', '당당한', '코리아', '라고', '제발', '동양인', '중', '일본', '중국', '언급', '그만', '우리', '빛나는', '한국인', '이라고', '코리', '아크', '악'], ['대', '민', '주'], ['진짜', '살이', '빠져서', '그런', '건', '염색', '때문', '인지', '인상', '달라', '보이', '예뻐지셨음'], ['다이어트', '말로', '만', '중', '인데', '몸무게', '안줄지', '치킨', '먹고싶지', '우울해하면서', '돌아다니다', '밝은', '모습', '진짜', '너무', '좋아서', '시간', '가는', '줄', '모르고', '봤어요', 'ㅋㅋㅋㅋㅋㅋㅋㅋㅋ', '매번', 'twenty', 'fifteen', 'x', 'x', '반복', '하는', '다시어', '터', '인데', '전', '먹는걸', '너무나도', '좋아해서', '살', '단기간', '확', '빼도', '음식', '먹지', '않으면', '결국', '불행하고', '우울해지구', '삶', '즐거움', '없어지더라구요', '무', '튼', '지금', '처럼', '밝은', '모습', '음식', '드시면서', '스트레스', '받지', '않는', '선', '에서', '주기', '정해', '식단', '만', '신경', '써', '주셔도', '조금씩', '성과', '보일거에요', '막', '거창하게', 'ixl', '내일', '부터', '굶게', '쒀', 'thirty nine', '하기보단', 'ixl', '내일', '간식', '포함', '세', '끼', '만', '먹어야', '징', 'thirty nine', '하는게', '정신', '적', '으로도', '장벽', '낮아져서', '도움', '되더라구요', 'ㅎㅎ', '암튼', '응원'], ['그리운', '예', '몽', '님'], ['뉴진스', '고딩', '느낌', '이고', '아일릿', '중딩', '것', '같아요', '처음', '에는', '같아도', '지금', '몽환', '느낌', '이라서', '좋은', '것', '같아요', '상처', '안', '받았으면', '좋겠네요'], ['좋은', '훈련사', '강형욱', '훈련사', '님', '늘', '남아주세요', '기업', '경영', '다른', '문제', '것', '같아요', '정말', '애', '많이', '쓰셨어요', '기운내십시요'], ['이래서', '필요하다', '돈', '받으려면', '시키는', '것', '만', '해', '라', '할', '일이', '없으니까', '딴', '짓', '하고', '딴', '생각', '하고', '근데', '명절', '돈', '이지', '스팸', '때우는건', '실수'], ['조민지', '님', '안', '아프세요'], ['무례한', '질문', '에도', '친절하게', '답변', '해', '주실려고', '해서', '감사합니다'], ['영상', '보고나니', '지극히', '개인', '적', '가족', '회사', '라서', '또', '훈련사', '이지', '사업가', '아니라서', '소통', '미숙', '하고', '사업', '미숙', '하셨다고', '생각', '함다', '가족', '회사', '이기', '때', '매더', '조심', '히', '존중', '하면서', '대화', '해도', '솔직한', '소통', '될', '까말', '까예요', '툭', '까놓고', '이야기', '해서', '언제', '까지', '일', '하고', '싶으시냐는', '질문', '솔직하게', '기', '아니다', '대답', '하기', '어렵죠', '중간', '이사', '라는', '분도', '대표', '님', '가족', '이니', '중간', '관리자', '있었더라면', '소통', '훨씬', '유익하고', '서로서로', '더', '이해', '할', '수', '있었다', '봅니다', '결국', '가족', '사업', '미숙', '이라', '생각', '전', '강쌤', '팬'], ['예', '몽', '님', 'ㅎ', '진짜', '퍼컬', '진단', '받고', '화장실', '력', '늘으신', '거', '같아요', '되게', '잘하세요'], ['아니', '첫', '장면', '몽골', '에서', '뛰어', '노', '꼬마', '아이', '같아요', '너무', '귀여워요'], ['완전', '공감', '이에요', '무시', '라는', '말', '공개', '적', '직업', '아닌', '그냥', '일반인', '저', '자주', '듣는', '말이거든요', '누군가', '나', '에게', '무례한', '말', '나쁜', '말', '악의', '적', '말', '해서', '상처', '받거나', '화가', '났는데', '주변', '에서', '그래', '봤자', '너', '만', '손해', '야', '그냥', '무시', '해', '라고', '하면', '무시', '안', '되는데', '무시', '라고', '하는', '정말', '너무하다고', '생각', '거든요', '왜', '내', '화가', '나고', '저', '사람', '잘', '못', '했는데', '무시', '하고', '넘어가지', '못', '한다고', '내', '타박', '들어야', '하는지', '이해', '안', '돼요', '무슨', '의도', '무시', '라고', '말', '하는', '건지는', '이해', '하지만', '안', '그랬으면', '좋겠어요', '정말로'], ['예', '몽', '님', '포테킹', '드시는거', '보', '니까', '저', '먹고싶어졌어요'], ['약간', '코맹맹', '소리', '나시는거', 'ㅋㅌㅋㄱㄱ', '넝', '귀여우셔', '정말', '가치관', '너무', '멋지셔요'], ['논리', '시시비비', '따져서', '맞을지', '모르지만', '좀더', '현명하게', '대처', '하였다면', '그리고', '대처', '한다면', '더', '좋을', '것', '같네요', '이성만', '앞세우고', '감성', '베', '제하', '관리자', '로서', '애로', '사항', '반드시', '부딪힙니다', '그리고', '직원', '사장', '님', '윗', '상사', '맨날', '욕', '한다고', '보시', '관리', '하셔', '야해요', '너그럽게', '본건', '못', '본', '척', '대수롭지', '않은건', '그냥', '넘어가야', '해', '요', '원칙', '규정', '규칙', '너무', '앞세우는', '의식', '두', '분', '가지', '계시네요'], ['아주머니', '분', '계십니다'], ['현이', '해', '요', '스파오', '에요', '그레', '요'], ['머리색', '개', '이쁜데', '무슨', '색', '이지', '애쉬', '퍼플', '인가'], ['차분한', '군자', '먹방', '있다면', '이런것이군요', '머리', '웬즈데이', '같고', '잘', '어울리십니다'], ['내', '롤모델', '한별', '님'], ['소위', '유튜버', '라는', '애', '그렇다', '컨텐츠', '너무나', '성의', '없이', '생산', '한다', '떠', '루머', '나', '확인', '되지', '않은', '저급한', '정보', '생산', '된', '컨텐츠', '대부분', '이다', '정보', '로써', '가치', '거의', '없다', '후', '하게', '점수', '준', '다해', '잡담', '수준', '넘지', '못', '한다', '유튜브', '라는', '소통', '공간', '이런', '저', '질', '컨텐츠', '홍수', '이루고', '있다는', '안타까운', '현실', '이다'], ['새벽', '여섯시', '잔치국수', '김치전', '대박'], ['자영', '업자', '면접', '볼때', '민주', '사상', '인가', '아닌가', '물어보고', '뽑아라', '노동청', '민원', '졔기', '했는지', '안', '했는지', '그', '회사', '왜', '퇴사', '했는지', '확인', '하고'], ['언니', '노력', '만큼', '보지', '않고', '겉', '보이', '는걸', '판단', '하는', '사회', '진짜', '싫다'], ['난', '하나', '잘못', '거', '없다는', '것', '아니고', '좋은', '대표', '아니었고', '직접', '만나', '사과', '하고', '벌', '받을', '건', '받겠다', '하는', '사람', '인데', '전', '직원', '개인', '적', '만나서', '해결', '하면', '되는', '거', '아닌가', '언제', '까지', '언론', '사람', '물어', '뜯을', '거', '냐'], ['응원'], ['정훈', '공주', '닮으셨어용'], ['열등감', '덩어리', '서준', '김', '알리오', '2355', '인신공격', '악플', '여러', '개', '함', '전효성', '채널', '에서도', '인신공격', '달았다', '삭제', '하더니', '여기서도', '저러네', '왜', '저래'], ['민감한', '질문', '조곤조곤하게', '잘', '이야기', '해주시네요', '영상', '보기전에는', '그냥', '금수', '저', '유', '튜버', '인가', '보다', '했는데', '영상', '보고', '나니', '마음', '바', '꼈어요', '생각', '보다', '훨씬', '더', '멋있는', '여성', '분', '것', '같네요', '악플', '신경', '쓰지', '마시고', '늘', '좋은', '영상', '부탁드려요'], ['노래', '진짜', '좋네요'], ['한번', '먹은줄', '별로', '안', '먹네요'], ['윤아', '티', '치마', '입음', '안되겠다', '허리', '너무', '길어'], ['변명', '뿐', '영상', '뭐', '이해', '간', '다는거지', 'ㅋㅋㅋ', '9670원', '이해', '간다', '댓글', '작업', '그만', '하소'], ['어글애', '원희', '형', '이야'], ['예쁜', '한별', '님'], ['의상', '노래', '춤', '넘', '이뻐요'], ['대', '다나', '저', '결단', '력', '실행', '력'], ['인생', '연예인', '전부', '한국', '아줌마', '울고불고', '난리', '났다', 'ㅋㅋㅋㅋㅋㅋㅋㅋㅋㅋㅋㅋ'], ['생각', '해보면', '아일릿', '뭔', '잘', '못', '이겠냐', '어른', '문제', 'ㅅ', '청소년', '친구', '있는데', 'decade', '대', '때', '부터', '인생', '욕', '최', '듣지', '않을까'], ['사실', '상', '쪽', '근본', '아닌가', '통', '수돌', '보다야'], ['음', '멈출수없어'], ['앞니', '씹나'], ['냉정하게', '요', '목조', '목', '두', '쪽', '들어', '봤으니', '결과', '기다리면', '된다', '편', '가르기', '식', '감정', '적', '치우쳐', '봤자', '결국', '엔', '기다리면', '누가', '나쁜', '인간', '인지', '알수', '있다'], ['예', '몽', '님', 'ㅎㅎ', '영상', '너무', '좋아요', '그런데', '혹시', '다음', '에는', '이렇게', '길고', '예', '몽', '님', '혼자', '조용히', '드시는', '영상', '없는', '영상', '한번', '만들어주실', '수', '있을까요', '예', '몽', '님', '사부작사부작', '드시는', '소리', '더', '잘', '듣고', '싶은데', '영상', '내내', '배경음악', '깔려있어서', '개인', '적', '조금', '아쉬웠어요', '개인', '적', '의견', 'ㅎㅎ'], ['성실히', '살아가기', '보다는', '잔꾀', '나', '요령', '혹은', '고자질', '세상', '쉽게', '살아가려는', '악풍', '결국', '부정선거', '관행', '화', '불러왓다', '본다', '입법', '사법', '행정', '비롯', '모든', '분야', '대동소이하게', '부패', '타락해', '있다', '특정', '정치인', '탓', '아니며', '특정', '집단', '탓', '아니다', '우리', '사회', '구성원', '모두', '에게', '그', '책임', '있다', '그', '연대책임', '에서', '자유로울', '수', '있는', '국민', '단', '사람', '없다', '생각', '한다'], ['가끔', '영상', '뜨면', '봤었는데', '거', '보고', '너무', '마인드', '좋고', '멋있어서', '구독', '햇', '어', '요'], ['예몽같', '친구', '있었음', '좋겠다', '맛있는것도', '먹으러', '가고', 'ㅋㅋ', '얘기', '만', '나눠도', '재밌을듯'], ['민주', '귀여워'], ['한편', '통한', '직원', '감시', '행위', '', '직장', '내', '괴롭힘', '인정', '될', '가능성', '있어', '주의', '요', '고용노동부', '직장', '내', '괴롭힘', '판단', '및', '예방', '대응', '매뉴얼', '통한', '감시', '일하거나', '휴식', '하는', '모습', '지나치게', '감시', '직장', '내', '괴롭힘', '사례', '예시', '하고', '있고', '고용노동부', '직장', '내', '괴롭힘', '인한', '건강', '장해', '예방', '매뉴얼', '회사', '내', '설치', '되어', '있고', '해당', '모니터', '중간', '관리자', '자리', '설치', '되어', '있음', '출입구', '등', '사람', '지키고', '있지', '않아', '외', '에는', '직원', '움직임', '확인', '할', '수', '없는', '구', '조', '에도', '간식', '먹고', '난', '후', '간식', '맛있었냐는', '등', '실시간', '모니터', '직원', '관찰', '하고', '경고', '메일', '메시지', '등', '보내는', '방식', '감시', '사실', '직원', '에게', '주지', '시킨', '사례', '사적', '일', '지나치게', '간섭', '하는', '개인', '적', '영역', '대한', '침해', '로서', '직장', '내', '괴롭힘', '해당', '하는', '사례', '예시', '하고', '있습니다', '개통', '령', '와이프', '뭐', '찔리는거', '없', '누', 'ㅋ'], ['언니', '진짜', '늘', '보면서', '유익한', '정보', '많이', '얻어요', '정말', '너무', '좋아하는', '유튜버', '에요'], ['귀엽고', '착한', '예', '몽', '님', '건강', '위해', '서', '식이', '조절', '하는게', '좋을거', '같아요'], ['그건', '그렇다', '쳐도', '강형욱', '씨', '만원', '보낸', '거', '팩트', '메신저', '시찰', '팩트', '것', '만', '해도', '논란', '크지', '않나요'], ['그냥', '힘내세요'], ['우와', '진짜', '맛있겠다', '참', '고인다'], ['예', '몽', '님', '보고싶', '엉', '젼', '아몬드', '봉봉', '조아요'], ['귀엽당', '동생', '이었음', '좋겠당'], ['오른쪽', '분', '핑크색', '바지', '정보', '알', '수', '있을까요', '!', '너무', '예뻐요', '!!'], ['ten', '번째', '질문', '에서', '만약', '이라도', '좋아하는', '댓글', '에만', '하트', '주는', '건', '당연한거', '아닌가요', '대부분', '사람', '좋은', '말', '이쁜', '말', '고운', '말', '듣는', '것', '좋아하지', '나쁜', '말', '또는', '욕', '겉', '으로만', '보고', '판단', '하는', '댓글', '좋아할', '리가', '없잖아요', '늦게', '댓글', '달', '하트', '바라는', '건', '의미', '없다고', '생각', '해요', '오직', '한별', '님', '영상', '댓글', '됐다는', '이유', '만으로도', '좋아할', '수', '있어요', '그러니까', '사람', '듣기', '싫어하고', '좋아하는', '말', '구분', '해가면서', '댓글', '달', '좋겠어요', '한별', '님', '영상', '댓글', '봐', '온', '사람', '으로써'], ['만', '유아', '틱', '덜한', '옷', '입으니까', '윤아', '훨씬', '눈', '잘', '보인다', '너무', '예쁨'], ['안정감', '있고', '끝날', '때', '까지', '끜난', '아니다', '할', '때젤', '조음', 'ㅋㅋㅋ'], ['쯧쯧', '모질이', '들어', '따', '대고', '욕질', '이야', '세상', '살아라'], ['한별', '님', '예쁘네요'], ['이쁘네'], ['한별', '님', '덕분', '많은', '걸', '깨닫고', '배우고', '있어요', '전', '명품', '하울', '영상', '에서', '명품', '왜', '소비', '하고', '계시는지', '설명', '해주시는', '거', '보면서', '명품', '대해', '무의식', '적', '가지', '있던', '선입견', '깰', '수', '있었고', '이번', '영상', '에서는', '악플', '받는', '사람', '에게', '무시', '라고', '하는', '잘', '못', '된', '행동', '이라는', '내용', '가장', '인상', '깊었어요', '보면', '볼', '수록', '참', '올바른', '사고방식', '가지', '계신', '것', '같습니다', '저', '고등학생', '때', '부터', 'thirty nine', '예민하게', '반응', '하자', 'ixl', '걸', '모토로', '살', '있는데', 'thirty nine', '나', '에게', '행해지는', '무례', '내', '무감', '과연', '누가', '나를', '지킬', '수', '있을까', 'ixl', '하는', '제', '생각', '똑같은', '말씀', '너무', '공감', '되어', '이렇게', '댓글', '남겨', '봐요', '항상', '건강', '챙기시고', '응원'], ['금보', '니', '혈당', '최악', '음식', '만', '들이', '부었네', '초밥', '국수', '아이스크림', '도넛', '김치전', '빵', '치킨', '김밥', 'ㅎㄷㄷ', '음식', '먹자마자', '얼굴', '벌겋게', '되는', '거', '소름'], ['마인드', '너무', '좋다'], ['정국', '운동화', '정국', '운동화'], ['금수', '저', '관련', '답변', '진짜', '공감', '되어요', 'ㅋㅋㅋㅋ', '우문', '현', '답'], ['언니', '처음', '양갈래', '넘나', '귀여운', '것', '45분', '너', '뮤', '소듕', '해', '아껴', '볼게요', '고마워용'], ['혈관', '살려', '달라', '외치', '있네', '혈색', 'ㄷㄷㄷ'], ['ixl', 'ixl', 'trinity'], ['강', '형', '욱', '님', '채널', '에서', '특히', '견종백', '즐겨', '보던', '사람', '고양이', '키우지만', '강형욱', '훈련사', '님', '늘', '웃으면서', '강아지', '놀아주며', '견종', '역사', '라던가', '설명', '해', '주시는거', '보면서', '즐겁게', '봤었는데', '이런', '안타까운', '문제', '마음', '고생', '심하게', '하셨을거', '같습니다', '댓글', '보실지는', '모르겠지만', '힘', '내시', '좋겠습니다'], ['민주'], ['그래도', '졸업', '하시는게', '좋을거', '같아요'], ['내', '일만', '잘', '하면', '대고', '시시비비', '따지면', '그런', '사람', '뽑지마라', '야하고', '가사', '장하지', '왜', '지적', '질', '인지', '그', '놈', '문제', '였네'], ['야', '니', '여친', '명품', '받고', '싶어', '받으면', '좋아해', '근데', '그게', '너', '한텐', '너무', '큰', '돈', '이라', '부담스러워하는거야', '너', '돈', '없어서', '이런거', '아까워', '해서', '니', '여친', '명품', '안', '좋아해서', '다행', '이다', '이러는게', '아니라', '못', '해줘서', '미안해하라', '구', '니', '여친', '정말', '불쌍해', '여친', '명품', '좋아해서가', '아니라', '너', '한테', '그', '정도', '밖에', '가치', '안되는거', '같아서', '안쓰럽다구'], ['이래서', '여자애', '뽑으면', '안', '돼', '개념', '없고', '성차별', '적', '강박', '사', '잡혀있음'], ['악플', '그냥', '고소해', '버리세요', '잘못', '사람', '따로', '있는데', '왜', '한별', '님', '먹', '금', '해야하나요', '항상', '응원', '합니당'], ['한별', '최고'], ['그래도', '어릴', '때', '부터', '유럽', '여행', '캐나다', '여행', '가실', '정도', '제', '기준', '여유롭게', '사시는거', '같아요', '부럽'], ['이로하', '개', '이뻐'], ['힘내세요', '남', '눈', '피', '눈물나게하면', '되돌아간다', '전', '직원', '악플러', '평생', '저주받을거다'], ['안녕하세요', '언니', '이번', '우연히', '보다가', '언', '니거', '영상', '쭈우욱', '보고있어요', '근데', '열', '불나네요', '아니', '내', '돈', '주고', '사던', '말던', '남친', '이나', '부모님', '사주던', '말던', '등골', '빼먹던', '말던', '걸', '답', '해주는', '언니', '인성', '빼고', '납득', '되는게', '없네요', '이상한', '사람', '참', '많다'], ['가치관', '너무', '멋지네요', '하나', '부터', '열', '까지', '맞는', '말', '만', '하셔서', '공감', '되면서도', '느끼는', '많아졌어요', '내면', '정말', '멋진', '분', '같아요', '항상', '응원', '할게요'], ['잉잉', '인기', '순', '쭉', '보고', '있는데', '넘', '귀여워요'], ['2만', '2천원', '짜리', '티셔츠', '리뷰', '하는데', '금수', '저', '라고', '무슨', '옷', '줏어입', '나'], ['나', '언니', '편'], ['저', '요', '저', '처음', '부터', '끝', '까지', '정', '주행', '했어요', '키키', '찐', '옹심이', '오늘', '잘', '보고', '갑니다', '다음', '영상', '기다릴게', '유'], ['언니', '너무', '이쁘고', '귀여운거아니야'], ['엠생', '인생', '사는', '서준', '아', 'ㅋㅋㅋ', '평일', '내내', '그러고', '다녀', '보니', '어때', '기분', '나아졌어', '주말', '에도', '기대할게'], ['할거', '하면서', '노', '모습', '너무', '멋지다', '힘들어', '보이', '니까', '하루', '정도', '푹', '쉬어요', '!', '병창', '오빠', '파이팅'], ['긴', '영상', '너무', '좋아여', '덕질', '뒷전', '미루고', '보는', '예', '몽', '님', '영상', '입니당', 'ㅎㅎ'], ['너무', '멋지세요', '언니'], ['저', '개', '저', '씨볼때', '마다', '너무', '불편한게', '뭐', '냐', '내', '직원', '일', '했던', '좆', '소', '사장', '알바', '사장', '떠올라서', '그런다', '한번', '내', '뭐', '실수', '니까', '카톡', '지금', '뭐', '거', '빨리', '치우시라고', '해서', '놀라서', '두리번거리니까', '아예', '뒤쪽', '앉아서', '핸드폰', '씨', '씨', '티비', '켜고', '실시간', '감시', '하고있더라', '진짜', '뭔가', '싶었다', '못', '배운', 'ㅅ', '끼', '아니였고', '흔', '한개', '저', '씨', '였는데', '대체', '뭐', '싶어서', '그날', '관', '둔다고하고', '지원', '하는', '애', '있으면', '알음', '알음', '하지말라고', '알려', '준다', '이미', '저', '업계', '쟤', '만행', '알', '읶었', '거임', '개', '저', '씨', '유독', '낯짝', '뻔', '뻔한데', '난', '도저히', '이해', '가안', '간다', 'ㅋ', '징징거릴거면', '악덕', '사', '장단', '톡', '하시고', '그딴', '식', '사', '니까', '꼴', '난거야', '아저씨', '야', 'ㅉㅉ'], ['아릿일', '언니', '성은', '만음', '속', '있어요'], ['요거트', 'xxxi', '완전', '최애', '예요', '영상', '잘봤숩미'], ['아니', '연어초밥', '연어', '두', '줄', '띡', '올라가있는거', '개', '웃기', '넼', 'ㅋㅋㅋㅋㅋㅋㅋㅋㅋ'], ['이제', '그냥', '그', '성별', '뽑지', '마시죸', 'ㅋㅋㅋㅋㅋ', '숨겨놓은', '지뢴데', '위험부담', '할', '필요', '있음'], ['진짜', '언니', '명품', '사는', '건', '언니', '엄청난', '노력', '수고', '충분히', '있었고', '명품', '살', '만', '가치', '충분히', '있어서', '얻는건데', '대체', '들이', '무슨', '상관', '인지'], ['여신', '줄', 'ㅋㅋㅋㅋ'], ['보고싶다', '언니'], ['영상', '올라올', '때', '마다', '기쁘게', '보고', '있어요', '재미나', '재미나'], ['364910631743', '귀걸이', '예', '몽', '님', '이랑', '너무', '잘', '어울려요', '정보', '알려주실', '수', '있나요'], ['저', '최애', '촠', '나'], ['진짜', '뚱뚱하시네요', '정말', '놀라와', '요'], ['언니', '속상했겠다'], ['이제', '뽑지', '마세요', '나거한'], ['이렇게', '긴', '영상', '좋아요'], ['귀여워요', '저', '다이어트', '시작', '해서', '매일', '기록', '하고', '있어요', '오늘', '점심때', '잔치국수', '먹었는데', '영', '상보', '니까', '또', '먹고', '싶네요', 'ㅋㅋ'], ['액션', '취할려', '9800원', '보냈다는건', '너무', '억지', '같음'], ['살다', '보', '니까', '정말', '못', '된', '인간', '있더라고요', '그', '못', '된', '인간', '한테', '걸려서', '꿈', '접고', '마음', '얼마나', '상처', '깊어지셨을까', '마음', '아프더군요', '레오', '이야기', '하실', '때', '훈련사', '분들', '이야기', '하시며', '우실', '때', '진심', '느껴지고', '저', '울었습니다', '부디', '기운', '내시길', '바랍니다', '조', '회수', '올', '리기', '위해', '서', '자극', '적', '제목', '선동', '기사', '올린', '기자', '유투', '버들', '그거', '업', '이고', '죄', '사람', '한평생', '살면서', '덕', '쌓지', '못', '할', '망정', '그렇게', '업', '쌓아', '서야', '되겠습니까', '당신', '후손', '한테', '그', '업보', '내려갈것'], ['나긋나긋한', '예', '몽', '님', '넘', '좋아요', '집안', '분위기', '따뜻해서', '볼', '때', '마다', '힐링', '이에요'], ['해명', '되었는데', '개훌륭', '왜', '안', '하는데', '여자', '탈의실', '더', '조사', '할게', '남았나'], ['아니', '스페인', '예쁘다고', '거기', '이민', '갈', '정도', '재력', '있는', '부모님', '두', '신건', '그냥', '금수', '저', '라고', '하는거에요', '지금', '현재', '경제', '상태', '판단', '하는게', '아니라'], ['이분', '약간', '크리', '탈', '닮으', '심'], ['대놓고', '뉴진스', '따라', '만든', '그룹', 'ㅋㅋㅋㅋ', '돈', '되니', '어쩔', '수', '없는듯', '뉴진스', '짭', '퉁'], ['머리', '땋은거', '넘', '귀엽', '어머님', '잘', '땋', '아', '주셨', '용', 'ㅎㅎ'], ['저', '언니', '즐깁니당', 'ㅋㅋㅋ', '내', '살', '수', '없으니까', '언니', '라도', '즐기세오', '갖고싶은', '명품', '사시', '갖고싶은', '물건', '사세오', '제발', '사주세오', '그리고', '보여주세요', '대리', '만족하게', 'ㅋㅋㅋ'], ['입술', '뭐', '바른지', '정보', '요', '!!!!!!!', '진짜', '이쁘다'], ['제', '최애', '바람', '함께', '사라지다'], ['예', '몽', '님', '너무', '귀여워요', '자주', '올려주세요', '보고싶어용'], ['많이', '힘드시겠지만', '두', '분', '믿고', '응원', '하는', '사람', '많다는거', '잊지', '말', '아', '주세요', '형욱님', '수', '잔', '님', '힘내세요'], ['악플', '진짜', '어휴', '영상', '잘', '봤어요'], ['길수록', '좋다구요'], ['언니', '너무', '좋아용', '사랑', '해요'], ['정말', '죄송합니다', '이번', '일로', '큰', '충격', '받았습니다', '언론', '에서도', '크게', '보도', '하고', '내용', '구체', '적', '이고', '거기', '평소', '크게', '관심', '없었던', '분야', '라', '영상', '많이', '안', '봤었어서', '너무', '쉽게', '논란', '믿었던', '거', '같습니다', '누구', '하나', '담그기', '쉬운', '나라', '시대', '살', '있음에도', '한번', '의심', '안', '했네요', '이번', '일로', '중립', '지키기', '위해', '힌번', '더', '생각', '해볼', '수', '있는', '계기', '된', '것', '같습니다', '고맙고', '죄송합니다', '강', '형', '욱', '님'], ['진짜', '생각', '치', '않은', '단어', '대한', '생각', '전환', '됐던', '영상', '이었어요', '극단', '적', '주관', '적임', '이라는', '개성', '있고', '자유롭지만', '혼란', '스럽고', '어렵네요', '근데', '저', '긍정', '적', '생각', '하고', '스스로', '잘아는게', '중요하다는걸', '깨닫게', '해주셨어요', '제', '옷', '잘', '못', '입어서', '유튜브', '보다', '말', '잘', '하시고', '생각', '닮고', '싶어졌어요', '응원', '하고', '존경', '해여', '퐨', '됐어요', '하루', '만에', '별별', '되', '버렸', '여'], ['돈', '있는', '사람', '돈', '쓰는데', '왜', '싫으면', '영상', '안보', '되지', 'ㅋㅋㅋㅋㅋㅋㅋㅋㅋ', '꾸준히', '보러오면서', '악플다는', '사람', '시간', '많아서', '부럽네요'], ['마인드', '닮고', '싶어요', '영상', '보길', '잘', '했네요', 'ㅎㅎ'], ['남돌', '여', '돌', '통틀어', '역대', '데뷔', '곡', '최', '음방', 'ace', '위'], ['맛', '잇겟다'], ['제', '최애', '슈팅슽', '아'], ['귀여워요'], ['364939039', '아닛', '연어초밥', '하나', '만', '연어', '되게', '작은거', '너무', '웃기', '귀엽닼', 'ㅋㅋ'], ['남', '여유', '로움', '시기해서', '욕', '하는건', '본인', '자신', '삶', '만족하지', '못', '한다는', '것', '이지', '요', '자신', '처지', '비관', '하긴', '싫으니', '남', '욕', '하는', '불쌍한', '사람'], ['저', '훈련사', '님', '믿습니다'], ['한별', '언니', '사랑', '해요'], ['그냥', '봐', '어차피', '강형욱', '이겨'], ['귀여우셔요', 'ㅋㅋㅋㅋㅋ'], ['서준', '김', '알리오', '2355', '강형욱', '싫어하면서', '며칠', '동안', '여기', '꾸역꾸역', '들의', '와서', '악플', '인신공격', '썼다', '지웠다하면서', '반복', '중', '진짜', '추잡하고', '유약함'], ['영상', '45분', '길이', '개', '좋은데', '요', '앞', '또', '영상', '만', '주', '구', '장창', '볼듯', '해', '여'], ['아유', '귀여워', '예', '몽', '세상', '에서', '제일', '귀여워'], ['옴뇸뇸', '먹는게', '넘', '귀여워용'], ['강형욱', '죽이', '기네', '요', '마녀사냥', '당하지', '마시고', '반드시', '진실', '파헤쳐서', '꼭', '다시', '우리', '개통', '령', '나타나셨음', '정신', '적', '육체', '적', '많이', '힘들게', '보이셔서', '안타깝습니다'], ['군대', '생각', '해', '보자', '부대', '원', '몇몇', '부대', '장', '뒷담화', '통해', '부대', '기강', '흐트', '려', '놓앗다면', '어떻게', '되겠는가', '명백한', '반란', '행위', '라는', '내', '판단', '이다', '반란', '군법', '최고', '형벌', '피', '하기', '어렵다'], ['와글', '이쁘노', '그만', '이뻐', '봐', '이원희'], ['이쁘', '긴한데', '노래', '하는', '꼬', '라지', '초등생', '수준', '안되니'], ['강아지', '다루는', '곳', '없는게', '진짜', '이상한거다'], ['제', '베', '라', '최애', '러브', '미용', '베리', '맛', '인데', '맛있어용', 'ㅎㅎ'], ['힘내세요', '실수', '했다면', '고치', '되는거예요', '전', '강', '형', '욱', '님', '응원'], ['ㅋㅋㅋㅋㅋㅋㅋㅋㅋㅋㅋㅋㅋㅋ'], ['니', '부부', '말', '맞추고', '찍은', '저', '영상', '에서', '하는', '말', '진실', '이라고', '우리', '국민', '신뢰', '할거라고', '생각', '했어', '니', '부부', '변명', '서로', '말', '틀리면', '녹화', '중단', '하고', '다시', '찍은', '저런', '영상', '에서', '하는말을', '우리', '국민', '사실', '냥', '믿어줄줄', '알았어', 'ㅋㅋㅋ', '우리', '국민', '아주', '바보', '멍청이', '봤구나', 'ㅋㅋㅋㅋ'], ['휴', '한심한', '그', '남'], ['첫', '번째', '장면', '핑크색', '옷', '젤', '잘어율랴', '요'], ['민희진', '심정', '알', '것', '같아', '안무', '메이', '컵', '등', '왜', '파이', '크게', '못', '놔두는', '건지', '설명'], ['첫인상', '아무리', '봐도', '카피', '돌이'], ['혼자', '서', '발악', '하며', '인신공격', '도배', '하는', '머', '저리', '있네', '불쌍하다', '불쌍해', '본인', '인생', '구제', '하는건', '본인', '밖에', '못', '하는데', '그것', '못', '함'], ['그냥', '가수', '인가', '싶음'], ['완전', '솜사탕', '나라', '애기', '공주', '님', '덜', '재질'], ['엑', '믹스', '눈', '씻고', '다시', '봐도', '뉴진스', '아', '류', '첫인상', '별루', '컨셉'], ['그런', '찌질한', '사람', '막상', '이런', '영상', '보지', '않는다는', '거', '꼭', '꼭', '무식한거', '티', '내지'], ['대라', '만족', '굳', '잡'], ['한별', '님', '얼마나', '생각', '깊고', '풍부한지', '알', '수', '있는', '영', '상이', '요', '정말', '다양하고', '별별', '사람', '사는', '요지경', '이네', '요', 'ㅋㅋ'], ['왜', '다른', '포테킹', '영상', '보다', '영상', '에서', '더', '포테킹', '먹고싶어지는걸', '까여'], ['내', '모습', '같아서', '거울', '치료', '됨'], ['뭐', '문제', '되는거지', '자기', '맡은', '일', '제대로', '하면', '문제', '될꺼', '없지', '있는게', '무슨', '문제', '생기거나', '논쟁', '있어을', '때', '증거', '되고', '반박', '할', '의미', '없는것', '같네', '해명', '내용', '보니', '참', '비난', '받을', '일이', '냐', '세명', '소', '세', '요', '메신저', '보신거', '법적', '처벌', '받아야', '되는거면', '받으시더라도', '받고', '고소하세요'], ['유튜브', '수익', '말고', '명품', '살', '수입', '원', '따로', '있는지', '궁금해요', '그냥', '궁금합니다', '제', '상상', '으로는', '어렸을', '때', '부터', '세뱃돈', '저축', '하고', '제태크', '부동산', '이런', '거', '밖에', '안', '떠올라서', '아', '스페인어', '하시니까', '통역', '버실', '수도', '있겠네요', '근데', '채널', '특성', '상', '구체', '적', '답변', '받기', '힘들것', '같아서', '구', '냥', '계속', '궁금할것', '같네여'], ['얘', '그냥', '오디션', '붙고', '노래', '부른게'], ['말', '너무', '잘', '하세요'], ['강형욱', '훈련사', '님', '응원', '화이팅'], ['힘내세요'], ['말', '어쩜', '저리', '잘', '하지', '의사', '표현', '예쁘고', '똑', '부러지게', '한다'], ['힘내세요'], ['예', '몽', '씨', '우연히', '본', '하나', '영상', '모든', '영상', '섭렵', '언니', '팬', '예요', '넘', '귀엽고', '어머니', '넘', '사랑스러우셔요', '앞', '으로도', '영상', '많이', '올려주시구', '예', '몽', '씨', '앞니', '음식', '즐기는걸', '좋아하는거', '같은데', '완전', '중독', '성', '있어요', 'ㅋㅋㅋ', '저', '내일', '앞니', 'ㅋㅋ', '먹어', '봐야겠어요', 'ㅋㅋ'], ['나도', 'one hundred five', '키', '나가다가', 'sixty five', '까지', 'forty', '키', '빼는데', '2년', '걸렸는데', '이분', '살빠지면', '약간', '김고은', '삘', '날거', '같으면서', '이쁘', '장하실듯'], ['사찰', '이라는', '터', '무니', '없는', '모함', '구도', '그려가는데', '업무', '용', '메신져', '이용', '하여', '의도', '적', '지속', '적', '불법', '관리', '였느냐', '관건', '이라', '할', '때', '그것', '아니라는', '것', '역시', '수', '잔', '엘더', '이사', '납득', '가능한', '내용', '네이버', '웍스', '이용', '시점', '네이버', '웍스', '메신져', '관련', '공지', '등', '밝혔다', '것', '사회', '적', '물의', '커녕', '회사', '내', '에서도', '물의', '될', '수', '없는', '부분', '이다'], ['증거', '없는', '이야기', '어려운', '시간', '보내시고', '계실텐데', '지지', '말고', '잘', '버텨내주세요', '좋은', '훈련사', '님', '잃고', '싶지', '않습니다', '힘내세요'], ['개인', '적', '질문', '삼가시다'], ['사람', '언제', '한번', '씨', '깨닫고', '각성', '하는', '때', '오면', '다이어트', '성공할수', '있는데'], ['민주', '예쁘다'], ['언니', '마인드', '칭찬', '해요'], ['11401900'], ['땋', '머리', '기여', '워', '요', '볼', '까지', '발그레한', '애기', '같아요', 'ㅎㅎㅎ'], ['소스', '발음', '신기하네요'], ['자꾸', '보게', '되는', '마', '성의', '예', '몽님예몽', '님', '행복했으면', '좋겟어요'], ['481751051', '폼', '포스', '퐁', '폼', '포스', '퐁', '폼', '포스', '퐁', '포코'], ['국민', '앞', '나와서', '피해자', '한테', '머리', '숙여', '사죄', '하고', '국민', '앞', '에서', '벌', '받고', '다시는', '국민', '눈', '띄지', '말어라'], ['댓글', '이야기', '특히', '공감', '되요'], ['예', '몽', '님', '오늘', '너무', '잘', '봤어요', '먹방', '하실', '때', '라이브', '처럼', '음식', '앵글', '같이', '나오면', '훨씬', '더', '좋을', '것', '같다는', '의견', '조금', '남겨', '봅니당', 'ㅎㅎ', '항상', '잼', '난', '영상', '감사해요'], ['예쁘다'], ['강형욱', '동네', '슈퍼', '사장', '이었다면', '이런', '불만', '제기', '못', '했을', '그리고', '그럴', '가치', '못', '느꼈을', '비겁', '자', '들이', '그', '사람', '유명', '세', '깍', '아', '내리고자', '대중', '여론', '언론', '호도', '하고', '있다는게', '참', '정의', '로운', '척', '하고', '싶겠지만', '인간', '에겐', '어느', '누구', '든', '사', '람보', '눈', '있고', '내', '볼땐', '강형욱', '니', '얘기', '하는', '수준', '비겁', '자고', '쓰레기', '같지는', '않아', '보인다', '그냥', '화도', '내고', '불만', '있는', '일반', '인임', '이름', '알려진', '공인', '이라고', '해서', '성직자', '처럼', '청렴', '하고', '흠결', '점', '없어야', '하는건', '아니야', '적당히', '해', '라'], ['예', '몽', '님', '영상', '안', '올리셔서', '이런', '거', '라도', '보는', '중이', '용', '보고싶다'], ['킴닥', '스님', '댓글', '보고', '궁금해졌는데', '말랑해', '보이는', '베개', '어디', '껀', '가요'], ['아', '진짜', '언니', '마인드', '사랑', '해요', '흐헝'], ['한별', '님', '께', '원래', '사람', '안', '한다', '졸', '부겠지', '이런', '말', '하는', '사람', '본인', '한별', '님', '보다', '경제', '적', '부분', '에서', '부족해서', '한별', '님', '부럽지만', '그걸', '부럽다', '하기엔', '자신', '값어치', '떨어진다라는', '생각', '드니', '그러는', '거', '예요', '열등감', '때문', '겠죠', '그', '사람', '자존감', '낮기', '때문', '한별', '님', '께', '비꼬면서', '말', '하는거니', '기분', '나빠지는', '말', '그냥', '가소롭다', '생각', '하셔요', '진짜', '악플', '이나', '다는', '가소로운', '인간', '이니', '혹', '여', '한별', '님', '저런', '말', '은근', '히', '상처', '받으실까봐', '남겨', '보아', '요'], ['이번', '머리색', '완전', '찰떡', '용', '이뻐용', '점점', '더', '예뻐지는', '예', '몽', '씨', '롱런', '하자', '요'], ['에구', '오덕', '취향'], ['근데', '아들', '방패', '진짜', '추하다', 'ㅉㅉ', '본질', '흐리지', '마라', 'ㅋㅋ'], ['아니', '진짜', '개꼰', '대', '같노', '겉', '일만', '잘', '하면', '됐지', '지는', '욕', '안', '하고', '사나', '상사', '욕', '직원', '어느', '회사', '던', '수두', '룩', '빽빽한데', '남', '대화', '내용', 'half dozen', '개월치', '훔쳐', '보고', '부들부들', '거리', '진짜', '음침하고', '이해', '안', '간다', '아줌마', '그냥', '회사', '운영', '에서', '손', '떼고', '애나', '봐'], ['머리', '후드', '끈인줄', 'ㅋㅋㅋ', '귀여워요', 'ㅎ'], ['남', '시기하고', '질투', '하는건', '결국', '자기', '자신', '망치는', '일이', '하지만', '있다고', '잘난', '척', '하면서', '남', '아래', '위로', '훝', '어', '보는것은', '더', '창피한', '일이'], ['예', '몽', '님', '영상', '넘', '재밌어요', '아껴', '보고', '있어요', 'ㅎㅎ', '늦었지만', '새해', '복', '많이', '받으세용'], ['힘내세요'], ['응원'], ['뉴진스', '동생', '그룹', '이에요', '이미지', '똑', '닮았네'], ['자기', '기준', '대로', '남', '판단', '하는', '사람', '열등감', '표현', '죠', '무시', '하세요', '한별', '님', '말씀', '일일', '히', '공감', '가는', '말', '이에요'], ['정신병', '머리', '아픈', '직원', 'leash', '개월내', '짜르', '그', '뒤', '되어도', '걍', '짜르', '맞아요', '저', '사람', '뽑았을', '때', '정신병', '있는', '사람', '있습니다', '안타깝네요', '부디', '마음', '잘', '추', '스리', '길', '바랍니다', '그리고', '허위', '개', '소리', '사람', '대해', '꼭', '소송', '보상', '받으시고', '처벌', '하시길', '바랍니다', '가만히', '두면', '지가', '사람', '새끼', '줄', '알아요', '지능', '낮고', '혐오', '가득', '찬', '말', '할줄', '아는', '짐승', '정상인', '속', '에서', '사람', '인척', '는걸', '두고', '봐야', '되는게', '안타까운', '세상', '그냥', '그', '처벌', '다스리는수', '밖에', '없습니다', '허튼', '소리', '안된다는걸', '만들어가면', '좋겠어요'], ['7701250', '닿았어요'], ['죄송한데', '얘', '한테', '성적', '감정', '느끼면', '잠재', '적', '범죄자'], ['잘', '못', '한게', '없으면', '숨', '일도', '없지'], ['귀여워'], ['긴', '영상', '너무', '조아'], ['아껴', '봐야지', '언니', '영상', '자기전에', '보면', '너무', '좋아요', 'ㅎㅎ', '분량', '최고'], ['회사', '수십', '대', '정작', '아픈', '레오', '있는', '옥상', '에는', 'nought', '대', '그렇게', '생각', '레오', '무슨', '일생', '기면', '어', '쩌', '려고'], ['아', '진짜', '논리', '없고', '감성', '팔이', '악플러', 'ㅋㅋㅋㅋ', '진짜', '강', '형', '욱', '님', '힘내세요'], ['나', '같으면', '중간', '욕', '한번', '쯤', '나올거', '같은데', '저렇게', '차분하게', '자신', '생각', '피', '력', '하는게', '넘흐', '멋져욤'], ['아일릿', '에서', '누가', '제일', '인기', '많아요'], ['알수', '없는', '알고리즘', '왔는데', 'forty', '대', '이모', '보기', '엔', '너무', '너무', '귀엽네요', 'ㅎㅎ', '다이어트', '장기전', '이니까', '너무', '스트레스', '받지', '말아요'], ['딩고', '라이브', '나가서', '라이브', '보여주세요'], ['어머니', '정보', '여', '부럽다'], ['빠', '나', '같은', '까를', '만드는거란다', '개통', '령', '빠들', '아', 'ㅋㅋ', '개통', '령', '빠들', '골', '때리는', '점', '개통', '령왈', '저', '그런', '말', '쓰지', '않습니다', '시', '전하', '자', 'thirty nine', '암', '그런', '말', '쓰실', '리가', '없지', '폭언', '해명', '됐넼', 'ixl', '저', '볼줄', '모르고', '볼', '시간', '없습니다', '시전', '하자', 'thirty nine', '암', '개통', '령', '바쁘신', '데', '당연히', '감시안하', '짘', 'ixl', '우리', '아들', '욕', '했어요', '시', '전하', '자', 'ixl', '암', '캡쳐', '본', '따위', '없어도', '개통', '령', '님', '말', '진리', '이니', '당연히', '메신저', 'six', '개월치', '동의', '없이', '검열', '해야', '짘', 'ixl'], ['애', '앞머리', '빨리', '돌려내라'], ['말씀', '정말', '잘', '하십니다', '조곤조곤', '조리', '있고', '설득', '력', '있게', '잘', '하시는', '빠져드는', '매력', '있네여'], ['강', '부부', '닮아서', '그', '런가', '강', '천지', '하나같이', '입', '험하네', '패', '드립', '부터', '시작', '해서', 'ㅋㅋ', '비슷한', '주파수', '끼리', '끌린다더니', 'ㅎㅎ', '성별', '갈라', '치기', '발언', '긁혀가지고', '눈뒤집혔', '나'], ['그냥', '잘', '보고', '있었는데', '뭔', '문제', '있었다는', '건가', '침착하게', '잘', '얘기', '하시네', '씨', '씨', '티비', '있었어야', '된다는', '거', '이해', '가고'], ['강', '형', '욱', '님', '응원'], ['강형욱', '레오', '안락사', '논란', '식약처', '문의', '결과', '마약', '류', '병원', '밖', '반출', '하는', '것', '대해', '금지', '규정', '없다', '즉', '옥상', '에서', '안락사', '것', '대해', '불법', '이라고', '주장', '하는건', '헛소리'], ['애기', '같아용', '넘', '귀엽', '사랑스러', '움', '포테킹', '치킨', '저', '생각', '보다', '너', '뮤', '느끼했던', '기억', '있는데', '먹는거', '보', '니까', '다시', '시켜', '보고', '싶은건', '무엇', 'ㅎㅎㅎ'], ['뉴진', '스랑', '비슷한', '안무', '만', '바꾸면되', '묻어', '버리', '기', '에는', '아깝다', '아이브', '제일', '좋아하는데', '민주', '원희', '예뻐서', '계속', '보게', '됨'], ['먹방', '또', '올려주세요'], ['강형욱', '쟈샇했으', '좋겠다', '빨리', '듸져', '라', '형욱', '아'], ['언니', '말', '하는', '스타일', '너무', '좋아서', '가끔', '일부러', '보는', '큐앤', '에이', '벌써', '언니', '알', '된지도', '7년', '째네여', '오랜', '만', '들어와서', '또', '매력', '빠지고', '돌아감니당', 'ㅎㅎ'], ['개', '쉬이', '감정', '없이', '안락사', '시키고', '이런', '사람', '개', '훈련', '자체', '못', '해요', '동물', '훈련', '말', '그대로', '식스센스', '있어야', '가능한', '분야', '개', '그냥', '단지', '미물', '취급', '했다면', '강형욱', '개통', '령', '될수도', '없었고', '그냥', '시골', '개', '장수', '정도', '되었겠죠', '다른', '논란', '몰라도', '개', '사랑', '한다는', '건', '진심', '이라고', '봅니다', '반면', '사상', '이상한', '직원', '쓰레기', '볼', '수도', '있겠지만', '그건', '누구', '라도', '충분히', '가능한', '감정', '이에요', '직장인', '라면', '집', '와서', '누군가', '하소연', '할', '때', '마음', '안', '드는', '직원', '얘기', '하잖아요', '강형욱', '처럼', '훈련사', '위치', '원칙', '주의자', '입장', '에선', '더하면', '더했지', '정도', '이해해', '야', '한다고', '봅니다', '오히려', '개', '한테', '원칙', '지키면서', '사람', '한테', '정치', '적', '이고', '유연하다면', '인간성', '의심', '더', '갔겠네요', '누구', '든', '직업병', '이란', '있습니다'], ['힘내세요', '오해', '갈등', '풀어시길', '진심', '기원'], ['요즘', '스트레스', '몇', '주', '동안', '잘', '못', '먹고', '식욕', '돌아오지를', '않는데', '거', '보고', '새벽', '스시', '주문', '했습니다', 'ㅎㅎ', '예', '몽', '님', '안지', '이틀', '됐지만', '영상', '보고', '있는', '동안', '감정', '소모', '스트레스', '예민해지고', '우울한', '기분', '없어지고', '차분해져요', '영상', '잘', '보고', '있어요', '감사합니다'], ['이만이천원', '짜리', '티셔츠', 'ㅋㅋㅋㅋㅋ', '무슨', '두루', '마리', '휴지', '두르고', '다녀야', '평민', '인가'], ['오랜', '만', '보는데', 'x', '빼셨네요', '대박', 'ㅎㅎ'], ['3. 64916', 'Due east', '+', 'eleven'], ['인생', '연예인', '전부', '한국', '아줌마', '화났다', 'ㅋㅋㅋㅋㅋㅋㅋㅋㅋㅋㅋㅋ'], ['사람', '한테', '뭘', '수저', '수저', '거려남', '경제', '수준', '평가', '하면서', '끼리', '토론', '하는거', '재밌나'], [], ['아니요', '강형욱', '님', '응원', '어떤', '회사', '든', '있구요', '각', '부서', '있습니다', '그리고', '있다고', '봐야', '하구요', '왜', '업무', '태만', '근무', '하는', '사람', '있을수도', '있구', '안전', '보호', '차', '있어야', '된다', '나도', '영업', '부', '인데', '어떤', '회사', '든', '있다', '얼마나', '편하면', '저런거를', '걸고', '넘어지면서', '세상', '편하게', '돈', '받으면서', '일해', '잘', '해주', '니깐', '한도', '끝', '없는네', '진짜', '들이', '돈', '꾸려서', '리쿠', '리팅', '하면서', '장사', '해봐', '세상', '편하니깐', '개념', '없네', '진짜', '내', '화', '딱지', '나네'], ['오늘', '부로', '아일릿', '대한', '마음', '접습니다', '또', '번', '더', '접습니다', '뒤', '펴서', '아이스크림', '접기', '또', '접습니다', '맞지', '막', '돌려서', '피', '하트', '완성'], ['한남', '소', '추', '살다', '살다', '듣도', '보도', '못', '욕', '같은', '직장', '동료', '며', '상사', '며', '조롱', '건', '그', '직원', '바닥', '인성', '보여주는건데', '거기', '다가', '자기', '잘', '못', '한건', '쏘', '옥', '빼고', '유명하니까', '너', '끌어내리겠', '다식', '너무', '악의', '적', '제보', '다른건', '이해', '가는데', '감시', '용이', '아니더라도', '상사', '목뒤', '에서', '입김', '부는', '거', '랑', '똑같은데', '그건', '강', '대표', '님'], ['고발', '자', '보면', '탈덕', '수', '용소', '대표', '떠오름', '생각', '하고', '살아라'], ['금수', '저', '댓글', '이나', '명품', '사는', '거', '나리', '질', '하는', '댓글', '남자', '여자', '상관없이', '지랄', '해대', '던데', '남자', '여자', '뭐라', '할게', '아니라', '그런', '댓글', '다는', '사람', '자체', '존나', '이해', '안되는거', '충고', '랍시고', '어쩌구저쩌구', '오지랖', '부리던데', '들이', '뭐라고', '그런', '소리', '아무', '생각', '없이', '내뱉는', '건지', '이해', '존나', '안됨', '대가리', '빈', '기', '집애', '이나', '사', '내', '새끼', '이나', '끼리끼리', '어울렸으면', '좋겠다'], ['뉴진스', '짝퉁', '맞네', '컨셉', '스타일', '노래', 'ㅋㅋㅋㅋㅋㅋㅋㅋ', '뭘', '아니라고', '씨부렁대'], ['똑소리', '나고', '멋있다'], ['응원'], ['어디', '까지나', '본인', '의견', '이고', '틀릴수도', '있음', '국가', '구', '쪽', '내', '잘', '모르는데', '미국인', '종', '사자', '이나', '전문', '사무직', '기준', '으론', '좋아', '보이진', '않음', '직원', '근무', '하는', '곳', '보', '니까', '자세', '교정', '허리', '편하게', '하는', '의자', '나', '책상', '아님', '사무실', '직원', '중', '쪽', '일', '하고', '장시간', '영상', '편집', '하는', '분', '있을텐데', '전혀', '그런', '분들', '배려', '하는', '의자', '아니었음', '그', '와중', '자세', '교정', '라는', '말', '안전', '문제', '아닌', '내', '보기', '싫으니까', '자세', '똑바로', '해', '라는', '흔한', '꼰', '대식', '트집', '보임', '진짜', '직원', '허리', '건강', '이나', '산재', '걱정', '돼서', '그러면', '애초', '의자', '책상', '좋은걸', '줬겠지', '이런', '트집', '외국', '에서는', '라고', '해서', '상사', '평가', '큰', '타격', '될', '수', '있음', '보통', '산재', '나', '도난', '문제', '관리', '차원', '라면', '스크린', '직원', '전신', '나오도록', '비추진', '않음', '특히', '외부', '출입', '할', '일이', '없는', '사무실', '에서는', '보통', '그렇다는건데', '왜', '저렇게', '설치', '했는지는', '내', '강형욱', '의도', '알', '길이', '없음'], ['그냥', '할수있는거', '하셨음', '좋겠네', '악의', '적', '그런거', '같은데'], ['정지영', '아나운서', '목소리', '톤', '되게', '비슷하다', '그래서', '더', '호감', '가는', '유튜버'], ['한별', '님', '유툽', '접', '얼마', '안', '됐지만', '마인드', '정말', '건강하신', '것', '같아요', '바르게', '생각', '하시는', '부분', '정말', '배울', '점', '많으신', '것', '같아요', '멋있으세요', '특히', '악플', '대해', '서는', '다시', '생각', '하게', '된', '것', '같아요', '무서워서', '피하', '아니라', '더러워서', '피', '생각', '했는데', '잘', '못', '된', '걸', '잘', '못', '됐다고', '해야', '한다는', '한별', '님', '생각', '듣고', '보니', '아차', '싶더라구요', '인종차별', '빗대서', '표현', '하신', '정말', '닿았네요', '멋있는', '마인드', '본받고', '싶습니다', 'ㅎㅎ', '앞', '자주', '영상', '찾아볼', '것', '같습니다', '더', '더욱', '승승장구', '하세요'], ['진짜', '현명하신', '분'], ['어디가', '뉴진스', '인지', '모르겠', '느낌', '다른데'], ['얼굴', '가리면', '뉴진스인줄', '알겠다'], ['레오', '고발장', 'ㅋㅋㅋㅋㅋㅋㅋㅈ', '됬', '누'], ['한남', '소', '추', '아들', '방패', '거', '전략', '이다', '자극', '적', '얘기', '꺼내면', '사람', '휘', '둘리', '기', '쉬우니까', '교묘하게', '남탓', '돌리고', 'ㅉㅉ', '추하다'], ['직원', '그냥', '개노답', '걍', '니', '얼굴', '까고', '나와서', '반박', '해'], ['아', '진짜', '질문', 'ㅋㅋㅋㅋㅋㅋㅋㅋㅋㅋ', '정말', '미룰만', '질문', '이네', '요', '어이', '없어서'], ['밤', '만쥬', '닮으셨어요'], ['가사', '누가', '씀', 'ㄹㅇ', '2024년', '들은', '노래', '중', '에서', '제일', 'ㅈ', '같음', '부분', '들으면', '손발', '오그라들다', '못', '해서', '없어짐'], ['원희'], ['아', '진짜', '우리', '한별', '님', '한테', '무례한', '말좀', '그만', '멈춰주세요', '상처', '받은', '마음', '영원히', '잊혀지지', '못', '하는데', '잊고', '신경', '쓰지', '않으려고', '노력', '하시는', '한별', '님', '모습', '볼때', '마다', '저', '너무', '속상해요', '제', 'terzetto', '자의', '입장', '에서만', '봐도', '그런', '무례한', '말', '보았을', '때', '가슴', '팍팍', '꽃', '히', '는데', '본인', '직접', '자신', '대한', '무례한', '말', '들었을', '때', '어떤', '수만', '가지', '기분', '들겠어요', '질문', '경우', '있게', '생각', '있다면', '생각', '하고', '댓', '달아주셨으면', '좋겠어요', '저', '앞', '한별', '님', '포함', '모든', '유튜버', '분', '에게', '댓글', '달때', '한번', '더', '읽고', '생각', '해보고', '달', '아', '보려구요', '그러니까', '여러분', '댓글', '달때', '제발', '우리', '생각', '하고', '댓', '답시'], ['맛있겠다'], ['오랜', '만', '언니', '영상', '보는데', '말씀', '너무', '잘', '하시고', '많이와', '닿았어요', '그동안', '많이', '속상하셨을것', '같고', '고민', '많이', '하시고', '영상', '올려주신것', '같은', '느낌', '들어요', '속상해하는', '사람', '에게', '예민하게', '굴지', '말라', '혹은', '그냥', '무시', '해라', '등', '얘기', '하지', '않는', '것', '잘못', '사람', '에게', '잘', '못', '했다고', '같이', '말', '해주는', '것', '중요하고', '명백한', '진리', '것', '같습니다', '한별', '언니', '화이팅'], ['ㅋㅋㅋㅋㅋㅋㅋㅋㅋㅋㅋㅋㅋㅋ'], ['동안', '영상', '틀', '잠들', '겠네여', 'zero', '긴', '영상', '넘', '넘', '감사합니다'], ['364915802620', '저', '거', '스타벅스', '에서', '제일', '좋아하는', '케이크', '에요', '진짜', '맛있어요'], ['바보', '만들면', '안건', '겠지', '뱀', '분들', '빼고'], ['생기다만', '여자애', '하나', '유', '튜버', '랍시고', '강', '대표', '까고', '있는데', '유튜브', '라는', '공간', '점점', '무능한', '사람', '가득해', '지고', '있다', '온갖', '들이', '육갑', '하는', '장소', '바뀐거다'], ['코디', '청순해지니까', '윤아', '진짜', '너무', '너무', '예쁘다', '키', '크고', '성숙해서', '청순', '컨셉', '진짜', '잘', '어울리는'], ['한가득'], ['남침', '방어', '했을', '뿐', '인데', '그걸', '두고', '북침', '이라', '주장', '하는', '좌익', '다를', '뭔가'], ['앞니', '로만', '씹는', '느낌', '저만', '그런', '가요'], ['혹시', '직원', '갑질', '하는', '세상', '일지', '직원', '말', '다는', '아닐수도', '있겠네요', '서로', '입장', '차이', '그리고', '진실', '이든', '거짓', '이든', '단합', '해서', '뭔가', '도모', '하면', '선의', '악의', '둔갑', '되는걸', '저', '직장인', '이지만', '많이', '봤습디다', '법적', '싸워서', '거짓', '있다면', '사회', '적', '일침', '가하세요', '갑', '횡포', '일반', '적', '이라고', '생각', '하지만', '요즘', '들의', '기적', '이고', '개인주의', '적', '성향', '야기', '되는', '파렴치', '요즘', '회사', '내', '에서', '대단히', '빈번', '답니'], ['아니', '어딜', '봐서', '뉴진스', '카피'], ['동물', '사랑', '하는', '사람', '거짓말', '하지', '않습니다'], ['말', '진짜', '조곤조곤', '너무', '잘', '하시네요', '원래', '긴건', '잘', '안', '보는데', '시간', '가는줄', '모르고', '봤어요', '진짜', '멋있으세요'], ['자꾸', '개통', '령', '회사', 'thirty nine', '애완동물', '종묘', '및', '보호', '서비스업', 'ixl', '이라', '직원', '동의', '없는', '설치', '필수', '라고', '하는', '소리', '개통', '령빠', '보이는데', '반려동물', '영업', '자', '설치', '의무', '영업', '군', '동물보호', '센터', '민간', '동물보호', '시설', '동물', '미용', '업', '동물', '운송업', '23427', '농림축산식품부', '개정', '보듬', '사무실', '내부', '해당', '없음', '팩트', 'ㅋ', '니', '좋아하는', '문', '재일', '평산', '책방', '놀랍게도', 'ixl', '애완동물', '종묘', '및', '보호', '서비스업', 'ixl', '이었는데', '거기', '필수', '겠다', 'ㅋㅋ', '어휴', '머절', 'ㅋ'], ['그나저나', '국민', '여러분', '께', '당부', '말씀', '올립니다', '개는', '밖', '에서', '키웁시다', '밖', '에다', '개집', '마련', '해줄', '능력', '안된다면', '개', '키워', '서는', '안됩니다', '개', '나', '자동차', '나', '똑같은', '이치'], ['근데', '금수', '저', '라는', '댓글', '현명하게', '대처', '하시는', '한별', '님', '멋', '잇어여', '그런', '생각', '해본', '적도', '없고', '그냥', '조용히', '조회', '수만', '올리는', '구', '독자', '인데', '한별', '님', '말', '예쁘게', '잘', '하신다고', '항상', '생각', '해왔어요', '처음', '댓글', '남겨', '욥', '항상', '응원', '하고', '있는', '팬', '있다는것도', '생각', '해주세요', '너무', '속상해하지', '말았으면', '좋겟네요', '화이팅'], ['복', '스럽게', '드시네요'], ['혹시', '썸네일', '무슨', '멤버', '인가요', '아무리', '봐도', '헷갈려요'], ['잔치국수', '김치전', '진짜', '맛', '잇겟다'], ['언니', '진짜', '뜬금', '없지만', '영상', '에서', '입고', '있는', '옷', '어디서', '사셨나요', '제', '고민', '중', '였던', '옷', '인데', '같은', '옷', '사려구요', '어디', '건지', '알려주세요', '젭알', '요', '영상', '관련', '없는', '말', '해서', '죄송해요'], ['오오', '옹', '한별', '님', '얘기', '들으니깐', '스페인', '여행', '가보고', '싶네용', '한별', '님', '사랑', '빠질만큼', '이뻤던', '스페인', '궁금하네용', 'ㅋㅋㅋ'], ['항상', '영상', '너무', '잘', '보고', '있습니다', '.', '구독', '누르고', '가요', '!'], ['애매하다'], ['립싱크', '작작해라'], ['이렇게', '댓글', '첨', '다는데요', '한별', '님', '넘', '넘', '너머', '너머', '넘', '넘', '이쁘구', '영혼', '깨끗해지는', '기분', '이에요', '목소리', '이쁘구', '안', '이쁜게', '없음'], ['부러워서', '남', '자기', '보다', '잘나면', '배아', '파서', '욕', '하는', '놈', 'ㅉ'], ['강', '형', '욱씨개훌룡', '에서', '교체', '하고', '다른', '훈련사', '온', '다한', '그', '자리', '채워질', '까', '강', '형', '욱', '씨', '대신', '할', '사람', '없다', '개', '훌룡', '보는것도', '그렇', '고개', '훌룡', '재방', '보는데', '역쉬', '최고', '멋지다', '강', '형', '욱', '씨', '지금', '시련', '이겨내', '고개', '훌룡', '에서', '꼬옥', '만나자구', '엽기', '다릴게', '께', '요', '건강', '잘', '챙기세요'], ['애초', '물의', '일으킨게', '그냥', '아니꼽게', '본', '사람', '구런거', '같아서', '조용히', '넘어가도', '인정'], ['아침', '공복', '부터', '쥬스', '케이크', '도너츠', '넘', '당', '높고', '헤비', '하긴'], ['6601100', '일단', '그', '쪽', '여친', '될', '생각', 'ace', '없으니까', '김칫국', '드링킹', '노노'], ['그래서', '전', '직원', '주장', '했었던', '강형욱', '폭언', '녹취록', '빨리', '들어', '보고', '싶은데', '전', '직원', '언제', '쯤', '공개', '하려나요', '참', '한쪽', '전', '직원', '주장', '만', '무조건', '신뢰', '하는', '분', '계시니', '정말로', '안타깝습니다', '이래서', '양쪽', '주장', '들어', '봐야', '됩니다', '강', '형', '욱', '훈련사', '님', '계속', '활동', '해주셨으면', '좋겠습니다', '그럼', '항상', '건강하시고', '화이팅', '하세요', '구독', '누르고', '갑니다'], ['무고죄', '꼭', '고소하셨으면', '좋겠다'], ['자칭', '피해자', '라는', '사람', 'x', '명', '아니라', 'k', '명', '되더라도', '사회', '적', '물의', '일으킬만', '수준', '이르는', '사안', '아니라고', '말귀', '못', '알아듣나'], ['흠', '녹취록', '있긴', '건가', '감감', '무소식', '이네'], ['못', '되어', '먹은', '폭로', '문화', '그리고', '여론', '몰이', '문화', '때문', '지난날', '위컴', '사령관', '으로부터', '들쥐', '떼', '라는', '지적', '받았던', '것', '이다', '단', '하루', '라도', '사람', '답', '살아가자'], ['ㅈㄴ', '중독', '성', '지림'], ['아니', 'ㅋㅋㅋㅋㅋㅋㅋㅋㅋㅋ', '스스로', '산거부터', '정말', '멋있는데', '근데', '설사', '부모님', '사주신거라', '해도', '들이', '먼', '상관', '이야', '그냥', '능력', '되서', '저', '정도', '야', '얼마', '든지', '해', '주실', '수', '있어서', '해주시는거지', 'ㅋㅋㅋㅋㅋㅋㅋㅋㅋㅋㅋㅋㅋㅋㅋㅋㅋㅋㅋㅋㅋㅋㅋ', '졸', '부든', '갑부', '든', '니', '뭔', '상관', '이야', '알아서', '형편', '안', '에서', '본인', '쓸', '수', '있는만큼', '쓰는거야', '금수', '저', '나발', '이고', '진짜', '남', '한테', '레이블', '붙이는거', '무례한', '짓인데도', '서스름', '없이', '하는', '내', '여친', '안', '그래서', '다행', '이다', '할', '많하', '않', '여친', '있는거도', '구라', '같음', '상상', '여', '친일'], ['민주', '야', '혼자', '세탁기', '돌리느라', '고생', '많다', '젤', '이쁨'], ['한국', '와서', '친척', '집', '있었던', '자체', '부모님', '도움', '인한', '경제', '지원이', '라면', '지원이', '아닌지요', '지원', '안', '받은', '척', '굉장히', '모순', '적', '자취', '하게', '된', '거도', '모호하게', '말씀', '하시네요'], ['아예', '몰카', '라고', '하지', '그러냐', '라고', '언급', '하면서', '왜', '설치', '하냐고', '말', '이냐', '막걸리', '냐'], ['저런', '여자', '안', '만나야겠다', '내', '여자친구', '안', '저', '래서', '다행', '이다', '라니', '한별', '님', '사절', '거덩', '요', '답변', '하는', '한별', '님', '표정', '내', '표정', '글', '한별', '님', '말씀', '대로', '본인', '샀든', '남친', '사줬든', '부모', '사줬든', '무슨', '상관', '돈', '있으면', '그', '만큼', '소비', '해도', '되는거', '아닌가요', '경제', '경자', '모르는', '사람', '지랄', '들이군요', '절레'], ['사람', '배고픈건', '참아도', '배', '아픈건', '못', '참는다더니', '의적', '악의', '적', '배아', '파서', '질투', '심', '달', '댓글', '많다는걸', '또', '한번', '느끼', '융', 'ㅋㅋㅋㅋ', '그나저나', '한님', '말씀', '정말', '잘', '하시네요', '제', '스탈', '이세', '요'], ['개', '밖', '에서', '안락사', '시킨', '수의사', '고소', '당함'], ['꾸', '넘', '사다'], ['사이비', '만든', '아이돌', '인데', '얘', '사이비', '겠지'], ['거', '제발', '지우지', '말아주세요', '제', '최애', '영', '상임'], ['힘내세요'], ['부럽긴', '하네', '요', '어', '렷', '때', '부터', '캐나다', '유럽', '여행', '네덜란드'], ['모카', '이쁘다'], ['몇', '년생', '세용'], ['우와', '백', '조', '비유', '너', '어', '무', '신선', '햇', '어', '요', '좋네요'], ['말', '글', '그', '사람', '얼굴', '나타낸다는', '말', '있죠', '영상', '댓글', '보니', '정말', '이라는', '생각', '듭니다선', '사람', '부드럽고', '매력', '적이죠'], ['전', '직원', '왜', '형사고소', '안함', '계속', '언론플레이', '만', '하고'], ['견종백', '개스트쇼', '다시', '보고싶어요', '힘내시고', '꼭', '이겨내세요'], ['뉴스', '냐', '렉카', '냐'], ['왜', '이리', '예쁘세요', '흐', '엉'], ['보고싶다'], ['힘내시고', '당당하게', '밝혀서', '다시', '밝은', '모습', '대중', '나와주세요'], ['아', '영상', '해명', '끝난', '느낌', '이다'], ['강', '형', '욱', '님', '분명히', '뭔가', '오해', '있을', '거', '라', '생각', '했고', '그러길', '바랬습니', '그리고', '해명', '듣고나니', '안심', '됩니다', '이번', '일로', '상처', '많이', '받으셨을테고', '억울한', '부분', '많으실텐데', '무너지지', '마시고', '꼭', '회복하셔서', '방송', '에서', '다시', '볼', '수', '있길', '바', '래', '요', '진심', '응원'], ['뉴진스', '문제', '물러나는건', '그냥', '안타까운', '일', '인데', '얘데', '판지', '건', '도저히', '못', '봐주겠다'], ['오늘', '부러', '구독', '하고', '좋아요', '누르고', '갑니다', '앞', '으로도', '좋은', '일', '많이', '하시고', '돈', '많이', '버세', '요'], ['명품', '하울', '욕', '많이', '했지요', 'ㅋㅋ', '지나고', '보니', '자격지심', '이었어요', '말씀', '잘', '하시고', '영상', '잘', '보고', '있습니다', '조용히', '응원', '할게요'], ['정말', '걱정', '되어', '남겨요', '몸', '생각', '하면서', '음식', '조절', '하세요', '건강검진', '받아', '보시구요'], ['아일릿', '긁히는', '애', '많은', '가보네', 'ㅋㅋㅋㅋㅋ', '누가', '그렇게', '긁혔', '나', 'ㅋㅋ'], ['지금', '이라도', '말', '왕', '막아', '야한다', '원본', '춤', '어색하게', '보임'], ['매', '버', '타입', '사람', '있네요'], ['그래서', '사업', '하기', '힘들구나', '느꼈네요', '사업', '하면', '거의', '대표', '욕', '받이로', '받게', '되죠', '레오', '간호', '하느라', '돌봐주느라', '고생', '많으셨습니다', '레오', '강', '훈련사', '님', '마음', '잘', '알꺼예요', '얼마나', '그', '마음', '착잡했을지', '얼마나', '슬펐을지', '저', '예전', '이뿐', '강쥐', '마리', '안락사', '보낸', '견', '주입', '니', '지금', '유기견', '출신', '이뿐', '푸', '믹스', '마리', '사랑', '이를', '키우고', '있어요', '하여튼', '힘내시고', '응원', '할께요'], ['힘내세요', '그', '자리', '얼마나', '힘든지요'], ['앵콜', '라이브', '하고', '차이'], ['뉴진', '스랑', '똑같네', '완전', '긴', '생머리', '부터', '노래', '까지'], ['먹방', '예몽', '이랑', '햄찌', '님', '최고', '다른', '먹방', '예쁘게', '플레이', '팅', '하고', '예쁜', '조명', '함께', '먹어서', '봐도', '별로', '먹고싶은', '생각', '안', '드는데', '예몽', '너무', '현실', '적', '먹방', '이라', '더', '맛있어', '보임'], ['정말', '이상한', '사람', '엄청', '많네요', '저', '다른', '일반', '적', '인거', '말고', '정말', '자기', '취향', '대로', '구매', '하고', '보여주시는거에', '너무', '만족하고', '있어요', '저', '하울', '님', '하고', '취향', '비', '스무', '래', '하기도', '하고', '남', '눈치', '보느라', '정작', '제', '가원', '하는거', '구매', '못', '할', '때', '많아서', '너무', '너무', '대리', '만족하고', '있습니다', '그리고', '예쁘신', '거인', '상', '좋으셔서', '정말', '재밌게', '보고있어요', '너무', '너무', '응원', 'ㅎ', '금수', '저니', '뭐', '니', '대체', '그런거', '왜', '궁금해', '하는지', '조차', '정말', '이해', '안되긴', '하네요', 'ㅋㅋ'], ['도그', '펫', '안', '좋아하는', '나도', '방송', '보면서', '이분', '개', '대에', '진심', '이구나', '싶던데', '이런', '말', '안', '되는', 'ㅉㅉ', '이럴', '때', '그냥', '버티기', '하시면', '그러다', '보면', '지나가고', '또', '살아지고', '더', '좋아질수도', '있고요', '두', '분', '부디', '힘내시길'], ['내', '여친', '저러지', '않아서', '다행', '이다', '라고', '말', '하는', '놈', '여친', '님', '너무', '불쌍해', '도망가세요'], ['요즘', '영상', '많이', '올라와서', '넘', '기뻐요', '오늘', '잘', '볼게요'], ['패션', '하울', '보다', '보니', '관련', '영상', '영상', '떠서', '보게', '됐는데', '패션', '하울', '영상', '볼때', '느꼇', '말', '정말', '잘', '하시는듯', '생각', '하시는', '것', '확실하시고', '멋있으세요'], ['스페인', '가고싶다고', '했다고', '바로', '이민', '갈', '수', '있는', '집안', '부럽다'], ['솔직히', 'ㅎㅎ', '노래', '정말', '좋다'], ['김풍', '마', '그네', '틱', '보고왔', '읍니'], ['어쩌다가', '보게되', '서', '정', '주행', '싹', '했는데', '매', '영상', '마다', '왜케', '이리', '귀여울수가', '있어요'], ['뉴진스', '묻어', '버리면', '너', '원조', '되는거다', '가즈', '아'], ['사랑', '해요', '사랑', '해', '그냥', '영상', '보는데', '사랑스럽구', '표현', '해주고', '싶어서', '남겨요', '그런', '사람', '있잖아요', '보고', '만', '있어도', '사랑스럽고', '기분', '좋아지는', '저', '한테', '그런', '사람', '예', '몽', '님', '인가', '봅니다', '보고', '있으면', '마음', '따듯', '해져요', '세상', '찬', '바람', '시렵', '아픈', '날', '있더라도', '예', '몽', '님', '사랑', '하는', '사람', '예', '몽', '님', '보고', '하루', '위로', '받는다는', '것', '떠올리시며', '예', '몽', '님', '하고', '싶은', '것', '건강하게', '오래', '이루시길', '바라며', '많이', '웃고', '많이', '행복하세요'], ['아일릿', '큐큐', '큐', '노래', '언니', '성은', '만', '음속', '있어요'], ['원래', '몸매', '가꾸는건', '식단', 'eighty', '퍼센트', '운동', 'twenty', '퍼센트', '인데', '조절', '잘', '하셨음', '좋겠네'], ['진실', '외면', '하지', '않아', '요강', '대표', '부부', '님', '지금', '몸', '맘', '힘들시겠지만', '시간', '지나면', '상처', '아픔', '바람', '처럼', '지나갈', '껴에요', '이번', '사건', '인해서', '비방', '억측', '허위', '폭로', '악플', '등', '범죄', '라는', '거', '무서운거라는', '거', '깨닫게', '해줘야', '됩니다'], ['저렇게', '먹고', '싶은거', '먹어주고', '감량', '천천히', '하고', '있고', '아직', '어리신', '거', '같은데', '조금', '씩', '이라도', '뺴면', '서', '몇', '년', '걸리더라도', '목표', '하고자', '하는', '바를', '이루셨으면', '좋겠네요'], ['한별', '님', '자체', '멋있다는걸', '인정', '하기', '싫어하는', '사람', '많은', '가보네요'], ['좋기만', '하고만'], ['천천히', '먹는거', '넘나', '기특하고', '이뿜', 'ㅋㅋㅋㅋㅋ'], ['난', '처음', '부터', '형욱님', '믿었음'], ['서준', '628', '사람', '악의', '적', '끝', '없이', '악플', '답니', '잘', '기억', '해', '두길', '바랍니다'], ['언니', '배고파졌어요'], [], ['점점', '어울리는', '스타일', '찾아가시는듯', '으', '른', '스러워', '짐'], ['영', '상보', '니까', '2016', '2017년', '사건', '인데', '그게', '언제', '야', '7년', '전이네', 'ㅋㅋㅋ', '징', '진짜', '이래서', '사', '람보', '눈', '중요합니다', 'ㅋㅋ', '직원', '그만두고', '환불', '많이', '일어나니까', '게다가', '30일', '그만두면', '계산', '처리', '빠른데', '중간', '15일', '그만뒀으니', '환불', '처리', '금액', '제외', '하고', '날짜', '계산', '하고', '등등', '등', '계산', '복잡해지니', '그거', '직원', '에게', '연락', '해서', '서', '로간', '계산', '끝내면', '되는데', '전화', '안', '받고', '그냥', '다이렉트', '노동청', '신고', '해', '버림', 'ㅋㅋㅋㅋㅋㅋㅋㅋㅋㅋㅋㅋㅋㅋㅋㅋ', '아니', '신고', '하기', '전', '에라도', '같이', '계산', '해볼', '수', '있잖아', '암튼', '골치', '아프다', 'ㅋㅋㅋ', '서로', '같이', '계산', '하기는', '힘들고', '노동청', '신고', '빠르고', 'ㅋㅋㅋ', '결국', '600만원', '넘게', '받았으면', '대충', '퉁', '치고', '넘어갈', '법', '데', 'ㅋㅋㅋ', '그건', '7년', '넘도록', '마음', '담아주고', '복수', 'ㅋㅋㅋㅋ', '아이고나', '이래서', '공', '주님', '모', '시기', '힘들어', 'ㅋㅋㅋ'], ['화이팅', '응원', '합니당', '나중', '엔', '건강', '식', '위주', '먹방', '보고', '싶어요', 'ㅎㅎ'], ['thirty nine'], ['힘내세요'], ['모든', '유투', '버들', '통틀어', '서', '속', '시원하게', '사이다', '대변인', '해준거', '같아요', '짱', '이래서', '내', '언니', '채널', '본다니깐'], ['한별', '님', '가치관', '이랑', '멘탈', '너무', '좋으신', '거', '같고', '말', '조', '근', '조', '근', '잘', '하시네요', '너무', '좋아요', '영상', '잘', '봤습니다', '앞', '으로도', '화이팅', '하세용'], ['ㅋㅋㅋ', '처음', '머리', '땋', '거', '몽골', '학생', '같아요', 'ㅋㅋ'], ['역시', '양쪽', '이야기', '들어', '봐야하네요', '요즘', '공격', '적', '이고', '피해망상', '적', '이고', '기적', '성향', '많은', '사람', '남', '헐뜯기', '바쁘고', '본인', '업', '돌아가기', '때문', '다음생', '더', '크게', '벌', '받습니다', '물타', '기용', '언론', '공격', '인지', '비슷한', '댓글', '도배', '되고', '획일', '화', '된', '세상', '에서', '조금', '더', '깨어있는', '사람', '믿고계셨을', '겁니다', '또한', '잘', '지나가실거라', '믿습니다', '힘내세요'], ['이번', '소란', '주', '범', '누가', '뭐라', '해도', '언론', '언론', '이다'], ['왜', '앞니', '만', '쓰나요'], ['ixl', 'thirty nine'], ['너무', '이쁘다'], ['고발', '건', '이슈', '또', '방치', '니', '어쩌', '니', '마녀사냥', '난리', '났네요', '잘', '모르면서', '본인', '들일', '아니라고', '누구', '하나', '죽여야', '끝나겠구나', '출장', '서', '하는게', '불법', '맞다면', '맞는거지요', '사연', '딱하다', '해서', '예외', '없는거겠죠', '그냥', '레오', '강', '훈련사', '님', '안쓰럽네요', '안락사', '선택', '하기까지', '그', '고뇌', '알겠', '고요', '잘', '해결', '되고', '마무리', '되길', '바랄', '뿐'], ['밥', '먹을', '때', '음식', '보이', '먹어', '주심', '안될까', '여'], ['이제', '곧', '3만', '명인데', '큐', '엔', '에이', '해주세용'], ['역시', '별', '언니', '멋지당'], ['이건', '프로듀서', '훌륭한거다'], ['앞니', '음식', '씹으면', '치아', '건강', '안좋아요', '어금니', '씹으세용'], ['다른', '걸', '떠나서', '자존감', '꺽', '이지', '않게', '해주는', '엄마', '있는게', '부럽네요', '저희', '엄마', '딸', '아무리', '괜찮아도', '단점', '만', '콕', '집어', '일', '깨워주며', '다운', '되게', '하시거든요', '그럴', '때', '마다', '진짜', '엄청', '자존감', '낮아집니다'], ['큰', '도움', '됩니다', '계속', '활동', '하셔야', '힘내세요', '항상', '응원'], ['그래서', '왜', '무고죄', '고소', '안함'], ['그래도', '졸업장', '받는것이', '좋지', '그', '전', '햇', '는데'], ['항상', '예', '몽', '님', '긴', '영상', '끝', '까지', '보게되', '용', '너무', '재밌어용'], ['생각', '깊은', '분', '이라는', '것', '다시', '느끼고', '갑니다', '힘내세요'], ['예', '몽', '님', '빅사', '이즈', '쇼핑몰', '리뷰', '같은', '것', '해주시', '좋을', '것', '같아요', '늘', '영상', '잘', '보고', '있습니다', '항상', '밝은', '모습', '너무', '귀엽고', '감사합니다'], ['이런', '영상', '왜', '싫어', '요가', '달리는지', '이해', '안되는데', '니', '궁금해하고', '니', '물어봤잖아', '영상', '까지', '올려줬는데', '싫어요', '누르는', '얘', '이해', '안된다'], ['진짜', '너무', '맛있게', '드시는', '예', '몽', '님'], ['진실된', '모습', '더', '안타깝습니다', '여러', '사람', '있죠', '힘', '되는', '사람', '있지만', '아닌', '사람', '있네요', '힘', '되는', '사람', '주변', '많으시길', '바랍니다', '힘내세요'], ['누가', '봐도', '너무', '무례하거나', '과격한', '뉘앙스', '뎃글은', '아마', '짐작', '하고', '계신', '그런', '부류', '커뮤', '에서', '활동', '하는', '사람', '달러', '온거', '맞을거예요', '그런', '사람', '뎃', '진짜', '보기', '만', '해도', '기', '저절로', '빨리', '죠'], ['강형욱', '대표', '님', '더', '이상', '모함', '하지', '마라', '대표', '님', '힘내세요', '세상', '참', '무서워요', '글', '분노합니다'], ['춤', '진짜', 'ㅈㄴ', '기괴하네', 'ㅋㅋㅋ', '저', '좋다고'], ['삼자', '대면', 'ㄱㄱ', '안', '나오겠지', 'ㅋㅋㅋㅋㅋ'], ['것', '초딩', '용도', '아니고', '미취', '학', '아', '동', '용인'], ['평소', '도전', '해보고', '못', '스타일', '입어보고', '싶었는데', '뭘', '입어야', '할지', '몰라', '고민', '했는데', '...', '진짜', '코디', '이뻐요', '꼭', '저', '코디', '입어볼거에요', '킼킼'], ['썸넬', '민주', '보고', '달려왔다'], ['예', '몽', '님', '긴', '영상', '감사해요', '스킵', '한번', '안', '하고', '쭉', '봤어요', '꿀잼', '근데', '이번', '영상', '에서는', '건강', '걱정', '관련', '댓글', '많네요', '짜증나시겠지만', '그래두', '예', '몽', '님', '건강하게', '오래오래', '유튜브', '해주셨으면', '해서', '말씀', '하신거', '일거에요', '건강검진', '컨텐츠', '올리셔도', '좋을', '것', '같아요', '응원'], ['금수', '저', '든', '아닌듯', '신경', '끄고', '본인', '이나', '잘', '하시길'], ['영상', '싫어요', '사람', '그', '남', '인가'], ['말', '진짜', '잘', '하신다', '멋', '지심'], ['본인', '귀엽게', '생긴거', '알고있죠'], ['개그맨', '이수지', '닮았네'], ['별', '유', '튜버', '님', '응원', '해요', '보통', '사람', '월급', '받으며', '사는', '사람', '에게는', '몇', '천만원', '일', '년', '봉급', '인데', '어린나이에', '그런', '걸', '시즌', '명품', '백', '사니', '감히', '상상', '이안', '가서', '그럴것', '같아요', '근데', '한별', '님', '부모님', '가르침', '받아서', '유튜버', '크게', '자꾸', '번창', '하시는건데', '사람', '그냥', '쇼핑', '해서', '하울', '찍', '는걸', '아는것', '같아요', '것', '마치', '하나', '사업', '같은건데', '저', '알바생', '이지만', '정말', '편의점', '이나', '커피숍', '하나', '해도', '어마', '무시', '힘들고', '진짜', '투자', '하면', '할수록', '돈', '더', '들어오는건', '사실', '이고', '물론', '리스크', '상대', '적', '크기', '때문', '더', '노력', '해야하고', '더', '배워', '야하는거죠', '그래서', '한별', '님', '하울', '더', '크게', '해서', '영상', '퀄리티', '높이', '되고', '그러다', '보니', '또', '더', '큰', '돈', '벌고', '더', '큰하울이나', '다른', '영상', '찍는건데', '보통', '월급쟁이', '일하면', '그냥', '매달', '월급', '받고', '세이브', '하고', '이렇기', '때문', '사업', '시장', '잘', '몰라서', '그냥', '부모', '등꼴', '빼먹는다', '남친', '등꼴', '빼먹는다', '이런거겠죠', '한별', '님', '정말', '수', '안도', '대단하시고', '노력', '파', '이신', '것', '같아요', '보이는', '사람', '있어요', '힘내세요'], ['말투', '나', '생각', '하시는', '모든', '것', '정말', '제', '스타일', '영상', '쭉', '봤어용', '멋있으세요', '채널', '구독', '잘안하게', '되는', '편', '인데', '한별', '님', '채널', '구독', '하고', '갑니당', '앞', '으로도', '좋은', '영상', '기대할게요', '화이팅'], ['언니', '마인드', '너무', '좋네요'], ['젠더', '이슈', '물', '타기', '아들', '방패', '즙', '짜기', 'ㅋㅋㅋ', '크', '지려', '버렸다', '갑자기', '눈물', '각', '잡', '다가', '그', '이크', '흐흐', '흨', '이러면서', '있는', '즙', '없는', '즙', '짜', '버리네', 'ㅋㅋㅋㅋㅋㅋ'], ['앞니', '씹는', '소리', '너무', '별루', '에요', '어금니', '씹어', '드셔', '주세여'], ['모아', '보니', '더', '은혜', '롭다', '지치지도', '않고', '이쁨'], ['늦은', '저녁', '지금', '호랑이', '시리얼', '먹고', '있는데', '판단', '미스', '였다'], ['타고난', '이목구비', '예뻐요', '절대', '못', '생긴', '얼굴', '아닙니다', '코', '성형', '안해', '되는', '코고', '요', '코', '수술', '같은건', '답', '없어요'], ['영상', '긴거', '너무', '조아', '요긴', '영상', '자주', '올려주세요'], ['이렇게', '예쁘고', '대답', '똑', '부러지게', '하시다니', '갖춘', '한별', '님', '답변', '너무', '공감', '되구요', '악플', '대한', '의견', '더', '더욱', '맞는', '말씀', '이라', '생각', '해요'], ['맛있는', '사료', '한번', '준', '적', '없는', '것', '레오', '레오', '거리', '꼴', '이란', '그렇게', '개', '끔찍히', '생각', '하는', '사람', '여름', '휴가', '철', '여기', '저기', '개', '버리고', '다니나', '2022년', '한해', '동안', '발생', '유기견', '자그마치', '113', '440', '마리나', '된다'], ['힘내세요'], ['잘', '못', '한것이', '있으면', '사과', '하고', '그', '합당', '벌', '받으라는', '가르침', '부모', '한테', '못', '배우고', '자랐냐', '형욱', '아', 'ㅋㅋㅋ', '누가', '배운거', '없는', '개', '장수', '아들', '아니', '랄', '까', '봐', 'ㅉㅉㅉ', '지금', '이라도', '배웠으면', '피해자', '한테', '사죄', '하고', '합당', '벌', '받고', '다시는', '티비', '얼굴', '비추지', '말어라'], ['휴'], ['실제', '업주', '시', '시', '티비', '자주', '보긴하는데', 'ㅋㅋㅋ', '사람', '유명해져서', '이런게', '논란', '되는거지', '중소기업', '만', '봐도', '시', '시', '티비', '뭐', '하는지', '봄', '심지어', '화질', '좋음'], ['몇', '백', '개중', '하나', '라도', '달리', '신경', '쓰이는게', '사람인', '지라', '신경', '쓰이시겠지만', '응원', '하는', '사람', '더더', '더더', '많다는걸', '아시리라', '믿습니다', '저', '항상', '응원', '해', '요'], ['전', '예', '몽', '님', '처럼', '조곤조곤하게', '먹는게', '좋아요', '진짜'], ['원희', '좋다'], ['내', '여자친구', '아니여서', '다행', '이다', '라고', '하시는', '분들', '진짜', '여자친구', '있기나', '할까'], ['예쁜거', '시켜주는', '얼굴', '케이팝'], ['실화', '냐'], ['6211021', '진심', '뭔', '상관', '자기', '들이', 'ㅋㅋㅋ'], ['설마', '했는데', '역시', '형욱님', '그럴', '분', '아니죠', '응원', '세', '직원', '꼭', '고소하시길', '빕니다'], ['잘못', '저질렀으면', '벌', '받어라', 'ㅋㅋ', '거', '뭐', '일', '본', '놈', '같은', '놈', '이네', '강형욱', 'ㅋㅋ', '안', '했다고', '발뺌', '만', '하고', '있네', 'ㅋㅋ'], ['누가', '배운거', '없는', '개', '장수', '아들', '아니', '랄', '까', '봐', 'ㅋㅋㅋ', '잘못', '했으면', '용서', '구', '하고', '벌', '받아라', '그런건', '니', '부모', '안', '가르쳐', '줬냐', 'ㅋㅋ', '누가', '배운거', '없는', '개', '장수', '부모', '아니', '랄', '까', '봐', 'ㅋㅋㅋ'], ['현재', '아이돌', '노래', '못', '한다고', '욕먹고있는', '상황', '인데', '어쩌', '냐', '외모', '보고', '뽑는건데'], ['한국', '이중국적', '안되는데', '그러면', '스페인국', '적', '건가', '요', '그럼', '한국', '올', '때', '비자', '그', '걸', '해서', '오셔서', '사니', '느', '건가', '여', '궁금해', '영'], ['36499541554', '도넛', '364915302530', '스타벅스', '카스테라', '364919583238', '치킨'], ['이만이천원', '일반인', '많이', '살수', '일는데', '그리고', '패션', '뷰티', '유투', '버들', '보통', '중산층', '된다고', '그러더라구요', '부모님', '외교관', '거나', '큰', '사업', '하시거나', '그런', '경우', '금수', '저', '그냥', '티비', '에나', '오는', '재벌', 'two', '세겠구', '그냥', '중산층', '생각', '하는게', '맞는거', '같아용'], ['예몽밈', '마라', '탕', '드셔주세요', '넘', '귀여우세요'], ['외모', '구멍', '없다'], ['일본', '자신', '잘못', '안', '했다고', '발뺌', '하고', '변명', '하는거', '너', '한테', '배워야', '할꺼', '같다', '형욱', '아', 'ㅋㅋㅋㅋㅋㅋ'], ['웃기', '마라', '강형욱'], ['금수', '저가', '무조건', '깎아', '내리려고', '하는말은', '또', '아니니까', '그', '말', '넘', '스트레스', '안', '받아도', '될것', '같아요', '그냥', '언', '니', '말', '대로', '좋은', '의미', '받아들이시는', '좋을', '것', '같아요'], ['환멸', '한별', '님', '얘기', '듣고만', '있는데도', '스트레스', '뭘', '하든', '걍', '냅', '둬라'], ['개훌륭', '다시', '해주세요'], ['어제', '옾챗', '에서', '실시간', '쳐', '맞던', '서준', '어록', 'one', '지능', '딸린건', '내', '아니라', '강씨', '알바인', '니', '이다', 'ii', '백수', '인게', '아니라', '취업', '할', '생각', '없는', '것', '이다', 'triad', '니', '욕', '해봐야', '아무', '타격', '없다', 'iv', '니', '이랑', '말', '안함'], ['성격', '너무', '좋아', '보여요', '배우', '박지현', '님', '느낌', '나', '시공'], ['근데', '레오', '바닥', '뭐라도', '깔아', '놔주지'], ['thirty nine', 'thirty nine'], ['이웃', '일본', '에서는', '도저히', '찾아볼', '수', '없는', '저급한', '폭로', '문화', '빨리', '사라져야', '미개한', '중국', '에서도', '이런', '폭로', '문화', '존재', '하지', '않는다'], ['역시', '꿀', '조합', '잘', '아는', '녜몽님'], ['다른', '사건', '뉴스', '에서', '녹취', '공개', '해주는데', '어째서', '녹취있다', '분', '공개', '안', '하는지', '껄껄', '껄'], ['한별', '님', '영상', '속', '니트', '티', '찾으려고', '정보', '란', '주소', '누르면', '자꾸', '오류', '나길래', '직접', '사이트', '들어가서', '찾아봐도', '무슨', '옷', '인지', '안', '보이네요', '알려주실', '수', '없을까요'], ['이언', '니', '너무', '멋있어'], ['요즘', '없는데가', '어디', '있다고', '강', '형', '욱', '님', '너무', '휘', '둘리', '마시고', '힘내세요', '응원'], ['근데', '볼수도', '있는거', '아니냐', 'ㅋㅋ'], ['개', '이쁘네'], ['상콤'], ['그', '와중', '넘', '예뽀', '언닌', '흑발', '예뿌', '컬러', '있어도', '예뿌', '말', '잘', '해요', '분명', '기분', '좋은', '해피해피', '내용', '영상', '아니지만', '그래도', '친구', '랑', '수다', '떠는', '느낌', '이라', '힐링', '해요'], ['진짜', '말', '되게', '되게', '예쁘게', '친절하게', '말', '하셔서', '듣기', '좋고', '왜', '그', '래야', '하는지를', '알려주는', '영상', '인거', '같아서', '볼때', '마다', '여러', '생각', '들고', '아', '그러지', '말아야지', '하는', '마름', '드네', '요'], ['위안부', '피해자', '증언', '해도', '사실', '아니라고', '잡아', '때', '일본', '이냐', '니', '강형욱', '아', 'ㅋㅋㅋㅋㅋㅋㅋ', '잘', '못', '했으면', '벌', '받어라', '강형욱', '아'], ['ㅋㅋㅋㅋㅋㅋㅋㅋㅋㅋㅋㅋㅋ', '영상', '초반', 'ㅋㅋㅋㅋ', '머리', '뭔가', '웃기', 'ㅎㅎㅋㅋㄱㅋㅋㅋㅋ', 'ㅋㅋㅋ'], ['열등감', '덩어리', '서준', 'ㅋㅋㅋㅋ', '강형욱', '싫다면서', '꾸역꾸역', '여기', '들어와서', '악플', '도배', '함', 'ㅋㅋㅋㅋㅋ'], ['목소리', '힐링', '되는거', '같아', '좋아요'], ['6551055', '자기', '여자친구', '저러지', '않아서', '다행', '이다', '그럴', '능력', '없어요', '그런', '놈'], ['대리', '만족', '돼서', '좋', '더', '만', 'ㅋㅋㅋ', '돈', '있으면', '명품', '사고', '그런', '거지', '별', '시', '답', '잖은', '참견', '인지'], ['롤모델', '용', '진짜', '사랑', '합', '니', '둥'], ['누린', '많은', '금수', '저가', '맞으니까', '금수', '저냐', '물어', '보는', '질문', '이해', '하지', '못', '하는구나', 'ㅋㅋ', '부럽다'], ['말투', '지적', '넘', '웃기', 'ㅎ', '논리', '적', '따질', '지능', '없으니까', '말투', '이상하다', '뭐', 'ㅋㅋ'], ['혹시', 'ii', '번', '룩', '체크', '스커트', '정보', '없을까요', '…? !! !! !!', '부탁드림다', '!!!', '너무', '예뻐요', '!!'], ['심도있는', '이야기', '감사해요'], ['훈련사', '님', '정말', '마음', '안', '좋네요', '잘', '회복하시고', '정말', '힘내세요', '응원'], ['모카', '진짜', '존나', '이쁘다'], ['뭔가', '논리', '딱', '딱', '떨어지는', '말', '계속', '듣고', '있으니까', '기분', '좋아지나', '나', '왜', '영상', '주', '기적', '보고', '있지'], ['3649507827', '예', '몽', '님', '매력', '이에요', '재밋어', '요', '이대로'], ['아일릿', '노래였구나', '어딜', '가나', '노래', '나오길', '레', 'ㅎㅎ'], ['보는', '재미있는', '예쁘고', '즐거운', '영상', '보는거', '너무', '좋아요', '쓸데없는', '댓글', '너무', '상처', '받지', '마세요'], ['직원', '인간', '이니까', '말', '할', '주둥아리', '있던지말던지', '그리고', '아줌마', '말좀', '그만하세요', '다나', '요', '레오', '가은혜', '원', '수로', '갚은', '아', '나라', '결국', '원수', '원', '수로', '갚았았으니', '너무', '억울해', '하지', '마세요', '부인', '이라는', '너무'], ['아', '보노보노', '귀여웡', '먹방', '븨', '로그', '재밌어서', '계속', '보게', '돼요', '정', '주행', '시작'], ['레오', '얘기', '계속', '하시는', '분', '그', '옥상', '집착', '하여', '옥상', '얘기', '의미', '부여', '그렇게', '감정이입', '하면서', '놓치시는게', '있어요', '거짓', '스토리', '만', '들어서', '레오', '얘기', '쓴', '유튜버', '댓', '글단', '자', '에게는', '왜', '아무', '말', '안', '하세요', '그', '자', '일단', '거짓말', '했고', '레오', '마치', '학대', '견처', '럼', '불쌍하게', '만들어놨어요', '확인', '없이', '댓글', '그냥', '내보낸', '언론사', '문제', '기사', '에도', '댓글', '이라', '써있었는데', '그걸', '그대로', '믿고', '욕', '본인', '인성', '생각', '안', '하고', '그', '거짓', '댓글', '단', '사람', '테', '아무런', '의문', '이나', '언급', '없고', '찾으려는', '노력', '안', '하잖아요', '댁', '레오', '위', '해서가', '아닌', '그냥', '레오', '불쌍한', '견', '됐음', '하는건', '아닌가요', '허', '한마음', '뭔가', '마음', '쓰고', '싶은건', '아니구요'], ['너무', '귀여우시다'], ['현이', 'ㅊㅊ'], ['엄마', '뒤', '에서', '꼬물꼬물', '머리', '따셨을', '생각', '하니까', '너무', '귀', '여우', '심', 'ㅋㅋㅋㅋ'], ['민주', '썸네일', '이끌려', '왔다'], ['언니', '세상', '너무', '귀', '야', '워', '역', '냐', '아악', '하는거'], ['귀척', '너무', '거북하다'], ['언니', '다른', '사람', '말', '하는', '거', '너무', '상처', '안', '받으셨으면', '좋겠어요', '행복해요'], ['필요없고', '저', '강', '형', '욱', '님', '믿어요'], ['ㅋㅋㅋㅋ'], ['당연히', '있어야지', '탈의실', '화장실', '빼고', '이런', '걸', '해명', '라고', '하는것', '자체', 'ㅉㅉ', '적응', '못', '하면', '중세시대', '에서', '살아야지'], ['영상', '긴거', '정말', '매우', '붸리', '스트로베리', '블루베리', '많이', '너무', '엄청', '좋습니다'], ['굴뚝', '외', '연기', '나나', '요'], ['한별', '님', '영상', '보면서', '오늘', '처음', '댓글다는것', '같네요', 'ㅎㅎ', '너무', '멋지고', '똑', '부러지게', '말', '하시는', '한별', '님', '보면서', '무언가', '힐링', '이라', '해야', '할까', '요', '위로', '라', '해야', '할까', '요한', '별', '님', '무얼', '해도', '응원', '하는', '사람', '있다는거', '꼭꼭', '항상', '생각', '햐', '주세요'], ['땋', '머리', '완전', '귀여워용', '몽골', '소녀', '가타', '요'], ['아', '기분', '더러워', '능력', '있으면', '살', '수', '있지', '그리고', '있던', '없던', '사는건', '자기만족', '아닌가', '왜', '열등감', '느껴서', '어떻', '든', '깎아', '내리면서', '자기', '위로', '하는지', '제', '어이', '없네욤'], ['요즘', '가슴', '많이', '아파요', '힘내세요', '믿습니다'], ['형님', '마음', '꼭', '추', '스리', '시', '고요', '항상', '응원'], ['괜찮아요', '행여', '나', '실수', '있으시더라도', '괜찮아요', '절대', '안좋은', '생각', '하지', '마시고', '힘내세요', '잘', '될꺼예요', '훈런사님꼭', '힘내세요', '요즘', '너무', '쉽게', '자살', '하는거', '보', '니까', '괜히', '겁나요'], ['진짜', '길다', '거의', '45분', '이네요', '재밌게', '볼게요'], ['이번', '사건', '인해서', '억측', '비방', '허위', '폭로', '등', '범죄', '라는', '점', '일', '깨워주길', '바', '래', '요'], ['마지막', '악플', '대한', '생각', '대처', '너무', '공감', '되고', '말씀', '잘', '하셨어요'], ['364910491729', '때', '눈썹', '되게', '잘', '그렸어요', '깔', '꼼', '허니'], ['전', '부터', '정말', '느꼈지만', '이런', '가치관', '본받고', '싶다는', '생각', '들었어요', '앞', '응원', '할테니까', '계속', '꾸준히', '활동', '해주세요'], ['one hundred', '번', '들어도', '좋음'], ['오늘', '처음', '구독', '하며', '대리', '만족하고', '있는', '구', '독자', '다른', '아니라', '영상', '보면서', '왼쪽', '목', '부분', '살짝', '튀어나온거', '같아서요', '초음파', '검사', '한번', '받아', '보셨으면', '해서요', '전', '의사', '간호사', '아니지만', '조금', '걱정', '되어서', '글', '올려', '봅니다', '악플', '아닙니다', '절대', '오해', '하지', '말아주세용'], ['진짜', '뉴진스', '같네', '신기하다'], ['당', '진짜', '많이', '먹는다'], ['ㅋㅋㅋㅋㅋㅋㅋ', '저런', '여자', '만나지', '말아야', '짘', 'ㅋㅋㅋㅋㅋㅋㅋㅋㅋ', '그런', '사람', '왜', '당신', '만나'], ['카피', '카피', '모두'], ['평소', '에도', '느꼈지만', '미나', '상', '님', '이랑', '닮으셨어요'], ['뭐', '야', '이분', '첨', '보눈데', '개', '귀엽네'], ['제발', '마녀사냥', '그만', '했으면은', '좋겠어요', '당연히', '씨', '씨', '티비', '없으면', '안되는거', '아닌지', '그걸', '감시', '라고', '하고', '이슈', '터지니', '장단', '맞추고', '전부', '사냥', '감', '찾듯이', '징글징글', '요', '또', '어떤', '사건', '덭', '싶어', '이렇게', '이슈', '키우는지전', '강혁', '욱', '선생님', '응원'], ['정말', '멋진', '사람', '인거', '같아요'], ['힘내요'], ['우울증', '인데', '잘', '먹는', '사람', '부럽다'], ['폭로', '라는', '내용', '대부분', '사적', '감정', '불만', '한정', '되어있다', '명백히', '위법', '내', '용이', '라던가', '사회', '적', '통념', '벗어난', '것', '없다', '이런', '것', '대해', '어째서', '국민', '귀중한', '시간', '쪼개서', '관심', '가져야', '하는가', '그것', '이미', '수년', '전의', '일'], ['헙', '감동', '감동', '45분', '이라뇨', '5분', '씩', 'ennead', '번', '걸쳐서', '볼', '수', '있네요', '예', '몽', '님', '2월', '달도', '파이팅', '하세요'], ['영상', '긴것두', '너무', '좋고', '머리', '땋', '것', '두', '너무', '기엽구', '사랑스럽고', '코로나', '잠잠해지면', '팬', '정모', '이런거', '하면', '안되요', '만약', '한다면', '멀어두', '꼭', '갈꺼에', '용', '나이', '먹어두', '덕질', '어쩔', '수', '옶나바', '예몽', '너무', '좋당'], ['갑자기', '그', '명언', '떠오른다', '니', '꽃뱀', '왜', '무서워', '돈', '없는게'], ['언니', '에게', '남친', '등꼴', '빼먹는다', '명품', '자기', '돈', '산', '아니다', '내', '여친', '안', '그래서', '다행', '이다', '등등', '그런', '댓글', '다는', '사람', '언니', '부러워서', '질투', '나서', '자기한데', '없어서', '그런', '거', '라고', '생각', '해요', '본인', '그', '정도', '비슷한', '수준', '이면', '절대로', '악플', '안달', '죠', '남', '잘', '되는', '꼴', '못', '보는', '인간', '그러는거에요', '정말', '악', '풀러', '들은', '강력한', '처벌', '받았음', '좋겠어요'], ['450분', '짜', '리도', '볼수있어', '예', '모', '옹'], ['단', '그네', '틱'], ['강', '형', '욱', '훈련사', '단순하신', '분', '같습니다', '사람', '나', '무너', '뜨리', '는것', '너무도', '쉬운것', '같아요'], ['우와', '음식', '앞니', '로만', '씹는걸', '까', '아니면', '앞니', '씹는', '착시현상', '인걸', '까', '신기하네'], ['뭔', '일인', '진', '모르겠지만', '얼른', '복귀', '하세요', '언론', '담금질', '하는거', '한두', '번', '보나', '요'], ['그냥', '마음', '가난한', '사람', '있어요', '남잘', '되면', '끌어내리려고', '하는', '부류', '잘하고', '계세', '요', '백퍼', '이해', '함', '자기', '열등감', '왜', '남', '한테', '풀어', 'ㅋㅋ', '부럽고', '사고', '싶으면', '돈', '벌어', '그', '시간', 'ㅋㅋ'], ['2만', '2천원', '티', '금수', '젘', 'ㅌㅌㅌㅌㅋㅋㅋㅋㅋㅋㅋㅋ'], ['thirty nine', 'ixl', 'ixl', '파이팅'], ['답변', '안', '해주셔도', '되는데', '답변', '해', '주셔서', '감사합니다'], ['하나', '하나', '막힘', '없이', '말씀', '하시고', '더군다나', '아들', '욕절', '대못', '참지요', '맘', '아프네', '힘내세요'], ['예', '몽', '님', '혹시', '음식', '드실', '때', '앞니', '드시나요', '나쁜의', '도로', '여쭤', '본건', '아니구', '진짜', '궁금해서요'], ['니', '사람', '이냐', '악마', '야'], ['2만', '2천원', '왜', '금수', '저', '야', '얼마나', '꼬인거야'], ['뉴진스', '안무', '표절', '떠나서', '얘', '한테', '나쁜말하고', '싶진', '않음', '어른', '욕심', '때문', '비난', '하기에는', '얘', '막상', '무대', '보니', '끼', '보이는', '애', '이라'], ['매번', '다시', '볼때', '마다', '깨달음', '주는', '영', '상이', '요', 'ㅎㅎ'], ['화질', '더', '좋아진', '것', '같은', '느낌'], ['헐', '예', '몽', '님', '기다렸어요', '45분', '짜리', '영상', '이라니', '금요일', '까지는', '너무', '바빠서', '못', '보고', '토요일', '아껴', '볼게요'], ['오랜', '만', '뵙는', '한별', '님', '영', '상이', '요', '화장품', '좋아하는', '흔한', '취준생', '에서', '한별', '님', '영상', '쭉', '보고', '있었는데', '젠', '직장인', '에서', '엄마', '까지', '되었습니다', 'ㅋㅋ', '이제', '다시', '한별', '님', '영상', '보러', '올게요', 'ㅋㅋ', '우선', '역주행', '해야되', '겠죠', '열심히', '좋아하는거', '하시는', '모습', '에서', '전', '또', '힘', '얻고', '갑니다', '미모', '여전하세요'], ['악플', '무시', '라는', '건', '너무', '무책임한', '말', '이라는', '것', '이제', '느끼셔야', '악플', '다는', '사람', '나쁜', '겁니다'], ['예', '몽', '님', '어머니', '만드신', '김밥', '너무', '맛있을', '거', '같아요', '아쉽지만', '저', '만들지', '못', '하니', '치킨', '시켜', '먹어야겠어요', 'ㅎㅎ', '항상', '옹심이', '댓글', '읽어', '봐', '주셔서', '너무', '감사합니당'], ['전반', '적', '깔려있는', '스폰지밥', '흐물텅흐밍뮁멩', '너무', '조아여', 'ㅎㅎ', '예', '몽', '님', '영상', '정체', '성', '과도', '잘', '맞는듯', 'ㅋㅋㅋㅋㅋㅋ', '계속', '찾게', '되는', '영상', '예요'], ['저', '댓글', '처음', '써', '보는데', '저', '랑', '제', '친구', '랑', '언니', '완전', '팬', '이에요', '친구', '맨날', '언니', '영상', '만', '보길래', '그렇게', '재밌나', '해서', '보기', '시작', '했는데', '진짜', '중독', '성', '개', '쩔고', '영상', '보고', '있으면', '점점', '힐링', '돼요', '나긋나긋한', '목소리', '랑', '옴뇸뇸', '드시는게', '너무', '토끼', '같구', '귀여워요', '요즘', '항상', '밥', '먹을', '때', '랑', '잘', '때', '언니', '영상', '틀어놓구', '있어용', 'ㅋ', 'ㅋㅎ', '프리미엄', '결제', '했답니당', '요즘', '영상', '자주', '올려주셔서', '감사하구', '앞', '으로도', '많이', '올려주세요', '길면', '더', '좋아요'], ['직장', '생활', '해본', '사람', '라면', '알거라고', '봐요', '사장', '실수', '하고', '화도', '내고', '감정', '움직일', '때', '있습니다', '사람', '니깐'], ['위안부', '피해자', '그렇게', '증언', '해도', '그런', '적', '없다고', '잡아', '때', '일본', '하고', '똑같네', '저', '강형욱', '부부', 'ㅉㅉㅉ', '라이', '썩을', '놈', '아'], ['ixl'], ['사랑스러운', '예', '몽', '님', '얼굴', '예쁘고', '말', '하시는것도', '예쁘고', '먹는것도', '복스러우니', '너무', '예쁘세요', '방송', '오래오래', '보고싶어요'], ['제발', '아까운', '사람', '잃어버리는', '일이', '없었으면', '조금', '이해', '해주고', '서로', '아껴주는', '사회', '이길', '바랍니다'], ['분명한건', '저', '누가', '남녀', '노소', '누구', '든', '다른사람', '명품', '사던말던', '관심', '없어요', 'ㅋ', '모든', '명품', '가격', '비싼게', '문제', 'ㅋ', 'twenty four', '남자', '유튜', '버여', '자유', '튜버', '려면', '서', '남녀', '댓글', '분란', '조', '장하는', '사람', '문제', '사람', '명품', '남녀', '뭘', '사던', '관심', '없음', 'ㅋ', '문제', '명품', '남녀', '사던말던', '관심', '없는데', '남녀', '분란', '조', '장하는', '댓글', '러', '문제'], ['후보', '정이', 'ㅈㄴ', '대단한거구나'], ['얼굴', '기미', '주근깨', '덕지덕지', '개', '줌마', '미니', '진', '얘', '왤케', '싫어하는거냐'], ['건강', '정말', '안', '좋아', '보이네요', '부모님', '생각', '해서라도', '살', '빼시는', '좋을', '것', '같아요', '거', '보시', '참견', '이네', '뭐', '라고', '생각', '하실', '수', '있지만', '건강해지길', '바라겠습니다'], ['악플', '나빠요', '생각', '없이', '샘나서', '다는', '악플러', '나빠요', '한별', '님', '영상', '호기심', '생기', '재밌어요', '악', '으', '적', '댓글', '나쁘죠', '그치만', '한별', '님', '더욱', '힘내시고', '꿋꿋하셔야'], ['뉴진스', '영상', '보다가', '자동', '짭진스'], ['좋아', '진짜', '너무', '귀여워'], ['원희', '한테', '눈', '자꾸', '계속', '간다', '신기해', 'ㅎㅎ'], ['노래', '진짜', '좋네', 'ㅋㅋㅋ', '굿'], ['몇', '일', '째', '계속', '댓글', '쓰지만', '힘내시란', '말', '밖에', '해드릴수가', '없네요', '시간', '약인', '해', '요'], ['금수', '저', '질문', '우문', '현', '답', '넹', '호감', '상승'], ['크리', '수탈', '닮음'], ['지금', '머리', '가젤', '잘어울', '령', '요'], ['강형욱', '인간', '가면', '벗어', '보니', '악마', '있엇구', '나', 'ㅋㅋㅋ', '지금', '이라도', '알', '되서', '다행', '이지', '뭐', 'ㅋㅋㅋ', '고발', '자', '진짜', '고맙다', '레알'], ['이릿일', '언니', '큐큐', '큐', '성은', '만', '음속', '있어요'], ['얘', '뭔', '잘못', '있겠냐', '그냥', '방시혁', '욕심', '이지', '휴'], ['힘내세요', '모두', '강', '형', '욱', '님', '신뢰'], ['이만', '이천원', '금수', '저', '그냥', '할말이', '없다'], ['민주', '개', '이쁘다'], ['하아', '저녁', '땅땅치킨', '먹었는데', '배고프자', '나영', 'ㅎㅎ', '잔치국수', '에다가', '연어초밥', '어오', '침고이네', '용', 'ㅎㅎ', '저', '뷔페', '가면', '연어', '만', '조져요', 'ㅋㅋㅋㅋ'], ['훈련사', '님', '힘내세요'], ['방시혁', '평소', '어떤', '배우', '보는지', '확실히', '알겠네'], ['누가', '한별', '님', '같은', '사람', '너', '만나주겠나고', '돈', '능력', '이구', '너', '부모님', '못', '해주는걸', '웨', '괜히', '자격지심', '찌들어서', '욕', '해', '사고', '싶으면', '너', '한별', '님', '처럼', '일', '하고', '벌어', '여친', '불쌍하네', '들은', '여친', '한테', '오지', '뜯어', '먹을거', '아니야'], ['짭진스'], ['씨', '씨', '티비', '보는', '법', '몰라요', '너무', '힘든', '일이', '에요', '리모컨', '분할', '화면', '번호', '누르고', '줌', '누르면', '확대', '까지', '되는데', '뭐', '어렵다는', '건지'], ['초고', '비만', '인데', '피부', '좋으시고', '뭔가', '음식', '앞', '에서', '성격', '안', '급하시고', '사람', '안정감', '느껴져'], ['한별', '님', '영상', '볼', '때', '마다', '대본', '미리', '써', '둔', '것', '처럼', '정갈하고', '정돈', '된', '말', '차분하게', '해', '주셔서', '편안하게', '보고', '있습니다', '그만큼', '영상', '대해', '많이', '고민', '하고', '찾아보고', '공부', '노력', '결과', '겠지요', '그걸', '깎아내리지', '못', '해', '안달', '난', '사람', '많아', '보여', '속상합니다', '어찌', '되었든', '한별', '님', '시간', '노력', '들어간', '건데', '그게', '부럽다는', '이유', '정확히는', '자신', '할', '수', '없으니까', '폄하하고', '어쩐', '저', '쩐다', '함부로', '말', '하는', '제', 'triplet', '자로', '서', '어이없고', '한심하게', '느껴지네요', '그럼에도', '배운', '사람', '입장', '으로서', '차분하게', '답변', '해', '주시', '모습', '감탄', '하고', '갑니다', '영상', '잘', '봤습니다'], ['나', '국민', '인데', '강', '대표', '국민', '한테', '미안해', '할', '필요없다', '다만', '이번', '소란', '관련', '해', '도의', '적', '책임', '통감', '하는', '정도', '자세', '필요하다', '본다'], ['응원'], ['불현듯', '가마보코', '먹고싶어지는', '저녁', '시간', '이다', '치쿠', '와도', '좋고', '한뻰', '좋다', '절로', '대포', '한잔', '생각나는구나'], ['너무', '부럽다', '난', '22년', '간', '살면서', '해외여행', '커녕', '국내', '여행', '한번', '제대로', '못', '가봤는데', '사람', '무슨', '복', '타고났는지'], ['그럼', '혹시', '너무', '이쁜', '가방', '샤넬', '구찌', '가면', '꼭', '있는건', '아니겠죠', 'ㅋㅋㅋㅋ'], ['개통', '령', '못', '보는게', '안타까울', '뿐입니다', '응원', '미친', '직원', '언론', '여', '직것', '좋은', '일만', '했거', '만나도', '저러면', '열', '받지'], ['최고', '영상', '삭제', '하지', '말아주세요'], ['보고', '있으면', '마음', '편안해진당'], ['맛', '나게', '드세요', '잔치국수', '자주', '해주시구', '먹어도', '진치', '국수', '맛', '나요'], ['이모', '영상', '잘', '보고', '있어용', '건강', '위해', '조금씩', '빼구', '앞니', '음식', '씹지마', '용'], ['감히', '남자', '아가리', '벌려'], ['인종차별', '부분', '너무', '공감', '가요', '저', '일', '년', '살았는데', '정말', '폐쇄적', '이고', '자국', '문화', '프라이드', '굉장히', '강하구', '어느', '정도', '스페인어', '해서는', '무시', '하는', '경향', '있긴하더라구요', '그래서', '용기', '내는데', '시간', '오래', '걸리더라구요'], ['스페인', '예쁘다고', '거기', '서', '살', '싶다고', '하는', '초등학생', '딸', '위해', '이민', '결정', '해주시는', '부모님', '이라니', '대박'], ['강', '대표', '님', '힘내십시오', '같은', '오', '너', '로서', '충분히', '이해', '되는', '일', '들입니다', '저', 'c', '대도', '넘게', '달아놓고', '있습니다', '아무', '뭐라고', '하는', '직원', '없습니다', '그냥', '게으른', '직원', '나가서', '뒤통수', '치는거니까', '똥', '잘', '못', '밟았다', '생각', '하고', '차분히', '잘', '대응', '해서', '꼭', '이겨주기', '바랍니다', '항상', '응원', '하겠습니다', '정', '안되겠다싶으면', '그냥', '한국', '버리고', '해외', '나가서', '지금', '까지', '벌어놓은', '돈', '가지', '편하게', '사는게', '더', '나을듯', '꼭', '화이팅'], ['예', '몽', '님', '조금씩', '말고', '입', '크게', '벌려서', '번', '드셔주면', '대리', '만족', '될', '거', '같아요'], ['피드백', '받아들여져서', '좋아요', '편안'], ['피자', '먹는거', '봤는데', '자유롭게', 'i', 'one', '판', '먹던데', '눈치', '보는', '건가'], ['근데', '금수', '저', '라는', '말', '답변', '뭐', '우리', '가족', '월', '소득', '얼마', '개인', '소득', '얼마', '그런', '걸', '말', '해줘야', '되는', '건가', '뭘', '바라고', '물어보는거지'], ['별로', '안', '심란', '데', '컨셉'], ['한별', '님', '직업', '뭐', '예여'], ['형욱님', '보듬처럼', '다시', '따뜻하고', '멋있는', '강아지', '훈련소', '만들어졌으면', '좋을', '것', '같아요', '그리고', '레오', '일', '언급', '할', '때', '정말', '마음', '찢어지듯이', '아프셨을', '것', '같은데', '정말', '레오', '위해', '기도', '많이', '할게요', '그리고', '보듬에서', '일', '하셨던', '훈련사', '분들', '보듬에서', '일', '했다는', '것', '부끄럽고', '창피한', '경력', '아닌', '정말', '영광', '스러운', '경력', '업적', '이다', '생각', '했음', '좋을', '것', '같아요', '그리고', '훈련사', '분들', '보듬', '모든', '직원', '분', '강', '형', '욱', '님', '앞날', '응원', '하겠습니다'], ['본인', '생각', '말로', '조목조목', '알아듣기', '쉽게', '표현', '하시는게', '너무', '멋있어요', '말씀', '너무', '잘하세요', '한별', '님', '항상', '응원'], ['다이어트', '하면서', '잘', '보고있', '습', '니당', '욕', '하는', '댓글', '무시', '하시고', 'myriad', '칼로리', '챌', '린지', '해주세여'], ['진짜', '귀엽다'], ['저', '언니', '저런', '거슬리는', '말', '대답', '할', '때', '조곤조곤', '말', '할', '때', '진짜', '부', '티나', '거', '같아요'], ['22일', '날', '너무', '이뻐요', '화장', '찰떡', '이구', '요'], ['저', '바람', '함께', '사라지다', '사랑', '빠진', '딸기', '뉴욕', '치즈케이크', '순서', '최애', '바꿨어요', 'ㅋㅋ'], ['민희진', '덕', '아일릿', '빠져', '버림', '원희', '너', '무조', '타'], ['공혁준', '여자', '버전'], ['댓글', '왜', '이리', '가식', '같지', '칭찬', '인데', '칭찬', '안', '같고', '비꼬는거', '같아요', '어쨌든', '가족', '이랑', '화목', '모습', '보기', '조아요', '친', '근', '감', '들고', '그러네요'], ['유툽', '알고리즘', '타고', '서', 'thirty nine', '별별', '쇼핑몰', 'ixl', '영상', '보다', '여기', '까지', '와서', '구독', '하구가요', '하울', '영상', '유독', '금수', '저', '금수', '저', '말', '많아서', '그렇지', 'ㅎ', '한별', '님', '생각', '맞는것', '같아요', '한별', '님', '바라보는', '사람', '생활', '비교', '해봤을', '때', '한별', '님', '금수', '저가', '될수가', '있고', '아닐수가', '있는거라고', '생각', '해요', 'ㅎㅎ', '흐뭇하게', '봤습니다', '결론', '구독'], ['다이어트', '자극', 'ㅈㄴ', '잘', '된다'], ['무슨', '서리', '야', '정말', '부모님', '돈', '이든', '언니', '돈', '이든', '영', '앤', '리치', '언니', '너무', '걸', '크러쉬', '짱짱', '멋있어', '우리', '언닌', '맛있는거', '먹고', '예쁜', '옷', '입으면서', '행벅', '살아야해'], ['애', '왤케', '사랑스러워'], ['영상', '재밌으니까', '더', '많이', '올려주', '새', '요', '늦어도', '되니까', '먹방', '영상', '보고싶어요'], ['되게', '이해', '잘', '되는거', '같아요', '전', '한별', '님', '생각', '너무', '좋은', '거', '같아요', '할말하시는게', '참', '보기', '좋아용', 'trinity'], ['예', '몽', '님', '혹시', '안', '드셔', '보셨다면', '스벅', '초콜렛', '크루아상', '추천', '드려용', '안', '카스테라', '랑', '똑같은', '우유', '크림', '들어있는데', '초코', '맛', '나고', '촉촉', '보', '맛', '바삭', '함', '느낄', '수', '있어용', '꼭', '드셔', '보세요', '생크림', '카스테라', '좋아하시면', '거도', '맛있게', '드실', '수', '있을', '것', '같아요'], ['꼭', '아들', '낳아서', '한남', '소', '추', '라고', '듣길', '바람'], ['슈퍼', '끌림', '들을', '때', '마다', '어처구니', '없긴한데', '그래도', '귀엽고', '매력', '적', '이네'], ['힘내세여', '싫으면', '안보', '되지'], ['민주', '하늘', '에서', '내려온', '천', '사임'], ['안좋은', '댓글', '의연하지', '않고', '긍정', '적', '마인드', '류', '말씀', '하시는', '모습', '좋이', '보기', '좋아요', 'ㅎㅎ', '이런', '영상', '통해', '언니', '대해', '발자국', '더', '알', '되네요'], ['노래실력', '부터', '키워라'], ['원희', '뭐임'], ['커뮤', '에서', '보고', '어쩌다', '영상', '보는데', '되게', '특이하게', '씹어', '드시네요', '거의', '앞니', '로만', '씹으시는듯'], ['몇', '천만원', '명품', '백', '하울', '근사한', '스페인', '집', '등등', '보면', '금수', '저', '라는', '질문', '이해', '할수', '있을것', '같아요', '평범한', '사람', '에게는', '쉽게', '할수', '없는', '것', '들이거든요', '궁금할수는', '있죠', '저런', '환경', '여유', '어디서', '나오는', '걸까', '하지만', '한별', '씨', '답변', '이해', '또', '공감', '갑니다', '또', '이상한', '댓글', '많아', '속상하기도', '하셨겠네요'], ['마지막', 'ㄱㄴ', '잘춤'], ['사건', '반장', '소송', '걸어', '보세요'], ['아', '왜', '자꾸', '쳐', '뜨냐'], ['업무', '시간', '여성시대', '못', '하니', '사장', '가족', '욕', '하고', '감시', '날조함', 'ㅋㅋㅋㅋㅋ'], ['스페인', '에서', '어떤', '일', '하고', '살아요'], ['원래', '자격지심', '심한', '사람', '남', '부러워하고', '욕', '하고', '더', '그런거', '같아요', '그리고', '방송인', '공인', '이니까', '모두', '에게', '잘', '해야한', '공평해야', '다라', '생각', '하는', '무', '개념', '효', '한별', '님', '오래', '봐', '온', '만큼', '절대', '그런', '분', '아니란', '것', '잘', '알', '항상', '잘', '보고있으니까', '앞', '으로도', '화이팅', '이에요'], ['급하게', '배고파서', '치킨', '시켜놓고', '입맛', '돋울', '겸', '먹방', '찾아보다가', '들어왔는데', '왜', '끌리는지', '자세히는', '모르겠는데', '넋', '놓고', '계속', '보게', '되네요', 'ㅋㅋㅋㅋㅋㅋ', '앞', '으로도', '놀러', '올게요'], ['한별', '님', '자체', '그냥', '명품', '인거', '같아요', '저런', '댓글', '좋게', '좋게', '본인', '할', '말', '의사', '말', '하기', '어려운데', '차분하게', '이야기', '이어나가는게', '정말', '좋은', '사람', '이라는', '느껴져요', '유튜브', '많은', '분들', '보면서', '정말', '상처', '받지', '않았으면', '하고', '더', '떴으면', '하는', '분', '처음', '것', '같아요', '질투', '찌든', '사람', '신경', '쓰지', '말고', '영상', '앞', '으로도', '많이', '올려주세용'], ['위안부', '피해자', '증언', '해도', '사실', '아니라고', '잡아', '때', '일본', '이냐', '니', '강형욱', '아', 'ㅋㅋㅋㅋㅋㅋㅋ', '잘', '못', '했으면', '벌', '받어라', '강형욱', '아'], ['444724', '아', '냐', '아아', '아악', '이라니', '냐', '아아', '아', '아악', '이라니', '너무', '귀여워요', '진짜'], ['내', '인종차별', '당하면', '너', '부모님', '안녕하니를', '각국', '언어', '해줄듯'], ['저런', '어머니', '있어서', '너무', '부럽다'], ['반려견', '훈련사', '강형욱', '보듬', '컴퍼니', '대표', '아내', '수', '잔', '엘더', '이사', '직장', '내', '괴롭힘', '의혹', '대한', '해명', '영상', '전', '직원', '더', '분노한', '것', '알려졌다', '사실', '대로', '얘기', '하지', '없는', '얘기', '하고', '아기', '욕', '한적', '없다는데', '핑', 'ㄱㄴ', '는쯔쯔', '그러면', '안되', '직원', '감시', '용', '사용', '요것', '조', '논란', '잇겟다', '감사용', '인지', '직원', '만', '감시', '용인'], ['선물', '받든', '내', '가사', '든', '남', '일', '인데', '왜', '그렇게', '지나친', '관심', '한별', '님', '께서', '유튜버', '하신', '덕분', '저', '한별', '님', '만나서', '기쁘지만', '다른', '한편', '으로는', '그', '따른', '고충', '있어', '안타까워요'], ['의외로', '빼는건', '쉬워요', '사후', '관리', '중요하다는것은', '다이어터', '알고있을건데', '요'], ['문제', '없다는', '저', '지능', '개통령빠', '에게', '바칩니다', '', '기업', '에서', '시설', '보안', '이나', '도난', '방지', '등', '목적', '사업', '장', '내', '설치', '하는', '경우', '늘', '있습니다', '그러나', '직원', '이를', '사생활', '내지', '개인정보', '자기결정권', '대한', '침해', '라고', '생각', '하는', '경우', '있어', '갈등', '발생', '곤', '합니다이와', '관련', '하여', '최근', '대법원', '직원', '동의', '없이', '설치', '된', '검정색', '비닐봉지', '가린', '행위', '업무방해죄', '해당', '하는지', '여부', '관련', '하여', '근로자', '작업', '모습', '찍히는', '카메라', '한하여', '비닐봉지', '씌운', '것', '사회', '상', '규', '위배', '되지', '않는', '정당행위', '라고', '볼', '여지', '있다고', '판시', '하였고', '대법원', '2023', 'half dozen', 'twenty nine', '선고', '2018', '1917', '판결', '이를', '계기', '직장', '내', '설치', '및', '운영', '적', '법성', '관', '논의', '활발하게', '전개', '되고', '있습니다', '가장', '많이', '거론', '되는', '문제', '역시', '', '개인정보보호법', '이슈', '사업', '장', '내', '설치', '된', '통해', '수집', '되는', '영상', '정보', '일종', '개인정보', '이므로', '개인정보보호법', '제', '15조', '적용', '됩니다', '따라서', '사용자', '도입', '통해', '개인정보', '수집', '거나', '이용', '하기', '위', '해서는', '근로자', '동의', '받아야', '하는', '것', '원칙', '제', 'unity', '호', '법률', '특별한', '규정', '있거나', '법령', '상', '의무', '준수', '하기', '위', '하여', '불가피한', '경우', '제', 'ii', '호', '개인', '정보처리', '자', '정당한', '이익', '달성', '하기', '위', '하여', '필요한', '경우', '로서', '명백하게', '정보', '주체', '권리', '보다', '우선하는', '경우', '제', 'vi', '호', '등', '예', '외적인', '경우', '한해', '서', '만', '동의', '없어도', '개인정보', '수집', '거나', '이용', '할', '수', '있습니다', '개인정보보호법', '제', '15조', '근로자', '동의', '없는', '경우', '사용자', '실질', '적', '같은', '예', '외적인', '사정', '소명', '할', '수', '있어야', '하므로', '관련', '분쟁', '발생', '하는', '경우', '사용자', '부담', '작용', '할', '수', '있습니다', '실제', '위', '같은', '예외', '좁게', '인정', '해석', '다수', '발견', '됩니다', '예컨대', '개인', '정보보호', '위원회', '사무실', '내부', '설치', '운영', '것', '회사', '정당한', '이익', '영업비밀', '유출', '및', '도난', '방', '지을', '위', '것', '이라고', '하더라도', '직원', '동의', '없이', '그', '근무', '공간', '책상', '및', '컴퓨터', '화면', '까지', '24시간', '촬영', '하여', '저장', '하는', '것', '근로자', '사생활', '침해', '가능성', '높으므로', '정보', '주체', '권리', '보다', '명백하게', '우선한다고', '보기', '어렵다고', '보았고', '개인정보', '위', '2022', 'hexad', 'xxii', '자', '제', '2022011067', '호', '결정', '국가인권위', '원', '회', '역시', '시설', '관리', '단', '소장', '무단', '외출', '여부', '확인', '한다며', '소속', '미화원', '관련', '된', '사용', '진정', '사건', '에서', '시설', '물', '안전', '관리', '나', '도난', '방지', '등', '위해', '설치', '직원', '동의', '없이', '직원', '근무', '감시', '사용', '것', '인권', '침해', '라고', '결정', '하였습니다', '국가인권위', 'sixteen', '진정', '0959300', '2017', 'ii', 'viii', '나아가', '개인', '정보보호', '위원회', '버스', '내', '에서', '기사', '개별', '적', '동의', '없이', '수집', '된', '녹화물', '운전기사', '징계', '또는', '근무', '평정', '증거', '자료', '사용', '하는', '것', '원칙', '적', '허용', '되지', '않는다는', '법령', '해석', '하였고', '개인정보', '위', '2013', 'pentad', 'xxvii', '자', '제', '9회', '결정', '중앙', '노동', '위원회', '역시', '같은', '취지', '운수', '회사', '영상', '기록', '근거', '징계처분', '것', '위법', '징계', '해당', '판단', '하기도', '하였습니다', '중노위', '2021', 'sextuplet', 'twenty nine', '자', '2021', '부해', '542', '판정', '한편', '통한', '직원', '감시', '행위', '', '직장', '내', '괴롭힘', '인정', '될', '가능성', '있어', '주의', '요', '고용노동부', '직장', '내', '괴롭힘', '판단', '및', '예방', '대응', '매뉴얼', '통한', '감시', '일하거나', '휴식', '하는', '모습', '지나치게', '감시', '직장', '내', '괴롭힘', '사례', '예시', '하고', '있고', '고용노동부', '직장', '내', '괴롭힘', '인한', '건강', '장해', '예방', '매뉴얼', '회사', '내', '설치', '되어', '있고', '해당', '모니터', '중간', '관리자', '자리', '설치', '되어', '있음', '출입구', '등', '사람', '지키고', '있지', '않아', '외', '에는', '직원', '움직임', '확인', '할', '수', '없는', '구', '조', '에도', '간식', '먹고', '난', '후', '간식', '맛있었냐는', '등', '실시간', '모니터', '직원', '관찰', '하고', '경고', '메일', '메시지', '등', '보내는', '방식', '감시', '사실', '직원', '에게', '주지', '시킨', '사례', '사적', '일', '지나치게', '간섭', '하는', '개인', '적', '영역', '대한', '침해', '로서', '직장', '내', '괴롭힘', '해당', '하는', '사례', '예시', '하고', '있습니다'], ['민희진', '욕심', '뉴진스', '까지', '말아먹게', '생겻넹'], ['한별', '님', '너무', '좋은', '마인드', '가지', '계신', '것', '같아요', '좋아요', '꾹', '누르고', '갑니당'], ['유니폼', '안', '입고있다고', '해서', '태', '클거는것만', '봐도', '얼마나', '깐깐한지', '알수있음', '저런', '깐깐한', '부부', '감시안', '했을것', '같냐', '더', '철저하면', '철저했지'], ['피부', '손목시계', '부분', '빼고', '타있어요', '강아지', '훈련', '하신다고', '진심', '응원', '마지막', '자신', '아니라', '지금', '까지', '함께', '했던', '훌륭한', '훈련사', '님', '직원', '지키기', '위해', '서', '또', '보듬에서', '일', '했었던', '이야기', '못', '하게', '될까봐', '제일', '걱정', '된다는', '말', '에서', '형욱씨', '인성', '여실히', '보입니다', '응원', '할게요'], ['이언', '니', '알고리즘', '때문', '봤는데', '마인드', '너무', '좋아', '어휘', '력', '너무', '감탄', '스럽고', '멋있어요', '엉엉', '엉엉', '우', '다른', '영상', '봤는데', '너무', '이뻤어요', '구독', '하고', '갈게요'], ['힉', '언니', '영상', '에서', '넘', '이뻐요', '원래', '와안전', '이쁘신', '데', '깜짝', '놀랐네요', '예쁘셔서'], ['예몽', '넘', '귀여웡'], ['피해자', 'ten', '명', '이상', '방송국', '본인', '피해자', '라고', '고발', '했다는데', '그래도', '아직', '까지', '그런', '적', '없다고', '잡아', '때', '있는', '강형욱', '부부', '니', '들을은', '일', '본가', '서', '살어라', '그게', '딱', '일본', '하는', '짓거리', '인데', '딱', '니', '하고', '어울린다', '니', '일', '본가', '서', '살어라', '한국', '에서', '꺼', '저', '라'], ['오', '이번', '영상', '화장', '찰떡', '이네', '유'], ['역대', '급', '곡임', '나', '치얼업', '들었을', '때', '딱', '그', '느낌', '가사', '의상', '댄스', '빠지는', '없는', '곡임'], ['아', '진짜', '속', '시원해요', '언니'], ['일반', '적', '보면', '직장', '고용', '된', '사람', '사장', '또는', '직장', '상사', '불만', '없는', '사람', '거의', '없죠', '고용', '된', '사람', '사장', '에게', '불만', '가지는', '것', '당연합니다', '왜냐하면', '일', '시키는', '사람', '사장', '이고', '시키는', '일', '수행', '하는', '사람', '직원', '이기', '서로', '입장', '다르니까', '요', '그러나', '뺀질', '거리', '말', '안', '듣고', '일', '저지르고', '하는', '새끼', '직장', '꼭', '두', '명', '씩', '있어요', '이런', '놈', '직장', '에서', '거의', '왕따', '당하게', '되고', '불만', '쌓이고', '하면서', '언론사', '고자질', '걸', '가지', '회사', '전체', '사장', '개인', '모든', '인격', '까지', '모독', '하는', '방송', '방송', '쓰레기', '더', '문제'], ['차분한', '성격', '부럽소'], ['364910611741', '이뻐요', '깜짝', '놀람', '갑자기', '이뻐져서', '귀걸이', '랑', '머리색', '이랑', '찰떡', '이고', '화장', '이쁘게', '잘', '하시네요'], ['이상한', '사람', '보다', '한별', '님', '하울', '리뷰', '일상', '영상', '즐겁게', '보고', '힐링', '하고', '정보', '공유', '하는', '팬', '분들', '훨얼신', '많은거', '아시', '죠', '영상', '잘', '보다가', '댓글', '첨', '달', '아', '봤어요', 'ㅎ', '영상', '즐겁게', '잘', '보고', '있어요', '늘', '행복하고', '건강하세요'], ['언니', '마인드', '넘', '좋아여', '본받고싶은', '마인드'], ['근데', '부모님', '께서', '진짜', '멋있네', '욤', '스페인', '에서', '공부', '하고', '싶다니까', '바로', '이민', '크', '그렇게', '예뻤다니', '여행', '이라도', '갔다', '보고', '싶네욤'], ['근데', '엄청', '많이', '먹는거', '같지', '않은데'], ['저', '오늘', '부터', '다이어트', '시작', '하게', '되었는데', '살이', '너무', '많이', '쪄서', '찌', '빠지고', '반복', '엿', '요', '하루', '끼', '먹고', '버텨', '볼라구요', '화이팅', '해봐요', '우', '링', '너무', '맛있게', '드셔서', '미치겠네요'], ['언니', '영상', '오랜', '만', '봤는데', '살이', '진짜', '너무', '빠졌어요', '마음', '고생', '하시는게', '너무', '너무', '보입니다', '슬퍼', '언니', '꼭', '강한', '마음', '가지세요', '악플러', '고소해요'], ['어제', '1년', '일', '직장', '그만뒀는데', '사장', '수고', '했다고', '퇴직금', '만원', '줬길래', '바로', '노동청', '가서', '신고', '하고', '왔다', 'ㅋ', '알', '보니', '사장', 'quint', '번', '이나', '짓', '해서', '노동청', '신고', '당했', '더', '라고', 'ㅋㅋ', 'ㅋ'], ['개', '안락사', '시켜놓고', '말', '많네'], ['남이사', '명품', '있던', '그걸', '선물', '받던', '먼', '상관', '죠', '남', '한테', '뜯어', '낸것도', '아니고', '열등감', '때문', '열폭', '는걸', '보이', '추', '해보여요'], ['현이', '득남', 'ㅎㅎㅎ'], ['심심할', '때', '예', '몽', '님', '영', '상보', '시간', '훅훅', '가요', '먹방', '대리', '만족', '되고', '드실', '때', '행복', '해보여서', '기분', '좋', '용', '매번', '재밌는', '영상', '올려주셔서', '감사합니다', '화이팅'], ['ㅋㅋㅋㅋㅋ', '진짜', '다른', '질문', '무식하지만', '일곱', '번째', '질문', '진짜', '생각', '못', '했다', '시즌', '백', '왜', '사냐는', '둥', '그만큼', '본인', '돈', '있고', '것', '저', '것', '사도', '살아가는데에', '지장', '없으니', '사고', '싶은', '걸', '사는거고', '기본', '적', '본인', '마음', '들어서', '사는거지', '질리', '든', '말', '든', '제발', '본인', '기준', '위치', '맞춰서', '본인', '경제', '적', '상황', '같다고', '생각', '하지', '마세요', '진짜', '얼마나', '무식하면', '저런', '질문', '할까', '생각', '함', '어짜피', '이런', '큐', '엔', '에이', '찍어도', '본', '사람', '안', '본', '사람', '상관없이', '들이', '생각', '하는대로', '자위', '질', '할', '거', '뻔함'], ['ixl'], ['정도', '업그레이드', '버전', '이지', '무슨', '따라', '만든', '그룹', '타령', 'ㅋㅋㅋㅋㅋㅋㅋㅋㅋ', '애플', '에서', '아이폰', '1만', '들고', '아이폰', 'two', '내놨다고', '아이폰', 'two', '짝퉁', '이라고', '하니', '업그레이드', '라고', '하지'], ['아니', '한별', '님', '뭘', '사고', '뭘', '먹고', '다니는지', '그리고', '그걸', '누가', '샀는지가', '그렇게', '중요해요', '그리고', '자기', '사고', '싶은거', '자기', '돈', '사겠다는데', '뭔', '상관', '인지', '잘', '모르겠어요', '그것', '자신', '노력', '번', '돈', '사는', '건데', '말', '죠', '그리고', '한별', '님', '영상', '마지막', '부분', '쯤', '보면서', '정말', '속상했는데', '솔직히', '무시', '라고', '했던', '그', '분들', '있죠', '제', '봤을', '땐', '그', '사람', '실제', '자신', '에게', '이런', '말', '글', '쏟아졌을', '때', '절대', '무시', '못', '할꺼라고', '생각', '해요', '그러니까', '한별', '님', '이런', '글', '상처', '받을지는', '잘', '모르겠지만', '저', '한별', '님', '좋고', '한별', '님', '영상', '정말', '좋아해요', '그러니까', '한별', '님', '상처', '받지', '않고', '계속', '영상', '올려주셨으면', '좋겠어요', '음지', '나가는', '별별', '마리'], ['잘', '드시니', '좋네요'], ['넘', '사랑스럽구', '노래', '좋', '궁', '진짜', '모든', '걸', '다가', '졌네'], ['노래', '못', '하지만', '귀엽게', '춤', '잘춘다'], ['근데', '화장', '너무', '잘', '한다', '이제', '완전', '찰떡', 'ㄹㅇ', '퍼컬', '있긴', '있나', '봐'], ['시원해', '한별', '님', '넘', '시원하다구요'], ['부러워서', '그런', '댓글', '다는거예요', '너무', '신경', '쓰지', '마', '요', '한별', '님', '좋아하는', '사람', '더', '많아요', '힘내세요'], ['강형욱', '훈련사', '님', '늘', '항상', '응원', '저', '현재', '비', '반려', '이지만', '강아지', '좋아하여', '개는', '훌륭하다라는', '프로그램', '1회', '부터', '챙겨', '보고있고', '유기견', '많다는것', '알고는', '있었지만', '이렇게나', '많을꺼라곤', '상상', '못', '했고', '도움', '필요한', '아이', '많다는걸', '알', '되어', '유기견', '봉사', '계획', '세우게', '되었습니다', '강아지', '반려', '문화', '앞장서서', '이끌어주시는', '강형욱', '훈련사', '님', '존경', '하고', '응원', '현재', '어려운', '상황', '하루빨리', '훌훌', '털고', '일어나시길', '바', '래', '요'], ['그저', '여자', '명품', '들면', '물어', '뜯는', '인간'], ['민주', '너무', '예뻐'], ['노래', '못', '하면', '시키지말자', '서로', '편하지', '않냐', '듣는', '사람', '이나', '부르는', '사람', '이나', '서로', '힘들', '자', '나'], ['힘내세요', '인간', '같이', '안은', '인간', '신경', '쓰지', '마세요'], ['예', '몽', '님', '너무', '이쁘세요', '여신'], ['ㅋㅋ', '왜', '댓글', '수준', '이렇게', '될수밖에', '없었는지', '영상', '고스', '란', '히', '담겨있네'], ['예', '몽', '님', '용돈', '되게', '많이', '받으시나', '봐요', '부럽다', '맛있는거', '자주', '먹을수있고', '364910491729', '때', '완전', '뿌요'], ['저', '거', '포테킹', '겁나', '맛', '나', '보인다'], ['귀여워용'], ['현이', '민주'], ['윤아', '왤케', '이뻐', '완전', '천사', '야', '천사', '윤아', '짱'], ['귀여우세요'], ['언론', '보고', '속', '적', '하도', '많아서', '전', '계속', '지켜보고만', '있었는데', '역시', '한국', '정말', '후진국', '이네', '요', '아직도', '사람', '관심', '끌기', '위해', '무고', '사람', '명', '데려다놓고', '자극', '적', '내용', '글', '싸지르는', '기레기', '놈', '언론플레이', '홀라당', '넘어가서', '악플', '없는', '사실', '폭로', '등', '쓰레기', '짓', '하는', '놈', '많네요', '전', '믿고', '있었습니다', '항상', '응원', '할게요', '언론플레이', '속지', '않은', '제', '자랑스러워요'], ['영상', '길어도', '끝', '까지', '보는건', '예', '몽깅', '뿐'], ['예몽', '영상', '항상', '챙겨', '보는', '중', '중독', '성', '못', '잃어요', '먹방', '만', '봐도', '제', '맘', '풍족해져용', '진짜진짜', '먹는거', '많이', '찍', '어조', '요', '넘', '기여', '워', '요'], ['귀여워여'], ['물', '많이', '마셔요', '귀여워요'], ['이분', '댄서', '인거', '죠'], ['귀엽고', '사랑스러우셔서', '영상', '보는내내', '미소', '지으며', '봤어요'], ['아껴', '봐야지'], ['3. 6492', 'Eastward', '+', 'xi'], ['존나', '어이없다', '강', '형', '욱', '님', '도데', '체', '니', '옷벗은', '거', '보고', '흥분', '이라도', '할까', '아님', '니', '쳐', '만들어', '달라', '하던가', '나', '진짜', '사람', '몰아가는', '수준', 'ㅉㅉ'], ['바고', '파서', '잠', '안', '올', '때', '먹을까', '말까', '할', '때', '마다', '보면', '도움', '되는', '영상', 'single', '위'], ['예', '몽', '님', '화장', '너무', '예쁘게', '잘', '했네요', '잘', '어울려요'], ['음주운전', '김호중', '폭언', '강형욱', '욕', '하지만', '음주운전', '전과자', '이며', '형수', '한테', '폭언', '녹취록', '공개', '된', '이재명', '지지', '하는', '여시노', '괴', '개추', 'ㅋㅋ'], ['썸넬', '하니인줄'], ['진짜', '열심히', '사시는거', '느껴져요', 'ㅠㅠㅠㅜ', '가족', '잘', '챙기고', '일도', '열심히', '하시구', '존경', '항상'], ['한별', '님', '사랑', '상처', '받을', '줄', '아는', '사람', '인데', '왜', '그걸', '존중', '하지', '않고', '뭐라고하는걸', '까요', '속상하네요', '진짜', '나쁜', '사람', '한별', '님', '언제나', '응원', '합니당'], ['너무', '사랑', '해요', '유튜브', '보면서', '언니', '영상', '만', '봐요'], ['아마', '상실', '감', '박탈', '감', '이지', '않을까', '싶네요', '한별', '님', '노력', '보다', '명품', '산것', '들만', '보이', '니까', '요', '그냥', '사람', '심리', '인거', '같아요', '저', '이런', '걸', '크게', '생각', '하지', '않고', '사람', '삶', '다르고', '나', '만', '열심히', '살', '된다고', '생각', '하던', '사람', '인데', '요즘', '그렇게', '생각', '안', '때', '많아요', '이건', '그냥', '그렇게', '살수', '없는', '사람', '자격지심', '이라고', '생각', '해주세요', '그래도', '저', '그냥', '저', '랑', '다른', '사람', '이라고', '생각', '하려고'], ['헐', '사빠', '딸', '저', '맨날', '그것', '만', '먹는데', 'ㅋㅋㅋㅋ', '진짜', '맛있어요'], ['말', '왕', '보다', '왔으면', '개추', 'ㅋㅋ'], ['인트', '구슬', '꿰', '실', '같은', '머리', '요', 'ㅋㅋ'], ['같은', '회사', '에서', '상', '도덕', '무시', '하고', '뉴진스', '컨셉', '똑같이', '만들었다고', '비난', '하길래', '억', '까인가', '싶었는데', '보', '니까', '뭐', 'ㅋㅋㅋㅋㅋㅋ', '화낼', '만', '하네', 'ㅋㅋㅋ', '사실', '같은', '회사', '니까', '음악', '비슷하고', '코', '디도', '비슷하고', '그런다는', '생각', '들었지만', '자꾸', '뉴진스', '겹', '쳐', '보이', 'ㅋㅋㅋㅋ', '심하긴', 'ㅋㅋㅋㅋ', '튼', '애', '참', '이쁘네요', '안타깝네'], ['응원'], ['근데', '진짜', '금수', '저', '이던', '아니던', '뭔', '상관', '이야'], ['나도', '샤넬', '클래식', '백', '여친', '사줬는데', '뭐', '잘', '못', '됨', 'ㅋ', '갖고싶다하면', '사줄수있으면', '사주는거지'], ['전', '되게', '급하게', '먹는데', '천천히', '먹는', '모습', '좋네요'], ['힘내세요'], ['태어난지', '1년', '안된', '아기', '상대로', '인격', '모독', '직원', 'ㄷㄷ', '사상', '문제', '긴'], ['반', '다나', '되게', '잘', '어울리실', '것', '같아요', '빛', '반사', '때문', '반', '다나', '하신', '줄', '알', '우와', '잘', '어울리', '신다', '하구', '생각', '했어요', 'ㅎㅎ'], ['거', '보고', '팔로우', '한다'], ['네이버', '웍스', '본질', '적', '업무', '용', '도구', '이런', '업무', '용', '도구', '가지', '한가롭게', '대표', '그', '가족', '뒷', '다마', '깐다는', '건', '상식', '이하', '대범한', '행동', '였다'], ['현기증', '나', '요'], ['못', '움직이게', '했던', '사람', '레오', '리'], ['악플러', '얘기', '너무', '공감', '돼요', '현실', '에서도', '똑같은', '거', '같아요', '무시', '라는', '말', '왜', '하는', '건지'], ['진짜', '예', '몽', '님', '먹방', '매력', '있는', '것', '같아요', '급하게', '먹지도', '않고', '먹을', '때', '입', '벌리시지도', '않구', '넘', '좋아요'], ['생각', '해보면', '폭로', '시점', '납득', '안된다', '문제', '있었다면', '즉각', '당사자', '간', '합의', '나', '법적', '호소', '했어야지', '수년', '지난', '지금', '와서', '폭로', '한다', '글쎄', '전혀', '공감', '할', '수', '없다', '뿐', '만', '아니라', '부정선거', '선거', '조작', '관련', '하여', '시국', '어수선한', '지금', '언론', '행', '태도', '여러', '모로', '수상한', '많다', '이런', '식', '멀쩡한', '사람', '생매장', '하는', '문화', '빨리', '사라져야', '한다'], ['개돼지', '악의', '적', '모함', '하는거', '신경', '쓰지', '마시고', '가족', '끼리', '시간', '보내시며', '머리', '식히시고', '편안한', '시간', '보내시길', '바랍니다', '저', '대가리', '깨져도', '강', '형', '욱', '님', '응원', '강아지', '항상', '진심', '셨던', '모습', '보면', '알수있', '읍니', '강', '훈련사', '님', '절대', '나쁜', '사람', '아닙니다'], ['피부', '진짜', '좋으세요'], ['481723023', '티아라', '효민', '님', '닮음'], ['뭐', '래', '진짜', '열등감', '파묻혀서', '사나', '사는게', '팍팍하고', '힘들어서', '그런', '가봐요', '유명인', '이라', '해서', '이런', '말', '들어야', '할', '이유', '없고', '민간인', '제', '들어도', '불쾌한', '말', '참', '많네요', '유명인', '살아가기', '참', '힘든', '세', '상이', '구려', '부모님', '사랑', '듬뿍', '받고', '자란', '우리', '모두', '금수', '저', '에요'], ['알아서', '잘', '살겠죠', '알아서', '연애', '하고', '알아서', '쇼핑', '하고', '알아서', '일상', '지내겠지', '자기', '생각', '맞다고', '생각', '할', '수', '있나', '뭘', '하나'], ['현아', '꼭', '푸르지오', '해줘', '어', '갈게'], ['예쁘긴', '해'], ['여론', '흐름', '절대', '적', '강', '대표', '수', '잔', '엘더', '이사', '에게', '힘', '실어', '주고', '있다', '언론', '엿', '이나', '먹어라'], ['존나', '슬프네'], ['금수', '저', '뭐', '고를', '떠나서', '마음', '확실히', '부자', '이신', '것', '같아요', '주변', '시기', '질투', '많이', '겪으신', '것', '같은데', '건강하게', '대처', '하고', '넘기는', '태도', '너무', '멋지고', '대인배', '같네요', '닮고싶다는', '생각', '하면서', '끝', '까지', '봤네요', '요즘', '사는게', '너무', '팍팍하고', '사소한것만으로도', '확', '나고', '그랬는데', '어느', '순간', '제', '너무', '소인배', '되어가고있었던것', '같아서', '한별', '님', '생각', '들으면서', '제', '살아가는', '방식', '대해', '돌아보게', '된', '영상', '이었습니다']]\n"
          ]
        }
      ],
      "source": [
        "import nlpaug.augmenter.word as naw\n",
        "\n",
        "# WordNet을 사용한 증식\n",
        "augmenter = naw.SynonymAug(aug_src='wordnet', aug_max=2)\n",
        "\n",
        "# 텍스트 데이터에 대해 데이터 증식 수행\n",
        "augmented_texts = []\n",
        "for text in X_train:\n",
        "    augmented_text = augmenter.augment(text)\n",
        "    augmented_texts.append(augmented_text)\n",
        "\n",
        "print(augmented_texts)\n"
      ]
    },
    {
      "cell_type": "code",
      "execution_count": null,
      "metadata": {
        "colab": {
          "base_uri": "https://localhost:8080/"
        },
        "id": "TgiGC6dH6UrF",
        "outputId": "ddfef653-3973-4d3f-c6d1-54c6a62d5281"
      },
      "outputs": [
        {
          "name": "stdout",
          "output_type": "stream",
          "text": [
            "Combined X_train: [['예', '몽', '님', '영상', '자주', '올려주세요', '너무', '행복해요', '완전', '팬', '이에요'], ['피부', '붉게', '올라오신거', '혹시', '피부', '나', '몸', '이상', '있으', '신건', '아닌지', '걱정', '되네요', '피부', '과를', '가보', '심', '어떨까', '요'], ['개통', '령', '39', '전', '볼줄도', '모르고', '볼', '시간', '없어요', '39', '같은', '새', '빨', '보이는', '말', '처', '하고', '걸', '그대로', '믿는', '개통', '령빠', '문제', 'ㅋ', '2022년', '기사', '보면', '강형욱', '이런', '상황', '발견', '할', '경우', '엔', '누가', '치우지', '않았는지', '돌려', '본다며', '엘리베이터', '에서', '반려견', '오줌', '쌌는데', '그냥', '가는', '분도', '있다', '그', '보호자', '색출', '해서', '민망하게', '만드는', '짓은', '안', '하지만', '누가', '그랬는지는', '알', '있다', '했던데', '보지', '않고', '보는', '법도', '모른다', '시전', '제', '3', '자인', '고객', '나온', '녹화', '본을', '고객', '동', '의도', '없이', '경찰', '입회', '없이', '사장', '마음대로', '보는것도', '위법', '여지', '큰데', 'ㅋ', '자기', '보고싶을', '때', '돌려', '보누', 'ㅋㅋ'], ['나도', '치킨', '먹을', '생각', '만', '하면', '텐션', '오르고', '설렘', '넘치는', '사람', '으로써', '저', '행복감', '알', '대리', '만족', '하구', '갑니다'], ['구두', '영상', '찾아보다가', '우연히', '보게', '되었는데', '말씀', '논리', '정연', '너무', '잘', '하시고', '일단', '멘탈', '너무', '멋있으세요', '닮고싶어서', '구독', '했습니다'], ['그냥', '내', '관심', '있는', '영상', '보고', '재밌으면', '됐지', '뭐', '이리', '남', '한테', '관심', '이렇게', '많을까', '진짜', '인생', '피곤하게', '사는듯'], ['아니', '근데', '감시', '맞다고', '해도', '그게', '뭐', '문제', '내', '운영', '하는', '곳', '인데', '볼수있는거', '아님', '화장실', '아니고', '뭔'], ['난', '언니', '목소리', '참', '좋아요'], ['527847', '참고', '해', '둘게요', '이제', '금수', '저', '단어', '금지'], ['꽤', '오래전', '부터', '구독', '해', '왔습니다', '처음', '봤을', '때', '나', '지금', '이나', '성숙한', '태도', '저', '자신', '많이', '배우게', '됩니다', '항상', '응원'], ['직원', '참', '바보', '회사', '메신저', '그런', '사담', 'ㅋㅋㅋ'], ['아니', '하트', '주시', '거', '랑', '한별', '님', '댓글', '답', '하실', '때', '어떤', '말투', '주시는지는', '본인', '마음', '아닌가', '음', '댓글', '말투', '공격', '적', '이지', '않았다면', '한별', '님', '좋게', '말씀', '해주시', '않았을까', '하는', '생각', '드네', '요'], ['거', '보고', '치킨', '시켰다', '못', '참겠다'], ['보니', '모든', '악플', '원인', '열등감', '이다', '불쌍해', '진심'], ['본인', '방금', '편의점', '갔는데', '검정', '봉투', '주길래', '편의점', '때려', '부수', '왔다', '배변', '봉투', '주길래', '부들부들하고있는데', '까지', '있는거', '보고', '개', '박살', '내', '옴', '손발', '덜덜', '떨려서', '이제', '7년', '간', '정신과', '약', '먹고', '편의점', '사장', '고소하려고'], ['항상', '그래', '왔다', '조선인', '괴롭힌', '건', '조선인', '였고', '조선인', '팔', '아', '먹은', '것', '조선인', '였다', '그러다', '조선', '멸망', '케', '것', '조선인', '였다', '백년', '지났지만', '바뀐게', '아무', '것', '없다'], ['치워'], ['예', '며', '들었어요'], ['사람', '꼭', '자기', '주관', '편견', '고정관념', '객관', '사실', '인지', '하고', '받아들인다', '무식하게'], ['밥', '먹으면서', '보면', '같이', '밥', '먹는', '기분', '이라', '좋아요', '나긋나긋한', '목소리', '랑', '재밌는', '자막', '이랑', '계속', '보게', '되네요'], ['표정', 'ㅋㅋㅋㅋㅋㅋㅋㅋ', '후'], ['아일릿', '안무', 'ㅈ', '같노'], ['잘', '배', '꼈네', '클라스', '달', '배꼈쿠', '만', 'ㅋㅋㅋㅋ', '뉴', '스', '후속', '느낌', '이든', '이유', '나', '만', '일까', '뉴진스', '장원', '영파', '느낌', '남', 'ㅎㅎ'], ['인종차별', '왜', '차이니즈', '재패니즈', '라고', '만', '차별', '할까', '우린', '당당한', '코리아', '라고', '제발', '동양인', '중', '일본', '중국', '언급', '그만', '우리', '빛나는', '한국인', '이라고', '코리', '아크', '악'], ['대', '민', '주'], ['진짜', '살이', '빠져서', '그런', '건', '염색', '때문', '인지', '인상', '달라', '보이', '예뻐지셨음'], ['다이어트', '말로', '만', '중', '인데', '몸무게', '안줄지', '치킨', '먹고싶지', '우울해하면서', '돌아다니다', '밝은', '모습', '진짜', '너무', '좋아서', '시간', '가는', '줄', '모르고', '봤어요', 'ㅋㅋㅋㅋㅋㅋㅋㅋㅋ', '매번', '20', '15', '10', '10', '반복', '하는', '다시어', '터', '인데', '전', '먹는걸', '너무나도', '좋아해서', '살', '단기간', '확', '빼도', '음식', '먹지', '않으면', '결국', '불행하고', '우울해지구', '삶', '즐거움', '없어지더라구요', '무', '튼', '지금', '처럼', '밝은', '모습', '음식', '드시면서', '스트레스', '받지', '않는', '선', '에서', '주기', '정해', '식단', '만', '신경', '써', '주셔도', '조금씩', '성과', '보일거에요', '막', '거창하게', '39', '내일', '부터', '굶게', '쒀', '39', '하기보단', '39', '내일', '간식', '포함', '세', '끼', '만', '먹어야', '징', '39', '하는게', '정신', '적', '으로도', '장벽', '낮아져서', '도움', '되더라구요', 'ㅎㅎ', '암튼', '응원'], ['그리운', '예', '몽', '님'], ['뉴진스', '고딩', '느낌', '이고', '아일릿', '중딩', '것', '같아요', '처음', '에는', '같아도', '지금', '몽환', '느낌', '이라서', '좋은', '것', '같아요', '상처', '안', '받았으면', '좋겠네요'], ['좋은', '훈련사', '강형욱', '훈련사', '님', '늘', '남아주세요', '기업', '경영', '다른', '문제', '것', '같아요', '정말', '애', '많이', '쓰셨어요', '기운내십시요'], ['이래서', '필요하다', '돈', '받으려면', '시키는', '것', '만', '해', '라', '할', '일이', '없으니까', '딴', '짓', '하고', '딴', '생각', '하고', '근데', '명절', '돈', '이지', '스팸', '때우는건', '실수'], ['조민지', '님', '안', '아프세요'], ['무례한', '질문', '에도', '친절하게', '답변', '해', '주실려고', '해서', '감사합니다'], ['영상', '보고나니', '지극히', '개인', '적', '가족', '회사', '라서', '또', '훈련사', '이지', '사업가', '아니라서', '소통', '미숙', '하고', '사업', '미숙', '하셨다고', '생각', '함다', '가족', '회사', '이기', '때', '매더', '조심', '히', '존중', '하면서', '대화', '해도', '솔직한', '소통', '될', '까말', '까예요', '툭', '까놓고', '이야기', '해서', '언제', '까지', '일', '하고', '싶으시냐는', '질문', '솔직하게', '기', '아니다', '대답', '하기', '어렵죠', '중간', '이사', '라는', '분도', '대표', '님', '가족', '이니', '중간', '관리자', '있었더라면', '소통', '훨씬', '유익하고', '서로서로', '더', '이해', '할', '수', '있었다', '봅니다', '결국', '가족', '사업', '미숙', '이라', '생각', '전', '강쌤', '팬'], ['예', '몽', '님', 'ㅎ', '진짜', '퍼컬', '진단', '받고', '화장실', '력', '늘으신', '거', '같아요', '되게', '잘하세요'], ['아니', '첫', '장면', '몽골', '에서', '뛰어', '노', '꼬마', '아이', '같아요', '너무', '귀여워요'], ['완전', '공감', '이에요', '무시', '라는', '말', '공개', '적', '직업', '아닌', '그냥', '일반인', '저', '자주', '듣는', '말이거든요', '누군가', '나', '에게', '무례한', '말', '나쁜', '말', '악의', '적', '말', '해서', '상처', '받거나', '화가', '났는데', '주변', '에서', '그래', '봤자', '너', '만', '손해', '야', '그냥', '무시', '해', '라고', '하면', '무시', '안', '되는데', '무시', '라고', '하는', '정말', '너무하다고', '생각', '거든요', '왜', '내', '화가', '나고', '저', '사람', '잘', '못', '했는데', '무시', '하고', '넘어가지', '못', '한다고', '내', '타박', '들어야', '하는지', '이해', '안', '돼요', '무슨', '의도', '무시', '라고', '말', '하는', '건지는', '이해', '하지만', '안', '그랬으면', '좋겠어요', '정말로'], ['예', '몽', '님', '포테킹', '드시는거', '보', '니까', '저', '먹고싶어졌어요'], ['약간', '코맹맹', '소리', '나시는거', 'ㅋㅌㅋㄱㄱ', '넝', '귀여우셔', '정말', '가치관', '너무', '멋지셔요'], ['논리', '시시비비', '따져서', '맞을지', '모르지만', '좀더', '현명하게', '대처', '하였다면', '그리고', '대처', '한다면', '더', '좋을', '것', '같네요', '이성만', '앞세우고', '감성', '베', '제하', '관리자', '로서', '애로', '사항', '반드시', '부딪힙니다', '그리고', '직원', '사장', '님', '윗', '상사', '맨날', '욕', '한다고', '보시', '관리', '하셔', '야해요', '너그럽게', '본건', '못', '본', '척', '대수롭지', '않은건', '그냥', '넘어가야', '해', '요', '원칙', '규정', '규칙', '너무', '앞세우는', '의식', '두', '분', '가지', '계시네요'], ['아주머니', '분', '계십니다'], ['현이', '해', '요', '스파오', '에요', '그레', '요'], ['머리색', '개', '이쁜데', '무슨', '색', '이지', '애쉬', '퍼플', '인가'], ['차분한', '군자', '먹방', '있다면', '이런것이군요', '머리', '웬즈데이', '같고', '잘', '어울리십니다'], ['내', '롤모델', '한별', '님'], ['소위', '유튜버', '라는', '애', '그렇다', '컨텐츠', '너무나', '성의', '없이', '생산', '한다', '떠', '루머', '나', '확인', '되지', '않은', '저급한', '정보', '생산', '된', '컨텐츠', '대부분', '이다', '정보', '로써', '가치', '거의', '없다', '후', '하게', '점수', '준', '다해', '잡담', '수준', '넘지', '못', '한다', '유튜브', '라는', '소통', '공간', '이런', '저', '질', '컨텐츠', '홍수', '이루고', '있다는', '안타까운', '현실', '이다'], ['새벽', '여섯시', '잔치국수', '김치전', '대박'], ['자영', '업자', '면접', '볼때', '민주', '사상', '인가', '아닌가', '물어보고', '뽑아라', '노동청', '민원', '졔기', '했는지', '안', '했는지', '그', '회사', '왜', '퇴사', '했는지', '확인', '하고'], ['언니', '노력', '만큼', '보지', '않고', '겉', '보이', '는걸', '판단', '하는', '사회', '진짜', '싫다'], ['난', '하나', '잘못', '거', '없다는', '것', '아니고', '좋은', '대표', '아니었고', '직접', '만나', '사과', '하고', '벌', '받을', '건', '받겠다', '하는', '사람', '인데', '전', '직원', '개인', '적', '만나서', '해결', '하면', '되는', '거', '아닌가', '언제', '까지', '언론', '사람', '물어', '뜯을', '거', '냐'], ['응원'], ['정훈', '공주', '닮으셨어용'], ['열등감', '덩어리', '서준', '김', '알리오', '2355', '인신공격', '악플', '여러', '개', '함', '전효성', '채널', '에서도', '인신공격', '달았다', '삭제', '하더니', '여기서도', '저러네', '왜', '저래'], ['민감한', '질문', '조곤조곤하게', '잘', '이야기', '해주시네요', '영상', '보기전에는', '그냥', '금수', '저', '유', '튜버', '인가', '보다', '했는데', '영상', '보고', '나니', '마음', '바', '꼈어요', '생각', '보다', '훨씬', '더', '멋있는', '여성', '분', '것', '같네요', '악플', '신경', '쓰지', '마시고', '늘', '좋은', '영상', '부탁드려요'], ['노래', '진짜', '좋네요'], ['한번', '먹은줄', '별로', '안', '먹네요'], ['윤아', '티', '치마', '입음', '안되겠다', '허리', '너무', '길어'], ['변명', '뿐', '영상', '뭐', '이해', '간', '다는거지', 'ㅋㅋㅋ', '9670원', '이해', '간다', '댓글', '작업', '그만', '하소'], ['어글애', '원희', '형', '이야'], ['예쁜', '한별', '님'], ['의상', '노래', '춤', '넘', '이뻐요'], ['대', '다나', '저', '결단', '력', '실행', '력'], ['인생', '연예인', '전부', '한국', '아줌마', '울고불고', '난리', '났다', 'ㅋㅋㅋㅋㅋㅋㅋㅋㅋㅋㅋㅋ'], ['생각', '해보면', '아일릿', '뭔', '잘', '못', '이겠냐', '어른', '문제', 'ㅅ', '청소년', '친구', '있는데', '10', '대', '때', '부터', '인생', '욕', '최', '듣지', '않을까'], ['사실', '상', '쪽', '근본', '아닌가', '통', '수돌', '보다야'], ['음', '멈출수없어'], ['앞니', '씹나'], ['냉정하게', '요', '목조', '목', '두', '쪽', '들어', '봤으니', '결과', '기다리면', '된다', '편', '가르기', '식', '감정', '적', '치우쳐', '봤자', '결국', '엔', '기다리면', '누가', '나쁜', '인간', '인지', '알수', '있다'], ['예', '몽', '님', 'ㅎㅎ', '영상', '너무', '좋아요', '그런데', '혹시', '다음', '에는', '이렇게', '길고', '예', '몽', '님', '혼자', '조용히', '드시는', '영상', '없는', '영상', '한번', '만들어주실', '수', '있을까요', '예', '몽', '님', '사부작사부작', '드시는', '소리', '더', '잘', '듣고', '싶은데', '영상', '내내', '배경음악', '깔려있어서', '개인', '적', '조금', '아쉬웠어요', '개인', '적', '의견', 'ㅎㅎ'], ['성실히', '살아가기', '보다는', '잔꾀', '나', '요령', '혹은', '고자질', '세상', '쉽게', '살아가려는', '악풍', '결국', '부정선거', '관행', '화', '불러왓다', '본다', '입법', '사법', '행정', '비롯', '모든', '분야', '대동소이하게', '부패', '타락해', '있다', '특정', '정치인', '탓', '아니며', '특정', '집단', '탓', '아니다', '우리', '사회', '구성원', '모두', '에게', '그', '책임', '있다', '그', '연대책임', '에서', '자유로울', '수', '있는', '국민', '단', '사람', '없다', '생각', '한다'], ['가끔', '영상', '뜨면', '봤었는데', '거', '보고', '너무', '마인드', '좋고', '멋있어서', '구독', '햇', '어', '요'], ['예몽같', '친구', '있었음', '좋겠다', '맛있는것도', '먹으러', '가고', 'ㅋㅋ', '얘기', '만', '나눠도', '재밌을듯'], ['민주', '귀여워'], ['한편', '통한', '직원', '감시', '행위', '\\xa0', '직장', '내', '괴롭힘', '인정', '될', '가능성', '있어', '주의', '요', '고용노동부', '직장', '내', '괴롭힘', '판단', '및', '예방', '대응', '매뉴얼', '통한', '감시', '일하거나', '휴식', '하는', '모습', '지나치게', '감시', '직장', '내', '괴롭힘', '사례', '예시', '하고', '있고', '고용노동부', '직장', '내', '괴롭힘', '인한', '건강', '장해', '예방', '매뉴얼', '회사', '내', '설치', '되어', '있고', '해당', '모니터', '중간', '관리자', '자리', '설치', '되어', '있음', '출입구', '등', '사람', '지키고', '있지', '않아', '외', '에는', '직원', '움직임', '확인', '할', '수', '없는', '구', '조', '에도', '간식', '먹고', '난', '후', '간식', '맛있었냐는', '등', '실시간', '모니터', '직원', '관찰', '하고', '경고', '메일', '메시지', '등', '보내는', '방식', '감시', '사실', '직원', '에게', '주지', '시킨', '사례', '사적', '일', '지나치게', '간섭', '하는', '개인', '적', '영역', '대한', '침해', '로서', '직장', '내', '괴롭힘', '해당', '하는', '사례', '예시', '하고', '있습니다', '개통', '령', '와이프', '뭐', '찔리는거', '없', '누', 'ㅋ'], ['언니', '진짜', '늘', '보면서', '유익한', '정보', '많이', '얻어요', '정말', '너무', '좋아하는', '유튜버', '에요'], ['귀엽고', '착한', '예', '몽', '님', '건강', '위해', '서', '식이', '조절', '하는게', '좋을거', '같아요'], ['그건', '그렇다', '쳐도', '강형욱', '씨', '만원', '보낸', '거', '팩트', '메신저', '시찰', '팩트', '것', '만', '해도', '논란', '크지', '않나요'], ['그냥', '힘내세요'], ['우와', '진짜', '맛있겠다', '참', '고인다'], ['예', '몽', '님', '보고싶', '엉', '젼', '아몬드', '봉봉', '조아요'], ['귀엽당', '동생', '이었음', '좋겠당'], ['오른쪽', '분', '핑크색', '바지', '정보', '알', '수', '있을까요', '!', '너무', '예뻐요', '!!'], ['10', '번째', '질문', '에서', '만약', '이라도', '좋아하는', '댓글', '에만', '하트', '주는', '건', '당연한거', '아닌가요', '대부분', '사람', '좋은', '말', '이쁜', '말', '고운', '말', '듣는', '것', '좋아하지', '나쁜', '말', '또는', '욕', '겉', '으로만', '보고', '판단', '하는', '댓글', '좋아할', '리가', '없잖아요', '늦게', '댓글', '달', '하트', '바라는', '건', '의미', '없다고', '생각', '해요', '오직', '한별', '님', '영상', '댓글', '됐다는', '이유', '만으로도', '좋아할', '수', '있어요', '그러니까', '사람', '듣기', '싫어하고', '좋아하는', '말', '구분', '해가면서', '댓글', '달', '좋겠어요', '한별', '님', '영상', '댓글', '봐', '온', '사람', '으로써'], ['만', '유아', '틱', '덜한', '옷', '입으니까', '윤아', '훨씬', '눈', '잘', '보인다', '너무', '예쁨'], ['안정감', '있고', '끝날', '때', '까지', '끜난', '아니다', '할', '때젤', '조음', 'ㅋㅋㅋ'], ['쯧쯧', '모질이', '들어', '따', '대고', '욕질', '이야', '세상', '살아라'], ['한별', '님', '예쁘네요'], ['이쁘네'], ['한별', '님', '덕분', '많은', '걸', '깨닫고', '배우고', '있어요', '전', '명품', '하울', '영상', '에서', '명품', '왜', '소비', '하고', '계시는지', '설명', '해주시는', '거', '보면서', '명품', '대해', '무의식', '적', '가지', '있던', '선입견', '깰', '수', '있었고', '이번', '영상', '에서는', '악플', '받는', '사람', '에게', '무시', '라고', '하는', '잘', '못', '된', '행동', '이라는', '내용', '가장', '인상', '깊었어요', '보면', '볼', '수록', '참', '올바른', '사고방식', '가지', '계신', '것', '같습니다', '저', '고등학생', '때', '부터', '39', '예민하게', '반응', '하자', '39', '걸', '모토로', '살', '있는데', '39', '나', '에게', '행해지는', '무례', '내', '무감', '과연', '누가', '나를', '지킬', '수', '있을까', '39', '하는', '제', '생각', '똑같은', '말씀', '너무', '공감', '되어', '이렇게', '댓글', '남겨', '봐요', '항상', '건강', '챙기시고', '응원'], ['금보', '니', '혈당', '최악', '음식', '만', '들이', '부었네', '초밥', '국수', '아이스크림', '도넛', '김치전', '빵', '치킨', '김밥', 'ㅎㄷㄷ', '음식', '먹자마자', '얼굴', '벌겋게', '되는', '거', '소름'], ['마인드', '너무', '좋다'], ['정국', '운동화', '정국', '운동화'], ['금수', '저', '관련', '답변', '진짜', '공감', '되어요', 'ㅋㅋㅋㅋ', '우문', '현', '답'], ['언니', '처음', '양갈래', '넘나', '귀여운', '것', '45분', '너', '뮤', '소듕', '해', '아껴', '볼게요', '고마워용'], ['혈관', '살려', '달라', '외치', '있네', '혈색', 'ㄷㄷㄷ'], ['39', '39', '3'], ['강', '형', '욱', '님', '채널', '에서', '특히', '견종백', '즐겨', '보던', '사람', '고양이', '키우지만', '강형욱', '훈련사', '님', '늘', '웃으면서', '강아지', '놀아주며', '견종', '역사', '라던가', '설명', '해', '주시는거', '보면서', '즐겁게', '봤었는데', '이런', '안타까운', '문제', '마음', '고생', '심하게', '하셨을거', '같습니다', '댓글', '보실지는', '모르겠지만', '힘', '내시', '좋겠습니다'], ['민주'], ['그래도', '졸업', '하시는게', '좋을거', '같아요'], ['내', '일만', '잘', '하면', '대고', '시시비비', '따지면', '그런', '사람', '뽑지마라', '야하고', '가사', '장하지', '왜', '지적', '질', '인지', '그', '놈', '문제', '였네'], ['야', '니', '여친', '명품', '받고', '싶어', '받으면', '좋아해', '근데', '그게', '너', '한텐', '너무', '큰', '돈', '이라', '부담스러워하는거야', '너', '돈', '없어서', '이런거', '아까워', '해서', '니', '여친', '명품', '안', '좋아해서', '다행', '이다', '이러는게', '아니라', '못', '해줘서', '미안해하라', '구', '니', '여친', '정말', '불쌍해', '여친', '명품', '좋아해서가', '아니라', '너', '한테', '그', '정도', '밖에', '가치', '안되는거', '같아서', '안쓰럽다구'], ['이래서', '여자애', '뽑으면', '안', '돼', '개념', '없고', '성차별', '적', '강박', '사', '잡혀있음'], ['악플', '그냥', '고소해', '버리세요', '잘못', '사람', '따로', '있는데', '왜', '한별', '님', '먹', '금', '해야하나요', '항상', '응원', '합니당'], ['한별', '최고'], ['그래도', '어릴', '때', '부터', '유럽', '여행', '캐나다', '여행', '가실', '정도', '제', '기준', '여유롭게', '사시는거', '같아요', '부럽'], ['이로하', '개', '이뻐'], ['힘내세요', '남', '눈', '피', '눈물나게하면', '되돌아간다', '전', '직원', '악플러', '평생', '저주받을거다'], ['안녕하세요', '언니', '이번', '우연히', '보다가', '언', '니거', '영상', '쭈우욱', '보고있어요', '근데', '열', '불나네요', '아니', '내', '돈', '주고', '사던', '말던', '남친', '이나', '부모님', '사주던', '말던', '등골', '빼먹던', '말던', '걸', '답', '해주는', '언니', '인성', '빼고', '납득', '되는게', '없네요', '이상한', '사람', '참', '많다'], ['가치관', '너무', '멋지네요', '하나', '부터', '열', '까지', '맞는', '말', '만', '하셔서', '공감', '되면서도', '느끼는', '많아졌어요', '내면', '정말', '멋진', '분', '같아요', '항상', '응원', '할게요'], ['잉잉', '인기', '순', '쭉', '보고', '있는데', '넘', '귀여워요'], ['2만', '2천원', '짜리', '티셔츠', '리뷰', '하는데', '금수', '저', '라고', '무슨', '옷', '줏어입', '나'], ['나', '언니', '편'], ['저', '요', '저', '처음', '부터', '끝', '까지', '정', '주행', '했어요', '키키', '찐', '옹심이', '오늘', '잘', '보고', '갑니다', '다음', '영상', '기다릴게', '유'], ['언니', '너무', '이쁘고', '귀여운거아니야'], ['엠생', '인생', '사는', '서준', '아', 'ㅋㅋㅋ', '평일', '내내', '그러고', '다녀', '보니', '어때', '기분', '나아졌어', '주말', '에도', '기대할게'], ['할거', '하면서', '노', '모습', '너무', '멋지다', '힘들어', '보이', '니까', '하루', '정도', '푹', '쉬어요', '!', '병창', '오빠', '파이팅'], ['긴', '영상', '너무', '좋아여', '덕질', '뒷전', '미루고', '보는', '예', '몽', '님', '영상', '입니당', 'ㅎㅎ'], ['너무', '멋지세요', '언니'], ['저', '개', '저', '씨볼때', '마다', '너무', '불편한게', '뭐', '냐', '내', '직원', '일', '했던', '좆', '소', '사장', '알바', '사장', '떠올라서', '그런다', '한번', '내', '뭐', '실수', '니까', '카톡', '지금', '뭐', '거', '빨리', '치우시라고', '해서', '놀라서', '두리번거리니까', '아예', '뒤쪽', '앉아서', '핸드폰', '씨', '씨', '티비', '켜고', '실시간', '감시', '하고있더라', '진짜', '뭔가', '싶었다', '못', '배운', 'ㅅ', '끼', '아니였고', '흔', '한개', '저', '씨', '였는데', '대체', '뭐', '싶어서', '그날', '관', '둔다고하고', '지원', '하는', '애', '있으면', '알음', '알음', '하지말라고', '알려', '준다', '이미', '저', '업계', '쟤', '만행', '알', '읶었', '거임', '개', '저', '씨', '유독', '낯짝', '뻔', '뻔한데', '난', '도저히', '이해', '가안', '간다', 'ㅋ', '징징거릴거면', '악덕', '사', '장단', '톡', '하시고', '그딴', '식', '사', '니까', '꼴', '난거야', '아저씨', '야', 'ㅉㅉ'], ['아릿일', '언니', '성은', '만음', '속', '있어요'], ['요거트', '31', '완전', '최애', '예요', '영상', '잘봤숩미'], ['아니', '연어초밥', '연어', '두', '줄', '띡', '올라가있는거', '개', '웃기', '넼', 'ㅋㅋㅋㅋㅋㅋㅋㅋㅋ'], ['이제', '그냥', '그', '성별', '뽑지', '마시죸', 'ㅋㅋㅋㅋㅋ', '숨겨놓은', '지뢴데', '위험부담', '할', '필요', '있음'], ['진짜', '언니', '명품', '사는', '건', '언니', '엄청난', '노력', '수고', '충분히', '있었고', '명품', '살', '만', '가치', '충분히', '있어서', '얻는건데', '대체', '들이', '무슨', '상관', '인지'], ['여신', '줄', 'ㅋㅋㅋㅋ'], ['보고싶다', '언니'], ['영상', '올라올', '때', '마다', '기쁘게', '보고', '있어요', '재미나', '재미나'], ['364910631743', '귀걸이', '예', '몽', '님', '이랑', '너무', '잘', '어울려요', '정보', '알려주실', '수', '있나요'], ['저', '최애', '촠', '나'], ['진짜', '뚱뚱하시네요', '정말', '놀라와', '요'], ['언니', '속상했겠다'], ['이제', '뽑지', '마세요', '나거한'], ['이렇게', '긴', '영상', '좋아요'], ['귀여워요', '저', '다이어트', '시작', '해서', '매일', '기록', '하고', '있어요', '오늘', '점심때', '잔치국수', '먹었는데', '영', '상보', '니까', '또', '먹고', '싶네요', 'ㅋㅋ'], ['액션', '취할려', '9800원', '보냈다는건', '너무', '억지', '같음'], ['살다', '보', '니까', '정말', '못', '된', '인간', '있더라고요', '그', '못', '된', '인간', '한테', '걸려서', '꿈', '접고', '마음', '얼마나', '상처', '깊어지셨을까', '마음', '아프더군요', '레오', '이야기', '하실', '때', '훈련사', '분들', '이야기', '하시며', '우실', '때', '진심', '느껴지고', '저', '울었습니다', '부디', '기운', '내시길', '바랍니다', '조', '회수', '올', '리기', '위해', '서', '자극', '적', '제목', '선동', '기사', '올린', '기자', '유투', '버들', '그거', '업', '이고', '죄', '사람', '한평생', '살면서', '덕', '쌓지', '못', '할', '망정', '그렇게', '업', '쌓아', '서야', '되겠습니까', '당신', '후손', '한테', '그', '업보', '내려갈것'], ['나긋나긋한', '예', '몽', '님', '넘', '좋아요', '집안', '분위기', '따뜻해서', '볼', '때', '마다', '힐링', '이에요'], ['해명', '되었는데', '개훌륭', '왜', '안', '하는데', '여자', '탈의실', '더', '조사', '할게', '남았나'], ['아니', '스페인', '예쁘다고', '거기', '이민', '갈', '정도', '재력', '있는', '부모님', '두', '신건', '그냥', '금수', '저', '라고', '하는거에요', '지금', '현재', '경제', '상태', '판단', '하는게', '아니라'], ['이분', '약간', '크리', '탈', '닮으', '심'], ['대놓고', '뉴진스', '따라', '만든', '그룹', 'ㅋㅋㅋㅋ', '돈', '되니', '어쩔', '수', '없는듯', '뉴진스', '짭', '퉁'], ['머리', '땋은거', '넘', '귀엽', '어머님', '잘', '땋', '아', '주셨', '용', 'ㅎㅎ'], ['저', '언니', '즐깁니당', 'ㅋㅋㅋ', '내', '살', '수', '없으니까', '언니', '라도', '즐기세오', '갖고싶은', '명품', '사시', '갖고싶은', '물건', '사세오', '제발', '사주세오', '그리고', '보여주세요', '대리', '만족하게', 'ㅋㅋㅋ'], ['입술', '뭐', '바른지', '정보', '요', '!!!!!!!', '진짜', '이쁘다'], ['제', '최애', '바람', '함께', '사라지다'], ['예', '몽', '님', '너무', '귀여워요', '자주', '올려주세요', '보고싶어용'], ['많이', '힘드시겠지만', '두', '분', '믿고', '응원', '하는', '사람', '많다는거', '잊지', '말', '아', '주세요', '형욱님', '수', '잔', '님', '힘내세요'], ['악플', '진짜', '어휴', '영상', '잘', '봤어요'], ['길수록', '좋다구요'], ['언니', '너무', '좋아용', '사랑', '해요'], ['정말', '죄송합니다', '이번', '일로', '큰', '충격', '받았습니다', '언론', '에서도', '크게', '보도', '하고', '내용', '구체', '적', '이고', '거기', '평소', '크게', '관심', '없었던', '분야', '라', '영상', '많이', '안', '봤었어서', '너무', '쉽게', '논란', '믿었던', '거', '같습니다', '누구', '하나', '담그기', '쉬운', '나라', '시대', '살', '있음에도', '한번', '의심', '안', '했네요', '이번', '일로', '중립', '지키기', '위해', '힌번', '더', '생각', '해볼', '수', '있는', '계기', '된', '것', '같습니다', '고맙고', '죄송합니다', '강', '형', '욱', '님'], ['진짜', '생각', '치', '않은', '단어', '대한', '생각', '전환', '됐던', '영상', '이었어요', '극단', '적', '주관', '적임', '이라는', '개성', '있고', '자유롭지만', '혼란', '스럽고', '어렵네요', '근데', '저', '긍정', '적', '생각', '하고', '스스로', '잘아는게', '중요하다는걸', '깨닫게', '해주셨어요', '제', '옷', '잘', '못', '입어서', '유튜브', '보다', '말', '잘', '하시고', '생각', '닮고', '싶어졌어요', '응원', '하고', '존경', '해여', '퐨', '됐어요', '하루', '만에', '별별', '되', '버렸', '여'], ['돈', '있는', '사람', '돈', '쓰는데', '왜', '싫으면', '영상', '안보', '되지', 'ㅋㅋㅋㅋㅋㅋㅋㅋㅋ', '꾸준히', '보러오면서', '악플다는', '사람', '시간', '많아서', '부럽네요'], ['마인드', '닮고', '싶어요', '영상', '보길', '잘', '했네요', 'ㅎㅎ'], ['남돌', '여', '돌', '통틀어', '역대', '데뷔', '곡', '최', '음방', '1', '위'], ['맛', '잇겟다'], ['제', '최애', '슈팅슽', '아'], ['귀여워요'], ['364939039', '아닛', '연어초밥', '하나', '만', '연어', '되게', '작은거', '너무', '웃기', '귀엽닼', 'ㅋㅋ'], ['남', '여유', '로움', '시기해서', '욕', '하는건', '본인', '자신', '삶', '만족하지', '못', '한다는', '것', '이지', '요', '자신', '처지', '비관', '하긴', '싫으니', '남', '욕', '하는', '불쌍한', '사람'], ['저', '훈련사', '님', '믿습니다'], ['한별', '언니', '사랑', '해요'], ['그냥', '봐', '어차피', '강형욱', '이겨'], ['귀여우셔요', 'ㅋㅋㅋㅋㅋ'], ['서준', '김', '알리오', '2355', '강형욱', '싫어하면서', '며칠', '동안', '여기', '꾸역꾸역', '들의', '와서', '악플', '인신공격', '썼다', '지웠다하면서', '반복', '중', '진짜', '추잡하고', '유약함'], ['영상', '45분', '길이', '개', '좋은데', '요', '앞', '또', '영상', '만', '주', '구', '장창', '볼듯', '해', '여'], ['아유', '귀여워', '예', '몽', '세상', '에서', '제일', '귀여워'], ['옴뇸뇸', '먹는게', '넘', '귀여워용'], ['강형욱', '죽이', '기네', '요', '마녀사냥', '당하지', '마시고', '반드시', '진실', '파헤쳐서', '꼭', '다시', '우리', '개통', '령', '나타나셨음', '정신', '적', '육체', '적', '많이', '힘들게', '보이셔서', '안타깝습니다'], ['군대', '생각', '해', '보자', '부대', '원', '몇몇', '부대', '장', '뒷담화', '통해', '부대', '기강', '흐트', '려', '놓앗다면', '어떻게', '되겠는가', '명백한', '반란', '행위', '라는', '내', '판단', '이다', '반란', '군법', '최고', '형벌', '피', '하기', '어렵다'], ['와글', '이쁘노', '그만', '이뻐', '봐', '이원희'], ['이쁘', '긴한데', '노래', '하는', '꼬', '라지', '초등생', '수준', '안되니'], ['강아지', '다루는', '곳', '없는게', '진짜', '이상한거다'], ['제', '베', '라', '최애', '러브', '미용', '베리', '맛', '인데', '맛있어용', 'ㅎㅎ'], ['힘내세요', '실수', '했다면', '고치', '되는거예요', '전', '강', '형', '욱', '님', '응원'], ['ㅋㅋㅋㅋㅋㅋㅋㅋㅋㅋㅋㅋㅋㅋ'], ['니', '부부', '말', '맞추고', '찍은', '저', '영상', '에서', '하는', '말', '진실', '이라고', '우리', '국민', '신뢰', '할거라고', '생각', '했어', '니', '부부', '변명', '서로', '말', '틀리면', '녹화', '중단', '하고', '다시', '찍은', '저런', '영상', '에서', '하는말을', '우리', '국민', '사실', '냥', '믿어줄줄', '알았어', 'ㅋㅋㅋ', '우리', '국민', '아주', '바보', '멍청이', '봤구나', 'ㅋㅋㅋㅋ'], ['휴', '한심한', '그', '남'], ['첫', '번째', '장면', '핑크색', '옷', '젤', '잘어율랴', '요'], ['민희진', '심정', '알', '것', '같아', '안무', '메이', '컵', '등', '왜', '파이', '크게', '못', '놔두는', '건지', '설명'], ['첫인상', '아무리', '봐도', '카피', '돌이'], ['혼자', '서', '발악', '하며', '인신공격', '도배', '하는', '머', '저리', '있네', '불쌍하다', '불쌍해', '본인', '인생', '구제', '하는건', '본인', '밖에', '못', '하는데', '그것', '못', '함'], ['그냥', '가수', '인가', '싶음'], ['완전', '솜사탕', '나라', '애기', '공주', '님', '덜', '재질'], ['엑', '믹스', '눈', '씻고', '다시', '봐도', '뉴진스', '아', '류', '첫인상', '별루', '컨셉'], ['그런', '찌질한', '사람', '막상', '이런', '영상', '보지', '않는다는', '거', '꼭', '꼭', '무식한거', '티', '내지'], ['대라', '만족', '굳', '잡'], ['한별', '님', '얼마나', '생각', '깊고', '풍부한지', '알', '수', '있는', '영', '상이', '요', '정말', '다양하고', '별별', '사람', '사는', '요지경', '이네', '요', 'ㅋㅋ'], ['왜', '다른', '포테킹', '영상', '보다', '영상', '에서', '더', '포테킹', '먹고싶어지는걸', '까여'], ['내', '모습', '같아서', '거울', '치료', '됨'], ['뭐', '문제', '되는거지', '자기', '맡은', '일', '제대로', '하면', '문제', '될꺼', '없지', '있는게', '무슨', '문제', '생기거나', '논쟁', '있어을', '때', '증거', '되고', '반박', '할', '의미', '없는것', '같네', '해명', '내용', '보니', '참', '비난', '받을', '일이', '냐', '세명', '소', '세', '요', '메신저', '보신거', '법적', '처벌', '받아야', '되는거면', '받으시더라도', '받고', '고소하세요'], ['유튜브', '수익', '말고', '명품', '살', '수입', '원', '따로', '있는지', '궁금해요', '그냥', '궁금합니다', '제', '상상', '으로는', '어렸을', '때', '부터', '세뱃돈', '저축', '하고', '제태크', '부동산', '이런', '거', '밖에', '안', '떠올라서', '아', '스페인어', '하시니까', '통역', '버실', '수도', '있겠네요', '근데', '채널', '특성', '상', '구체', '적', '답변', '받기', '힘들것', '같아서', '구', '냥', '계속', '궁금할것', '같네여'], ['얘', '그냥', '오디션', '붙고', '노래', '부른게'], ['말', '너무', '잘', '하세요'], ['강형욱', '훈련사', '님', '응원', '화이팅'], ['힘내세요'], ['말', '어쩜', '저리', '잘', '하지', '의사', '표현', '예쁘고', '똑', '부러지게', '한다'], ['힘내세요'], ['예', '몽', '씨', '우연히', '본', '하나', '영상', '모든', '영상', '섭렵', '언니', '팬', '예요', '넘', '귀엽고', '어머니', '넘', '사랑스러우셔요', '앞', '으로도', '영상', '많이', '올려주시구', '예', '몽', '씨', '앞니', '음식', '즐기는걸', '좋아하는거', '같은데', '완전', '중독', '성', '있어요', 'ㅋㅋㅋ', '저', '내일', '앞니', 'ㅋㅋ', '먹어', '봐야겠어요', 'ㅋㅋ'], ['나도', '105', '키', '나가다가', '65', '까지', '40', '키', '빼는데', '2년', '걸렸는데', '이분', '살빠지면', '약간', '김고은', '삘', '날거', '같으면서', '이쁘', '장하실듯'], ['사찰', '이라는', '터', '무니', '없는', '모함', '구도', '그려가는데', '업무', '용', '메신져', '이용', '하여', '의도', '적', '지속', '적', '불법', '관리', '였느냐', '관건', '이라', '할', '때', '그것', '아니라는', '것', '역시', '수', '잔', '엘더', '이사', '납득', '가능한', '내용', '네이버', '웍스', '이용', '시점', '네이버', '웍스', '메신져', '관련', '공지', '등', '밝혔다', '것', '사회', '적', '물의', '커녕', '회사', '내', '에서도', '물의', '될', '수', '없는', '부분', '이다'], ['증거', '없는', '이야기', '어려운', '시간', '보내시고', '계실텐데', '지지', '말고', '잘', '버텨내주세요', '좋은', '훈련사', '님', '잃고', '싶지', '않습니다', '힘내세요'], ['개인', '적', '질문', '삼가시다'], ['사람', '언제', '한번', '씨', '깨닫고', '각성', '하는', '때', '오면', '다이어트', '성공할수', '있는데'], ['민주', '예쁘다'], ['언니', '마인드', '칭찬', '해요'], ['11401900'], ['땋', '머리', '기여', '워', '요', '볼', '까지', '발그레한', '애기', '같아요', 'ㅎㅎㅎ'], ['소스', '발음', '신기하네요'], ['자꾸', '보게', '되는', '마', '성의', '예', '몽님예몽', '님', '행복했으면', '좋겟어요'], ['481751051', '폼', '포스', '퐁', '폼', '포스', '퐁', '폼', '포스', '퐁', '포코'], ['국민', '앞', '나와서', '피해자', '한테', '머리', '숙여', '사죄', '하고', '국민', '앞', '에서', '벌', '받고', '다시는', '국민', '눈', '띄지', '말어라'], ['댓글', '이야기', '특히', '공감', '되요'], ['예', '몽', '님', '오늘', '너무', '잘', '봤어요', '먹방', '하실', '때', '라이브', '처럼', '음식', '앵글', '같이', '나오면', '훨씬', '더', '좋을', '것', '같다는', '의견', '조금', '남겨', '봅니당', 'ㅎㅎ', '항상', '잼', '난', '영상', '감사해요'], ['예쁘다'], ['강형욱', '동네', '슈퍼', '사장', '이었다면', '이런', '불만', '제기', '못', '했을', '그리고', '그럴', '가치', '못', '느꼈을', '비겁', '자', '들이', '그', '사람', '유명', '세', '깍', '아', '내리고자', '대중', '여론', '언론', '호도', '하고', '있다는게', '참', '정의', '로운', '척', '하고', '싶겠지만', '인간', '에겐', '어느', '누구', '든', '사', '람보', '눈', '있고', '내', '볼땐', '강형욱', '니', '얘기', '하는', '수준', '비겁', '자고', '쓰레기', '같지는', '않아', '보인다', '그냥', '화도', '내고', '불만', '있는', '일반', '인임', '이름', '알려진', '공인', '이라고', '해서', '성직자', '처럼', '청렴', '하고', '흠결', '점', '없어야', '하는건', '아니야', '적당히', '해', '라'], ['예', '몽', '님', '영상', '안', '올리셔서', '이런', '거', '라도', '보는', '중이', '용', '보고싶다'], ['킴닥', '스님', '댓글', '보고', '궁금해졌는데', '말랑해', '보이는', '베개', '어디', '껀', '가요'], ['아', '진짜', '언니', '마인드', '사랑', '해요', '흐헝'], ['한별', '님', '께', '원래', '사람', '안', '한다', '졸', '부겠지', '이런', '말', '하는', '사람', '본인', '한별', '님', '보다', '경제', '적', '부분', '에서', '부족해서', '한별', '님', '부럽지만', '그걸', '부럽다', '하기엔', '자신', '값어치', '떨어진다라는', '생각', '드니', '그러는', '거', '예요', '열등감', '때문', '겠죠', '그', '사람', '자존감', '낮기', '때문', '한별', '님', '께', '비꼬면서', '말', '하는거니', '기분', '나빠지는', '말', '그냥', '가소롭다', '생각', '하셔요', '진짜', '악플', '이나', '다는', '가소로운', '인간', '이니', '혹', '여', '한별', '님', '저런', '말', '은근', '히', '상처', '받으실까봐', '남겨', '보아', '요'], ['이번', '머리색', '완전', '찰떡', '용', '이뻐용', '점점', '더', '예뻐지는', '예', '몽', '씨', '롱런', '하자', '요'], ['에구', '오덕', '취향'], ['근데', '아들', '방패', '진짜', '추하다', 'ㅉㅉ', '본질', '흐리지', '마라', 'ㅋㅋ'], ['아니', '진짜', '개꼰', '대', '같노', '겉', '일만', '잘', '하면', '됐지', '지는', '욕', '안', '하고', '사나', '상사', '욕', '직원', '어느', '회사', '던', '수두', '룩', '빽빽한데', '남', '대화', '내용', '6', '개월치', '훔쳐', '보고', '부들부들', '거리', '진짜', '음침하고', '이해', '안', '간다', '아줌마', '그냥', '회사', '운영', '에서', '손', '떼고', '애나', '봐'], ['머리', '후드', '끈인줄', 'ㅋㅋㅋ', '귀여워요', 'ㅎ'], ['남', '시기하고', '질투', '하는건', '결국', '자기', '자신', '망치는', '일이', '하지만', '있다고', '잘난', '척', '하면서', '남', '아래', '위로', '훝', '어', '보는것은', '더', '창피한', '일이'], ['예', '몽', '님', '영상', '넘', '재밌어요', '아껴', '보고', '있어요', 'ㅎㅎ', '늦었지만', '새해', '복', '많이', '받으세용'], ['힘내세요'], ['응원'], ['뉴진스', '동생', '그룹', '이에요', '이미지', '똑', '닮았네'], ['자기', '기준', '대로', '남', '판단', '하는', '사람', '열등감', '표현', '죠', '무시', '하세요', '한별', '님', '말씀', '일일', '히', '공감', '가는', '말', '이에요'], ['정신병', '머리', '아픈', '직원', '3', '개월내', '짜르', '그', '뒤', '되어도', '걍', '짜르', '맞아요', '저', '사람', '뽑았을', '때', '정신병', '있는', '사람', '있습니다', '안타깝네요', '부디', '마음', '잘', '추', '스리', '길', '바랍니다', '그리고', '허위', '개', '소리', '사람', '대해', '꼭', '소송', '보상', '받으시고', '처벌', '하시길', '바랍니다', '가만히', '두면', '지가', '사람', '새끼', '줄', '알아요', '지능', '낮고', '혐오', '가득', '찬', '말', '할줄', '아는', '짐승', '정상인', '속', '에서', '사람', '인척', '는걸', '두고', '봐야', '되는게', '안타까운', '세상', '그냥', '그', '처벌', '다스리는수', '밖에', '없습니다', '허튼', '소리', '안된다는걸', '만들어가면', '좋겠어요'], ['7701250', '닿았어요'], ['죄송한데', '얘', '한테', '성적', '감정', '느끼면', '잠재', '적', '범죄자'], ['잘', '못', '한게', '없으면', '숨', '일도', '없지'], ['귀여워'], ['긴', '영상', '너무', '조아'], ['아껴', '봐야지', '언니', '영상', '자기전에', '보면', '너무', '좋아요', 'ㅎㅎ', '분량', '최고'], ['회사', '수십', '대', '정작', '아픈', '레오', '있는', '옥상', '에는', '0', '대', '그렇게', '생각', '레오', '무슨', '일생', '기면', '어', '쩌', '려고'], ['아', '진짜', '논리', '없고', '감성', '팔이', '악플러', 'ㅋㅋㅋㅋ', '진짜', '강', '형', '욱', '님', '힘내세요'], ['나', '같으면', '중간', '욕', '한번', '쯤', '나올거', '같은데', '저렇게', '차분하게', '자신', '생각', '피', '력', '하는게', '넘흐', '멋져욤'], ['아일릿', '에서', '누가', '제일', '인기', '많아요'], ['알수', '없는', '알고리즘', '왔는데', '40', '대', '이모', '보기', '엔', '너무', '너무', '귀엽네요', 'ㅎㅎ', '다이어트', '장기전', '이니까', '너무', '스트레스', '받지', '말아요'], ['딩고', '라이브', '나가서', '라이브', '보여주세요'], ['어머니', '정보', '여', '부럽다'], ['빠', '나', '같은', '까를', '만드는거란다', '개통', '령', '빠들', '아', 'ㅋㅋ', '개통', '령', '빠들', '골', '때리는', '점', '개통', '령왈', '저', '그런', '말', '쓰지', '않습니다', '시', '전하', '자', '39', '암', '그런', '말', '쓰실', '리가', '없지', '폭언', '해명', '됐넼', '39', '저', '볼줄', '모르고', '볼', '시간', '없습니다', '시전', '하자', '39', '암', '개통', '령', '바쁘신', '데', '당연히', '감시안하', '짘', '39', '우리', '아들', '욕', '했어요', '시', '전하', '자', '39', '암', '캡쳐', '본', '따위', '없어도', '개통', '령', '님', '말', '진리', '이니', '당연히', '메신저', '6', '개월치', '동의', '없이', '검열', '해야', '짘', '39'], ['애', '앞머리', '빨리', '돌려내라'], ['말씀', '정말', '잘', '하십니다', '조곤조곤', '조리', '있고', '설득', '력', '있게', '잘', '하시는', '빠져드는', '매력', '있네여'], ['강', '부부', '닮아서', '그', '런가', '강', '천지', '하나같이', '입', '험하네', '패', '드립', '부터', '시작', '해서', 'ㅋㅋ', '비슷한', '주파수', '끼리', '끌린다더니', 'ㅎㅎ', '성별', '갈라', '치기', '발언', '긁혀가지고', '눈뒤집혔', '나'], ['그냥', '잘', '보고', '있었는데', '뭔', '문제', '있었다는', '건가', '침착하게', '잘', '얘기', '하시네', '씨', '씨', '티비', '있었어야', '된다는', '거', '이해', '가고'], ['강', '형', '욱', '님', '응원'], ['강형욱', '레오', '안락사', '논란', '식약처', '문의', '결과', '마약', '류', '병원', '밖', '반출', '하는', '것', '대해', '금지', '규정', '없다', '즉', '옥상', '에서', '안락사', '것', '대해', '불법', '이라고', '주장', '하는건', '헛소리'], ['애기', '같아용', '넘', '귀엽', '사랑스러', '움', '포테킹', '치킨', '저', '생각', '보다', '너', '뮤', '느끼했던', '기억', '있는데', '먹는거', '보', '니까', '다시', '시켜', '보고', '싶은건', '무엇', 'ㅎㅎㅎ'], ['뉴진', '스랑', '비슷한', '안무', '만', '바꾸면되', '묻어', '버리', '기', '에는', '아깝다', '아이브', '제일', '좋아하는데', '민주', '원희', '예뻐서', '계속', '보게', '됨'], ['먹방', '또', '올려주세요'], ['강형욱', '쟈샇했으', '좋겠다', '빨리', '듸져', '라', '형욱', '아'], ['언니', '말', '하는', '스타일', '너무', '좋아서', '가끔', '일부러', '보는', '큐앤', '에이', '벌써', '언니', '알', '된지도', '7년', '째네여', '오랜', '만', '들어와서', '또', '매력', '빠지고', '돌아감니당', 'ㅎㅎ'], ['개', '쉬이', '감정', '없이', '안락사', '시키고', '이런', '사람', '개', '훈련', '자체', '못', '해요', '동물', '훈련', '말', '그대로', '식스센스', '있어야', '가능한', '분야', '개', '그냥', '단지', '미물', '취급', '했다면', '강형욱', '개통', '령', '될수도', '없었고', '그냥', '시골', '개', '장수', '정도', '되었겠죠', '다른', '논란', '몰라도', '개', '사랑', '한다는', '건', '진심', '이라고', '봅니다', '반면', '사상', '이상한', '직원', '쓰레기', '볼', '수도', '있겠지만', '그건', '누구', '라도', '충분히', '가능한', '감정', '이에요', '직장인', '라면', '집', '와서', '누군가', '하소연', '할', '때', '마음', '안', '드는', '직원', '얘기', '하잖아요', '강형욱', '처럼', '훈련사', '위치', '원칙', '주의자', '입장', '에선', '더하면', '더했지', '정도', '이해해', '야', '한다고', '봅니다', '오히려', '개', '한테', '원칙', '지키면서', '사람', '한테', '정치', '적', '이고', '유연하다면', '인간성', '의심', '더', '갔겠네요', '누구', '든', '직업병', '이란', '있습니다'], ['힘내세요', '오해', '갈등', '풀어시길', '진심', '기원'], ['요즘', '스트레스', '몇', '주', '동안', '잘', '못', '먹고', '식욕', '돌아오지를', '않는데', '거', '보고', '새벽', '스시', '주문', '했습니다', 'ㅎㅎ', '예', '몽', '님', '안지', '이틀', '됐지만', '영상', '보고', '있는', '동안', '감정', '소모', '스트레스', '예민해지고', '우울한', '기분', '없어지고', '차분해져요', '영상', '잘', '보고', '있어요', '감사합니다'], ['이만이천원', '짜리', '티셔츠', 'ㅋㅋㅋㅋㅋ', '무슨', '두루', '마리', '휴지', '두르고', '다녀야', '평민', '인가'], ['오랜', '만', '보는데', '10', '빼셨네요', '대박', 'ㅎㅎ'], ['3.64916', 'E', '+', '11'], ['인생', '연예인', '전부', '한국', '아줌마', '화났다', 'ㅋㅋㅋㅋㅋㅋㅋㅋㅋㅋㅋㅋ'], ['사람', '한테', '뭘', '수저', '수저', '거려남', '경제', '수준', '평가', '하면서', '끼리', '토론', '하는거', '재밌나'], [], ['아니요', '강형욱', '님', '응원', '어떤', '회사', '든', '있구요', '각', '부서', '있습니다', '그리고', '있다고', '봐야', '하구요', '왜', '업무', '태만', '근무', '하는', '사람', '있을수도', '있구', '안전', '보호', '차', '있어야', '된다', '나도', '영업', '부', '인데', '어떤', '회사', '든', '있다', '얼마나', '편하면', '저런거를', '걸고', '넘어지면서', '세상', '편하게', '돈', '받으면서', '일해', '잘', '해주', '니깐', '한도', '끝', '없는네', '진짜', '들이', '돈', '꾸려서', '리쿠', '리팅', '하면서', '장사', '해봐', '세상', '편하니깐', '개념', '없네', '진짜', '내', '화', '딱지', '나네'], ['오늘', '부로', '아일릿', '대한', '마음', '접습니다', '또', '번', '더', '접습니다', '뒤', '펴서', '아이스크림', '접기', '또', '접습니다', '맞지', '막', '돌려서', '피', '하트', '완성'], ['한남', '소', '추', '살다', '살다', '듣도', '보도', '못', '욕', '같은', '직장', '동료', '며', '상사', '며', '조롱', '건', '그', '직원', '바닥', '인성', '보여주는건데', '거기', '다가', '자기', '잘', '못', '한건', '쏘', '옥', '빼고', '유명하니까', '너', '끌어내리겠', '다식', '너무', '악의', '적', '제보', '다른건', '이해', '가는데', '감시', '용이', '아니더라도', '상사', '목뒤', '에서', '입김', '부는', '거', '랑', '똑같은데', '그건', '강', '대표', '님'], ['고발', '자', '보면', '탈덕', '수', '용소', '대표', '떠오름', '생각', '하고', '살아라'], ['금수', '저', '댓글', '이나', '명품', '사는', '거', '나리', '질', '하는', '댓글', '남자', '여자', '상관없이', '지랄', '해대', '던데', '남자', '여자', '뭐라', '할게', '아니라', '그런', '댓글', '다는', '사람', '자체', '존나', '이해', '안되는거', '충고', '랍시고', '어쩌구저쩌구', '오지랖', '부리던데', '들이', '뭐라고', '그런', '소리', '아무', '생각', '없이', '내뱉는', '건지', '이해', '존나', '안됨', '대가리', '빈', '기', '집애', '이나', '사', '내', '새끼', '이나', '끼리끼리', '어울렸으면', '좋겠다'], ['뉴진스', '짝퉁', '맞네', '컨셉', '스타일', '노래', 'ㅋㅋㅋㅋㅋㅋㅋㅋ', '뭘', '아니라고', '씨부렁대'], ['똑소리', '나고', '멋있다'], ['응원'], ['어디', '까지나', '본인', '의견', '이고', '틀릴수도', '있음', '국가', '구', '쪽', '내', '잘', '모르는데', '미국인', '종', '사자', '이나', '전문', '사무직', '기준', '으론', '좋아', '보이진', '않음', '직원', '근무', '하는', '곳', '보', '니까', '자세', '교정', '허리', '편하게', '하는', '의자', '나', '책상', '아님', '사무실', '직원', '중', '쪽', '일', '하고', '장시간', '영상', '편집', '하는', '분', '있을텐데', '전혀', '그런', '분들', '배려', '하는', '의자', '아니었음', '그', '와중', '자세', '교정', '라는', '말', '안전', '문제', '아닌', '내', '보기', '싫으니까', '자세', '똑바로', '해', '라는', '흔한', '꼰', '대식', '트집', '보임', '진짜', '직원', '허리', '건강', '이나', '산재', '걱정', '돼서', '그러면', '애초', '의자', '책상', '좋은걸', '줬겠지', '이런', '트집', '외국', '에서는', '라고', '해서', '상사', '평가', '큰', '타격', '될', '수', '있음', '보통', '산재', '나', '도난', '문제', '관리', '차원', '라면', '스크린', '직원', '전신', '나오도록', '비추진', '않음', '특히', '외부', '출입', '할', '일이', '없는', '사무실', '에서는', '보통', '그렇다는건데', '왜', '저렇게', '설치', '했는지는', '내', '강형욱', '의도', '알', '길이', '없음'], ['그냥', '할수있는거', '하셨음', '좋겠네', '악의', '적', '그런거', '같은데'], ['정지영', '아나운서', '목소리', '톤', '되게', '비슷하다', '그래서', '더', '호감', '가는', '유튜버'], ['한별', '님', '유툽', '접', '얼마', '안', '됐지만', '마인드', '정말', '건강하신', '것', '같아요', '바르게', '생각', '하시는', '부분', '정말', '배울', '점', '많으신', '것', '같아요', '멋있으세요', '특히', '악플', '대해', '서는', '다시', '생각', '하게', '된', '것', '같아요', '무서워서', '피하', '아니라', '더러워서', '피', '생각', '했는데', '잘', '못', '된', '걸', '잘', '못', '됐다고', '해야', '한다는', '한별', '님', '생각', '듣고', '보니', '아차', '싶더라구요', '인종차별', '빗대서', '표현', '하신', '정말', '닿았네요', '멋있는', '마인드', '본받고', '싶습니다', 'ㅎㅎ', '앞', '자주', '영상', '찾아볼', '것', '같습니다', '더', '더욱', '승승장구', '하세요'], ['진짜', '현명하신', '분'], ['어디가', '뉴진스', '인지', '모르겠', '느낌', '다른데'], ['얼굴', '가리면', '뉴진스인줄', '알겠다'], ['레오', '고발장', 'ㅋㅋㅋㅋㅋㅋㅋㅈ', '됬', '누'], ['한남', '소', '추', '아들', '방패', '거', '전략', '이다', '자극', '적', '얘기', '꺼내면', '사람', '휘', '둘리', '기', '쉬우니까', '교묘하게', '남탓', '돌리고', 'ㅉㅉ', '추하다'], ['직원', '그냥', '개노답', '걍', '니', '얼굴', '까고', '나와서', '반박', '해'], ['아', '진짜', '질문', 'ㅋㅋㅋㅋㅋㅋㅋㅋㅋㅋ', '정말', '미룰만', '질문', '이네', '요', '어이', '없어서'], ['밤', '만쥬', '닮으셨어요'], ['가사', '누가', '씀', 'ㄹㅇ', '2024년', '들은', '노래', '중', '에서', '제일', 'ㅈ', '같음', '부분', '들으면', '손발', '오그라들다', '못', '해서', '없어짐'], ['원희'], ['아', '진짜', '우리', '한별', '님', '한테', '무례한', '말좀', '그만', '멈춰주세요', '상처', '받은', '마음', '영원히', '잊혀지지', '못', '하는데', '잊고', '신경', '쓰지', '않으려고', '노력', '하시는', '한별', '님', '모습', '볼때', '마다', '저', '너무', '속상해요', '제', '3', '자의', '입장', '에서만', '봐도', '그런', '무례한', '말', '보았을', '때', '가슴', '팍팍', '꽃', '히', '는데', '본인', '직접', '자신', '대한', '무례한', '말', '들었을', '때', '어떤', '수만', '가지', '기분', '들겠어요', '질문', '경우', '있게', '생각', '있다면', '생각', '하고', '댓', '달아주셨으면', '좋겠어요', '저', '앞', '한별', '님', '포함', '모든', '유튜버', '분', '에게', '댓글', '달때', '한번', '더', '읽고', '생각', '해보고', '달', '아', '보려구요', '그러니까', '여러분', '댓글', '달때', '제발', '우리', '생각', '하고', '댓', '답시'], ['맛있겠다'], ['오랜', '만', '언니', '영상', '보는데', '말씀', '너무', '잘', '하시고', '많이와', '닿았어요', '그동안', '많이', '속상하셨을것', '같고', '고민', '많이', '하시고', '영상', '올려주신것', '같은', '느낌', '들어요', '속상해하는', '사람', '에게', '예민하게', '굴지', '말라', '혹은', '그냥', '무시', '해라', '등', '얘기', '하지', '않는', '것', '잘못', '사람', '에게', '잘', '못', '했다고', '같이', '말', '해주는', '것', '중요하고', '명백한', '진리', '것', '같습니다', '한별', '언니', '화이팅'], ['ㅋㅋㅋㅋㅋㅋㅋㅋㅋㅋㅋㅋㅋㅋ'], ['동안', '영상', '틀', '잠들', '겠네여', '0', '긴', '영상', '넘', '넘', '감사합니다'], ['364915802620', '저', '거', '스타벅스', '에서', '제일', '좋아하는', '케이크', '에요', '진짜', '맛있어요'], ['바보', '만들면', '안건', '겠지', '뱀', '분들', '빼고'], ['생기다만', '여자애', '하나', '유', '튜버', '랍시고', '강', '대표', '까고', '있는데', '유튜브', '라는', '공간', '점점', '무능한', '사람', '가득해', '지고', '있다', '온갖', '들이', '육갑', '하는', '장소', '바뀐거다'], ['코디', '청순해지니까', '윤아', '진짜', '너무', '너무', '예쁘다', '키', '크고', '성숙해서', '청순', '컨셉', '진짜', '잘', '어울리는'], ['한가득'], ['남침', '방어', '했을', '뿐', '인데', '그걸', '두고', '북침', '이라', '주장', '하는', '좌익', '다를', '뭔가'], ['앞니', '로만', '씹는', '느낌', '저만', '그런', '가요'], ['혹시', '직원', '갑질', '하는', '세상', '일지', '직원', '말', '다는', '아닐수도', '있겠네요', '서로', '입장', '차이', '그리고', '진실', '이든', '거짓', '이든', '단합', '해서', '뭔가', '도모', '하면', '선의', '악의', '둔갑', '되는걸', '저', '직장인', '이지만', '많이', '봤습디다', '법적', '싸워서', '거짓', '있다면', '사회', '적', '일침', '가하세요', '갑', '횡포', '일반', '적', '이라고', '생각', '하지만', '요즘', '들의', '기적', '이고', '개인주의', '적', '성향', '야기', '되는', '파렴치', '요즘', '회사', '내', '에서', '대단히', '빈번', '답니'], ['아니', '어딜', '봐서', '뉴진스', '카피'], ['동물', '사랑', '하는', '사람', '거짓말', '하지', '않습니다'], ['말', '진짜', '조곤조곤', '너무', '잘', '하시네요', '원래', '긴건', '잘', '안', '보는데', '시간', '가는줄', '모르고', '봤어요', '진짜', '멋있으세요'], ['자꾸', '개통', '령', '회사', '39', '애완동물', '종묘', '및', '보호', '서비스업', '39', '이라', '직원', '동의', '없는', '설치', '필수', '라고', '하는', '소리', '개통', '령빠', '보이는데', '반려동물', '영업', '자', '설치', '의무', '영업', '군', '동물보호', '센터', '민간', '동물보호', '시설', '동물', '미용', '업', '동물', '운송업', '23427', '농림축산식품부', '개정', '보듬', '사무실', '내부', '해당', '없음', '팩트', 'ㅋ', '니', '좋아하는', '문', '재일', '평산', '책방', '놀랍게도', '39', '애완동물', '종묘', '및', '보호', '서비스업', '39', '이었는데', '거기', '필수', '겠다', 'ㅋㅋ', '어휴', '머절', 'ㅋ'], ['그나저나', '국민', '여러분', '께', '당부', '말씀', '올립니다', '개는', '밖', '에서', '키웁시다', '밖', '에다', '개집', '마련', '해줄', '능력', '안된다면', '개', '키워', '서는', '안됩니다', '개', '나', '자동차', '나', '똑같은', '이치'], ['근데', '금수', '저', '라는', '댓글', '현명하게', '대처', '하시는', '한별', '님', '멋', '잇어여', '그런', '생각', '해본', '적도', '없고', '그냥', '조용히', '조회', '수만', '올리는', '구', '독자', '인데', '한별', '님', '말', '예쁘게', '잘', '하신다고', '항상', '생각', '해왔어요', '처음', '댓글', '남겨', '욥', '항상', '응원', '하고', '있는', '팬', '있다는것도', '생각', '해주세요', '너무', '속상해하지', '말았으면', '좋겟네요', '화이팅'], ['복', '스럽게', '드시네요'], ['혹시', '썸네일', '무슨', '멤버', '인가요', '아무리', '봐도', '헷갈려요'], ['잔치국수', '김치전', '진짜', '맛', '잇겟다'], ['언니', '진짜', '뜬금', '없지만', '영상', '에서', '입고', '있는', '옷', '어디서', '사셨나요', '제', '고민', '중', '였던', '옷', '인데', '같은', '옷', '사려구요', '어디', '건지', '알려주세요', '젭알', '요', '영상', '관련', '없는', '말', '해서', '죄송해요'], ['오오', '옹', '한별', '님', '얘기', '들으니깐', '스페인', '여행', '가보고', '싶네용', '한별', '님', '사랑', '빠질만큼', '이뻤던', '스페인', '궁금하네용', 'ㅋㅋㅋ'], ['항상', '영상', '너무', '잘', '보고', '있습니다', '.', '구독', '누르고', '가요', '!'], ['애매하다'], ['립싱크', '작작해라'], ['이렇게', '댓글', '첨', '다는데요', '한별', '님', '넘', '넘', '너머', '너머', '넘', '넘', '이쁘구', '영혼', '깨끗해지는', '기분', '이에요', '목소리', '이쁘구', '안', '이쁜게', '없음'], ['부러워서', '남', '자기', '보다', '잘나면', '배아', '파서', '욕', '하는', '놈', 'ㅉ'], ['강', '형', '욱씨개훌룡', '에서', '교체', '하고', '다른', '훈련사', '온', '다한', '그', '자리', '채워질', '까', '강', '형', '욱', '씨', '대신', '할', '사람', '없다', '개', '훌룡', '보는것도', '그렇', '고개', '훌룡', '재방', '보는데', '역쉬', '최고', '멋지다', '강', '형', '욱', '씨', '지금', '시련', '이겨내', '고개', '훌룡', '에서', '꼬옥', '만나자구', '엽기', '다릴게', '께', '요', '건강', '잘', '챙기세요'], ['애초', '물의', '일으킨게', '그냥', '아니꼽게', '본', '사람', '구런거', '같아서', '조용히', '넘어가도', '인정'], ['아침', '공복', '부터', '쥬스', '케이크', '도너츠', '넘', '당', '높고', '헤비', '하긴'], ['6601100', '일단', '그', '쪽', '여친', '될', '생각', '1', '없으니까', '김칫국', '드링킹', '노노'], ['그래서', '전', '직원', '주장', '했었던', '강형욱', '폭언', '녹취록', '빨리', '들어', '보고', '싶은데', '전', '직원', '언제', '쯤', '공개', '하려나요', '참', '한쪽', '전', '직원', '주장', '만', '무조건', '신뢰', '하는', '분', '계시니', '정말로', '안타깝습니다', '이래서', '양쪽', '주장', '들어', '봐야', '됩니다', '강', '형', '욱', '훈련사', '님', '계속', '활동', '해주셨으면', '좋겠습니다', '그럼', '항상', '건강하시고', '화이팅', '하세요', '구독', '누르고', '갑니다'], ['무고죄', '꼭', '고소하셨으면', '좋겠다'], ['자칭', '피해자', '라는', '사람', '10', '명', '아니라', '1000', '명', '되더라도', '사회', '적', '물의', '일으킬만', '수준', '이르는', '사안', '아니라고', '말귀', '못', '알아듣나'], ['흠', '녹취록', '있긴', '건가', '감감', '무소식', '이네'], ['못', '되어', '먹은', '폭로', '문화', '그리고', '여론', '몰이', '문화', '때문', '지난날', '위컴', '사령관', '으로부터', '들쥐', '떼', '라는', '지적', '받았던', '것', '이다', '단', '하루', '라도', '사람', '답', '살아가자'], ['ㅈㄴ', '중독', '성', '지림'], ['아니', 'ㅋㅋㅋㅋㅋㅋㅋㅋㅋㅋ', '스스로', '산거부터', '정말', '멋있는데', '근데', '설사', '부모님', '사주신거라', '해도', '들이', '먼', '상관', '이야', '그냥', '능력', '되서', '저', '정도', '야', '얼마', '든지', '해', '주실', '수', '있어서', '해주시는거지', 'ㅋㅋㅋㅋㅋㅋㅋㅋㅋㅋㅋㅋㅋㅋㅋㅋㅋㅋㅋㅋㅋㅋㅋ', '졸', '부든', '갑부', '든', '니', '뭔', '상관', '이야', '알아서', '형편', '안', '에서', '본인', '쓸', '수', '있는만큼', '쓰는거야', '금수', '저', '나발', '이고', '진짜', '남', '한테', '레이블', '붙이는거', '무례한', '짓인데도', '서스름', '없이', '하는', '내', '여친', '안', '그래서', '다행', '이다', '할', '많하', '않', '여친', '있는거도', '구라', '같음', '상상', '여', '친일'], ['민주', '야', '혼자', '세탁기', '돌리느라', '고생', '많다', '젤', '이쁨'], ['한국', '와서', '친척', '집', '있었던', '자체', '부모님', '도움', '인한', '경제', '지원이', '라면', '지원이', '아닌지요', '지원', '안', '받은', '척', '굉장히', '모순', '적', '자취', '하게', '된', '거도', '모호하게', '말씀', '하시네요'], ['아예', '몰카', '라고', '하지', '그러냐', '라고', '언급', '하면서', '왜', '설치', '하냐고', '말', '이냐', '막걸리', '냐'], ['저런', '여자', '안', '만나야겠다', '내', '여자친구', '안', '저', '래서', '다행', '이다', '라니', '한별', '님', '사절', '거덩', '요', '답변', '하는', '한별', '님', '표정', '내', '표정', '글', '한별', '님', '말씀', '대로', '본인', '샀든', '남친', '사줬든', '부모', '사줬든', '무슨', '상관', '돈', '있으면', '그', '만큼', '소비', '해도', '되는거', '아닌가요', '경제', '경자', '모르는', '사람', '지랄', '들이군요', '절레'], ['사람', '배고픈건', '참아도', '배', '아픈건', '못', '참는다더니', '의적', '악의', '적', '배아', '파서', '질투', '심', '달', '댓글', '많다는걸', '또', '한번', '느끼', '융', 'ㅋㅋㅋㅋ', '그나저나', '한님', '말씀', '정말', '잘', '하시네요', '제', '스탈', '이세', '요'], ['개', '밖', '에서', '안락사', '시킨', '수의사', '고소', '당함'], ['꾸', '넘', '사다'], ['사이비', '만든', '아이돌', '인데', '얘', '사이비', '겠지'], ['거', '제발', '지우지', '말아주세요', '제', '최애', '영', '상임'], ['힘내세요'], ['부럽긴', '하네', '요', '어', '렷', '때', '부터', '캐나다', '유럽', '여행', '네덜란드'], ['모카', '이쁘다'], ['몇', '년생', '세용'], ['우와', '백', '조', '비유', '너', '어', '무', '신선', '햇', '어', '요', '좋네요'], ['말', '글', '그', '사람', '얼굴', '나타낸다는', '말', '있죠', '영상', '댓글', '보니', '정말', '이라는', '생각', '듭니다선', '사람', '부드럽고', '매력', '적이죠'], ['전', '직원', '왜', '형사고소', '안함', '계속', '언론플레이', '만', '하고'], ['견종백', '개스트쇼', '다시', '보고싶어요', '힘내시고', '꼭', '이겨내세요'], ['뉴스', '냐', '렉카', '냐'], ['왜', '이리', '예쁘세요', '흐', '엉'], ['보고싶다'], ['힘내시고', '당당하게', '밝혀서', '다시', '밝은', '모습', '대중', '나와주세요'], ['아', '영상', '해명', '끝난', '느낌', '이다'], ['강', '형', '욱', '님', '분명히', '뭔가', '오해', '있을', '거', '라', '생각', '했고', '그러길', '바랬습니', '그리고', '해명', '듣고나니', '안심', '됩니다', '이번', '일로', '상처', '많이', '받으셨을테고', '억울한', '부분', '많으실텐데', '무너지지', '마시고', '꼭', '회복하셔서', '방송', '에서', '다시', '볼', '수', '있길', '바', '래', '요', '진심', '응원'], ['뉴진스', '문제', '물러나는건', '그냥', '안타까운', '일', '인데', '얘데', '판지', '건', '도저히', '못', '봐주겠다'], ['오늘', '부러', '구독', '하고', '좋아요', '누르고', '갑니다', '앞', '으로도', '좋은', '일', '많이', '하시고', '돈', '많이', '버세', '요'], ['명품', '하울', '욕', '많이', '했지요', 'ㅋㅋ', '지나고', '보니', '자격지심', '이었어요', '말씀', '잘', '하시고', '영상', '잘', '보고', '있습니다', '조용히', '응원', '할게요'], ['정말', '걱정', '되어', '남겨요', '몸', '생각', '하면서', '음식', '조절', '하세요', '건강검진', '받아', '보시구요'], ['아일릿', '긁히는', '애', '많은', '가보네', 'ㅋㅋㅋㅋㅋ', '누가', '그렇게', '긁혔', '나', 'ㅋㅋ'], ['지금', '이라도', '말', '왕', '막아', '야한다', '원본', '춤', '어색하게', '보임'], ['매', '버', '타입', '사람', '있네요'], ['그래서', '사업', '하기', '힘들구나', '느꼈네요', '사업', '하면', '거의', '대표', '욕', '받이로', '받게', '되죠', '레오', '간호', '하느라', '돌봐주느라', '고생', '많으셨습니다', '레오', '강', '훈련사', '님', '마음', '잘', '알꺼예요', '얼마나', '그', '마음', '착잡했을지', '얼마나', '슬펐을지', '저', '예전', '이뿐', '강쥐', '마리', '안락사', '보낸', '견', '주입', '니', '지금', '유기견', '출신', '이뿐', '푸', '믹스', '마리', '사랑', '이를', '키우고', '있어요', '하여튼', '힘내시고', '응원', '할께요'], ['힘내세요', '그', '자리', '얼마나', '힘든지요'], ['앵콜', '라이브', '하고', '차이'], ['뉴진', '스랑', '똑같네', '완전', '긴', '생머리', '부터', '노래', '까지'], ['먹방', '예몽', '이랑', '햄찌', '님', '최고', '다른', '먹방', '예쁘게', '플레이', '팅', '하고', '예쁜', '조명', '함께', '먹어서', '봐도', '별로', '먹고싶은', '생각', '안', '드는데', '예몽', '너무', '현실', '적', '먹방', '이라', '더', '맛있어', '보임'], ['정말', '이상한', '사람', '엄청', '많네요', '저', '다른', '일반', '적', '인거', '말고', '정말', '자기', '취향', '대로', '구매', '하고', '보여주시는거에', '너무', '만족하고', '있어요', '저', '하울', '님', '하고', '취향', '비', '스무', '래', '하기도', '하고', '남', '눈치', '보느라', '정작', '제', '가원', '하는거', '구매', '못', '할', '때', '많아서', '너무', '너무', '대리', '만족하고', '있습니다', '그리고', '예쁘신', '거인', '상', '좋으셔서', '정말', '재밌게', '보고있어요', '너무', '너무', '응원', 'ㅎ', '금수', '저니', '뭐', '니', '대체', '그런거', '왜', '궁금해', '하는지', '조차', '정말', '이해', '안되긴', '하네요', 'ㅋㅋ'], ['도그', '펫', '안', '좋아하는', '나도', '방송', '보면서', '이분', '개', '대에', '진심', '이구나', '싶던데', '이런', '말', '안', '되는', 'ㅉㅉ', '이럴', '때', '그냥', '버티기', '하시면', '그러다', '보면', '지나가고', '또', '살아지고', '더', '좋아질수도', '있고요', '두', '분', '부디', '힘내시길'], ['내', '여친', '저러지', '않아서', '다행', '이다', '라고', '말', '하는', '놈', '여친', '님', '너무', '불쌍해', '도망가세요'], ['요즘', '영상', '많이', '올라와서', '넘', '기뻐요', '오늘', '잘', '볼게요'], ['패션', '하울', '보다', '보니', '관련', '영상', '영상', '떠서', '보게', '됐는데', '패션', '하울', '영상', '볼때', '느꼇', '말', '정말', '잘', '하시는듯', '생각', '하시는', '것', '확실하시고', '멋있으세요'], ['스페인', '가고싶다고', '했다고', '바로', '이민', '갈', '수', '있는', '집안', '부럽다'], ['솔직히', 'ㅎㅎ', '노래', '정말', '좋다'], ['김풍', '마', '그네', '틱', '보고왔', '읍니'], ['어쩌다가', '보게되', '서', '정', '주행', '싹', '했는데', '매', '영상', '마다', '왜케', '이리', '귀여울수가', '있어요'], ['뉴진스', '묻어', '버리면', '너', '원조', '되는거다', '가즈', '아'], ['사랑', '해요', '사랑', '해', '그냥', '영상', '보는데', '사랑스럽구', '표현', '해주고', '싶어서', '남겨요', '그런', '사람', '있잖아요', '보고', '만', '있어도', '사랑스럽고', '기분', '좋아지는', '저', '한테', '그런', '사람', '예', '몽', '님', '인가', '봅니다', '보고', '있으면', '마음', '따듯', '해져요', '세상', '찬', '바람', '시렵', '아픈', '날', '있더라도', '예', '몽', '님', '사랑', '하는', '사람', '예', '몽', '님', '보고', '하루', '위로', '받는다는', '것', '떠올리시며', '예', '몽', '님', '하고', '싶은', '것', '건강하게', '오래', '이루시길', '바라며', '많이', '웃고', '많이', '행복하세요'], ['아일릿', '큐큐', '큐', '노래', '언니', '성은', '만', '음속', '있어요'], ['원래', '몸매', '가꾸는건', '식단', '80', '퍼센트', '운동', '20', '퍼센트', '인데', '조절', '잘', '하셨음', '좋겠네'], ['진실', '외면', '하지', '않아', '요강', '대표', '부부', '님', '지금', '몸', '맘', '힘들시겠지만', '시간', '지나면', '상처', '아픔', '바람', '처럼', '지나갈', '껴에요', '이번', '사건', '인해서', '비방', '억측', '허위', '폭로', '악플', '등', '범죄', '라는', '거', '무서운거라는', '거', '깨닫게', '해줘야', '됩니다'], ['저렇게', '먹고', '싶은거', '먹어주고', '감량', '천천히', '하고', '있고', '아직', '어리신', '거', '같은데', '조금', '씩', '이라도', '뺴면', '서', '몇', '년', '걸리더라도', '목표', '하고자', '하는', '바를', '이루셨으면', '좋겠네요'], ['한별', '님', '자체', '멋있다는걸', '인정', '하기', '싫어하는', '사람', '많은', '가보네요'], ['좋기만', '하고만'], ['천천히', '먹는거', '넘나', '기특하고', '이뿜', 'ㅋㅋㅋㅋㅋ'], ['난', '처음', '부터', '형욱님', '믿었음'], ['서준', '628', '사람', '악의', '적', '끝', '없이', '악플', '답니', '잘', '기억', '해', '두길', '바랍니다'], ['언니', '배고파졌어요'], [], ['점점', '어울리는', '스타일', '찾아가시는듯', '으', '른', '스러워', '짐'], ['영', '상보', '니까', '2016', '2017년', '사건', '인데', '그게', '언제', '야', '7년', '전이네', 'ㅋㅋㅋ', '징', '진짜', '이래서', '사', '람보', '눈', '중요합니다', 'ㅋㅋ', '직원', '그만두고', '환불', '많이', '일어나니까', '게다가', '30일', '그만두면', '계산', '처리', '빠른데', '중간', '15일', '그만뒀으니', '환불', '처리', '금액', '제외', '하고', '날짜', '계산', '하고', '등등', '등', '계산', '복잡해지니', '그거', '직원', '에게', '연락', '해서', '서', '로간', '계산', '끝내면', '되는데', '전화', '안', '받고', '그냥', '다이렉트', '노동청', '신고', '해', '버림', 'ㅋㅋㅋㅋㅋㅋㅋㅋㅋㅋㅋㅋㅋㅋㅋㅋ', '아니', '신고', '하기', '전', '에라도', '같이', '계산', '해볼', '수', '있잖아', '암튼', '골치', '아프다', 'ㅋㅋㅋ', '서로', '같이', '계산', '하기는', '힘들고', '노동청', '신고', '빠르고', 'ㅋㅋㅋ', '결국', '600만원', '넘게', '받았으면', '대충', '퉁', '치고', '넘어갈', '법', '데', 'ㅋㅋㅋ', '그건', '7년', '넘도록', '마음', '담아주고', '복수', 'ㅋㅋㅋㅋ', '아이고나', '이래서', '공', '주님', '모', '시기', '힘들어', 'ㅋㅋㅋ'], ['화이팅', '응원', '합니당', '나중', '엔', '건강', '식', '위주', '먹방', '보고', '싶어요', 'ㅎㅎ'], ['39'], ['힘내세요'], ['모든', '유투', '버들', '통틀어', '서', '속', '시원하게', '사이다', '대변인', '해준거', '같아요', '짱', '이래서', '내', '언니', '채널', '본다니깐'], ['한별', '님', '가치관', '이랑', '멘탈', '너무', '좋으신', '거', '같고', '말', '조', '근', '조', '근', '잘', '하시네요', '너무', '좋아요', '영상', '잘', '봤습니다', '앞', '으로도', '화이팅', '하세용'], ['ㅋㅋㅋ', '처음', '머리', '땋', '거', '몽골', '학생', '같아요', 'ㅋㅋ'], ['역시', '양쪽', '이야기', '들어', '봐야하네요', '요즘', '공격', '적', '이고', '피해망상', '적', '이고', '기적', '성향', '많은', '사람', '남', '헐뜯기', '바쁘고', '본인', '업', '돌아가기', '때문', '다음생', '더', '크게', '벌', '받습니다', '물타', '기용', '언론', '공격', '인지', '비슷한', '댓글', '도배', '되고', '획일', '화', '된', '세상', '에서', '조금', '더', '깨어있는', '사람', '믿고계셨을', '겁니다', '또한', '잘', '지나가실거라', '믿습니다', '힘내세요'], ['이번', '소란', '주', '범', '누가', '뭐라', '해도', '언론', '언론', '이다'], ['왜', '앞니', '만', '쓰나요'], ['39', '39'], ['너무', '이쁘다'], ['고발', '건', '이슈', '또', '방치', '니', '어쩌', '니', '마녀사냥', '난리', '났네요', '잘', '모르면서', '본인', '들일', '아니라고', '누구', '하나', '죽여야', '끝나겠구나', '출장', '서', '하는게', '불법', '맞다면', '맞는거지요', '사연', '딱하다', '해서', '예외', '없는거겠죠', '그냥', '레오', '강', '훈련사', '님', '안쓰럽네요', '안락사', '선택', '하기까지', '그', '고뇌', '알겠', '고요', '잘', '해결', '되고', '마무리', '되길', '바랄', '뿐'], ['밥', '먹을', '때', '음식', '보이', '먹어', '주심', '안될까', '여'], ['이제', '곧', '3만', '명인데', '큐', '엔', '에이', '해주세용'], ['역시', '별', '언니', '멋지당'], ['이건', '프로듀서', '훌륭한거다'], ['앞니', '음식', '씹으면', '치아', '건강', '안좋아요', '어금니', '씹으세용'], ['다른', '걸', '떠나서', '자존감', '꺽', '이지', '않게', '해주는', '엄마', '있는게', '부럽네요', '저희', '엄마', '딸', '아무리', '괜찮아도', '단점', '만', '콕', '집어', '일', '깨워주며', '다운', '되게', '하시거든요', '그럴', '때', '마다', '진짜', '엄청', '자존감', '낮아집니다'], ['큰', '도움', '됩니다', '계속', '활동', '하셔야', '힘내세요', '항상', '응원'], ['그래서', '왜', '무고죄', '고소', '안함'], ['그래도', '졸업장', '받는것이', '좋지', '그', '전', '햇', '는데'], ['항상', '예', '몽', '님', '긴', '영상', '끝', '까지', '보게되', '용', '너무', '재밌어용'], ['생각', '깊은', '분', '이라는', '것', '다시', '느끼고', '갑니다', '힘내세요'], ['예', '몽', '님', '빅사', '이즈', '쇼핑몰', '리뷰', '같은', '것', '해주시', '좋을', '것', '같아요', '늘', '영상', '잘', '보고', '있습니다', '항상', '밝은', '모습', '너무', '귀엽고', '감사합니다'], ['이런', '영상', '왜', '싫어', '요가', '달리는지', '이해', '안되는데', '니', '궁금해하고', '니', '물어봤잖아', '영상', '까지', '올려줬는데', '싫어요', '누르는', '얘', '이해', '안된다'], ['진짜', '너무', '맛있게', '드시는', '예', '몽', '님'], ['진실된', '모습', '더', '안타깝습니다', '여러', '사람', '있죠', '힘', '되는', '사람', '있지만', '아닌', '사람', '있네요', '힘', '되는', '사람', '주변', '많으시길', '바랍니다', '힘내세요'], ['누가', '봐도', '너무', '무례하거나', '과격한', '뉘앙스', '뎃글은', '아마', '짐작', '하고', '계신', '그런', '부류', '커뮤', '에서', '활동', '하는', '사람', '달러', '온거', '맞을거예요', '그런', '사람', '뎃', '진짜', '보기', '만', '해도', '기', '저절로', '빨리', '죠'], ['강형욱', '대표', '님', '더', '이상', '모함', '하지', '마라', '대표', '님', '힘내세요', '세상', '참', '무서워요', '글', '분노합니다'], ['춤', '진짜', 'ㅈㄴ', '기괴하네', 'ㅋㅋㅋ', '저', '좋다고'], ['삼자', '대면', 'ㄱㄱ', '안', '나오겠지', 'ㅋㅋㅋㅋㅋ'], ['것', '초딩', '용도', '아니고', '미취', '학', '아', '동', '용인'], ['평소', '도전', '해보고', '못', '스타일', '입어보고', '싶었는데', '뭘', '입어야', '할지', '몰라', '고민', '했는데', '...', '진짜', '코디', '이뻐요', '꼭', '저', '코디', '입어볼거에요', '킼킼'], ['썸넬', '민주', '보고', '달려왔다'], ['예', '몽', '님', '긴', '영상', '감사해요', '스킵', '한번', '안', '하고', '쭉', '봤어요', '꿀잼', '근데', '이번', '영상', '에서는', '건강', '걱정', '관련', '댓글', '많네요', '짜증나시겠지만', '그래두', '예', '몽', '님', '건강하게', '오래오래', '유튜브', '해주셨으면', '해서', '말씀', '하신거', '일거에요', '건강검진', '컨텐츠', '올리셔도', '좋을', '것', '같아요', '응원'], ['금수', '저', '든', '아닌듯', '신경', '끄고', '본인', '이나', '잘', '하시길'], ['영상', '싫어요', '사람', '그', '남', '인가'], ['말', '진짜', '잘', '하신다', '멋', '지심'], ['본인', '귀엽게', '생긴거', '알고있죠'], ['개그맨', '이수지', '닮았네'], ['별', '유', '튜버', '님', '응원', '해요', '보통', '사람', '월급', '받으며', '사는', '사람', '에게는', '몇', '천만원', '일', '년', '봉급', '인데', '어린나이에', '그런', '걸', '시즌', '명품', '백', '사니', '감히', '상상', '이안', '가서', '그럴것', '같아요', '근데', '한별', '님', '부모님', '가르침', '받아서', '유튜버', '크게', '자꾸', '번창', '하시는건데', '사람', '그냥', '쇼핑', '해서', '하울', '찍', '는걸', '아는것', '같아요', '것', '마치', '하나', '사업', '같은건데', '저', '알바생', '이지만', '정말', '편의점', '이나', '커피숍', '하나', '해도', '어마', '무시', '힘들고', '진짜', '투자', '하면', '할수록', '돈', '더', '들어오는건', '사실', '이고', '물론', '리스크', '상대', '적', '크기', '때문', '더', '노력', '해야하고', '더', '배워', '야하는거죠', '그래서', '한별', '님', '하울', '더', '크게', '해서', '영상', '퀄리티', '높이', '되고', '그러다', '보니', '또', '더', '큰', '돈', '벌고', '더', '큰하울이나', '다른', '영상', '찍는건데', '보통', '월급쟁이', '일하면', '그냥', '매달', '월급', '받고', '세이브', '하고', '이렇기', '때문', '사업', '시장', '잘', '몰라서', '그냥', '부모', '등꼴', '빼먹는다', '남친', '등꼴', '빼먹는다', '이런거겠죠', '한별', '님', '정말', '수', '안도', '대단하시고', '노력', '파', '이신', '것', '같아요', '보이는', '사람', '있어요', '힘내세요'], ['말투', '나', '생각', '하시는', '모든', '것', '정말', '제', '스타일', '영상', '쭉', '봤어용', '멋있으세요', '채널', '구독', '잘안하게', '되는', '편', '인데', '한별', '님', '채널', '구독', '하고', '갑니당', '앞', '으로도', '좋은', '영상', '기대할게요', '화이팅'], ['언니', '마인드', '너무', '좋네요'], ['젠더', '이슈', '물', '타기', '아들', '방패', '즙', '짜기', 'ㅋㅋㅋ', '크', '지려', '버렸다', '갑자기', '눈물', '각', '잡', '다가', '그', '이크', '흐흐', '흨', '이러면서', '있는', '즙', '없는', '즙', '짜', '버리네', 'ㅋㅋㅋㅋㅋㅋ'], ['앞니', '씹는', '소리', '너무', '별루', '에요', '어금니', '씹어', '드셔', '주세여'], ['모아', '보니', '더', '은혜', '롭다', '지치지도', '않고', '이쁨'], ['늦은', '저녁', '지금', '호랑이', '시리얼', '먹고', '있는데', '판단', '미스', '였다'], ['타고난', '이목구비', '예뻐요', '절대', '못', '생긴', '얼굴', '아닙니다', '코', '성형', '안해', '되는', '코고', '요', '코', '수술', '같은건', '답', '없어요'], ['영상', '긴거', '너무', '조아', '요긴', '영상', '자주', '올려주세요'], ['이렇게', '예쁘고', '대답', '똑', '부러지게', '하시다니', '갖춘', '한별', '님', '답변', '너무', '공감', '되구요', '악플', '대한', '의견', '더', '더욱', '맞는', '말씀', '이라', '생각', '해요'], ['맛있는', '사료', '한번', '준', '적', '없는', '것', '레오', '레오', '거리', '꼴', '이란', '그렇게', '개', '끔찍히', '생각', '하는', '사람', '여름', '휴가', '철', '여기', '저기', '개', '버리고', '다니나', '2022년', '한해', '동안', '발생', '유기견', '자그마치', '113', '440', '마리나', '된다'], ['힘내세요'], ['잘', '못', '한것이', '있으면', '사과', '하고', '그', '합당', '벌', '받으라는', '가르침', '부모', '한테', '못', '배우고', '자랐냐', '형욱', '아', 'ㅋㅋㅋ', '누가', '배운거', '없는', '개', '장수', '아들', '아니', '랄', '까', '봐', 'ㅉㅉㅉ', '지금', '이라도', '배웠으면', '피해자', '한테', '사죄', '하고', '합당', '벌', '받고', '다시는', '티비', '얼굴', '비추지', '말어라'], ['휴'], ['실제', '업주', '시', '시', '티비', '자주', '보긴하는데', 'ㅋㅋㅋ', '사람', '유명해져서', '이런게', '논란', '되는거지', '중소기업', '만', '봐도', '시', '시', '티비', '뭐', '하는지', '봄', '심지어', '화질', '좋음'], ['몇', '백', '개중', '하나', '라도', '달리', '신경', '쓰이는게', '사람인', '지라', '신경', '쓰이시겠지만', '응원', '하는', '사람', '더더', '더더', '많다는걸', '아시리라', '믿습니다', '저', '항상', '응원', '해', '요'], ['전', '예', '몽', '님', '처럼', '조곤조곤하게', '먹는게', '좋아요', '진짜'], ['원희', '좋다'], ['내', '여자친구', '아니여서', '다행', '이다', '라고', '하시는', '분들', '진짜', '여자친구', '있기나', '할까'], ['예쁜거', '시켜주는', '얼굴', '케이팝'], ['실화', '냐'], ['6211021', '진심', '뭔', '상관', '자기', '들이', 'ㅋㅋㅋ'], ['설마', '했는데', '역시', '형욱님', '그럴', '분', '아니죠', '응원', '세', '직원', '꼭', '고소하시길', '빕니다'], ['잘못', '저질렀으면', '벌', '받어라', 'ㅋㅋ', '거', '뭐', '일', '본', '놈', '같은', '놈', '이네', '강형욱', 'ㅋㅋ', '안', '했다고', '발뺌', '만', '하고', '있네', 'ㅋㅋ'], ['누가', '배운거', '없는', '개', '장수', '아들', '아니', '랄', '까', '봐', 'ㅋㅋㅋ', '잘못', '했으면', '용서', '구', '하고', '벌', '받아라', '그런건', '니', '부모', '안', '가르쳐', '줬냐', 'ㅋㅋ', '누가', '배운거', '없는', '개', '장수', '부모', '아니', '랄', '까', '봐', 'ㅋㅋㅋ'], ['현재', '아이돌', '노래', '못', '한다고', '욕먹고있는', '상황', '인데', '어쩌', '냐', '외모', '보고', '뽑는건데'], ['한국', '이중국적', '안되는데', '그러면', '스페인국', '적', '건가', '요', '그럼', '한국', '올', '때', '비자', '그', '걸', '해서', '오셔서', '사니', '느', '건가', '여', '궁금해', '영'], ['36499541554', '도넛', '364915302530', '스타벅스', '카스테라', '364919583238', '치킨'], ['이만이천원', '일반인', '많이', '살수', '일는데', '그리고', '패션', '뷰티', '유투', '버들', '보통', '중산층', '된다고', '그러더라구요', '부모님', '외교관', '거나', '큰', '사업', '하시거나', '그런', '경우', '금수', '저', '그냥', '티비', '에나', '오는', '재벌', '2', '세겠구', '그냥', '중산층', '생각', '하는게', '맞는거', '같아용'], ['예몽밈', '마라', '탕', '드셔주세요', '넘', '귀여우세요'], ['외모', '구멍', '없다'], ['일본', '자신', '잘못', '안', '했다고', '발뺌', '하고', '변명', '하는거', '너', '한테', '배워야', '할꺼', '같다', '형욱', '아', 'ㅋㅋㅋㅋㅋㅋ'], ['웃기', '마라', '강형욱'], ['금수', '저가', '무조건', '깎아', '내리려고', '하는말은', '또', '아니니까', '그', '말', '넘', '스트레스', '안', '받아도', '될것', '같아요', '그냥', '언', '니', '말', '대로', '좋은', '의미', '받아들이시는', '좋을', '것', '같아요'], ['환멸', '한별', '님', '얘기', '듣고만', '있는데도', '스트레스', '뭘', '하든', '걍', '냅', '둬라'], ['개훌륭', '다시', '해주세요'], ['어제', '옾챗', '에서', '실시간', '쳐', '맞던', '서준', '어록', '1', '지능', '딸린건', '내', '아니라', '강씨', '알바인', '니', '이다', '2', '백수', '인게', '아니라', '취업', '할', '생각', '없는', '것', '이다', '3', '니', '욕', '해봐야', '아무', '타격', '없다', '4', '니', '이랑', '말', '안함'], ['성격', '너무', '좋아', '보여요', '배우', '박지현', '님', '느낌', '나', '시공'], ['근데', '레오', '바닥', '뭐라도', '깔아', '놔주지'], ['39', '39'], ['이웃', '일본', '에서는', '도저히', '찾아볼', '수', '없는', '저급한', '폭로', '문화', '빨리', '사라져야', '미개한', '중국', '에서도', '이런', '폭로', '문화', '존재', '하지', '않는다'], ['역시', '꿀', '조합', '잘', '아는', '녜몽님'], ['다른', '사건', '뉴스', '에서', '녹취', '공개', '해주는데', '어째서', '녹취있다', '분', '공개', '안', '하는지', '껄껄', '껄'], ['한별', '님', '영상', '속', '니트', '티', '찾으려고', '정보', '란', '주소', '누르면', '자꾸', '오류', '나길래', '직접', '사이트', '들어가서', '찾아봐도', '무슨', '옷', '인지', '안', '보이네요', '알려주실', '수', '없을까요'], ['이언', '니', '너무', '멋있어'], ['요즘', '없는데가', '어디', '있다고', '강', '형', '욱', '님', '너무', '휘', '둘리', '마시고', '힘내세요', '응원'], ['근데', '볼수도', '있는거', '아니냐', 'ㅋㅋ'], ['개', '이쁘네'], ['상콤'], ['그', '와중', '넘', '예뽀', '언닌', '흑발', '예뿌', '컬러', '있어도', '예뿌', '말', '잘', '해요', '분명', '기분', '좋은', '해피해피', '내용', '영상', '아니지만', '그래도', '친구', '랑', '수다', '떠는', '느낌', '이라', '힐링', '해요'], ['진짜', '말', '되게', '되게', '예쁘게', '친절하게', '말', '하셔서', '듣기', '좋고', '왜', '그', '래야', '하는지를', '알려주는', '영상', '인거', '같아서', '볼때', '마다', '여러', '생각', '들고', '아', '그러지', '말아야지', '하는', '마름', '드네', '요'], ['위안부', '피해자', '증언', '해도', '사실', '아니라고', '잡아', '때', '일본', '이냐', '니', '강형욱', '아', 'ㅋㅋㅋㅋㅋㅋㅋ', '잘', '못', '했으면', '벌', '받어라', '강형욱', '아'], ['ㅋㅋㅋㅋㅋㅋㅋㅋㅋㅋㅋㅋㅋ', '영상', '초반', 'ㅋㅋㅋㅋ', '머리', '뭔가', '웃기', 'ㅎㅎㅋㅋㄱㅋㅋㅋㅋ', 'ㅋㅋㅋ'], ['열등감', '덩어리', '서준', 'ㅋㅋㅋㅋ', '강형욱', '싫다면서', '꾸역꾸역', '여기', '들어와서', '악플', '도배', '함', 'ㅋㅋㅋㅋㅋ'], ['목소리', '힐링', '되는거', '같아', '좋아요'], ['6551055', '자기', '여자친구', '저러지', '않아서', '다행', '이다', '그럴', '능력', '없어요', '그런', '놈'], ['대리', '만족', '돼서', '좋', '더', '만', 'ㅋㅋㅋ', '돈', '있으면', '명품', '사고', '그런', '거지', '별', '시', '답', '잖은', '참견', '인지'], ['롤모델', '용', '진짜', '사랑', '합', '니', '둥'], ['누린', '많은', '금수', '저가', '맞으니까', '금수', '저냐', '물어', '보는', '질문', '이해', '하지', '못', '하는구나', 'ㅋㅋ', '부럽다'], ['말투', '지적', '넘', '웃기', 'ㅎ', '논리', '적', '따질', '지능', '없으니까', '말투', '이상하다', '뭐', 'ㅋㅋ'], ['혹시', '2', '번', '룩', '체크', '스커트', '정보', '없을까요', '…?!!!!!!', '부탁드림다', '!!!', '너무', '예뻐요', '!!'], ['심도있는', '이야기', '감사해요'], ['훈련사', '님', '정말', '마음', '안', '좋네요', '잘', '회복하시고', '정말', '힘내세요', '응원'], ['모카', '진짜', '존나', '이쁘다'], ['뭔가', '논리', '딱', '딱', '떨어지는', '말', '계속', '듣고', '있으니까', '기분', '좋아지나', '나', '왜', '영상', '주', '기적', '보고', '있지'], ['3649507827', '예', '몽', '님', '매력', '이에요', '재밋어', '요', '이대로'], ['아일릿', '노래였구나', '어딜', '가나', '노래', '나오길', '레', 'ㅎㅎ'], ['보는', '재미있는', '예쁘고', '즐거운', '영상', '보는거', '너무', '좋아요', '쓸데없는', '댓글', '너무', '상처', '받지', '마세요'], ['직원', '인간', '이니까', '말', '할', '주둥아리', '있던지말던지', '그리고', '아줌마', '말좀', '그만하세요', '다나', '요', '레오', '가은혜', '원', '수로', '갚은', '아', '나라', '결국', '원수', '원', '수로', '갚았았으니', '너무', '억울해', '하지', '마세요', '부인', '이라는', '너무'], ['아', '보노보노', '귀여웡', '먹방', '븨', '로그', '재밌어서', '계속', '보게', '돼요', '정', '주행', '시작'], ['레오', '얘기', '계속', '하시는', '분', '그', '옥상', '집착', '하여', '옥상', '얘기', '의미', '부여', '그렇게', '감정이입', '하면서', '놓치시는게', '있어요', '거짓', '스토리', '만', '들어서', '레오', '얘기', '쓴', '유튜버', '댓', '글단', '자', '에게는', '왜', '아무', '말', '안', '하세요', '그', '자', '일단', '거짓말', '했고', '레오', '마치', '학대', '견처', '럼', '불쌍하게', '만들어놨어요', '확인', '없이', '댓글', '그냥', '내보낸', '언론사', '문제', '기사', '에도', '댓글', '이라', '써있었는데', '그걸', '그대로', '믿고', '욕', '본인', '인성', '생각', '안', '하고', '그', '거짓', '댓글', '단', '사람', '테', '아무런', '의문', '이나', '언급', '없고', '찾으려는', '노력', '안', '하잖아요', '댁', '레오', '위', '해서가', '아닌', '그냥', '레오', '불쌍한', '견', '됐음', '하는건', '아닌가요', '허', '한마음', '뭔가', '마음', '쓰고', '싶은건', '아니구요'], ['너무', '귀여우시다'], ['현이', 'ㅊㅊ'], ['엄마', '뒤', '에서', '꼬물꼬물', '머리', '따셨을', '생각', '하니까', '너무', '귀', '여우', '심', 'ㅋㅋㅋㅋ'], ['민주', '썸네일', '이끌려', '왔다'], ['언니', '세상', '너무', '귀', '야', '워', '역', '냐', '아악', '하는거'], ['귀척', '너무', '거북하다'], ['언니', '다른', '사람', '말', '하는', '거', '너무', '상처', '안', '받으셨으면', '좋겠어요', '행복해요'], ['필요없고', '저', '강', '형', '욱', '님', '믿어요'], ['ㅋㅋㅋㅋ'], ['당연히', '있어야지', '탈의실', '화장실', '빼고', '이런', '걸', '해명', '라고', '하는것', '자체', 'ㅉㅉ', '적응', '못', '하면', '중세시대', '에서', '살아야지'], ['영상', '긴거', '정말', '매우', '붸리', '스트로베리', '블루베리', '많이', '너무', '엄청', '좋습니다'], ['굴뚝', '외', '연기', '나나', '요'], ['한별', '님', '영상', '보면서', '오늘', '처음', '댓글다는것', '같네요', 'ㅎㅎ', '너무', '멋지고', '똑', '부러지게', '말', '하시는', '한별', '님', '보면서', '무언가', '힐링', '이라', '해야', '할까', '요', '위로', '라', '해야', '할까', '요한', '별', '님', '무얼', '해도', '응원', '하는', '사람', '있다는거', '꼭꼭', '항상', '생각', '햐', '주세요'], ['땋', '머리', '완전', '귀여워용', '몽골', '소녀', '가타', '요'], ['아', '기분', '더러워', '능력', '있으면', '살', '수', '있지', '그리고', '있던', '없던', '사는건', '자기만족', '아닌가', '왜', '열등감', '느껴서', '어떻', '든', '깎아', '내리면서', '자기', '위로', '하는지', '제', '어이', '없네욤'], ['요즘', '가슴', '많이', '아파요', '힘내세요', '믿습니다'], ['형님', '마음', '꼭', '추', '스리', '시', '고요', '항상', '응원'], ['괜찮아요', '행여', '나', '실수', '있으시더라도', '괜찮아요', '절대', '안좋은', '생각', '하지', '마시고', '힘내세요', '잘', '될꺼예요', '훈런사님꼭', '힘내세요', '요즘', '너무', '쉽게', '자살', '하는거', '보', '니까', '괜히', '겁나요'], ['진짜', '길다', '거의', '45분', '이네요', '재밌게', '볼게요'], ['이번', '사건', '인해서', '억측', '비방', '허위', '폭로', '등', '범죄', '라는', '점', '일', '깨워주길', '바', '래', '요'], ['마지막', '악플', '대한', '생각', '대처', '너무', '공감', '되고', '말씀', '잘', '하셨어요'], ['364910491729', '때', '눈썹', '되게', '잘', '그렸어요', '깔', '꼼', '허니'], ['전', '부터', '정말', '느꼈지만', '이런', '가치관', '본받고', '싶다는', '생각', '들었어요', '앞', '응원', '할테니까', '계속', '꾸준히', '활동', '해주세요'], ['100', '번', '들어도', '좋음'], ['오늘', '처음', '구독', '하며', '대리', '만족하고', '있는', '구', '독자', '다른', '아니라', '영상', '보면서', '왼쪽', '목', '부분', '살짝', '튀어나온거', '같아서요', '초음파', '검사', '한번', '받아', '보셨으면', '해서요', '전', '의사', '간호사', '아니지만', '조금', '걱정', '되어서', '글', '올려', '봅니다', '악플', '아닙니다', '절대', '오해', '하지', '말아주세용'], ['진짜', '뉴진스', '같네', '신기하다'], ['당', '진짜', '많이', '먹는다'], ['ㅋㅋㅋㅋㅋㅋㅋ', '저런', '여자', '만나지', '말아야', '짘', 'ㅋㅋㅋㅋㅋㅋㅋㅋㅋ', '그런', '사람', '왜', '당신', '만나'], ['카피', '카피', '모두'], ['평소', '에도', '느꼈지만', '미나', '상', '님', '이랑', '닮으셨어요'], ['뭐', '야', '이분', '첨', '보눈데', '개', '귀엽네'], ['제발', '마녀사냥', '그만', '했으면은', '좋겠어요', '당연히', '씨', '씨', '티비', '없으면', '안되는거', '아닌지', '그걸', '감시', '라고', '하고', '이슈', '터지니', '장단', '맞추고', '전부', '사냥', '감', '찾듯이', '징글징글', '요', '또', '어떤', '사건', '덭', '싶어', '이렇게', '이슈', '키우는지전', '강혁', '욱', '선생님', '응원'], ['정말', '멋진', '사람', '인거', '같아요'], ['힘내요'], ['우울증', '인데', '잘', '먹는', '사람', '부럽다'], ['폭로', '라는', '내용', '대부분', '사적', '감정', '불만', '한정', '되어있다', '명백히', '위법', '내', '용이', '라던가', '사회', '적', '통념', '벗어난', '것', '없다', '이런', '것', '대해', '어째서', '국민', '귀중한', '시간', '쪼개서', '관심', '가져야', '하는가', '그것', '이미', '수년', '전의', '일'], ['헙', '감동', '감동', '45분', '이라뇨', '5분', '씩', '9', '번', '걸쳐서', '볼', '수', '있네요', '예', '몽', '님', '2월', '달도', '파이팅', '하세요'], ['영상', '긴것두', '너무', '좋고', '머리', '땋', '것', '두', '너무', '기엽구', '사랑스럽고', '코로나', '잠잠해지면', '팬', '정모', '이런거', '하면', '안되요', '만약', '한다면', '멀어두', '꼭', '갈꺼에', '용', '나이', '먹어두', '덕질', '어쩔', '수', '옶나바', '예몽', '너무', '좋당'], ['갑자기', '그', '명언', '떠오른다', '니', '꽃뱀', '왜', '무서워', '돈', '없는게'], ['언니', '에게', '남친', '등꼴', '빼먹는다', '명품', '자기', '돈', '산', '아니다', '내', '여친', '안', '그래서', '다행', '이다', '등등', '그런', '댓글', '다는', '사람', '언니', '부러워서', '질투', '나서', '자기한데', '없어서', '그런', '거', '라고', '생각', '해요', '본인', '그', '정도', '비슷한', '수준', '이면', '절대로', '악플', '안달', '죠', '남', '잘', '되는', '꼴', '못', '보는', '인간', '그러는거에요', '정말', '악', '풀러', '들은', '강력한', '처벌', '받았음', '좋겠어요'], ['450분', '짜', '리도', '볼수있어', '예', '모', '옹'], ['단', '그네', '틱'], ['강', '형', '욱', '훈련사', '단순하신', '분', '같습니다', '사람', '나', '무너', '뜨리', '는것', '너무도', '쉬운것', '같아요'], ['우와', '음식', '앞니', '로만', '씹는걸', '까', '아니면', '앞니', '씹는', '착시현상', '인걸', '까', '신기하네'], ['뭔', '일인', '진', '모르겠지만', '얼른', '복귀', '하세요', '언론', '담금질', '하는거', '한두', '번', '보나', '요'], ['그냥', '마음', '가난한', '사람', '있어요', '남잘', '되면', '끌어내리려고', '하는', '부류', '잘하고', '계세', '요', '백퍼', '이해', '함', '자기', '열등감', '왜', '남', '한테', '풀어', 'ㅋㅋ', '부럽고', '사고', '싶으면', '돈', '벌어', '그', '시간', 'ㅋㅋ'], ['2만', '2천원', '티', '금수', '젘', 'ㅌㅌㅌㅌㅋㅋㅋㅋㅋㅋㅋㅋ'], ['39', '39', '39', '파이팅'], ['답변', '안', '해주셔도', '되는데', '답변', '해', '주셔서', '감사합니다'], ['하나', '하나', '막힘', '없이', '말씀', '하시고', '더군다나', '아들', '욕절', '대못', '참지요', '맘', '아프네', '힘내세요'], ['예', '몽', '님', '혹시', '음식', '드실', '때', '앞니', '드시나요', '나쁜의', '도로', '여쭤', '본건', '아니구', '진짜', '궁금해서요'], ['니', '사람', '이냐', '악마', '야'], ['2만', '2천원', '왜', '금수', '저', '야', '얼마나', '꼬인거야'], ['뉴진스', '안무', '표절', '떠나서', '얘', '한테', '나쁜말하고', '싶진', '않음', '어른', '욕심', '때문', '비난', '하기에는', '얘', '막상', '무대', '보니', '끼', '보이는', '애', '이라'], ['매번', '다시', '볼때', '마다', '깨달음', '주는', '영', '상이', '요', 'ㅎㅎ'], ['화질', '더', '좋아진', '것', '같은', '느낌'], ['헐', '예', '몽', '님', '기다렸어요', '45분', '짜리', '영상', '이라니', '금요일', '까지는', '너무', '바빠서', '못', '보고', '토요일', '아껴', '볼게요'], ['오랜', '만', '뵙는', '한별', '님', '영', '상이', '요', '화장품', '좋아하는', '흔한', '취준생', '에서', '한별', '님', '영상', '쭉', '보고', '있었는데', '젠', '직장인', '에서', '엄마', '까지', '되었습니다', 'ㅋㅋ', '이제', '다시', '한별', '님', '영상', '보러', '올게요', 'ㅋㅋ', '우선', '역주행', '해야되', '겠죠', '열심히', '좋아하는거', '하시는', '모습', '에서', '전', '또', '힘', '얻고', '갑니다', '미모', '여전하세요'], ['악플', '무시', '라는', '건', '너무', '무책임한', '말', '이라는', '것', '이제', '느끼셔야', '악플', '다는', '사람', '나쁜', '겁니다'], ['예', '몽', '님', '어머니', '만드신', '김밥', '너무', '맛있을', '거', '같아요', '아쉽지만', '저', '만들지', '못', '하니', '치킨', '시켜', '먹어야겠어요', 'ㅎㅎ', '항상', '옹심이', '댓글', '읽어', '봐', '주셔서', '너무', '감사합니당'], ['전반', '적', '깔려있는', '스폰지밥', '흐물텅흐밍뮁멩', '너무', '조아여', 'ㅎㅎ', '예', '몽', '님', '영상', '정체', '성', '과도', '잘', '맞는듯', 'ㅋㅋㅋㅋㅋㅋ', '계속', '찾게', '되는', '영상', '예요'], ['저', '댓글', '처음', '써', '보는데', '저', '랑', '제', '친구', '랑', '언니', '완전', '팬', '이에요', '친구', '맨날', '언니', '영상', '만', '보길래', '그렇게', '재밌나', '해서', '보기', '시작', '했는데', '진짜', '중독', '성', '개', '쩔고', '영상', '보고', '있으면', '점점', '힐링', '돼요', '나긋나긋한', '목소리', '랑', '옴뇸뇸', '드시는게', '너무', '토끼', '같구', '귀여워요', '요즘', '항상', '밥', '먹을', '때', '랑', '잘', '때', '언니', '영상', '틀어놓구', '있어용', 'ㅋ', 'ㅋㅎ', '프리미엄', '결제', '했답니당', '요즘', '영상', '자주', '올려주셔서', '감사하구', '앞', '으로도', '많이', '올려주세요', '길면', '더', '좋아요'], ['직장', '생활', '해본', '사람', '라면', '알거라고', '봐요', '사장', '실수', '하고', '화도', '내고', '감정', '움직일', '때', '있습니다', '사람', '니깐'], ['위안부', '피해자', '그렇게', '증언', '해도', '그런', '적', '없다고', '잡아', '때', '일본', '하고', '똑같네', '저', '강형욱', '부부', 'ㅉㅉㅉ', '라이', '썩을', '놈', '아'], ['39'], ['사랑스러운', '예', '몽', '님', '얼굴', '예쁘고', '말', '하시는것도', '예쁘고', '먹는것도', '복스러우니', '너무', '예쁘세요', '방송', '오래오래', '보고싶어요'], ['제발', '아까운', '사람', '잃어버리는', '일이', '없었으면', '조금', '이해', '해주고', '서로', '아껴주는', '사회', '이길', '바랍니다'], ['분명한건', '저', '누가', '남녀', '노소', '누구', '든', '다른사람', '명품', '사던말던', '관심', '없어요', 'ㅋ', '모든', '명품', '가격', '비싼게', '문제', 'ㅋ', '24', '남자', '유튜', '버여', '자유', '튜버', '려면', '서', '남녀', '댓글', '분란', '조', '장하는', '사람', '문제', '사람', '명품', '남녀', '뭘', '사던', '관심', '없음', 'ㅋ', '문제', '명품', '남녀', '사던말던', '관심', '없는데', '남녀', '분란', '조', '장하는', '댓글', '러', '문제'], ['후보', '정이', 'ㅈㄴ', '대단한거구나'], ['얼굴', '기미', '주근깨', '덕지덕지', '개', '줌마', '미니', '진', '얘', '왤케', '싫어하는거냐'], ['건강', '정말', '안', '좋아', '보이네요', '부모님', '생각', '해서라도', '살', '빼시는', '좋을', '것', '같아요', '거', '보시', '참견', '이네', '뭐', '라고', '생각', '하실', '수', '있지만', '건강해지길', '바라겠습니다'], ['악플', '나빠요', '생각', '없이', '샘나서', '다는', '악플러', '나빠요', '한별', '님', '영상', '호기심', '생기', '재밌어요', '악', '으', '적', '댓글', '나쁘죠', '그치만', '한별', '님', '더욱', '힘내시고', '꿋꿋하셔야'], ['뉴진스', '영상', '보다가', '자동', '짭진스'], ['좋아', '진짜', '너무', '귀여워'], ['원희', '한테', '눈', '자꾸', '계속', '간다', '신기해', 'ㅎㅎ'], ['노래', '진짜', '좋네', 'ㅋㅋㅋ', '굿'], ['몇', '일', '째', '계속', '댓글', '쓰지만', '힘내시란', '말', '밖에', '해드릴수가', '없네요', '시간', '약인', '해', '요'], ['금수', '저', '질문', '우문', '현', '답', '넹', '호감', '상승'], ['크리', '수탈', '닮음'], ['지금', '머리', '가젤', '잘어울', '령', '요'], ['강형욱', '인간', '가면', '벗어', '보니', '악마', '있엇구', '나', 'ㅋㅋㅋ', '지금', '이라도', '알', '되서', '다행', '이지', '뭐', 'ㅋㅋㅋ', '고발', '자', '진짜', '고맙다', '레알'], ['이릿일', '언니', '큐큐', '큐', '성은', '만', '음속', '있어요'], ['얘', '뭔', '잘못', '있겠냐', '그냥', '방시혁', '욕심', '이지', '휴'], ['힘내세요', '모두', '강', '형', '욱', '님', '신뢰'], ['이만', '이천원', '금수', '저', '그냥', '할말이', '없다'], ['민주', '개', '이쁘다'], ['하아', '저녁', '땅땅치킨', '먹었는데', '배고프자', '나영', 'ㅎㅎ', '잔치국수', '에다가', '연어초밥', '어오', '침고이네', '용', 'ㅎㅎ', '저', '뷔페', '가면', '연어', '만', '조져요', 'ㅋㅋㅋㅋ'], ['훈련사', '님', '힘내세요'], ['방시혁', '평소', '어떤', '배우', '보는지', '확실히', '알겠네'], ['누가', '한별', '님', '같은', '사람', '너', '만나주겠나고', '돈', '능력', '이구', '너', '부모님', '못', '해주는걸', '웨', '괜히', '자격지심', '찌들어서', '욕', '해', '사고', '싶으면', '너', '한별', '님', '처럼', '일', '하고', '벌어', '여친', '불쌍하네', '들은', '여친', '한테', '오지', '뜯어', '먹을거', '아니야'], ['짭진스'], ['씨', '씨', '티비', '보는', '법', '몰라요', '너무', '힘든', '일이', '에요', '리모컨', '분할', '화면', '번호', '누르고', '줌', '누르면', '확대', '까지', '되는데', '뭐', '어렵다는', '건지'], ['초고', '비만', '인데', '피부', '좋으시고', '뭔가', '음식', '앞', '에서', '성격', '안', '급하시고', '사람', '안정감', '느껴져'], ['한별', '님', '영상', '볼', '때', '마다', '대본', '미리', '써', '둔', '것', '처럼', '정갈하고', '정돈', '된', '말', '차분하게', '해', '주셔서', '편안하게', '보고', '있습니다', '그만큼', '영상', '대해', '많이', '고민', '하고', '찾아보고', '공부', '노력', '결과', '겠지요', '그걸', '깎아내리지', '못', '해', '안달', '난', '사람', '많아', '보여', '속상합니다', '어찌', '되었든', '한별', '님', '시간', '노력', '들어간', '건데', '그게', '부럽다는', '이유', '정확히는', '자신', '할', '수', '없으니까', '폄하하고', '어쩐', '저', '쩐다', '함부로', '말', '하는', '제', '3', '자로', '서', '어이없고', '한심하게', '느껴지네요', '그럼에도', '배운', '사람', '입장', '으로서', '차분하게', '답변', '해', '주시', '모습', '감탄', '하고', '갑니다', '영상', '잘', '봤습니다'], ['나', '국민', '인데', '강', '대표', '국민', '한테', '미안해', '할', '필요없다', '다만', '이번', '소란', '관련', '해', '도의', '적', '책임', '통감', '하는', '정도', '자세', '필요하다', '본다'], ['응원'], ['불현듯', '가마보코', '먹고싶어지는', '저녁', '시간', '이다', '치쿠', '와도', '좋고', '한뻰', '좋다', '절로', '대포', '한잔', '생각나는구나'], ['너무', '부럽다', '난', '22년', '간', '살면서', '해외여행', '커녕', '국내', '여행', '한번', '제대로', '못', '가봤는데', '사람', '무슨', '복', '타고났는지'], ['그럼', '혹시', '너무', '이쁜', '가방', '샤넬', '구찌', '가면', '꼭', '있는건', '아니겠죠', 'ㅋㅋㅋㅋ'], ['개통', '령', '못', '보는게', '안타까울', '뿐입니다', '응원', '미친', '직원', '언론', '여', '직것', '좋은', '일만', '했거', '만나도', '저러면', '열', '받지'], ['최고', '영상', '삭제', '하지', '말아주세요'], ['보고', '있으면', '마음', '편안해진당'], ['맛', '나게', '드세요', '잔치국수', '자주', '해주시구', '먹어도', '진치', '국수', '맛', '나요'], ['이모', '영상', '잘', '보고', '있어용', '건강', '위해', '조금씩', '빼구', '앞니', '음식', '씹지마', '용'], ['감히', '남자', '아가리', '벌려'], ['인종차별', '부분', '너무', '공감', '가요', '저', '일', '년', '살았는데', '정말', '폐쇄적', '이고', '자국', '문화', '프라이드', '굉장히', '강하구', '어느', '정도', '스페인어', '해서는', '무시', '하는', '경향', '있긴하더라구요', '그래서', '용기', '내는데', '시간', '오래', '걸리더라구요'], ['스페인', '예쁘다고', '거기', '서', '살', '싶다고', '하는', '초등학생', '딸', '위해', '이민', '결정', '해주시는', '부모님', '이라니', '대박'], ['강', '대표', '님', '힘내십시오', '같은', '오', '너', '로서', '충분히', '이해', '되는', '일', '들입니다', '저', '100', '대도', '넘게', '달아놓고', '있습니다', '아무', '뭐라고', '하는', '직원', '없습니다', '그냥', '게으른', '직원', '나가서', '뒤통수', '치는거니까', '똥', '잘', '못', '밟았다', '생각', '하고', '차분히', '잘', '대응', '해서', '꼭', '이겨주기', '바랍니다', '항상', '응원', '하겠습니다', '정', '안되겠다싶으면', '그냥', '한국', '버리고', '해외', '나가서', '지금', '까지', '벌어놓은', '돈', '가지', '편하게', '사는게', '더', '나을듯', '꼭', '화이팅'], ['예', '몽', '님', '조금씩', '말고', '입', '크게', '벌려서', '번', '드셔주면', '대리', '만족', '될', '거', '같아요'], ['피드백', '받아들여져서', '좋아요', '편안'], ['피자', '먹는거', '봤는데', '자유롭게', '1', '1', '판', '먹던데', '눈치', '보는', '건가'], ['근데', '금수', '저', '라는', '말', '답변', '뭐', '우리', '가족', '월', '소득', '얼마', '개인', '소득', '얼마', '그런', '걸', '말', '해줘야', '되는', '건가', '뭘', '바라고', '물어보는거지'], ['별로', '안', '심란', '데', '컨셉'], ['한별', '님', '직업', '뭐', '예여'], ['형욱님', '보듬처럼', '다시', '따뜻하고', '멋있는', '강아지', '훈련소', '만들어졌으면', '좋을', '것', '같아요', '그리고', '레오', '일', '언급', '할', '때', '정말', '마음', '찢어지듯이', '아프셨을', '것', '같은데', '정말', '레오', '위해', '기도', '많이', '할게요', '그리고', '보듬에서', '일', '하셨던', '훈련사', '분들', '보듬에서', '일', '했다는', '것', '부끄럽고', '창피한', '경력', '아닌', '정말', '영광', '스러운', '경력', '업적', '이다', '생각', '했음', '좋을', '것', '같아요', '그리고', '훈련사', '분들', '보듬', '모든', '직원', '분', '강', '형', '욱', '님', '앞날', '응원', '하겠습니다'], ['본인', '생각', '말로', '조목조목', '알아듣기', '쉽게', '표현', '하시는게', '너무', '멋있어요', '말씀', '너무', '잘하세요', '한별', '님', '항상', '응원'], ['다이어트', '하면서', '잘', '보고있', '습', '니당', '욕', '하는', '댓글', '무시', '하시고', '10000', '칼로리', '챌', '린지', '해주세여'], ['진짜', '귀엽다'], ['저', '언니', '저런', '거슬리는', '말', '대답', '할', '때', '조곤조곤', '말', '할', '때', '진짜', '부', '티나', '거', '같아요'], ['22일', '날', '너무', '이뻐요', '화장', '찰떡', '이구', '요'], ['저', '바람', '함께', '사라지다', '사랑', '빠진', '딸기', '뉴욕', '치즈케이크', '순서', '최애', '바꿨어요', 'ㅋㅋ'], ['민희진', '덕', '아일릿', '빠져', '버림', '원희', '너', '무조', '타'], ['공혁준', '여자', '버전'], ['댓글', '왜', '이리', '가식', '같지', '칭찬', '인데', '칭찬', '안', '같고', '비꼬는거', '같아요', '어쨌든', '가족', '이랑', '화목', '모습', '보기', '조아요', '친', '근', '감', '들고', '그러네요'], ['유툽', '알고리즘', '타고', '서', '39', '별별', '쇼핑몰', '39', '영상', '보다', '여기', '까지', '와서', '구독', '하구가요', '하울', '영상', '유독', '금수', '저', '금수', '저', '말', '많아서', '그렇지', 'ㅎ', '한별', '님', '생각', '맞는것', '같아요', '한별', '님', '바라보는', '사람', '생활', '비교', '해봤을', '때', '한별', '님', '금수', '저가', '될수가', '있고', '아닐수가', '있는거라고', '생각', '해요', 'ㅎㅎ', '흐뭇하게', '봤습니다', '결론', '구독'], ['다이어트', '자극', 'ㅈㄴ', '잘', '된다'], ['무슨', '서리', '야', '정말', '부모님', '돈', '이든', '언니', '돈', '이든', '영', '앤', '리치', '언니', '너무', '걸', '크러쉬', '짱짱', '멋있어', '우리', '언닌', '맛있는거', '먹고', '예쁜', '옷', '입으면서', '행벅', '살아야해'], ['애', '왤케', '사랑스러워'], ['영상', '재밌으니까', '더', '많이', '올려주', '새', '요', '늦어도', '되니까', '먹방', '영상', '보고싶어요'], ['되게', '이해', '잘', '되는거', '같아요', '전', '한별', '님', '생각', '너무', '좋은', '거', '같아요', '할말하시는게', '참', '보기', '좋아용', '3'], ['예', '몽', '님', '혹시', '안', '드셔', '보셨다면', '스벅', '초콜렛', '크루아상', '추천', '드려용', '안', '카스테라', '랑', '똑같은', '우유', '크림', '들어있는데', '초코', '맛', '나고', '촉촉', '보', '맛', '바삭', '함', '느낄', '수', '있어용', '꼭', '드셔', '보세요', '생크림', '카스테라', '좋아하시면', '거도', '맛있게', '드실', '수', '있을', '것', '같아요'], ['꼭', '아들', '낳아서', '한남', '소', '추', '라고', '듣길', '바람'], ['슈퍼', '끌림', '들을', '때', '마다', '어처구니', '없긴한데', '그래도', '귀엽고', '매력', '적', '이네'], ['힘내세여', '싫으면', '안보', '되지'], ['민주', '하늘', '에서', '내려온', '천', '사임'], ['안좋은', '댓글', '의연하지', '않고', '긍정', '적', '마인드', '류', '말씀', '하시는', '모습', '좋이', '보기', '좋아요', 'ㅎㅎ', '이런', '영상', '통해', '언니', '대해', '발자국', '더', '알', '되네요'], ['노래실력', '부터', '키워라'], ['원희', '뭐임'], ['커뮤', '에서', '보고', '어쩌다', '영상', '보는데', '되게', '특이하게', '씹어', '드시네요', '거의', '앞니', '로만', '씹으시는듯'], ['몇', '천만원', '명품', '백', '하울', '근사한', '스페인', '집', '등등', '보면', '금수', '저', '라는', '질문', '이해', '할수', '있을것', '같아요', '평범한', '사람', '에게는', '쉽게', '할수', '없는', '것', '들이거든요', '궁금할수는', '있죠', '저런', '환경', '여유', '어디서', '나오는', '걸까', '하지만', '한별', '씨', '답변', '이해', '또', '공감', '갑니다', '또', '이상한', '댓글', '많아', '속상하기도', '하셨겠네요'], ['마지막', 'ㄱㄴ', '잘춤'], ['사건', '반장', '소송', '걸어', '보세요'], ['아', '왜', '자꾸', '쳐', '뜨냐'], ['업무', '시간', '여성시대', '못', '하니', '사장', '가족', '욕', '하고', '감시', '날조함', 'ㅋㅋㅋㅋㅋ'], ['스페인', '에서', '어떤', '일', '하고', '살아요'], ['원래', '자격지심', '심한', '사람', '남', '부러워하고', '욕', '하고', '더', '그런거', '같아요', '그리고', '방송인', '공인', '이니까', '모두', '에게', '잘', '해야한', '공평해야', '다라', '생각', '하는', '무', '개념', '효', '한별', '님', '오래', '봐', '온', '만큼', '절대', '그런', '분', '아니란', '것', '잘', '알', '항상', '잘', '보고있으니까', '앞', '으로도', '화이팅', '이에요'], ['급하게', '배고파서', '치킨', '시켜놓고', '입맛', '돋울', '겸', '먹방', '찾아보다가', '들어왔는데', '왜', '끌리는지', '자세히는', '모르겠는데', '넋', '놓고', '계속', '보게', '되네요', 'ㅋㅋㅋㅋㅋㅋ', '앞', '으로도', '놀러', '올게요'], ['한별', '님', '자체', '그냥', '명품', '인거', '같아요', '저런', '댓글', '좋게', '좋게', '본인', '할', '말', '의사', '말', '하기', '어려운데', '차분하게', '이야기', '이어나가는게', '정말', '좋은', '사람', '이라는', '느껴져요', '유튜브', '많은', '분들', '보면서', '정말', '상처', '받지', '않았으면', '하고', '더', '떴으면', '하는', '분', '처음', '것', '같아요', '질투', '찌든', '사람', '신경', '쓰지', '말고', '영상', '앞', '으로도', '많이', '올려주세용'], ['위안부', '피해자', '증언', '해도', '사실', '아니라고', '잡아', '때', '일본', '이냐', '니', '강형욱', '아', 'ㅋㅋㅋㅋㅋㅋㅋ', '잘', '못', '했으면', '벌', '받어라', '강형욱', '아'], ['444724', '아', '냐', '아아', '아악', '이라니', '냐', '아아', '아', '아악', '이라니', '너무', '귀여워요', '진짜'], ['내', '인종차별', '당하면', '너', '부모님', '안녕하니를', '각국', '언어', '해줄듯'], ['저런', '어머니', '있어서', '너무', '부럽다'], ['반려견', '훈련사', '강형욱', '보듬', '컴퍼니', '대표', '아내', '수', '잔', '엘더', '이사', '직장', '내', '괴롭힘', '의혹', '대한', '해명', '영상', '전', '직원', '더', '분노한', '것', '알려졌다', '사실', '대로', '얘기', '하지', '없는', '얘기', '하고', '아기', '욕', '한적', '없다는데', '핑', 'ㄱㄴ', '는쯔쯔', '그러면', '안되', '직원', '감시', '용', '사용', '요것', '조', '논란', '잇겟다', '감사용', '인지', '직원', '만', '감시', '용인'], ['선물', '받든', '내', '가사', '든', '남', '일', '인데', '왜', '그렇게', '지나친', '관심', '한별', '님', '께서', '유튜버', '하신', '덕분', '저', '한별', '님', '만나서', '기쁘지만', '다른', '한편', '으로는', '그', '따른', '고충', '있어', '안타까워요'], ['의외로', '빼는건', '쉬워요', '사후', '관리', '중요하다는것은', '다이어터', '알고있을건데', '요'], ['문제', '없다는', '저', '지능', '개통령빠', '에게', '바칩니다', '\\xa0', '기업', '에서', '시설', '보안', '이나', '도난', '방지', '등', '목적', '사업', '장', '내', '설치', '하는', '경우', '늘', '있습니다', '그러나', '직원', '이를', '사생활', '내지', '개인정보', '자기결정권', '대한', '침해', '라고', '생각', '하는', '경우', '있어', '갈등', '발생', '곤', '합니다이와', '관련', '하여', '최근', '대법원', '직원', '동의', '없이', '설치', '된', '검정색', '비닐봉지', '가린', '행위', '업무방해죄', '해당', '하는지', '여부', '관련', '하여', '근로자', '작업', '모습', '찍히는', '카메라', '한하여', '비닐봉지', '씌운', '것', '사회', '상', '규', '위배', '되지', '않는', '정당행위', '라고', '볼', '여지', '있다고', '판시', '하였고', '대법원', '2023', '6', '29', '선고', '2018', '1917', '판결', '이를', '계기', '직장', '내', '설치', '및', '운영', '적', '법성', '관', '논의', '활발하게', '전개', '되고', '있습니다', '가장', '많이', '거론', '되는', '문제', '역시', '\\xa0', '개인정보보호법', '이슈', '사업', '장', '내', '설치', '된', '통해', '수집', '되는', '영상', '정보', '일종', '개인정보', '이므로', '개인정보보호법', '제', '15조', '적용', '됩니다', '따라서', '사용자', '도입', '통해', '개인정보', '수집', '거나', '이용', '하기', '위', '해서는', '근로자', '동의', '받아야', '하는', '것', '원칙', '제', '1', '호', '법률', '특별한', '규정', '있거나', '법령', '상', '의무', '준수', '하기', '위', '하여', '불가피한', '경우', '제', '2', '호', '개인', '정보처리', '자', '정당한', '이익', '달성', '하기', '위', '하여', '필요한', '경우', '로서', '명백하게', '정보', '주체', '권리', '보다', '우선하는', '경우', '제', '6', '호', '등', '예', '외적인', '경우', '한해', '서', '만', '동의', '없어도', '개인정보', '수집', '거나', '이용', '할', '수', '있습니다', '개인정보보호법', '제', '15조', '근로자', '동의', '없는', '경우', '사용자', '실질', '적', '같은', '예', '외적인', '사정', '소명', '할', '수', '있어야', '하므로', '관련', '분쟁', '발생', '하는', '경우', '사용자', '부담', '작용', '할', '수', '있습니다', '실제', '위', '같은', '예외', '좁게', '인정', '해석', '다수', '발견', '됩니다', '예컨대', '개인', '정보보호', '위원회', '사무실', '내부', '설치', '운영', '것', '회사', '정당한', '이익', '영업비밀', '유출', '및', '도난', '방', '지을', '위', '것', '이라고', '하더라도', '직원', '동의', '없이', '그', '근무', '공간', '책상', '및', '컴퓨터', '화면', '까지', '24시간', '촬영', '하여', '저장', '하는', '것', '근로자', '사생활', '침해', '가능성', '높으므로', '정보', '주체', '권리', '보다', '명백하게', '우선한다고', '보기', '어렵다고', '보았고', '개인정보', '위', '2022', '6', '22', '자', '제', '2022011067', '호', '결정', '국가인권위', '원', '회', '역시', '시설', '관리', '단', '소장', '무단', '외출', '여부', '확인', '한다며', '소속', '미화원', '관련', '된', '사용', '진정', '사건', '에서', '시설', '물', '안전', '관리', '나', '도난', '방지', '등', '위해', '설치', '직원', '동의', '없이', '직원', '근무', '감시', '사용', '것', '인권', '침해', '라고', '결정', '하였습니다', '국가인권위', '16', '진정', '0959300', '2017', '2', '8', '나아가', '개인', '정보보호', '위원회', '버스', '내', '에서', '기사', '개별', '적', '동의', '없이', '수집', '된', '녹화물', '운전기사', '징계', '또는', '근무', '평정', '증거', '자료', '사용', '하는', '것', '원칙', '적', '허용', '되지', '않는다는', '법령', '해석', '하였고', '개인정보', '위', '2013', '5', '27', '자', '제', '9회', '결정', '중앙', '노동', '위원회', '역시', '같은', '취지', '운수', '회사', '영상', '기록', '근거', '징계처분', '것', '위법', '징계', '해당', '판단', '하기도', '하였습니다', '중노위', '2021', '6', '29', '자', '2021', '부해', '542', '판정', '한편', '통한', '직원', '감시', '행위', '\\xa0', '직장', '내', '괴롭힘', '인정', '될', '가능성', '있어', '주의', '요', '고용노동부', '직장', '내', '괴롭힘', '판단', '및', '예방', '대응', '매뉴얼', '통한', '감시', '일하거나', '휴식', '하는', '모습', '지나치게', '감시', '직장', '내', '괴롭힘', '사례', '예시', '하고', '있고', '고용노동부', '직장', '내', '괴롭힘', '인한', '건강', '장해', '예방', '매뉴얼', '회사', '내', '설치', '되어', '있고', '해당', '모니터', '중간', '관리자', '자리', '설치', '되어', '있음', '출입구', '등', '사람', '지키고', '있지', '않아', '외', '에는', '직원', '움직임', '확인', '할', '수', '없는', '구', '조', '에도', '간식', '먹고', '난', '후', '간식', '맛있었냐는', '등', '실시간', '모니터', '직원', '관찰', '하고', '경고', '메일', '메시지', '등', '보내는', '방식', '감시', '사실', '직원', '에게', '주지', '시킨', '사례', '사적', '일', '지나치게', '간섭', '하는', '개인', '적', '영역', '대한', '침해', '로서', '직장', '내', '괴롭힘', '해당', '하는', '사례', '예시', '하고', '있습니다'], ['민희진', '욕심', '뉴진스', '까지', '말아먹게', '생겻넹'], ['한별', '님', '너무', '좋은', '마인드', '가지', '계신', '것', '같아요', '좋아요', '꾹', '누르고', '갑니당'], ['유니폼', '안', '입고있다고', '해서', '태', '클거는것만', '봐도', '얼마나', '깐깐한지', '알수있음', '저런', '깐깐한', '부부', '감시안', '했을것', '같냐', '더', '철저하면', '철저했지'], ['피부', '손목시계', '부분', '빼고', '타있어요', '강아지', '훈련', '하신다고', '진심', '응원', '마지막', '자신', '아니라', '지금', '까지', '함께', '했던', '훌륭한', '훈련사', '님', '직원', '지키기', '위해', '서', '또', '보듬에서', '일', '했었던', '이야기', '못', '하게', '될까봐', '제일', '걱정', '된다는', '말', '에서', '형욱씨', '인성', '여실히', '보입니다', '응원', '할게요'], ['이언', '니', '알고리즘', '때문', '봤는데', '마인드', '너무', '좋아', '어휘', '력', '너무', '감탄', '스럽고', '멋있어요', '엉엉', '엉엉', '우', '다른', '영상', '봤는데', '너무', '이뻤어요', '구독', '하고', '갈게요'], ['힉', '언니', '영상', '에서', '넘', '이뻐요', '원래', '와안전', '이쁘신', '데', '깜짝', '놀랐네요', '예쁘셔서'], ['예몽', '넘', '귀여웡'], ['피해자', '10', '명', '이상', '방송국', '본인', '피해자', '라고', '고발', '했다는데', '그래도', '아직', '까지', '그런', '적', '없다고', '잡아', '때', '있는', '강형욱', '부부', '니', '들을은', '일', '본가', '서', '살어라', '그게', '딱', '일본', '하는', '짓거리', '인데', '딱', '니', '하고', '어울린다', '니', '일', '본가', '서', '살어라', '한국', '에서', '꺼', '저', '라'], ['오', '이번', '영상', '화장', '찰떡', '이네', '유'], ['역대', '급', '곡임', '나', '치얼업', '들었을', '때', '딱', '그', '느낌', '가사', '의상', '댄스', '빠지는', '없는', '곡임'], ['아', '진짜', '속', '시원해요', '언니'], ['일반', '적', '보면', '직장', '고용', '된', '사람', '사장', '또는', '직장', '상사', '불만', '없는', '사람', '거의', '없죠', '고용', '된', '사람', '사장', '에게', '불만', '가지는', '것', '당연합니다', '왜냐하면', '일', '시키는', '사람', '사장', '이고', '시키는', '일', '수행', '하는', '사람', '직원', '이기', '서로', '입장', '다르니까', '요', '그러나', '뺀질', '거리', '말', '안', '듣고', '일', '저지르고', '하는', '새끼', '직장', '꼭', '두', '명', '씩', '있어요', '이런', '놈', '직장', '에서', '거의', '왕따', '당하게', '되고', '불만', '쌓이고', '하면서', '언론사', '고자질', '걸', '가지', '회사', '전체', '사장', '개인', '모든', '인격', '까지', '모독', '하는', '방송', '방송', '쓰레기', '더', '문제'], ['차분한', '성격', '부럽소'], ['364910611741', '이뻐요', '깜짝', '놀람', '갑자기', '이뻐져서', '귀걸이', '랑', '머리색', '이랑', '찰떡', '이고', '화장', '이쁘게', '잘', '하시네요'], ['이상한', '사람', '보다', '한별', '님', '하울', '리뷰', '일상', '영상', '즐겁게', '보고', '힐링', '하고', '정보', '공유', '하는', '팬', '분들', '훨얼신', '많은거', '아시', '죠', '영상', '잘', '보다가', '댓글', '첨', '달', '아', '봤어요', 'ㅎ', '영상', '즐겁게', '잘', '보고', '있어요', '늘', '행복하고', '건강하세요'], ['언니', '마인드', '넘', '좋아여', '본받고싶은', '마인드'], ['근데', '부모님', '께서', '진짜', '멋있네', '욤', '스페인', '에서', '공부', '하고', '싶다니까', '바로', '이민', '크', '그렇게', '예뻤다니', '여행', '이라도', '갔다', '보고', '싶네욤'], ['근데', '엄청', '많이', '먹는거', '같지', '않은데'], ['저', '오늘', '부터', '다이어트', '시작', '하게', '되었는데', '살이', '너무', '많이', '쪄서', '찌', '빠지고', '반복', '엿', '요', '하루', '끼', '먹고', '버텨', '볼라구요', '화이팅', '해봐요', '우', '링', '너무', '맛있게', '드셔서', '미치겠네요'], ['언니', '영상', '오랜', '만', '봤는데', '살이', '진짜', '너무', '빠졌어요', '마음', '고생', '하시는게', '너무', '너무', '보입니다', '슬퍼', '언니', '꼭', '강한', '마음', '가지세요', '악플러', '고소해요'], ['어제', '1년', '일', '직장', '그만뒀는데', '사장', '수고', '했다고', '퇴직금', '만원', '줬길래', '바로', '노동청', '가서', '신고', '하고', '왔다', 'ㅋ', '알', '보니', '사장', '5', '번', '이나', '짓', '해서', '노동청', '신고', '당했', '더', '라고', 'ㅋㅋ', 'ㅋ'], ['개', '안락사', '시켜놓고', '말', '많네'], ['남이사', '명품', '있던', '그걸', '선물', '받던', '먼', '상관', '죠', '남', '한테', '뜯어', '낸것도', '아니고', '열등감', '때문', '열폭', '는걸', '보이', '추', '해보여요'], ['현이', '득남', 'ㅎㅎㅎ'], ['심심할', '때', '예', '몽', '님', '영', '상보', '시간', '훅훅', '가요', '먹방', '대리', '만족', '되고', '드실', '때', '행복', '해보여서', '기분', '좋', '용', '매번', '재밌는', '영상', '올려주셔서', '감사합니다', '화이팅'], ['ㅋㅋㅋㅋㅋ', '진짜', '다른', '질문', '무식하지만', '일곱', '번째', '질문', '진짜', '생각', '못', '했다', '시즌', '백', '왜', '사냐는', '둥', '그만큼', '본인', '돈', '있고', '것', '저', '것', '사도', '살아가는데에', '지장', '없으니', '사고', '싶은', '걸', '사는거고', '기본', '적', '본인', '마음', '들어서', '사는거지', '질리', '든', '말', '든', '제발', '본인', '기준', '위치', '맞춰서', '본인', '경제', '적', '상황', '같다고', '생각', '하지', '마세요', '진짜', '얼마나', '무식하면', '저런', '질문', '할까', '생각', '함', '어짜피', '이런', '큐', '엔', '에이', '찍어도', '본', '사람', '안', '본', '사람', '상관없이', '들이', '생각', '하는대로', '자위', '질', '할', '거', '뻔함'], ['39'], ['정도', '업그레이드', '버전', '이지', '무슨', '따라', '만든', '그룹', '타령', 'ㅋㅋㅋㅋㅋㅋㅋㅋㅋ', '애플', '에서', '아이폰', '1만', '들고', '아이폰', '2', '내놨다고', '아이폰', '2', '짝퉁', '이라고', '하니', '업그레이드', '라고', '하지'], ['아니', '한별', '님', '뭘', '사고', '뭘', '먹고', '다니는지', '그리고', '그걸', '누가', '샀는지가', '그렇게', '중요해요', '그리고', '자기', '사고', '싶은거', '자기', '돈', '사겠다는데', '뭔', '상관', '인지', '잘', '모르겠어요', '그것', '자신', '노력', '번', '돈', '사는', '건데', '말', '죠', '그리고', '한별', '님', '영상', '마지막', '부분', '쯤', '보면서', '정말', '속상했는데', '솔직히', '무시', '라고', '했던', '그', '분들', '있죠', '제', '봤을', '땐', '그', '사람', '실제', '자신', '에게', '이런', '말', '글', '쏟아졌을', '때', '절대', '무시', '못', '할꺼라고', '생각', '해요', '그러니까', '한별', '님', '이런', '글', '상처', '받을지는', '잘', '모르겠지만', '저', '한별', '님', '좋고', '한별', '님', '영상', '정말', '좋아해요', '그러니까', '한별', '님', '상처', '받지', '않고', '계속', '영상', '올려주셨으면', '좋겠어요', '음지', '나가는', '별별', '마리'], ['잘', '드시니', '좋네요'], ['넘', '사랑스럽구', '노래', '좋', '궁', '진짜', '모든', '걸', '다가', '졌네'], ['노래', '못', '하지만', '귀엽게', '춤', '잘춘다'], ['근데', '화장', '너무', '잘', '한다', '이제', '완전', '찰떡', 'ㄹㅇ', '퍼컬', '있긴', '있나', '봐'], ['시원해', '한별', '님', '넘', '시원하다구요'], ['부러워서', '그런', '댓글', '다는거예요', '너무', '신경', '쓰지', '마', '요', '한별', '님', '좋아하는', '사람', '더', '많아요', '힘내세요'], ['강형욱', '훈련사', '님', '늘', '항상', '응원', '저', '현재', '비', '반려', '이지만', '강아지', '좋아하여', '개는', '훌륭하다라는', '프로그램', '1회', '부터', '챙겨', '보고있고', '유기견', '많다는것', '알고는', '있었지만', '이렇게나', '많을꺼라곤', '상상', '못', '했고', '도움', '필요한', '아이', '많다는걸', '알', '되어', '유기견', '봉사', '계획', '세우게', '되었습니다', '강아지', '반려', '문화', '앞장서서', '이끌어주시는', '강형욱', '훈련사', '님', '존경', '하고', '응원', '현재', '어려운', '상황', '하루빨리', '훌훌', '털고', '일어나시길', '바', '래', '요'], ['그저', '여자', '명품', '들면', '물어', '뜯는', '인간'], ['민주', '너무', '예뻐'], ['노래', '못', '하면', '시키지말자', '서로', '편하지', '않냐', '듣는', '사람', '이나', '부르는', '사람', '이나', '서로', '힘들', '자', '나'], ['힘내세요', '인간', '같이', '안은', '인간', '신경', '쓰지', '마세요'], ['예', '몽', '님', '너무', '이쁘세요', '여신'], ['ㅋㅋ', '왜', '댓글', '수준', '이렇게', '될수밖에', '없었는지', '영상', '고스', '란', '히', '담겨있네'], ['예', '몽', '님', '용돈', '되게', '많이', '받으시나', '봐요', '부럽다', '맛있는거', '자주', '먹을수있고', '364910491729', '때', '완전', '뿌요'], ['저', '거', '포테킹', '겁나', '맛', '나', '보인다'], ['귀여워용'], ['현이', '민주'], ['윤아', '왤케', '이뻐', '완전', '천사', '야', '천사', '윤아', '짱'], ['귀여우세요'], ['언론', '보고', '속', '적', '하도', '많아서', '전', '계속', '지켜보고만', '있었는데', '역시', '한국', '정말', '후진국', '이네', '요', '아직도', '사람', '관심', '끌기', '위해', '무고', '사람', '명', '데려다놓고', '자극', '적', '내용', '글', '싸지르는', '기레기', '놈', '언론플레이', '홀라당', '넘어가서', '악플', '없는', '사실', '폭로', '등', '쓰레기', '짓', '하는', '놈', '많네요', '전', '믿고', '있었습니다', '항상', '응원', '할게요', '언론플레이', '속지', '않은', '제', '자랑스러워요'], ['영상', '길어도', '끝', '까지', '보는건', '예', '몽깅', '뿐'], ['예몽', '영상', '항상', '챙겨', '보는', '중', '중독', '성', '못', '잃어요', '먹방', '만', '봐도', '제', '맘', '풍족해져용', '진짜진짜', '먹는거', '많이', '찍', '어조', '요', '넘', '기여', '워', '요'], ['귀여워여'], ['물', '많이', '마셔요', '귀여워요'], ['이분', '댄서', '인거', '죠'], ['귀엽고', '사랑스러우셔서', '영상', '보는내내', '미소', '지으며', '봤어요'], ['아껴', '봐야지'], ['3.6492', 'E', '+', '11'], ['존나', '어이없다', '강', '형', '욱', '님', '도데', '체', '니', '옷벗은', '거', '보고', '흥분', '이라도', '할까', '아님', '니', '쳐', '만들어', '달라', '하던가', '나', '진짜', '사람', '몰아가는', '수준', 'ㅉㅉ'], ['바고', '파서', '잠', '안', '올', '때', '먹을까', '말까', '할', '때', '마다', '보면', '도움', '되는', '영상', '1', '위'], ['예', '몽', '님', '화장', '너무', '예쁘게', '잘', '했네요', '잘', '어울려요'], ['음주운전', '김호중', '폭언', '강형욱', '욕', '하지만', '음주운전', '전과자', '이며', '형수', '한테', '폭언', '녹취록', '공개', '된', '이재명', '지지', '하는', '여시노', '괴', '개추', 'ㅋㅋ'], ['썸넬', '하니인줄'], ['진짜', '열심히', '사시는거', '느껴져요', 'ㅠㅠㅠㅜ', '가족', '잘', '챙기고', '일도', '열심히', '하시구', '존경', '항상'], ['한별', '님', '사랑', '상처', '받을', '줄', '아는', '사람', '인데', '왜', '그걸', '존중', '하지', '않고', '뭐라고하는걸', '까요', '속상하네요', '진짜', '나쁜', '사람', '한별', '님', '언제나', '응원', '합니당'], ['너무', '사랑', '해요', '유튜브', '보면서', '언니', '영상', '만', '봐요'], ['아마', '상실', '감', '박탈', '감', '이지', '않을까', '싶네요', '한별', '님', '노력', '보다', '명품', '산것', '들만', '보이', '니까', '요', '그냥', '사람', '심리', '인거', '같아요', '저', '이런', '걸', '크게', '생각', '하지', '않고', '사람', '삶', '다르고', '나', '만', '열심히', '살', '된다고', '생각', '하던', '사람', '인데', '요즘', '그렇게', '생각', '안', '때', '많아요', '이건', '그냥', '그렇게', '살수', '없는', '사람', '자격지심', '이라고', '생각', '해주세요', '그래도', '저', '그냥', '저', '랑', '다른', '사람', '이라고', '생각', '하려고'], ['헐', '사빠', '딸', '저', '맨날', '그것', '만', '먹는데', 'ㅋㅋㅋㅋ', '진짜', '맛있어요'], ['말', '왕', '보다', '왔으면', '개추', 'ㅋㅋ'], ['인트', '구슬', '꿰', '실', '같은', '머리', '요', 'ㅋㅋ'], ['같은', '회사', '에서', '상', '도덕', '무시', '하고', '뉴진스', '컨셉', '똑같이', '만들었다고', '비난', '하길래', '억', '까인가', '싶었는데', '보', '니까', '뭐', 'ㅋㅋㅋㅋㅋㅋ', '화낼', '만', '하네', 'ㅋㅋㅋ', '사실', '같은', '회사', '니까', '음악', '비슷하고', '코', '디도', '비슷하고', '그런다는', '생각', '들었지만', '자꾸', '뉴진스', '겹', '쳐', '보이', 'ㅋㅋㅋㅋ', '심하긴', 'ㅋㅋㅋㅋ', '튼', '애', '참', '이쁘네요', '안타깝네'], ['응원'], ['근데', '진짜', '금수', '저', '이던', '아니던', '뭔', '상관', '이야'], ['나도', '샤넬', '클래식', '백', '여친', '사줬는데', '뭐', '잘', '못', '됨', 'ㅋ', '갖고싶다하면', '사줄수있으면', '사주는거지'], ['전', '되게', '급하게', '먹는데', '천천히', '먹는', '모습', '좋네요'], ['힘내세요'], ['태어난지', '1년', '안된', '아기', '상대로', '인격', '모독', '직원', 'ㄷㄷ', '사상', '문제', '긴'], ['반', '다나', '되게', '잘', '어울리실', '것', '같아요', '빛', '반사', '때문', '반', '다나', '하신', '줄', '알', '우와', '잘', '어울리', '신다', '하구', '생각', '했어요', 'ㅎㅎ'], ['거', '보고', '팔로우', '한다'], ['네이버', '웍스', '본질', '적', '업무', '용', '도구', '이런', '업무', '용', '도구', '가지', '한가롭게', '대표', '그', '가족', '뒷', '다마', '깐다는', '건', '상식', '이하', '대범한', '행동', '였다'], ['현기증', '나', '요'], ['못', '움직이게', '했던', '사람', '레오', '리'], ['악플러', '얘기', '너무', '공감', '돼요', '현실', '에서도', '똑같은', '거', '같아요', '무시', '라는', '말', '왜', '하는', '건지'], ['진짜', '예', '몽', '님', '먹방', '매력', '있는', '것', '같아요', '급하게', '먹지도', '않고', '먹을', '때', '입', '벌리시지도', '않구', '넘', '좋아요'], ['생각', '해보면', '폭로', '시점', '납득', '안된다', '문제', '있었다면', '즉각', '당사자', '간', '합의', '나', '법적', '호소', '했어야지', '수년', '지난', '지금', '와서', '폭로', '한다', '글쎄', '전혀', '공감', '할', '수', '없다', '뿐', '만', '아니라', '부정선거', '선거', '조작', '관련', '하여', '시국', '어수선한', '지금', '언론', '행', '태도', '여러', '모로', '수상한', '많다', '이런', '식', '멀쩡한', '사람', '생매장', '하는', '문화', '빨리', '사라져야', '한다'], ['개돼지', '악의', '적', '모함', '하는거', '신경', '쓰지', '마시고', '가족', '끼리', '시간', '보내시며', '머리', '식히시고', '편안한', '시간', '보내시길', '바랍니다', '저', '대가리', '깨져도', '강', '형', '욱', '님', '응원', '강아지', '항상', '진심', '셨던', '모습', '보면', '알수있', '읍니', '강', '훈련사', '님', '절대', '나쁜', '사람', '아닙니다'], ['피부', '진짜', '좋으세요'], ['481723023', '티아라', '효민', '님', '닮음'], ['뭐', '래', '진짜', '열등감', '파묻혀서', '사나', '사는게', '팍팍하고', '힘들어서', '그런', '가봐요', '유명인', '이라', '해서', '이런', '말', '들어야', '할', '이유', '없고', '민간인', '제', '들어도', '불쾌한', '말', '참', '많네요', '유명인', '살아가기', '참', '힘든', '세', '상이', '구려', '부모님', '사랑', '듬뿍', '받고', '자란', '우리', '모두', '금수', '저', '에요'], ['알아서', '잘', '살겠죠', '알아서', '연애', '하고', '알아서', '쇼핑', '하고', '알아서', '일상', '지내겠지', '자기', '생각', '맞다고', '생각', '할', '수', '있나', '뭘', '하나'], ['현아', '꼭', '푸르지오', '해줘', '어', '갈게'], ['예쁘긴', '해'], ['여론', '흐름', '절대', '적', '강', '대표', '수', '잔', '엘더', '이사', '에게', '힘', '실어', '주고', '있다', '언론', '엿', '이나', '먹어라'], ['존나', '슬프네'], ['금수', '저', '뭐', '고를', '떠나서', '마음', '확실히', '부자', '이신', '것', '같아요', '주변', '시기', '질투', '많이', '겪으신', '것', '같은데', '건강하게', '대처', '하고', '넘기는', '태도', '너무', '멋지고', '대인배', '같네요', '닮고싶다는', '생각', '하면서', '끝', '까지', '봤네요', '요즘', '사는게', '너무', '팍팍하고', '사소한것만으로도', '확', '나고', '그랬는데', '어느', '순간', '제', '너무', '소인배', '되어가고있었던것', '같아서', '한별', '님', '생각', '들으면서', '제', '살아가는', '방식', '대해', '돌아보게', '된', '영상', '이었습니다'], ['예', '몽', '님', '영상', '자주', '올려주세요', '너무', '행복해요', '완전', '팬', '이에요'], ['피부', '붉게', '올라오신거', '혹시', '피부', '나', '몸', '이상', '있으', '신건', '아닌지', '걱정', '되네요', '피부', '과를', '가보', '심', '어떨까', '요'], ['개통', '령', 'ixl', '전', '볼줄도', '모르고', '볼', '시간', '없어요', 'thirty nine', '같은', '새', '빨', '보이는', '말', '처', '하고', '걸', '그대로', '믿는', '개통', '령빠', '문제', 'ㅋ', '2022년', '기사', '보면', '강형욱', '이런', '상황', '발견', '할', '경우', '엔', '누가', '치우지', '않았는지', '돌려', '본다며', '엘리베이터', '에서', '반려견', '오줌', '쌌는데', '그냥', '가는', '분도', '있다', '그', '보호자', '색출', '해서', '민망하게', '만드는', '짓은', '안', '하지만', '누가', '그랬는지는', '알', '있다', '했던데', '보지', '않고', '보는', '법도', '모른다', '시전', '제', 'ternion', '자인', '고객', '나온', '녹화', '본을', '고객', '동', '의도', '없이', '경찰', '입회', '없이', '사장', '마음대로', '보는것도', '위법', '여지', '큰데', 'ㅋ', '자기', '보고싶을', '때', '돌려', '보누', 'ㅋㅋ'], ['나도', '치킨', '먹을', '생각', '만', '하면', '텐션', '오르고', '설렘', '넘치는', '사람', '으로써', '저', '행복감', '알', '대리', '만족', '하구', '갑니다'], ['구두', '영상', '찾아보다가', '우연히', '보게', '되었는데', '말씀', '논리', '정연', '너무', '잘', '하시고', '일단', '멘탈', '너무', '멋있으세요', '닮고싶어서', '구독', '했습니다'], ['그냥', '내', '관심', '있는', '영상', '보고', '재밌으면', '됐지', '뭐', '이리', '남', '한테', '관심', '이렇게', '많을까', '진짜', '인생', '피곤하게', '사는듯'], ['아니', '근데', '감시', '맞다고', '해도', '그게', '뭐', '문제', '내', '운영', '하는', '곳', '인데', '볼수있는거', '아님', '화장실', '아니고', '뭔'], ['난', '언니', '목소리', '참', '좋아요'], ['527847', '참고', '해', '둘게요', '이제', '금수', '저', '단어', '금지'], ['꽤', '오래전', '부터', '구독', '해', '왔습니다', '처음', '봤을', '때', '나', '지금', '이나', '성숙한', '태도', '저', '자신', '많이', '배우게', '됩니다', '항상', '응원'], ['직원', '참', '바보', '회사', '메신저', '그런', '사담', 'ㅋㅋㅋ'], ['아니', '하트', '주시', '거', '랑', '한별', '님', '댓글', '답', '하실', '때', '어떤', '말투', '주시는지는', '본인', '마음', '아닌가', '음', '댓글', '말투', '공격', '적', '이지', '않았다면', '한별', '님', '좋게', '말씀', '해주시', '않았을까', '하는', '생각', '드네', '요'], ['거', '보고', '치킨', '시켰다', '못', '참겠다'], ['보니', '모든', '악플', '원인', '열등감', '이다', '불쌍해', '진심'], ['본인', '방금', '편의점', '갔는데', '검정', '봉투', '주길래', '편의점', '때려', '부수', '왔다', '배변', '봉투', '주길래', '부들부들하고있는데', '까지', '있는거', '보고', '개', '박살', '내', '옴', '손발', '덜덜', '떨려서', '이제', '7년', '간', '정신과', '약', '먹고', '편의점', '사장', '고소하려고'], ['항상', '그래', '왔다', '조선인', '괴롭힌', '건', '조선인', '였고', '조선인', '팔', '아', '먹은', '것', '조선인', '였다', '그러다', '조선', '멸망', '케', '것', '조선인', '였다', '백년', '지났지만', '바뀐게', '아무', '것', '없다'], ['치워'], ['예', '며', '들었어요'], ['사람', '꼭', '자기', '주관', '편견', '고정관념', '객관', '사실', '인지', '하고', '받아들인다', '무식하게'], ['밥', '먹으면서', '보면', '같이', '밥', '먹는', '기분', '이라', '좋아요', '나긋나긋한', '목소리', '랑', '재밌는', '자막', '이랑', '계속', '보게', '되네요'], ['표정', 'ㅋㅋㅋㅋㅋㅋㅋㅋ', '후'], ['아일릿', '안무', 'ㅈ', '같노'], ['잘', '배', '꼈네', '클라스', '달', '배꼈쿠', '만', 'ㅋㅋㅋㅋ', '뉴', '스', '후속', '느낌', '이든', '이유', '나', '만', '일까', '뉴진스', '장원', '영파', '느낌', '남', 'ㅎㅎ'], ['인종차별', '왜', '차이니즈', '재패니즈', '라고', '만', '차별', '할까', '우린', '당당한', '코리아', '라고', '제발', '동양인', '중', '일본', '중국', '언급', '그만', '우리', '빛나는', '한국인', '이라고', '코리', '아크', '악'], ['대', '민', '주'], ['진짜', '살이', '빠져서', '그런', '건', '염색', '때문', '인지', '인상', '달라', '보이', '예뻐지셨음'], ['다이어트', '말로', '만', '중', '인데', '몸무게', '안줄지', '치킨', '먹고싶지', '우울해하면서', '돌아다니다', '밝은', '모습', '진짜', '너무', '좋아서', '시간', '가는', '줄', '모르고', '봤어요', 'ㅋㅋㅋㅋㅋㅋㅋㅋㅋ', '매번', 'twenty', 'fifteen', 'x', 'x', '반복', '하는', '다시어', '터', '인데', '전', '먹는걸', '너무나도', '좋아해서', '살', '단기간', '확', '빼도', '음식', '먹지', '않으면', '결국', '불행하고', '우울해지구', '삶', '즐거움', '없어지더라구요', '무', '튼', '지금', '처럼', '밝은', '모습', '음식', '드시면서', '스트레스', '받지', '않는', '선', '에서', '주기', '정해', '식단', '만', '신경', '써', '주셔도', '조금씩', '성과', '보일거에요', '막', '거창하게', 'ixl', '내일', '부터', '굶게', '쒀', 'thirty nine', '하기보단', 'ixl', '내일', '간식', '포함', '세', '끼', '만', '먹어야', '징', 'thirty nine', '하는게', '정신', '적', '으로도', '장벽', '낮아져서', '도움', '되더라구요', 'ㅎㅎ', '암튼', '응원'], ['그리운', '예', '몽', '님'], ['뉴진스', '고딩', '느낌', '이고', '아일릿', '중딩', '것', '같아요', '처음', '에는', '같아도', '지금', '몽환', '느낌', '이라서', '좋은', '것', '같아요', '상처', '안', '받았으면', '좋겠네요'], ['좋은', '훈련사', '강형욱', '훈련사', '님', '늘', '남아주세요', '기업', '경영', '다른', '문제', '것', '같아요', '정말', '애', '많이', '쓰셨어요', '기운내십시요'], ['이래서', '필요하다', '돈', '받으려면', '시키는', '것', '만', '해', '라', '할', '일이', '없으니까', '딴', '짓', '하고', '딴', '생각', '하고', '근데', '명절', '돈', '이지', '스팸', '때우는건', '실수'], ['조민지', '님', '안', '아프세요'], ['무례한', '질문', '에도', '친절하게', '답변', '해', '주실려고', '해서', '감사합니다'], ['영상', '보고나니', '지극히', '개인', '적', '가족', '회사', '라서', '또', '훈련사', '이지', '사업가', '아니라서', '소통', '미숙', '하고', '사업', '미숙', '하셨다고', '생각', '함다', '가족', '회사', '이기', '때', '매더', '조심', '히', '존중', '하면서', '대화', '해도', '솔직한', '소통', '될', '까말', '까예요', '툭', '까놓고', '이야기', '해서', '언제', '까지', '일', '하고', '싶으시냐는', '질문', '솔직하게', '기', '아니다', '대답', '하기', '어렵죠', '중간', '이사', '라는', '분도', '대표', '님', '가족', '이니', '중간', '관리자', '있었더라면', '소통', '훨씬', '유익하고', '서로서로', '더', '이해', '할', '수', '있었다', '봅니다', '결국', '가족', '사업', '미숙', '이라', '생각', '전', '강쌤', '팬'], ['예', '몽', '님', 'ㅎ', '진짜', '퍼컬', '진단', '받고', '화장실', '력', '늘으신', '거', '같아요', '되게', '잘하세요'], ['아니', '첫', '장면', '몽골', '에서', '뛰어', '노', '꼬마', '아이', '같아요', '너무', '귀여워요'], ['완전', '공감', '이에요', '무시', '라는', '말', '공개', '적', '직업', '아닌', '그냥', '일반인', '저', '자주', '듣는', '말이거든요', '누군가', '나', '에게', '무례한', '말', '나쁜', '말', '악의', '적', '말', '해서', '상처', '받거나', '화가', '났는데', '주변', '에서', '그래', '봤자', '너', '만', '손해', '야', '그냥', '무시', '해', '라고', '하면', '무시', '안', '되는데', '무시', '라고', '하는', '정말', '너무하다고', '생각', '거든요', '왜', '내', '화가', '나고', '저', '사람', '잘', '못', '했는데', '무시', '하고', '넘어가지', '못', '한다고', '내', '타박', '들어야', '하는지', '이해', '안', '돼요', '무슨', '의도', '무시', '라고', '말', '하는', '건지는', '이해', '하지만', '안', '그랬으면', '좋겠어요', '정말로'], ['예', '몽', '님', '포테킹', '드시는거', '보', '니까', '저', '먹고싶어졌어요'], ['약간', '코맹맹', '소리', '나시는거', 'ㅋㅌㅋㄱㄱ', '넝', '귀여우셔', '정말', '가치관', '너무', '멋지셔요'], ['논리', '시시비비', '따져서', '맞을지', '모르지만', '좀더', '현명하게', '대처', '하였다면', '그리고', '대처', '한다면', '더', '좋을', '것', '같네요', '이성만', '앞세우고', '감성', '베', '제하', '관리자', '로서', '애로', '사항', '반드시', '부딪힙니다', '그리고', '직원', '사장', '님', '윗', '상사', '맨날', '욕', '한다고', '보시', '관리', '하셔', '야해요', '너그럽게', '본건', '못', '본', '척', '대수롭지', '않은건', '그냥', '넘어가야', '해', '요', '원칙', '규정', '규칙', '너무', '앞세우는', '의식', '두', '분', '가지', '계시네요'], ['아주머니', '분', '계십니다'], ['현이', '해', '요', '스파오', '에요', '그레', '요'], ['머리색', '개', '이쁜데', '무슨', '색', '이지', '애쉬', '퍼플', '인가'], ['차분한', '군자', '먹방', '있다면', '이런것이군요', '머리', '웬즈데이', '같고', '잘', '어울리십니다'], ['내', '롤모델', '한별', '님'], ['소위', '유튜버', '라는', '애', '그렇다', '컨텐츠', '너무나', '성의', '없이', '생산', '한다', '떠', '루머', '나', '확인', '되지', '않은', '저급한', '정보', '생산', '된', '컨텐츠', '대부분', '이다', '정보', '로써', '가치', '거의', '없다', '후', '하게', '점수', '준', '다해', '잡담', '수준', '넘지', '못', '한다', '유튜브', '라는', '소통', '공간', '이런', '저', '질', '컨텐츠', '홍수', '이루고', '있다는', '안타까운', '현실', '이다'], ['새벽', '여섯시', '잔치국수', '김치전', '대박'], ['자영', '업자', '면접', '볼때', '민주', '사상', '인가', '아닌가', '물어보고', '뽑아라', '노동청', '민원', '졔기', '했는지', '안', '했는지', '그', '회사', '왜', '퇴사', '했는지', '확인', '하고'], ['언니', '노력', '만큼', '보지', '않고', '겉', '보이', '는걸', '판단', '하는', '사회', '진짜', '싫다'], ['난', '하나', '잘못', '거', '없다는', '것', '아니고', '좋은', '대표', '아니었고', '직접', '만나', '사과', '하고', '벌', '받을', '건', '받겠다', '하는', '사람', '인데', '전', '직원', '개인', '적', '만나서', '해결', '하면', '되는', '거', '아닌가', '언제', '까지', '언론', '사람', '물어', '뜯을', '거', '냐'], ['응원'], ['정훈', '공주', '닮으셨어용'], ['열등감', '덩어리', '서준', '김', '알리오', '2355', '인신공격', '악플', '여러', '개', '함', '전효성', '채널', '에서도', '인신공격', '달았다', '삭제', '하더니', '여기서도', '저러네', '왜', '저래'], ['민감한', '질문', '조곤조곤하게', '잘', '이야기', '해주시네요', '영상', '보기전에는', '그냥', '금수', '저', '유', '튜버', '인가', '보다', '했는데', '영상', '보고', '나니', '마음', '바', '꼈어요', '생각', '보다', '훨씬', '더', '멋있는', '여성', '분', '것', '같네요', '악플', '신경', '쓰지', '마시고', '늘', '좋은', '영상', '부탁드려요'], ['노래', '진짜', '좋네요'], ['한번', '먹은줄', '별로', '안', '먹네요'], ['윤아', '티', '치마', '입음', '안되겠다', '허리', '너무', '길어'], ['변명', '뿐', '영상', '뭐', '이해', '간', '다는거지', 'ㅋㅋㅋ', '9670원', '이해', '간다', '댓글', '작업', '그만', '하소'], ['어글애', '원희', '형', '이야'], ['예쁜', '한별', '님'], ['의상', '노래', '춤', '넘', '이뻐요'], ['대', '다나', '저', '결단', '력', '실행', '력'], ['인생', '연예인', '전부', '한국', '아줌마', '울고불고', '난리', '났다', 'ㅋㅋㅋㅋㅋㅋㅋㅋㅋㅋㅋㅋ'], ['생각', '해보면', '아일릿', '뭔', '잘', '못', '이겠냐', '어른', '문제', 'ㅅ', '청소년', '친구', '있는데', 'decade', '대', '때', '부터', '인생', '욕', '최', '듣지', '않을까'], ['사실', '상', '쪽', '근본', '아닌가', '통', '수돌', '보다야'], ['음', '멈출수없어'], ['앞니', '씹나'], ['냉정하게', '요', '목조', '목', '두', '쪽', '들어', '봤으니', '결과', '기다리면', '된다', '편', '가르기', '식', '감정', '적', '치우쳐', '봤자', '결국', '엔', '기다리면', '누가', '나쁜', '인간', '인지', '알수', '있다'], ['예', '몽', '님', 'ㅎㅎ', '영상', '너무', '좋아요', '그런데', '혹시', '다음', '에는', '이렇게', '길고', '예', '몽', '님', '혼자', '조용히', '드시는', '영상', '없는', '영상', '한번', '만들어주실', '수', '있을까요', '예', '몽', '님', '사부작사부작', '드시는', '소리', '더', '잘', '듣고', '싶은데', '영상', '내내', '배경음악', '깔려있어서', '개인', '적', '조금', '아쉬웠어요', '개인', '적', '의견', 'ㅎㅎ'], ['성실히', '살아가기', '보다는', '잔꾀', '나', '요령', '혹은', '고자질', '세상', '쉽게', '살아가려는', '악풍', '결국', '부정선거', '관행', '화', '불러왓다', '본다', '입법', '사법', '행정', '비롯', '모든', '분야', '대동소이하게', '부패', '타락해', '있다', '특정', '정치인', '탓', '아니며', '특정', '집단', '탓', '아니다', '우리', '사회', '구성원', '모두', '에게', '그', '책임', '있다', '그', '연대책임', '에서', '자유로울', '수', '있는', '국민', '단', '사람', '없다', '생각', '한다'], ['가끔', '영상', '뜨면', '봤었는데', '거', '보고', '너무', '마인드', '좋고', '멋있어서', '구독', '햇', '어', '요'], ['예몽같', '친구', '있었음', '좋겠다', '맛있는것도', '먹으러', '가고', 'ㅋㅋ', '얘기', '만', '나눠도', '재밌을듯'], ['민주', '귀여워'], ['한편', '통한', '직원', '감시', '행위', '', '직장', '내', '괴롭힘', '인정', '될', '가능성', '있어', '주의', '요', '고용노동부', '직장', '내', '괴롭힘', '판단', '및', '예방', '대응', '매뉴얼', '통한', '감시', '일하거나', '휴식', '하는', '모습', '지나치게', '감시', '직장', '내', '괴롭힘', '사례', '예시', '하고', '있고', '고용노동부', '직장', '내', '괴롭힘', '인한', '건강', '장해', '예방', '매뉴얼', '회사', '내', '설치', '되어', '있고', '해당', '모니터', '중간', '관리자', '자리', '설치', '되어', '있음', '출입구', '등', '사람', '지키고', '있지', '않아', '외', '에는', '직원', '움직임', '확인', '할', '수', '없는', '구', '조', '에도', '간식', '먹고', '난', '후', '간식', '맛있었냐는', '등', '실시간', '모니터', '직원', '관찰', '하고', '경고', '메일', '메시지', '등', '보내는', '방식', '감시', '사실', '직원', '에게', '주지', '시킨', '사례', '사적', '일', '지나치게', '간섭', '하는', '개인', '적', '영역', '대한', '침해', '로서', '직장', '내', '괴롭힘', '해당', '하는', '사례', '예시', '하고', '있습니다', '개통', '령', '와이프', '뭐', '찔리는거', '없', '누', 'ㅋ'], ['언니', '진짜', '늘', '보면서', '유익한', '정보', '많이', '얻어요', '정말', '너무', '좋아하는', '유튜버', '에요'], ['귀엽고', '착한', '예', '몽', '님', '건강', '위해', '서', '식이', '조절', '하는게', '좋을거', '같아요'], ['그건', '그렇다', '쳐도', '강형욱', '씨', '만원', '보낸', '거', '팩트', '메신저', '시찰', '팩트', '것', '만', '해도', '논란', '크지', '않나요'], ['그냥', '힘내세요'], ['우와', '진짜', '맛있겠다', '참', '고인다'], ['예', '몽', '님', '보고싶', '엉', '젼', '아몬드', '봉봉', '조아요'], ['귀엽당', '동생', '이었음', '좋겠당'], ['오른쪽', '분', '핑크색', '바지', '정보', '알', '수', '있을까요', '!', '너무', '예뻐요', '!!'], ['ten', '번째', '질문', '에서', '만약', '이라도', '좋아하는', '댓글', '에만', '하트', '주는', '건', '당연한거', '아닌가요', '대부분', '사람', '좋은', '말', '이쁜', '말', '고운', '말', '듣는', '것', '좋아하지', '나쁜', '말', '또는', '욕', '겉', '으로만', '보고', '판단', '하는', '댓글', '좋아할', '리가', '없잖아요', '늦게', '댓글', '달', '하트', '바라는', '건', '의미', '없다고', '생각', '해요', '오직', '한별', '님', '영상', '댓글', '됐다는', '이유', '만으로도', '좋아할', '수', '있어요', '그러니까', '사람', '듣기', '싫어하고', '좋아하는', '말', '구분', '해가면서', '댓글', '달', '좋겠어요', '한별', '님', '영상', '댓글', '봐', '온', '사람', '으로써'], ['만', '유아', '틱', '덜한', '옷', '입으니까', '윤아', '훨씬', '눈', '잘', '보인다', '너무', '예쁨'], ['안정감', '있고', '끝날', '때', '까지', '끜난', '아니다', '할', '때젤', '조음', 'ㅋㅋㅋ'], ['쯧쯧', '모질이', '들어', '따', '대고', '욕질', '이야', '세상', '살아라'], ['한별', '님', '예쁘네요'], ['이쁘네'], ['한별', '님', '덕분', '많은', '걸', '깨닫고', '배우고', '있어요', '전', '명품', '하울', '영상', '에서', '명품', '왜', '소비', '하고', '계시는지', '설명', '해주시는', '거', '보면서', '명품', '대해', '무의식', '적', '가지', '있던', '선입견', '깰', '수', '있었고', '이번', '영상', '에서는', '악플', '받는', '사람', '에게', '무시', '라고', '하는', '잘', '못', '된', '행동', '이라는', '내용', '가장', '인상', '깊었어요', '보면', '볼', '수록', '참', '올바른', '사고방식', '가지', '계신', '것', '같습니다', '저', '고등학생', '때', '부터', 'thirty nine', '예민하게', '반응', '하자', 'ixl', '걸', '모토로', '살', '있는데', 'thirty nine', '나', '에게', '행해지는', '무례', '내', '무감', '과연', '누가', '나를', '지킬', '수', '있을까', 'ixl', '하는', '제', '생각', '똑같은', '말씀', '너무', '공감', '되어', '이렇게', '댓글', '남겨', '봐요', '항상', '건강', '챙기시고', '응원'], ['금보', '니', '혈당', '최악', '음식', '만', '들이', '부었네', '초밥', '국수', '아이스크림', '도넛', '김치전', '빵', '치킨', '김밥', 'ㅎㄷㄷ', '음식', '먹자마자', '얼굴', '벌겋게', '되는', '거', '소름'], ['마인드', '너무', '좋다'], ['정국', '운동화', '정국', '운동화'], ['금수', '저', '관련', '답변', '진짜', '공감', '되어요', 'ㅋㅋㅋㅋ', '우문', '현', '답'], ['언니', '처음', '양갈래', '넘나', '귀여운', '것', '45분', '너', '뮤', '소듕', '해', '아껴', '볼게요', '고마워용'], ['혈관', '살려', '달라', '외치', '있네', '혈색', 'ㄷㄷㄷ'], ['ixl', 'ixl', 'trinity'], ['강', '형', '욱', '님', '채널', '에서', '특히', '견종백', '즐겨', '보던', '사람', '고양이', '키우지만', '강형욱', '훈련사', '님', '늘', '웃으면서', '강아지', '놀아주며', '견종', '역사', '라던가', '설명', '해', '주시는거', '보면서', '즐겁게', '봤었는데', '이런', '안타까운', '문제', '마음', '고생', '심하게', '하셨을거', '같습니다', '댓글', '보실지는', '모르겠지만', '힘', '내시', '좋겠습니다'], ['민주'], ['그래도', '졸업', '하시는게', '좋을거', '같아요'], ['내', '일만', '잘', '하면', '대고', '시시비비', '따지면', '그런', '사람', '뽑지마라', '야하고', '가사', '장하지', '왜', '지적', '질', '인지', '그', '놈', '문제', '였네'], ['야', '니', '여친', '명품', '받고', '싶어', '받으면', '좋아해', '근데', '그게', '너', '한텐', '너무', '큰', '돈', '이라', '부담스러워하는거야', '너', '돈', '없어서', '이런거', '아까워', '해서', '니', '여친', '명품', '안', '좋아해서', '다행', '이다', '이러는게', '아니라', '못', '해줘서', '미안해하라', '구', '니', '여친', '정말', '불쌍해', '여친', '명품', '좋아해서가', '아니라', '너', '한테', '그', '정도', '밖에', '가치', '안되는거', '같아서', '안쓰럽다구'], ['이래서', '여자애', '뽑으면', '안', '돼', '개념', '없고', '성차별', '적', '강박', '사', '잡혀있음'], ['악플', '그냥', '고소해', '버리세요', '잘못', '사람', '따로', '있는데', '왜', '한별', '님', '먹', '금', '해야하나요', '항상', '응원', '합니당'], ['한별', '최고'], ['그래도', '어릴', '때', '부터', '유럽', '여행', '캐나다', '여행', '가실', '정도', '제', '기준', '여유롭게', '사시는거', '같아요', '부럽'], ['이로하', '개', '이뻐'], ['힘내세요', '남', '눈', '피', '눈물나게하면', '되돌아간다', '전', '직원', '악플러', '평생', '저주받을거다'], ['안녕하세요', '언니', '이번', '우연히', '보다가', '언', '니거', '영상', '쭈우욱', '보고있어요', '근데', '열', '불나네요', '아니', '내', '돈', '주고', '사던', '말던', '남친', '이나', '부모님', '사주던', '말던', '등골', '빼먹던', '말던', '걸', '답', '해주는', '언니', '인성', '빼고', '납득', '되는게', '없네요', '이상한', '사람', '참', '많다'], ['가치관', '너무', '멋지네요', '하나', '부터', '열', '까지', '맞는', '말', '만', '하셔서', '공감', '되면서도', '느끼는', '많아졌어요', '내면', '정말', '멋진', '분', '같아요', '항상', '응원', '할게요'], ['잉잉', '인기', '순', '쭉', '보고', '있는데', '넘', '귀여워요'], ['2만', '2천원', '짜리', '티셔츠', '리뷰', '하는데', '금수', '저', '라고', '무슨', '옷', '줏어입', '나'], ['나', '언니', '편'], ['저', '요', '저', '처음', '부터', '끝', '까지', '정', '주행', '했어요', '키키', '찐', '옹심이', '오늘', '잘', '보고', '갑니다', '다음', '영상', '기다릴게', '유'], ['언니', '너무', '이쁘고', '귀여운거아니야'], ['엠생', '인생', '사는', '서준', '아', 'ㅋㅋㅋ', '평일', '내내', '그러고', '다녀', '보니', '어때', '기분', '나아졌어', '주말', '에도', '기대할게'], ['할거', '하면서', '노', '모습', '너무', '멋지다', '힘들어', '보이', '니까', '하루', '정도', '푹', '쉬어요', '!', '병창', '오빠', '파이팅'], ['긴', '영상', '너무', '좋아여', '덕질', '뒷전', '미루고', '보는', '예', '몽', '님', '영상', '입니당', 'ㅎㅎ'], ['너무', '멋지세요', '언니'], ['저', '개', '저', '씨볼때', '마다', '너무', '불편한게', '뭐', '냐', '내', '직원', '일', '했던', '좆', '소', '사장', '알바', '사장', '떠올라서', '그런다', '한번', '내', '뭐', '실수', '니까', '카톡', '지금', '뭐', '거', '빨리', '치우시라고', '해서', '놀라서', '두리번거리니까', '아예', '뒤쪽', '앉아서', '핸드폰', '씨', '씨', '티비', '켜고', '실시간', '감시', '하고있더라', '진짜', '뭔가', '싶었다', '못', '배운', 'ㅅ', '끼', '아니였고', '흔', '한개', '저', '씨', '였는데', '대체', '뭐', '싶어서', '그날', '관', '둔다고하고', '지원', '하는', '애', '있으면', '알음', '알음', '하지말라고', '알려', '준다', '이미', '저', '업계', '쟤', '만행', '알', '읶었', '거임', '개', '저', '씨', '유독', '낯짝', '뻔', '뻔한데', '난', '도저히', '이해', '가안', '간다', 'ㅋ', '징징거릴거면', '악덕', '사', '장단', '톡', '하시고', '그딴', '식', '사', '니까', '꼴', '난거야', '아저씨', '야', 'ㅉㅉ'], ['아릿일', '언니', '성은', '만음', '속', '있어요'], ['요거트', 'xxxi', '완전', '최애', '예요', '영상', '잘봤숩미'], ['아니', '연어초밥', '연어', '두', '줄', '띡', '올라가있는거', '개', '웃기', '넼', 'ㅋㅋㅋㅋㅋㅋㅋㅋㅋ'], ['이제', '그냥', '그', '성별', '뽑지', '마시죸', 'ㅋㅋㅋㅋㅋ', '숨겨놓은', '지뢴데', '위험부담', '할', '필요', '있음'], ['진짜', '언니', '명품', '사는', '건', '언니', '엄청난', '노력', '수고', '충분히', '있었고', '명품', '살', '만', '가치', '충분히', '있어서', '얻는건데', '대체', '들이', '무슨', '상관', '인지'], ['여신', '줄', 'ㅋㅋㅋㅋ'], ['보고싶다', '언니'], ['영상', '올라올', '때', '마다', '기쁘게', '보고', '있어요', '재미나', '재미나'], ['364910631743', '귀걸이', '예', '몽', '님', '이랑', '너무', '잘', '어울려요', '정보', '알려주실', '수', '있나요'], ['저', '최애', '촠', '나'], ['진짜', '뚱뚱하시네요', '정말', '놀라와', '요'], ['언니', '속상했겠다'], ['이제', '뽑지', '마세요', '나거한'], ['이렇게', '긴', '영상', '좋아요'], ['귀여워요', '저', '다이어트', '시작', '해서', '매일', '기록', '하고', '있어요', '오늘', '점심때', '잔치국수', '먹었는데', '영', '상보', '니까', '또', '먹고', '싶네요', 'ㅋㅋ'], ['액션', '취할려', '9800원', '보냈다는건', '너무', '억지', '같음'], ['살다', '보', '니까', '정말', '못', '된', '인간', '있더라고요', '그', '못', '된', '인간', '한테', '걸려서', '꿈', '접고', '마음', '얼마나', '상처', '깊어지셨을까', '마음', '아프더군요', '레오', '이야기', '하실', '때', '훈련사', '분들', '이야기', '하시며', '우실', '때', '진심', '느껴지고', '저', '울었습니다', '부디', '기운', '내시길', '바랍니다', '조', '회수', '올', '리기', '위해', '서', '자극', '적', '제목', '선동', '기사', '올린', '기자', '유투', '버들', '그거', '업', '이고', '죄', '사람', '한평생', '살면서', '덕', '쌓지', '못', '할', '망정', '그렇게', '업', '쌓아', '서야', '되겠습니까', '당신', '후손', '한테', '그', '업보', '내려갈것'], ['나긋나긋한', '예', '몽', '님', '넘', '좋아요', '집안', '분위기', '따뜻해서', '볼', '때', '마다', '힐링', '이에요'], ['해명', '되었는데', '개훌륭', '왜', '안', '하는데', '여자', '탈의실', '더', '조사', '할게', '남았나'], ['아니', '스페인', '예쁘다고', '거기', '이민', '갈', '정도', '재력', '있는', '부모님', '두', '신건', '그냥', '금수', '저', '라고', '하는거에요', '지금', '현재', '경제', '상태', '판단', '하는게', '아니라'], ['이분', '약간', '크리', '탈', '닮으', '심'], ['대놓고', '뉴진스', '따라', '만든', '그룹', 'ㅋㅋㅋㅋ', '돈', '되니', '어쩔', '수', '없는듯', '뉴진스', '짭', '퉁'], ['머리', '땋은거', '넘', '귀엽', '어머님', '잘', '땋', '아', '주셨', '용', 'ㅎㅎ'], ['저', '언니', '즐깁니당', 'ㅋㅋㅋ', '내', '살', '수', '없으니까', '언니', '라도', '즐기세오', '갖고싶은', '명품', '사시', '갖고싶은', '물건', '사세오', '제발', '사주세오', '그리고', '보여주세요', '대리', '만족하게', 'ㅋㅋㅋ'], ['입술', '뭐', '바른지', '정보', '요', '!!!!!!!', '진짜', '이쁘다'], ['제', '최애', '바람', '함께', '사라지다'], ['예', '몽', '님', '너무', '귀여워요', '자주', '올려주세요', '보고싶어용'], ['많이', '힘드시겠지만', '두', '분', '믿고', '응원', '하는', '사람', '많다는거', '잊지', '말', '아', '주세요', '형욱님', '수', '잔', '님', '힘내세요'], ['악플', '진짜', '어휴', '영상', '잘', '봤어요'], ['길수록', '좋다구요'], ['언니', '너무', '좋아용', '사랑', '해요'], ['정말', '죄송합니다', '이번', '일로', '큰', '충격', '받았습니다', '언론', '에서도', '크게', '보도', '하고', '내용', '구체', '적', '이고', '거기', '평소', '크게', '관심', '없었던', '분야', '라', '영상', '많이', '안', '봤었어서', '너무', '쉽게', '논란', '믿었던', '거', '같습니다', '누구', '하나', '담그기', '쉬운', '나라', '시대', '살', '있음에도', '한번', '의심', '안', '했네요', '이번', '일로', '중립', '지키기', '위해', '힌번', '더', '생각', '해볼', '수', '있는', '계기', '된', '것', '같습니다', '고맙고', '죄송합니다', '강', '형', '욱', '님'], ['진짜', '생각', '치', '않은', '단어', '대한', '생각', '전환', '됐던', '영상', '이었어요', '극단', '적', '주관', '적임', '이라는', '개성', '있고', '자유롭지만', '혼란', '스럽고', '어렵네요', '근데', '저', '긍정', '적', '생각', '하고', '스스로', '잘아는게', '중요하다는걸', '깨닫게', '해주셨어요', '제', '옷', '잘', '못', '입어서', '유튜브', '보다', '말', '잘', '하시고', '생각', '닮고', '싶어졌어요', '응원', '하고', '존경', '해여', '퐨', '됐어요', '하루', '만에', '별별', '되', '버렸', '여'], ['돈', '있는', '사람', '돈', '쓰는데', '왜', '싫으면', '영상', '안보', '되지', 'ㅋㅋㅋㅋㅋㅋㅋㅋㅋ', '꾸준히', '보러오면서', '악플다는', '사람', '시간', '많아서', '부럽네요'], ['마인드', '닮고', '싶어요', '영상', '보길', '잘', '했네요', 'ㅎㅎ'], ['남돌', '여', '돌', '통틀어', '역대', '데뷔', '곡', '최', '음방', 'ace', '위'], ['맛', '잇겟다'], ['제', '최애', '슈팅슽', '아'], ['귀여워요'], ['364939039', '아닛', '연어초밥', '하나', '만', '연어', '되게', '작은거', '너무', '웃기', '귀엽닼', 'ㅋㅋ'], ['남', '여유', '로움', '시기해서', '욕', '하는건', '본인', '자신', '삶', '만족하지', '못', '한다는', '것', '이지', '요', '자신', '처지', '비관', '하긴', '싫으니', '남', '욕', '하는', '불쌍한', '사람'], ['저', '훈련사', '님', '믿습니다'], ['한별', '언니', '사랑', '해요'], ['그냥', '봐', '어차피', '강형욱', '이겨'], ['귀여우셔요', 'ㅋㅋㅋㅋㅋ'], ['서준', '김', '알리오', '2355', '강형욱', '싫어하면서', '며칠', '동안', '여기', '꾸역꾸역', '들의', '와서', '악플', '인신공격', '썼다', '지웠다하면서', '반복', '중', '진짜', '추잡하고', '유약함'], ['영상', '45분', '길이', '개', '좋은데', '요', '앞', '또', '영상', '만', '주', '구', '장창', '볼듯', '해', '여'], ['아유', '귀여워', '예', '몽', '세상', '에서', '제일', '귀여워'], ['옴뇸뇸', '먹는게', '넘', '귀여워용'], ['강형욱', '죽이', '기네', '요', '마녀사냥', '당하지', '마시고', '반드시', '진실', '파헤쳐서', '꼭', '다시', '우리', '개통', '령', '나타나셨음', '정신', '적', '육체', '적', '많이', '힘들게', '보이셔서', '안타깝습니다'], ['군대', '생각', '해', '보자', '부대', '원', '몇몇', '부대', '장', '뒷담화', '통해', '부대', '기강', '흐트', '려', '놓앗다면', '어떻게', '되겠는가', '명백한', '반란', '행위', '라는', '내', '판단', '이다', '반란', '군법', '최고', '형벌', '피', '하기', '어렵다'], ['와글', '이쁘노', '그만', '이뻐', '봐', '이원희'], ['이쁘', '긴한데', '노래', '하는', '꼬', '라지', '초등생', '수준', '안되니'], ['강아지', '다루는', '곳', '없는게', '진짜', '이상한거다'], ['제', '베', '라', '최애', '러브', '미용', '베리', '맛', '인데', '맛있어용', 'ㅎㅎ'], ['힘내세요', '실수', '했다면', '고치', '되는거예요', '전', '강', '형', '욱', '님', '응원'], ['ㅋㅋㅋㅋㅋㅋㅋㅋㅋㅋㅋㅋㅋㅋ'], ['니', '부부', '말', '맞추고', '찍은', '저', '영상', '에서', '하는', '말', '진실', '이라고', '우리', '국민', '신뢰', '할거라고', '생각', '했어', '니', '부부', '변명', '서로', '말', '틀리면', '녹화', '중단', '하고', '다시', '찍은', '저런', '영상', '에서', '하는말을', '우리', '국민', '사실', '냥', '믿어줄줄', '알았어', 'ㅋㅋㅋ', '우리', '국민', '아주', '바보', '멍청이', '봤구나', 'ㅋㅋㅋㅋ'], ['휴', '한심한', '그', '남'], ['첫', '번째', '장면', '핑크색', '옷', '젤', '잘어율랴', '요'], ['민희진', '심정', '알', '것', '같아', '안무', '메이', '컵', '등', '왜', '파이', '크게', '못', '놔두는', '건지', '설명'], ['첫인상', '아무리', '봐도', '카피', '돌이'], ['혼자', '서', '발악', '하며', '인신공격', '도배', '하는', '머', '저리', '있네', '불쌍하다', '불쌍해', '본인', '인생', '구제', '하는건', '본인', '밖에', '못', '하는데', '그것', '못', '함'], ['그냥', '가수', '인가', '싶음'], ['완전', '솜사탕', '나라', '애기', '공주', '님', '덜', '재질'], ['엑', '믹스', '눈', '씻고', '다시', '봐도', '뉴진스', '아', '류', '첫인상', '별루', '컨셉'], ['그런', '찌질한', '사람', '막상', '이런', '영상', '보지', '않는다는', '거', '꼭', '꼭', '무식한거', '티', '내지'], ['대라', '만족', '굳', '잡'], ['한별', '님', '얼마나', '생각', '깊고', '풍부한지', '알', '수', '있는', '영', '상이', '요', '정말', '다양하고', '별별', '사람', '사는', '요지경', '이네', '요', 'ㅋㅋ'], ['왜', '다른', '포테킹', '영상', '보다', '영상', '에서', '더', '포테킹', '먹고싶어지는걸', '까여'], ['내', '모습', '같아서', '거울', '치료', '됨'], ['뭐', '문제', '되는거지', '자기', '맡은', '일', '제대로', '하면', '문제', '될꺼', '없지', '있는게', '무슨', '문제', '생기거나', '논쟁', '있어을', '때', '증거', '되고', '반박', '할', '의미', '없는것', '같네', '해명', '내용', '보니', '참', '비난', '받을', '일이', '냐', '세명', '소', '세', '요', '메신저', '보신거', '법적', '처벌', '받아야', '되는거면', '받으시더라도', '받고', '고소하세요'], ['유튜브', '수익', '말고', '명품', '살', '수입', '원', '따로', '있는지', '궁금해요', '그냥', '궁금합니다', '제', '상상', '으로는', '어렸을', '때', '부터', '세뱃돈', '저축', '하고', '제태크', '부동산', '이런', '거', '밖에', '안', '떠올라서', '아', '스페인어', '하시니까', '통역', '버실', '수도', '있겠네요', '근데', '채널', '특성', '상', '구체', '적', '답변', '받기', '힘들것', '같아서', '구', '냥', '계속', '궁금할것', '같네여'], ['얘', '그냥', '오디션', '붙고', '노래', '부른게'], ['말', '너무', '잘', '하세요'], ['강형욱', '훈련사', '님', '응원', '화이팅'], ['힘내세요'], ['말', '어쩜', '저리', '잘', '하지', '의사', '표현', '예쁘고', '똑', '부러지게', '한다'], ['힘내세요'], ['예', '몽', '씨', '우연히', '본', '하나', '영상', '모든', '영상', '섭렵', '언니', '팬', '예요', '넘', '귀엽고', '어머니', '넘', '사랑스러우셔요', '앞', '으로도', '영상', '많이', '올려주시구', '예', '몽', '씨', '앞니', '음식', '즐기는걸', '좋아하는거', '같은데', '완전', '중독', '성', '있어요', 'ㅋㅋㅋ', '저', '내일', '앞니', 'ㅋㅋ', '먹어', '봐야겠어요', 'ㅋㅋ'], ['나도', 'one hundred five', '키', '나가다가', 'sixty five', '까지', 'forty', '키', '빼는데', '2년', '걸렸는데', '이분', '살빠지면', '약간', '김고은', '삘', '날거', '같으면서', '이쁘', '장하실듯'], ['사찰', '이라는', '터', '무니', '없는', '모함', '구도', '그려가는데', '업무', '용', '메신져', '이용', '하여', '의도', '적', '지속', '적', '불법', '관리', '였느냐', '관건', '이라', '할', '때', '그것', '아니라는', '것', '역시', '수', '잔', '엘더', '이사', '납득', '가능한', '내용', '네이버', '웍스', '이용', '시점', '네이버', '웍스', '메신져', '관련', '공지', '등', '밝혔다', '것', '사회', '적', '물의', '커녕', '회사', '내', '에서도', '물의', '될', '수', '없는', '부분', '이다'], ['증거', '없는', '이야기', '어려운', '시간', '보내시고', '계실텐데', '지지', '말고', '잘', '버텨내주세요', '좋은', '훈련사', '님', '잃고', '싶지', '않습니다', '힘내세요'], ['개인', '적', '질문', '삼가시다'], ['사람', '언제', '한번', '씨', '깨닫고', '각성', '하는', '때', '오면', '다이어트', '성공할수', '있는데'], ['민주', '예쁘다'], ['언니', '마인드', '칭찬', '해요'], ['11401900'], ['땋', '머리', '기여', '워', '요', '볼', '까지', '발그레한', '애기', '같아요', 'ㅎㅎㅎ'], ['소스', '발음', '신기하네요'], ['자꾸', '보게', '되는', '마', '성의', '예', '몽님예몽', '님', '행복했으면', '좋겟어요'], ['481751051', '폼', '포스', '퐁', '폼', '포스', '퐁', '폼', '포스', '퐁', '포코'], ['국민', '앞', '나와서', '피해자', '한테', '머리', '숙여', '사죄', '하고', '국민', '앞', '에서', '벌', '받고', '다시는', '국민', '눈', '띄지', '말어라'], ['댓글', '이야기', '특히', '공감', '되요'], ['예', '몽', '님', '오늘', '너무', '잘', '봤어요', '먹방', '하실', '때', '라이브', '처럼', '음식', '앵글', '같이', '나오면', '훨씬', '더', '좋을', '것', '같다는', '의견', '조금', '남겨', '봅니당', 'ㅎㅎ', '항상', '잼', '난', '영상', '감사해요'], ['예쁘다'], ['강형욱', '동네', '슈퍼', '사장', '이었다면', '이런', '불만', '제기', '못', '했을', '그리고', '그럴', '가치', '못', '느꼈을', '비겁', '자', '들이', '그', '사람', '유명', '세', '깍', '아', '내리고자', '대중', '여론', '언론', '호도', '하고', '있다는게', '참', '정의', '로운', '척', '하고', '싶겠지만', '인간', '에겐', '어느', '누구', '든', '사', '람보', '눈', '있고', '내', '볼땐', '강형욱', '니', '얘기', '하는', '수준', '비겁', '자고', '쓰레기', '같지는', '않아', '보인다', '그냥', '화도', '내고', '불만', '있는', '일반', '인임', '이름', '알려진', '공인', '이라고', '해서', '성직자', '처럼', '청렴', '하고', '흠결', '점', '없어야', '하는건', '아니야', '적당히', '해', '라'], ['예', '몽', '님', '영상', '안', '올리셔서', '이런', '거', '라도', '보는', '중이', '용', '보고싶다'], ['킴닥', '스님', '댓글', '보고', '궁금해졌는데', '말랑해', '보이는', '베개', '어디', '껀', '가요'], ['아', '진짜', '언니', '마인드', '사랑', '해요', '흐헝'], ['한별', '님', '께', '원래', '사람', '안', '한다', '졸', '부겠지', '이런', '말', '하는', '사람', '본인', '한별', '님', '보다', '경제', '적', '부분', '에서', '부족해서', '한별', '님', '부럽지만', '그걸', '부럽다', '하기엔', '자신', '값어치', '떨어진다라는', '생각', '드니', '그러는', '거', '예요', '열등감', '때문', '겠죠', '그', '사람', '자존감', '낮기', '때문', '한별', '님', '께', '비꼬면서', '말', '하는거니', '기분', '나빠지는', '말', '그냥', '가소롭다', '생각', '하셔요', '진짜', '악플', '이나', '다는', '가소로운', '인간', '이니', '혹', '여', '한별', '님', '저런', '말', '은근', '히', '상처', '받으실까봐', '남겨', '보아', '요'], ['이번', '머리색', '완전', '찰떡', '용', '이뻐용', '점점', '더', '예뻐지는', '예', '몽', '씨', '롱런', '하자', '요'], ['에구', '오덕', '취향'], ['근데', '아들', '방패', '진짜', '추하다', 'ㅉㅉ', '본질', '흐리지', '마라', 'ㅋㅋ'], ['아니', '진짜', '개꼰', '대', '같노', '겉', '일만', '잘', '하면', '됐지', '지는', '욕', '안', '하고', '사나', '상사', '욕', '직원', '어느', '회사', '던', '수두', '룩', '빽빽한데', '남', '대화', '내용', 'half dozen', '개월치', '훔쳐', '보고', '부들부들', '거리', '진짜', '음침하고', '이해', '안', '간다', '아줌마', '그냥', '회사', '운영', '에서', '손', '떼고', '애나', '봐'], ['머리', '후드', '끈인줄', 'ㅋㅋㅋ', '귀여워요', 'ㅎ'], ['남', '시기하고', '질투', '하는건', '결국', '자기', '자신', '망치는', '일이', '하지만', '있다고', '잘난', '척', '하면서', '남', '아래', '위로', '훝', '어', '보는것은', '더', '창피한', '일이'], ['예', '몽', '님', '영상', '넘', '재밌어요', '아껴', '보고', '있어요', 'ㅎㅎ', '늦었지만', '새해', '복', '많이', '받으세용'], ['힘내세요'], ['응원'], ['뉴진스', '동생', '그룹', '이에요', '이미지', '똑', '닮았네'], ['자기', '기준', '대로', '남', '판단', '하는', '사람', '열등감', '표현', '죠', '무시', '하세요', '한별', '님', '말씀', '일일', '히', '공감', '가는', '말', '이에요'], ['정신병', '머리', '아픈', '직원', 'leash', '개월내', '짜르', '그', '뒤', '되어도', '걍', '짜르', '맞아요', '저', '사람', '뽑았을', '때', '정신병', '있는', '사람', '있습니다', '안타깝네요', '부디', '마음', '잘', '추', '스리', '길', '바랍니다', '그리고', '허위', '개', '소리', '사람', '대해', '꼭', '소송', '보상', '받으시고', '처벌', '하시길', '바랍니다', '가만히', '두면', '지가', '사람', '새끼', '줄', '알아요', '지능', '낮고', '혐오', '가득', '찬', '말', '할줄', '아는', '짐승', '정상인', '속', '에서', '사람', '인척', '는걸', '두고', '봐야', '되는게', '안타까운', '세상', '그냥', '그', '처벌', '다스리는수', '밖에', '없습니다', '허튼', '소리', '안된다는걸', '만들어가면', '좋겠어요'], ['7701250', '닿았어요'], ['죄송한데', '얘', '한테', '성적', '감정', '느끼면', '잠재', '적', '범죄자'], ['잘', '못', '한게', '없으면', '숨', '일도', '없지'], ['귀여워'], ['긴', '영상', '너무', '조아'], ['아껴', '봐야지', '언니', '영상', '자기전에', '보면', '너무', '좋아요', 'ㅎㅎ', '분량', '최고'], ['회사', '수십', '대', '정작', '아픈', '레오', '있는', '옥상', '에는', 'nought', '대', '그렇게', '생각', '레오', '무슨', '일생', '기면', '어', '쩌', '려고'], ['아', '진짜', '논리', '없고', '감성', '팔이', '악플러', 'ㅋㅋㅋㅋ', '진짜', '강', '형', '욱', '님', '힘내세요'], ['나', '같으면', '중간', '욕', '한번', '쯤', '나올거', '같은데', '저렇게', '차분하게', '자신', '생각', '피', '력', '하는게', '넘흐', '멋져욤'], ['아일릿', '에서', '누가', '제일', '인기', '많아요'], ['알수', '없는', '알고리즘', '왔는데', 'forty', '대', '이모', '보기', '엔', '너무', '너무', '귀엽네요', 'ㅎㅎ', '다이어트', '장기전', '이니까', '너무', '스트레스', '받지', '말아요'], ['딩고', '라이브', '나가서', '라이브', '보여주세요'], ['어머니', '정보', '여', '부럽다'], ['빠', '나', '같은', '까를', '만드는거란다', '개통', '령', '빠들', '아', 'ㅋㅋ', '개통', '령', '빠들', '골', '때리는', '점', '개통', '령왈', '저', '그런', '말', '쓰지', '않습니다', '시', '전하', '자', 'thirty nine', '암', '그런', '말', '쓰실', '리가', '없지', '폭언', '해명', '됐넼', 'ixl', '저', '볼줄', '모르고', '볼', '시간', '없습니다', '시전', '하자', 'thirty nine', '암', '개통', '령', '바쁘신', '데', '당연히', '감시안하', '짘', 'ixl', '우리', '아들', '욕', '했어요', '시', '전하', '자', 'ixl', '암', '캡쳐', '본', '따위', '없어도', '개통', '령', '님', '말', '진리', '이니', '당연히', '메신저', 'six', '개월치', '동의', '없이', '검열', '해야', '짘', 'ixl'], ['애', '앞머리', '빨리', '돌려내라'], ['말씀', '정말', '잘', '하십니다', '조곤조곤', '조리', '있고', '설득', '력', '있게', '잘', '하시는', '빠져드는', '매력', '있네여'], ['강', '부부', '닮아서', '그', '런가', '강', '천지', '하나같이', '입', '험하네', '패', '드립', '부터', '시작', '해서', 'ㅋㅋ', '비슷한', '주파수', '끼리', '끌린다더니', 'ㅎㅎ', '성별', '갈라', '치기', '발언', '긁혀가지고', '눈뒤집혔', '나'], ['그냥', '잘', '보고', '있었는데', '뭔', '문제', '있었다는', '건가', '침착하게', '잘', '얘기', '하시네', '씨', '씨', '티비', '있었어야', '된다는', '거', '이해', '가고'], ['강', '형', '욱', '님', '응원'], ['강형욱', '레오', '안락사', '논란', '식약처', '문의', '결과', '마약', '류', '병원', '밖', '반출', '하는', '것', '대해', '금지', '규정', '없다', '즉', '옥상', '에서', '안락사', '것', '대해', '불법', '이라고', '주장', '하는건', '헛소리'], ['애기', '같아용', '넘', '귀엽', '사랑스러', '움', '포테킹', '치킨', '저', '생각', '보다', '너', '뮤', '느끼했던', '기억', '있는데', '먹는거', '보', '니까', '다시', '시켜', '보고', '싶은건', '무엇', 'ㅎㅎㅎ'], ['뉴진', '스랑', '비슷한', '안무', '만', '바꾸면되', '묻어', '버리', '기', '에는', '아깝다', '아이브', '제일', '좋아하는데', '민주', '원희', '예뻐서', '계속', '보게', '됨'], ['먹방', '또', '올려주세요'], ['강형욱', '쟈샇했으', '좋겠다', '빨리', '듸져', '라', '형욱', '아'], ['언니', '말', '하는', '스타일', '너무', '좋아서', '가끔', '일부러', '보는', '큐앤', '에이', '벌써', '언니', '알', '된지도', '7년', '째네여', '오랜', '만', '들어와서', '또', '매력', '빠지고', '돌아감니당', 'ㅎㅎ'], ['개', '쉬이', '감정', '없이', '안락사', '시키고', '이런', '사람', '개', '훈련', '자체', '못', '해요', '동물', '훈련', '말', '그대로', '식스센스', '있어야', '가능한', '분야', '개', '그냥', '단지', '미물', '취급', '했다면', '강형욱', '개통', '령', '될수도', '없었고', '그냥', '시골', '개', '장수', '정도', '되었겠죠', '다른', '논란', '몰라도', '개', '사랑', '한다는', '건', '진심', '이라고', '봅니다', '반면', '사상', '이상한', '직원', '쓰레기', '볼', '수도', '있겠지만', '그건', '누구', '라도', '충분히', '가능한', '감정', '이에요', '직장인', '라면', '집', '와서', '누군가', '하소연', '할', '때', '마음', '안', '드는', '직원', '얘기', '하잖아요', '강형욱', '처럼', '훈련사', '위치', '원칙', '주의자', '입장', '에선', '더하면', '더했지', '정도', '이해해', '야', '한다고', '봅니다', '오히려', '개', '한테', '원칙', '지키면서', '사람', '한테', '정치', '적', '이고', '유연하다면', '인간성', '의심', '더', '갔겠네요', '누구', '든', '직업병', '이란', '있습니다'], ['힘내세요', '오해', '갈등', '풀어시길', '진심', '기원'], ['요즘', '스트레스', '몇', '주', '동안', '잘', '못', '먹고', '식욕', '돌아오지를', '않는데', '거', '보고', '새벽', '스시', '주문', '했습니다', 'ㅎㅎ', '예', '몽', '님', '안지', '이틀', '됐지만', '영상', '보고', '있는', '동안', '감정', '소모', '스트레스', '예민해지고', '우울한', '기분', '없어지고', '차분해져요', '영상', '잘', '보고', '있어요', '감사합니다'], ['이만이천원', '짜리', '티셔츠', 'ㅋㅋㅋㅋㅋ', '무슨', '두루', '마리', '휴지', '두르고', '다녀야', '평민', '인가'], ['오랜', '만', '보는데', 'x', '빼셨네요', '대박', 'ㅎㅎ'], ['3. 64916', 'Due east', '+', 'eleven'], ['인생', '연예인', '전부', '한국', '아줌마', '화났다', 'ㅋㅋㅋㅋㅋㅋㅋㅋㅋㅋㅋㅋ'], ['사람', '한테', '뭘', '수저', '수저', '거려남', '경제', '수준', '평가', '하면서', '끼리', '토론', '하는거', '재밌나'], [], ['아니요', '강형욱', '님', '응원', '어떤', '회사', '든', '있구요', '각', '부서', '있습니다', '그리고', '있다고', '봐야', '하구요', '왜', '업무', '태만', '근무', '하는', '사람', '있을수도', '있구', '안전', '보호', '차', '있어야', '된다', '나도', '영업', '부', '인데', '어떤', '회사', '든', '있다', '얼마나', '편하면', '저런거를', '걸고', '넘어지면서', '세상', '편하게', '돈', '받으면서', '일해', '잘', '해주', '니깐', '한도', '끝', '없는네', '진짜', '들이', '돈', '꾸려서', '리쿠', '리팅', '하면서', '장사', '해봐', '세상', '편하니깐', '개념', '없네', '진짜', '내', '화', '딱지', '나네'], ['오늘', '부로', '아일릿', '대한', '마음', '접습니다', '또', '번', '더', '접습니다', '뒤', '펴서', '아이스크림', '접기', '또', '접습니다', '맞지', '막', '돌려서', '피', '하트', '완성'], ['한남', '소', '추', '살다', '살다', '듣도', '보도', '못', '욕', '같은', '직장', '동료', '며', '상사', '며', '조롱', '건', '그', '직원', '바닥', '인성', '보여주는건데', '거기', '다가', '자기', '잘', '못', '한건', '쏘', '옥', '빼고', '유명하니까', '너', '끌어내리겠', '다식', '너무', '악의', '적', '제보', '다른건', '이해', '가는데', '감시', '용이', '아니더라도', '상사', '목뒤', '에서', '입김', '부는', '거', '랑', '똑같은데', '그건', '강', '대표', '님'], ['고발', '자', '보면', '탈덕', '수', '용소', '대표', '떠오름', '생각', '하고', '살아라'], ['금수', '저', '댓글', '이나', '명품', '사는', '거', '나리', '질', '하는', '댓글', '남자', '여자', '상관없이', '지랄', '해대', '던데', '남자', '여자', '뭐라', '할게', '아니라', '그런', '댓글', '다는', '사람', '자체', '존나', '이해', '안되는거', '충고', '랍시고', '어쩌구저쩌구', '오지랖', '부리던데', '들이', '뭐라고', '그런', '소리', '아무', '생각', '없이', '내뱉는', '건지', '이해', '존나', '안됨', '대가리', '빈', '기', '집애', '이나', '사', '내', '새끼', '이나', '끼리끼리', '어울렸으면', '좋겠다'], ['뉴진스', '짝퉁', '맞네', '컨셉', '스타일', '노래', 'ㅋㅋㅋㅋㅋㅋㅋㅋ', '뭘', '아니라고', '씨부렁대'], ['똑소리', '나고', '멋있다'], ['응원'], ['어디', '까지나', '본인', '의견', '이고', '틀릴수도', '있음', '국가', '구', '쪽', '내', '잘', '모르는데', '미국인', '종', '사자', '이나', '전문', '사무직', '기준', '으론', '좋아', '보이진', '않음', '직원', '근무', '하는', '곳', '보', '니까', '자세', '교정', '허리', '편하게', '하는', '의자', '나', '책상', '아님', '사무실', '직원', '중', '쪽', '일', '하고', '장시간', '영상', '편집', '하는', '분', '있을텐데', '전혀', '그런', '분들', '배려', '하는', '의자', '아니었음', '그', '와중', '자세', '교정', '라는', '말', '안전', '문제', '아닌', '내', '보기', '싫으니까', '자세', '똑바로', '해', '라는', '흔한', '꼰', '대식', '트집', '보임', '진짜', '직원', '허리', '건강', '이나', '산재', '걱정', '돼서', '그러면', '애초', '의자', '책상', '좋은걸', '줬겠지', '이런', '트집', '외국', '에서는', '라고', '해서', '상사', '평가', '큰', '타격', '될', '수', '있음', '보통', '산재', '나', '도난', '문제', '관리', '차원', '라면', '스크린', '직원', '전신', '나오도록', '비추진', '않음', '특히', '외부', '출입', '할', '일이', '없는', '사무실', '에서는', '보통', '그렇다는건데', '왜', '저렇게', '설치', '했는지는', '내', '강형욱', '의도', '알', '길이', '없음'], ['그냥', '할수있는거', '하셨음', '좋겠네', '악의', '적', '그런거', '같은데'], ['정지영', '아나운서', '목소리', '톤', '되게', '비슷하다', '그래서', '더', '호감', '가는', '유튜버'], ['한별', '님', '유툽', '접', '얼마', '안', '됐지만', '마인드', '정말', '건강하신', '것', '같아요', '바르게', '생각', '하시는', '부분', '정말', '배울', '점', '많으신', '것', '같아요', '멋있으세요', '특히', '악플', '대해', '서는', '다시', '생각', '하게', '된', '것', '같아요', '무서워서', '피하', '아니라', '더러워서', '피', '생각', '했는데', '잘', '못', '된', '걸', '잘', '못', '됐다고', '해야', '한다는', '한별', '님', '생각', '듣고', '보니', '아차', '싶더라구요', '인종차별', '빗대서', '표현', '하신', '정말', '닿았네요', '멋있는', '마인드', '본받고', '싶습니다', 'ㅎㅎ', '앞', '자주', '영상', '찾아볼', '것', '같습니다', '더', '더욱', '승승장구', '하세요'], ['진짜', '현명하신', '분'], ['어디가', '뉴진스', '인지', '모르겠', '느낌', '다른데'], ['얼굴', '가리면', '뉴진스인줄', '알겠다'], ['레오', '고발장', 'ㅋㅋㅋㅋㅋㅋㅋㅈ', '됬', '누'], ['한남', '소', '추', '아들', '방패', '거', '전략', '이다', '자극', '적', '얘기', '꺼내면', '사람', '휘', '둘리', '기', '쉬우니까', '교묘하게', '남탓', '돌리고', 'ㅉㅉ', '추하다'], ['직원', '그냥', '개노답', '걍', '니', '얼굴', '까고', '나와서', '반박', '해'], ['아', '진짜', '질문', 'ㅋㅋㅋㅋㅋㅋㅋㅋㅋㅋ', '정말', '미룰만', '질문', '이네', '요', '어이', '없어서'], ['밤', '만쥬', '닮으셨어요'], ['가사', '누가', '씀', 'ㄹㅇ', '2024년', '들은', '노래', '중', '에서', '제일', 'ㅈ', '같음', '부분', '들으면', '손발', '오그라들다', '못', '해서', '없어짐'], ['원희'], ['아', '진짜', '우리', '한별', '님', '한테', '무례한', '말좀', '그만', '멈춰주세요', '상처', '받은', '마음', '영원히', '잊혀지지', '못', '하는데', '잊고', '신경', '쓰지', '않으려고', '노력', '하시는', '한별', '님', '모습', '볼때', '마다', '저', '너무', '속상해요', '제', 'terzetto', '자의', '입장', '에서만', '봐도', '그런', '무례한', '말', '보았을', '때', '가슴', '팍팍', '꽃', '히', '는데', '본인', '직접', '자신', '대한', '무례한', '말', '들었을', '때', '어떤', '수만', '가지', '기분', '들겠어요', '질문', '경우', '있게', '생각', '있다면', '생각', '하고', '댓', '달아주셨으면', '좋겠어요', '저', '앞', '한별', '님', '포함', '모든', '유튜버', '분', '에게', '댓글', '달때', '한번', '더', '읽고', '생각', '해보고', '달', '아', '보려구요', '그러니까', '여러분', '댓글', '달때', '제발', '우리', '생각', '하고', '댓', '답시'], ['맛있겠다'], ['오랜', '만', '언니', '영상', '보는데', '말씀', '너무', '잘', '하시고', '많이와', '닿았어요', '그동안', '많이', '속상하셨을것', '같고', '고민', '많이', '하시고', '영상', '올려주신것', '같은', '느낌', '들어요', '속상해하는', '사람', '에게', '예민하게', '굴지', '말라', '혹은', '그냥', '무시', '해라', '등', '얘기', '하지', '않는', '것', '잘못', '사람', '에게', '잘', '못', '했다고', '같이', '말', '해주는', '것', '중요하고', '명백한', '진리', '것', '같습니다', '한별', '언니', '화이팅'], ['ㅋㅋㅋㅋㅋㅋㅋㅋㅋㅋㅋㅋㅋㅋ'], ['동안', '영상', '틀', '잠들', '겠네여', 'zero', '긴', '영상', '넘', '넘', '감사합니다'], ['364915802620', '저', '거', '스타벅스', '에서', '제일', '좋아하는', '케이크', '에요', '진짜', '맛있어요'], ['바보', '만들면', '안건', '겠지', '뱀', '분들', '빼고'], ['생기다만', '여자애', '하나', '유', '튜버', '랍시고', '강', '대표', '까고', '있는데', '유튜브', '라는', '공간', '점점', '무능한', '사람', '가득해', '지고', '있다', '온갖', '들이', '육갑', '하는', '장소', '바뀐거다'], ['코디', '청순해지니까', '윤아', '진짜', '너무', '너무', '예쁘다', '키', '크고', '성숙해서', '청순', '컨셉', '진짜', '잘', '어울리는'], ['한가득'], ['남침', '방어', '했을', '뿐', '인데', '그걸', '두고', '북침', '이라', '주장', '하는', '좌익', '다를', '뭔가'], ['앞니', '로만', '씹는', '느낌', '저만', '그런', '가요'], ['혹시', '직원', '갑질', '하는', '세상', '일지', '직원', '말', '다는', '아닐수도', '있겠네요', '서로', '입장', '차이', '그리고', '진실', '이든', '거짓', '이든', '단합', '해서', '뭔가', '도모', '하면', '선의', '악의', '둔갑', '되는걸', '저', '직장인', '이지만', '많이', '봤습디다', '법적', '싸워서', '거짓', '있다면', '사회', '적', '일침', '가하세요', '갑', '횡포', '일반', '적', '이라고', '생각', '하지만', '요즘', '들의', '기적', '이고', '개인주의', '적', '성향', '야기', '되는', '파렴치', '요즘', '회사', '내', '에서', '대단히', '빈번', '답니'], ['아니', '어딜', '봐서', '뉴진스', '카피'], ['동물', '사랑', '하는', '사람', '거짓말', '하지', '않습니다'], ['말', '진짜', '조곤조곤', '너무', '잘', '하시네요', '원래', '긴건', '잘', '안', '보는데', '시간', '가는줄', '모르고', '봤어요', '진짜', '멋있으세요'], ['자꾸', '개통', '령', '회사', 'thirty nine', '애완동물', '종묘', '및', '보호', '서비스업', 'ixl', '이라', '직원', '동의', '없는', '설치', '필수', '라고', '하는', '소리', '개통', '령빠', '보이는데', '반려동물', '영업', '자', '설치', '의무', '영업', '군', '동물보호', '센터', '민간', '동물보호', '시설', '동물', '미용', '업', '동물', '운송업', '23427', '농림축산식품부', '개정', '보듬', '사무실', '내부', '해당', '없음', '팩트', 'ㅋ', '니', '좋아하는', '문', '재일', '평산', '책방', '놀랍게도', 'ixl', '애완동물', '종묘', '및', '보호', '서비스업', 'ixl', '이었는데', '거기', '필수', '겠다', 'ㅋㅋ', '어휴', '머절', 'ㅋ'], ['그나저나', '국민', '여러분', '께', '당부', '말씀', '올립니다', '개는', '밖', '에서', '키웁시다', '밖', '에다', '개집', '마련', '해줄', '능력', '안된다면', '개', '키워', '서는', '안됩니다', '개', '나', '자동차', '나', '똑같은', '이치'], ['근데', '금수', '저', '라는', '댓글', '현명하게', '대처', '하시는', '한별', '님', '멋', '잇어여', '그런', '생각', '해본', '적도', '없고', '그냥', '조용히', '조회', '수만', '올리는', '구', '독자', '인데', '한별', '님', '말', '예쁘게', '잘', '하신다고', '항상', '생각', '해왔어요', '처음', '댓글', '남겨', '욥', '항상', '응원', '하고', '있는', '팬', '있다는것도', '생각', '해주세요', '너무', '속상해하지', '말았으면', '좋겟네요', '화이팅'], ['복', '스럽게', '드시네요'], ['혹시', '썸네일', '무슨', '멤버', '인가요', '아무리', '봐도', '헷갈려요'], ['잔치국수', '김치전', '진짜', '맛', '잇겟다'], ['언니', '진짜', '뜬금', '없지만', '영상', '에서', '입고', '있는', '옷', '어디서', '사셨나요', '제', '고민', '중', '였던', '옷', '인데', '같은', '옷', '사려구요', '어디', '건지', '알려주세요', '젭알', '요', '영상', '관련', '없는', '말', '해서', '죄송해요'], ['오오', '옹', '한별', '님', '얘기', '들으니깐', '스페인', '여행', '가보고', '싶네용', '한별', '님', '사랑', '빠질만큼', '이뻤던', '스페인', '궁금하네용', 'ㅋㅋㅋ'], ['항상', '영상', '너무', '잘', '보고', '있습니다', '.', '구독', '누르고', '가요', '!'], ['애매하다'], ['립싱크', '작작해라'], ['이렇게', '댓글', '첨', '다는데요', '한별', '님', '넘', '넘', '너머', '너머', '넘', '넘', '이쁘구', '영혼', '깨끗해지는', '기분', '이에요', '목소리', '이쁘구', '안', '이쁜게', '없음'], ['부러워서', '남', '자기', '보다', '잘나면', '배아', '파서', '욕', '하는', '놈', 'ㅉ'], ['강', '형', '욱씨개훌룡', '에서', '교체', '하고', '다른', '훈련사', '온', '다한', '그', '자리', '채워질', '까', '강', '형', '욱', '씨', '대신', '할', '사람', '없다', '개', '훌룡', '보는것도', '그렇', '고개', '훌룡', '재방', '보는데', '역쉬', '최고', '멋지다', '강', '형', '욱', '씨', '지금', '시련', '이겨내', '고개', '훌룡', '에서', '꼬옥', '만나자구', '엽기', '다릴게', '께', '요', '건강', '잘', '챙기세요'], ['애초', '물의', '일으킨게', '그냥', '아니꼽게', '본', '사람', '구런거', '같아서', '조용히', '넘어가도', '인정'], ['아침', '공복', '부터', '쥬스', '케이크', '도너츠', '넘', '당', '높고', '헤비', '하긴'], ['6601100', '일단', '그', '쪽', '여친', '될', '생각', 'ace', '없으니까', '김칫국', '드링킹', '노노'], ['그래서', '전', '직원', '주장', '했었던', '강형욱', '폭언', '녹취록', '빨리', '들어', '보고', '싶은데', '전', '직원', '언제', '쯤', '공개', '하려나요', '참', '한쪽', '전', '직원', '주장', '만', '무조건', '신뢰', '하는', '분', '계시니', '정말로', '안타깝습니다', '이래서', '양쪽', '주장', '들어', '봐야', '됩니다', '강', '형', '욱', '훈련사', '님', '계속', '활동', '해주셨으면', '좋겠습니다', '그럼', '항상', '건강하시고', '화이팅', '하세요', '구독', '누르고', '갑니다'], ['무고죄', '꼭', '고소하셨으면', '좋겠다'], ['자칭', '피해자', '라는', '사람', 'x', '명', '아니라', 'k', '명', '되더라도', '사회', '적', '물의', '일으킬만', '수준', '이르는', '사안', '아니라고', '말귀', '못', '알아듣나'], ['흠', '녹취록', '있긴', '건가', '감감', '무소식', '이네'], ['못', '되어', '먹은', '폭로', '문화', '그리고', '여론', '몰이', '문화', '때문', '지난날', '위컴', '사령관', '으로부터', '들쥐', '떼', '라는', '지적', '받았던', '것', '이다', '단', '하루', '라도', '사람', '답', '살아가자'], ['ㅈㄴ', '중독', '성', '지림'], ['아니', 'ㅋㅋㅋㅋㅋㅋㅋㅋㅋㅋ', '스스로', '산거부터', '정말', '멋있는데', '근데', '설사', '부모님', '사주신거라', '해도', '들이', '먼', '상관', '이야', '그냥', '능력', '되서', '저', '정도', '야', '얼마', '든지', '해', '주실', '수', '있어서', '해주시는거지', 'ㅋㅋㅋㅋㅋㅋㅋㅋㅋㅋㅋㅋㅋㅋㅋㅋㅋㅋㅋㅋㅋㅋㅋ', '졸', '부든', '갑부', '든', '니', '뭔', '상관', '이야', '알아서', '형편', '안', '에서', '본인', '쓸', '수', '있는만큼', '쓰는거야', '금수', '저', '나발', '이고', '진짜', '남', '한테', '레이블', '붙이는거', '무례한', '짓인데도', '서스름', '없이', '하는', '내', '여친', '안', '그래서', '다행', '이다', '할', '많하', '않', '여친', '있는거도', '구라', '같음', '상상', '여', '친일'], ['민주', '야', '혼자', '세탁기', '돌리느라', '고생', '많다', '젤', '이쁨'], ['한국', '와서', '친척', '집', '있었던', '자체', '부모님', '도움', '인한', '경제', '지원이', '라면', '지원이', '아닌지요', '지원', '안', '받은', '척', '굉장히', '모순', '적', '자취', '하게', '된', '거도', '모호하게', '말씀', '하시네요'], ['아예', '몰카', '라고', '하지', '그러냐', '라고', '언급', '하면서', '왜', '설치', '하냐고', '말', '이냐', '막걸리', '냐'], ['저런', '여자', '안', '만나야겠다', '내', '여자친구', '안', '저', '래서', '다행', '이다', '라니', '한별', '님', '사절', '거덩', '요', '답변', '하는', '한별', '님', '표정', '내', '표정', '글', '한별', '님', '말씀', '대로', '본인', '샀든', '남친', '사줬든', '부모', '사줬든', '무슨', '상관', '돈', '있으면', '그', '만큼', '소비', '해도', '되는거', '아닌가요', '경제', '경자', '모르는', '사람', '지랄', '들이군요', '절레'], ['사람', '배고픈건', '참아도', '배', '아픈건', '못', '참는다더니', '의적', '악의', '적', '배아', '파서', '질투', '심', '달', '댓글', '많다는걸', '또', '한번', '느끼', '융', 'ㅋㅋㅋㅋ', '그나저나', '한님', '말씀', '정말', '잘', '하시네요', '제', '스탈', '이세', '요'], ['개', '밖', '에서', '안락사', '시킨', '수의사', '고소', '당함'], ['꾸', '넘', '사다'], ['사이비', '만든', '아이돌', '인데', '얘', '사이비', '겠지'], ['거', '제발', '지우지', '말아주세요', '제', '최애', '영', '상임'], ['힘내세요'], ['부럽긴', '하네', '요', '어', '렷', '때', '부터', '캐나다', '유럽', '여행', '네덜란드'], ['모카', '이쁘다'], ['몇', '년생', '세용'], ['우와', '백', '조', '비유', '너', '어', '무', '신선', '햇', '어', '요', '좋네요'], ['말', '글', '그', '사람', '얼굴', '나타낸다는', '말', '있죠', '영상', '댓글', '보니', '정말', '이라는', '생각', '듭니다선', '사람', '부드럽고', '매력', '적이죠'], ['전', '직원', '왜', '형사고소', '안함', '계속', '언론플레이', '만', '하고'], ['견종백', '개스트쇼', '다시', '보고싶어요', '힘내시고', '꼭', '이겨내세요'], ['뉴스', '냐', '렉카', '냐'], ['왜', '이리', '예쁘세요', '흐', '엉'], ['보고싶다'], ['힘내시고', '당당하게', '밝혀서', '다시', '밝은', '모습', '대중', '나와주세요'], ['아', '영상', '해명', '끝난', '느낌', '이다'], ['강', '형', '욱', '님', '분명히', '뭔가', '오해', '있을', '거', '라', '생각', '했고', '그러길', '바랬습니', '그리고', '해명', '듣고나니', '안심', '됩니다', '이번', '일로', '상처', '많이', '받으셨을테고', '억울한', '부분', '많으실텐데', '무너지지', '마시고', '꼭', '회복하셔서', '방송', '에서', '다시', '볼', '수', '있길', '바', '래', '요', '진심', '응원'], ['뉴진스', '문제', '물러나는건', '그냥', '안타까운', '일', '인데', '얘데', '판지', '건', '도저히', '못', '봐주겠다'], ['오늘', '부러', '구독', '하고', '좋아요', '누르고', '갑니다', '앞', '으로도', '좋은', '일', '많이', '하시고', '돈', '많이', '버세', '요'], ['명품', '하울', '욕', '많이', '했지요', 'ㅋㅋ', '지나고', '보니', '자격지심', '이었어요', '말씀', '잘', '하시고', '영상', '잘', '보고', '있습니다', '조용히', '응원', '할게요'], ['정말', '걱정', '되어', '남겨요', '몸', '생각', '하면서', '음식', '조절', '하세요', '건강검진', '받아', '보시구요'], ['아일릿', '긁히는', '애', '많은', '가보네', 'ㅋㅋㅋㅋㅋ', '누가', '그렇게', '긁혔', '나', 'ㅋㅋ'], ['지금', '이라도', '말', '왕', '막아', '야한다', '원본', '춤', '어색하게', '보임'], ['매', '버', '타입', '사람', '있네요'], ['그래서', '사업', '하기', '힘들구나', '느꼈네요', '사업', '하면', '거의', '대표', '욕', '받이로', '받게', '되죠', '레오', '간호', '하느라', '돌봐주느라', '고생', '많으셨습니다', '레오', '강', '훈련사', '님', '마음', '잘', '알꺼예요', '얼마나', '그', '마음', '착잡했을지', '얼마나', '슬펐을지', '저', '예전', '이뿐', '강쥐', '마리', '안락사', '보낸', '견', '주입', '니', '지금', '유기견', '출신', '이뿐', '푸', '믹스', '마리', '사랑', '이를', '키우고', '있어요', '하여튼', '힘내시고', '응원', '할께요'], ['힘내세요', '그', '자리', '얼마나', '힘든지요'], ['앵콜', '라이브', '하고', '차이'], ['뉴진', '스랑', '똑같네', '완전', '긴', '생머리', '부터', '노래', '까지'], ['먹방', '예몽', '이랑', '햄찌', '님', '최고', '다른', '먹방', '예쁘게', '플레이', '팅', '하고', '예쁜', '조명', '함께', '먹어서', '봐도', '별로', '먹고싶은', '생각', '안', '드는데', '예몽', '너무', '현실', '적', '먹방', '이라', '더', '맛있어', '보임'], ['정말', '이상한', '사람', '엄청', '많네요', '저', '다른', '일반', '적', '인거', '말고', '정말', '자기', '취향', '대로', '구매', '하고', '보여주시는거에', '너무', '만족하고', '있어요', '저', '하울', '님', '하고', '취향', '비', '스무', '래', '하기도', '하고', '남', '눈치', '보느라', '정작', '제', '가원', '하는거', '구매', '못', '할', '때', '많아서', '너무', '너무', '대리', '만족하고', '있습니다', '그리고', '예쁘신', '거인', '상', '좋으셔서', '정말', '재밌게', '보고있어요', '너무', '너무', '응원', 'ㅎ', '금수', '저니', '뭐', '니', '대체', '그런거', '왜', '궁금해', '하는지', '조차', '정말', '이해', '안되긴', '하네요', 'ㅋㅋ'], ['도그', '펫', '안', '좋아하는', '나도', '방송', '보면서', '이분', '개', '대에', '진심', '이구나', '싶던데', '이런', '말', '안', '되는', 'ㅉㅉ', '이럴', '때', '그냥', '버티기', '하시면', '그러다', '보면', '지나가고', '또', '살아지고', '더', '좋아질수도', '있고요', '두', '분', '부디', '힘내시길'], ['내', '여친', '저러지', '않아서', '다행', '이다', '라고', '말', '하는', '놈', '여친', '님', '너무', '불쌍해', '도망가세요'], ['요즘', '영상', '많이', '올라와서', '넘', '기뻐요', '오늘', '잘', '볼게요'], ['패션', '하울', '보다', '보니', '관련', '영상', '영상', '떠서', '보게', '됐는데', '패션', '하울', '영상', '볼때', '느꼇', '말', '정말', '잘', '하시는듯', '생각', '하시는', '것', '확실하시고', '멋있으세요'], ['스페인', '가고싶다고', '했다고', '바로', '이민', '갈', '수', '있는', '집안', '부럽다'], ['솔직히', 'ㅎㅎ', '노래', '정말', '좋다'], ['김풍', '마', '그네', '틱', '보고왔', '읍니'], ['어쩌다가', '보게되', '서', '정', '주행', '싹', '했는데', '매', '영상', '마다', '왜케', '이리', '귀여울수가', '있어요'], ['뉴진스', '묻어', '버리면', '너', '원조', '되는거다', '가즈', '아'], ['사랑', '해요', '사랑', '해', '그냥', '영상', '보는데', '사랑스럽구', '표현', '해주고', '싶어서', '남겨요', '그런', '사람', '있잖아요', '보고', '만', '있어도', '사랑스럽고', '기분', '좋아지는', '저', '한테', '그런', '사람', '예', '몽', '님', '인가', '봅니다', '보고', '있으면', '마음', '따듯', '해져요', '세상', '찬', '바람', '시렵', '아픈', '날', '있더라도', '예', '몽', '님', '사랑', '하는', '사람', '예', '몽', '님', '보고', '하루', '위로', '받는다는', '것', '떠올리시며', '예', '몽', '님', '하고', '싶은', '것', '건강하게', '오래', '이루시길', '바라며', '많이', '웃고', '많이', '행복하세요'], ['아일릿', '큐큐', '큐', '노래', '언니', '성은', '만', '음속', '있어요'], ['원래', '몸매', '가꾸는건', '식단', 'eighty', '퍼센트', '운동', 'twenty', '퍼센트', '인데', '조절', '잘', '하셨음', '좋겠네'], ['진실', '외면', '하지', '않아', '요강', '대표', '부부', '님', '지금', '몸', '맘', '힘들시겠지만', '시간', '지나면', '상처', '아픔', '바람', '처럼', '지나갈', '껴에요', '이번', '사건', '인해서', '비방', '억측', '허위', '폭로', '악플', '등', '범죄', '라는', '거', '무서운거라는', '거', '깨닫게', '해줘야', '됩니다'], ['저렇게', '먹고', '싶은거', '먹어주고', '감량', '천천히', '하고', '있고', '아직', '어리신', '거', '같은데', '조금', '씩', '이라도', '뺴면', '서', '몇', '년', '걸리더라도', '목표', '하고자', '하는', '바를', '이루셨으면', '좋겠네요'], ['한별', '님', '자체', '멋있다는걸', '인정', '하기', '싫어하는', '사람', '많은', '가보네요'], ['좋기만', '하고만'], ['천천히', '먹는거', '넘나', '기특하고', '이뿜', 'ㅋㅋㅋㅋㅋ'], ['난', '처음', '부터', '형욱님', '믿었음'], ['서준', '628', '사람', '악의', '적', '끝', '없이', '악플', '답니', '잘', '기억', '해', '두길', '바랍니다'], ['언니', '배고파졌어요'], [], ['점점', '어울리는', '스타일', '찾아가시는듯', '으', '른', '스러워', '짐'], ['영', '상보', '니까', '2016', '2017년', '사건', '인데', '그게', '언제', '야', '7년', '전이네', 'ㅋㅋㅋ', '징', '진짜', '이래서', '사', '람보', '눈', '중요합니다', 'ㅋㅋ', '직원', '그만두고', '환불', '많이', '일어나니까', '게다가', '30일', '그만두면', '계산', '처리', '빠른데', '중간', '15일', '그만뒀으니', '환불', '처리', '금액', '제외', '하고', '날짜', '계산', '하고', '등등', '등', '계산', '복잡해지니', '그거', '직원', '에게', '연락', '해서', '서', '로간', '계산', '끝내면', '되는데', '전화', '안', '받고', '그냥', '다이렉트', '노동청', '신고', '해', '버림', 'ㅋㅋㅋㅋㅋㅋㅋㅋㅋㅋㅋㅋㅋㅋㅋㅋ', '아니', '신고', '하기', '전', '에라도', '같이', '계산', '해볼', '수', '있잖아', '암튼', '골치', '아프다', 'ㅋㅋㅋ', '서로', '같이', '계산', '하기는', '힘들고', '노동청', '신고', '빠르고', 'ㅋㅋㅋ', '결국', '600만원', '넘게', '받았으면', '대충', '퉁', '치고', '넘어갈', '법', '데', 'ㅋㅋㅋ', '그건', '7년', '넘도록', '마음', '담아주고', '복수', 'ㅋㅋㅋㅋ', '아이고나', '이래서', '공', '주님', '모', '시기', '힘들어', 'ㅋㅋㅋ'], ['화이팅', '응원', '합니당', '나중', '엔', '건강', '식', '위주', '먹방', '보고', '싶어요', 'ㅎㅎ'], ['thirty nine'], ['힘내세요'], ['모든', '유투', '버들', '통틀어', '서', '속', '시원하게', '사이다', '대변인', '해준거', '같아요', '짱', '이래서', '내', '언니', '채널', '본다니깐'], ['한별', '님', '가치관', '이랑', '멘탈', '너무', '좋으신', '거', '같고', '말', '조', '근', '조', '근', '잘', '하시네요', '너무', '좋아요', '영상', '잘', '봤습니다', '앞', '으로도', '화이팅', '하세용'], ['ㅋㅋㅋ', '처음', '머리', '땋', '거', '몽골', '학생', '같아요', 'ㅋㅋ'], ['역시', '양쪽', '이야기', '들어', '봐야하네요', '요즘', '공격', '적', '이고', '피해망상', '적', '이고', '기적', '성향', '많은', '사람', '남', '헐뜯기', '바쁘고', '본인', '업', '돌아가기', '때문', '다음생', '더', '크게', '벌', '받습니다', '물타', '기용', '언론', '공격', '인지', '비슷한', '댓글', '도배', '되고', '획일', '화', '된', '세상', '에서', '조금', '더', '깨어있는', '사람', '믿고계셨을', '겁니다', '또한', '잘', '지나가실거라', '믿습니다', '힘내세요'], ['이번', '소란', '주', '범', '누가', '뭐라', '해도', '언론', '언론', '이다'], ['왜', '앞니', '만', '쓰나요'], ['ixl', 'thirty nine'], ['너무', '이쁘다'], ['고발', '건', '이슈', '또', '방치', '니', '어쩌', '니', '마녀사냥', '난리', '났네요', '잘', '모르면서', '본인', '들일', '아니라고', '누구', '하나', '죽여야', '끝나겠구나', '출장', '서', '하는게', '불법', '맞다면', '맞는거지요', '사연', '딱하다', '해서', '예외', '없는거겠죠', '그냥', '레오', '강', '훈련사', '님', '안쓰럽네요', '안락사', '선택', '하기까지', '그', '고뇌', '알겠', '고요', '잘', '해결', '되고', '마무리', '되길', '바랄', '뿐'], ['밥', '먹을', '때', '음식', '보이', '먹어', '주심', '안될까', '여'], ['이제', '곧', '3만', '명인데', '큐', '엔', '에이', '해주세용'], ['역시', '별', '언니', '멋지당'], ['이건', '프로듀서', '훌륭한거다'], ['앞니', '음식', '씹으면', '치아', '건강', '안좋아요', '어금니', '씹으세용'], ['다른', '걸', '떠나서', '자존감', '꺽', '이지', '않게', '해주는', '엄마', '있는게', '부럽네요', '저희', '엄마', '딸', '아무리', '괜찮아도', '단점', '만', '콕', '집어', '일', '깨워주며', '다운', '되게', '하시거든요', '그럴', '때', '마다', '진짜', '엄청', '자존감', '낮아집니다'], ['큰', '도움', '됩니다', '계속', '활동', '하셔야', '힘내세요', '항상', '응원'], ['그래서', '왜', '무고죄', '고소', '안함'], ['그래도', '졸업장', '받는것이', '좋지', '그', '전', '햇', '는데'], ['항상', '예', '몽', '님', '긴', '영상', '끝', '까지', '보게되', '용', '너무', '재밌어용'], ['생각', '깊은', '분', '이라는', '것', '다시', '느끼고', '갑니다', '힘내세요'], ['예', '몽', '님', '빅사', '이즈', '쇼핑몰', '리뷰', '같은', '것', '해주시', '좋을', '것', '같아요', '늘', '영상', '잘', '보고', '있습니다', '항상', '밝은', '모습', '너무', '귀엽고', '감사합니다'], ['이런', '영상', '왜', '싫어', '요가', '달리는지', '이해', '안되는데', '니', '궁금해하고', '니', '물어봤잖아', '영상', '까지', '올려줬는데', '싫어요', '누르는', '얘', '이해', '안된다'], ['진짜', '너무', '맛있게', '드시는', '예', '몽', '님'], ['진실된', '모습', '더', '안타깝습니다', '여러', '사람', '있죠', '힘', '되는', '사람', '있지만', '아닌', '사람', '있네요', '힘', '되는', '사람', '주변', '많으시길', '바랍니다', '힘내세요'], ['누가', '봐도', '너무', '무례하거나', '과격한', '뉘앙스', '뎃글은', '아마', '짐작', '하고', '계신', '그런', '부류', '커뮤', '에서', '활동', '하는', '사람', '달러', '온거', '맞을거예요', '그런', '사람', '뎃', '진짜', '보기', '만', '해도', '기', '저절로', '빨리', '죠'], ['강형욱', '대표', '님', '더', '이상', '모함', '하지', '마라', '대표', '님', '힘내세요', '세상', '참', '무서워요', '글', '분노합니다'], ['춤', '진짜', 'ㅈㄴ', '기괴하네', 'ㅋㅋㅋ', '저', '좋다고'], ['삼자', '대면', 'ㄱㄱ', '안', '나오겠지', 'ㅋㅋㅋㅋㅋ'], ['것', '초딩', '용도', '아니고', '미취', '학', '아', '동', '용인'], ['평소', '도전', '해보고', '못', '스타일', '입어보고', '싶었는데', '뭘', '입어야', '할지', '몰라', '고민', '했는데', '...', '진짜', '코디', '이뻐요', '꼭', '저', '코디', '입어볼거에요', '킼킼'], ['썸넬', '민주', '보고', '달려왔다'], ['예', '몽', '님', '긴', '영상', '감사해요', '스킵', '한번', '안', '하고', '쭉', '봤어요', '꿀잼', '근데', '이번', '영상', '에서는', '건강', '걱정', '관련', '댓글', '많네요', '짜증나시겠지만', '그래두', '예', '몽', '님', '건강하게', '오래오래', '유튜브', '해주셨으면', '해서', '말씀', '하신거', '일거에요', '건강검진', '컨텐츠', '올리셔도', '좋을', '것', '같아요', '응원'], ['금수', '저', '든', '아닌듯', '신경', '끄고', '본인', '이나', '잘', '하시길'], ['영상', '싫어요', '사람', '그', '남', '인가'], ['말', '진짜', '잘', '하신다', '멋', '지심'], ['본인', '귀엽게', '생긴거', '알고있죠'], ['개그맨', '이수지', '닮았네'], ['별', '유', '튜버', '님', '응원', '해요', '보통', '사람', '월급', '받으며', '사는', '사람', '에게는', '몇', '천만원', '일', '년', '봉급', '인데', '어린나이에', '그런', '걸', '시즌', '명품', '백', '사니', '감히', '상상', '이안', '가서', '그럴것', '같아요', '근데', '한별', '님', '부모님', '가르침', '받아서', '유튜버', '크게', '자꾸', '번창', '하시는건데', '사람', '그냥', '쇼핑', '해서', '하울', '찍', '는걸', '아는것', '같아요', '것', '마치', '하나', '사업', '같은건데', '저', '알바생', '이지만', '정말', '편의점', '이나', '커피숍', '하나', '해도', '어마', '무시', '힘들고', '진짜', '투자', '하면', '할수록', '돈', '더', '들어오는건', '사실', '이고', '물론', '리스크', '상대', '적', '크기', '때문', '더', '노력', '해야하고', '더', '배워', '야하는거죠', '그래서', '한별', '님', '하울', '더', '크게', '해서', '영상', '퀄리티', '높이', '되고', '그러다', '보니', '또', '더', '큰', '돈', '벌고', '더', '큰하울이나', '다른', '영상', '찍는건데', '보통', '월급쟁이', '일하면', '그냥', '매달', '월급', '받고', '세이브', '하고', '이렇기', '때문', '사업', '시장', '잘', '몰라서', '그냥', '부모', '등꼴', '빼먹는다', '남친', '등꼴', '빼먹는다', '이런거겠죠', '한별', '님', '정말', '수', '안도', '대단하시고', '노력', '파', '이신', '것', '같아요', '보이는', '사람', '있어요', '힘내세요'], ['말투', '나', '생각', '하시는', '모든', '것', '정말', '제', '스타일', '영상', '쭉', '봤어용', '멋있으세요', '채널', '구독', '잘안하게', '되는', '편', '인데', '한별', '님', '채널', '구독', '하고', '갑니당', '앞', '으로도', '좋은', '영상', '기대할게요', '화이팅'], ['언니', '마인드', '너무', '좋네요'], ['젠더', '이슈', '물', '타기', '아들', '방패', '즙', '짜기', 'ㅋㅋㅋ', '크', '지려', '버렸다', '갑자기', '눈물', '각', '잡', '다가', '그', '이크', '흐흐', '흨', '이러면서', '있는', '즙', '없는', '즙', '짜', '버리네', 'ㅋㅋㅋㅋㅋㅋ'], ['앞니', '씹는', '소리', '너무', '별루', '에요', '어금니', '씹어', '드셔', '주세여'], ['모아', '보니', '더', '은혜', '롭다', '지치지도', '않고', '이쁨'], ['늦은', '저녁', '지금', '호랑이', '시리얼', '먹고', '있는데', '판단', '미스', '였다'], ['타고난', '이목구비', '예뻐요', '절대', '못', '생긴', '얼굴', '아닙니다', '코', '성형', '안해', '되는', '코고', '요', '코', '수술', '같은건', '답', '없어요'], ['영상', '긴거', '너무', '조아', '요긴', '영상', '자주', '올려주세요'], ['이렇게', '예쁘고', '대답', '똑', '부러지게', '하시다니', '갖춘', '한별', '님', '답변', '너무', '공감', '되구요', '악플', '대한', '의견', '더', '더욱', '맞는', '말씀', '이라', '생각', '해요'], ['맛있는', '사료', '한번', '준', '적', '없는', '것', '레오', '레오', '거리', '꼴', '이란', '그렇게', '개', '끔찍히', '생각', '하는', '사람', '여름', '휴가', '철', '여기', '저기', '개', '버리고', '다니나', '2022년', '한해', '동안', '발생', '유기견', '자그마치', '113', '440', '마리나', '된다'], ['힘내세요'], ['잘', '못', '한것이', '있으면', '사과', '하고', '그', '합당', '벌', '받으라는', '가르침', '부모', '한테', '못', '배우고', '자랐냐', '형욱', '아', 'ㅋㅋㅋ', '누가', '배운거', '없는', '개', '장수', '아들', '아니', '랄', '까', '봐', 'ㅉㅉㅉ', '지금', '이라도', '배웠으면', '피해자', '한테', '사죄', '하고', '합당', '벌', '받고', '다시는', '티비', '얼굴', '비추지', '말어라'], ['휴'], ['실제', '업주', '시', '시', '티비', '자주', '보긴하는데', 'ㅋㅋㅋ', '사람', '유명해져서', '이런게', '논란', '되는거지', '중소기업', '만', '봐도', '시', '시', '티비', '뭐', '하는지', '봄', '심지어', '화질', '좋음'], ['몇', '백', '개중', '하나', '라도', '달리', '신경', '쓰이는게', '사람인', '지라', '신경', '쓰이시겠지만', '응원', '하는', '사람', '더더', '더더', '많다는걸', '아시리라', '믿습니다', '저', '항상', '응원', '해', '요'], ['전', '예', '몽', '님', '처럼', '조곤조곤하게', '먹는게', '좋아요', '진짜'], ['원희', '좋다'], ['내', '여자친구', '아니여서', '다행', '이다', '라고', '하시는', '분들', '진짜', '여자친구', '있기나', '할까'], ['예쁜거', '시켜주는', '얼굴', '케이팝'], ['실화', '냐'], ['6211021', '진심', '뭔', '상관', '자기', '들이', 'ㅋㅋㅋ'], ['설마', '했는데', '역시', '형욱님', '그럴', '분', '아니죠', '응원', '세', '직원', '꼭', '고소하시길', '빕니다'], ['잘못', '저질렀으면', '벌', '받어라', 'ㅋㅋ', '거', '뭐', '일', '본', '놈', '같은', '놈', '이네', '강형욱', 'ㅋㅋ', '안', '했다고', '발뺌', '만', '하고', '있네', 'ㅋㅋ'], ['누가', '배운거', '없는', '개', '장수', '아들', '아니', '랄', '까', '봐', 'ㅋㅋㅋ', '잘못', '했으면', '용서', '구', '하고', '벌', '받아라', '그런건', '니', '부모', '안', '가르쳐', '줬냐', 'ㅋㅋ', '누가', '배운거', '없는', '개', '장수', '부모', '아니', '랄', '까', '봐', 'ㅋㅋㅋ'], ['현재', '아이돌', '노래', '못', '한다고', '욕먹고있는', '상황', '인데', '어쩌', '냐', '외모', '보고', '뽑는건데'], ['한국', '이중국적', '안되는데', '그러면', '스페인국', '적', '건가', '요', '그럼', '한국', '올', '때', '비자', '그', '걸', '해서', '오셔서', '사니', '느', '건가', '여', '궁금해', '영'], ['36499541554', '도넛', '364915302530', '스타벅스', '카스테라', '364919583238', '치킨'], ['이만이천원', '일반인', '많이', '살수', '일는데', '그리고', '패션', '뷰티', '유투', '버들', '보통', '중산층', '된다고', '그러더라구요', '부모님', '외교관', '거나', '큰', '사업', '하시거나', '그런', '경우', '금수', '저', '그냥', '티비', '에나', '오는', '재벌', 'two', '세겠구', '그냥', '중산층', '생각', '하는게', '맞는거', '같아용'], ['예몽밈', '마라', '탕', '드셔주세요', '넘', '귀여우세요'], ['외모', '구멍', '없다'], ['일본', '자신', '잘못', '안', '했다고', '발뺌', '하고', '변명', '하는거', '너', '한테', '배워야', '할꺼', '같다', '형욱', '아', 'ㅋㅋㅋㅋㅋㅋ'], ['웃기', '마라', '강형욱'], ['금수', '저가', '무조건', '깎아', '내리려고', '하는말은', '또', '아니니까', '그', '말', '넘', '스트레스', '안', '받아도', '될것', '같아요', '그냥', '언', '니', '말', '대로', '좋은', '의미', '받아들이시는', '좋을', '것', '같아요'], ['환멸', '한별', '님', '얘기', '듣고만', '있는데도', '스트레스', '뭘', '하든', '걍', '냅', '둬라'], ['개훌륭', '다시', '해주세요'], ['어제', '옾챗', '에서', '실시간', '쳐', '맞던', '서준', '어록', 'one', '지능', '딸린건', '내', '아니라', '강씨', '알바인', '니', '이다', 'ii', '백수', '인게', '아니라', '취업', '할', '생각', '없는', '것', '이다', 'triad', '니', '욕', '해봐야', '아무', '타격', '없다', 'iv', '니', '이랑', '말', '안함'], ['성격', '너무', '좋아', '보여요', '배우', '박지현', '님', '느낌', '나', '시공'], ['근데', '레오', '바닥', '뭐라도', '깔아', '놔주지'], ['thirty nine', 'thirty nine'], ['이웃', '일본', '에서는', '도저히', '찾아볼', '수', '없는', '저급한', '폭로', '문화', '빨리', '사라져야', '미개한', '중국', '에서도', '이런', '폭로', '문화', '존재', '하지', '않는다'], ['역시', '꿀', '조합', '잘', '아는', '녜몽님'], ['다른', '사건', '뉴스', '에서', '녹취', '공개', '해주는데', '어째서', '녹취있다', '분', '공개', '안', '하는지', '껄껄', '껄'], ['한별', '님', '영상', '속', '니트', '티', '찾으려고', '정보', '란', '주소', '누르면', '자꾸', '오류', '나길래', '직접', '사이트', '들어가서', '찾아봐도', '무슨', '옷', '인지', '안', '보이네요', '알려주실', '수', '없을까요'], ['이언', '니', '너무', '멋있어'], ['요즘', '없는데가', '어디', '있다고', '강', '형', '욱', '님', '너무', '휘', '둘리', '마시고', '힘내세요', '응원'], ['근데', '볼수도', '있는거', '아니냐', 'ㅋㅋ'], ['개', '이쁘네'], ['상콤'], ['그', '와중', '넘', '예뽀', '언닌', '흑발', '예뿌', '컬러', '있어도', '예뿌', '말', '잘', '해요', '분명', '기분', '좋은', '해피해피', '내용', '영상', '아니지만', '그래도', '친구', '랑', '수다', '떠는', '느낌', '이라', '힐링', '해요'], ['진짜', '말', '되게', '되게', '예쁘게', '친절하게', '말', '하셔서', '듣기', '좋고', '왜', '그', '래야', '하는지를', '알려주는', '영상', '인거', '같아서', '볼때', '마다', '여러', '생각', '들고', '아', '그러지', '말아야지', '하는', '마름', '드네', '요'], ['위안부', '피해자', '증언', '해도', '사실', '아니라고', '잡아', '때', '일본', '이냐', '니', '강형욱', '아', 'ㅋㅋㅋㅋㅋㅋㅋ', '잘', '못', '했으면', '벌', '받어라', '강형욱', '아'], ['ㅋㅋㅋㅋㅋㅋㅋㅋㅋㅋㅋㅋㅋ', '영상', '초반', 'ㅋㅋㅋㅋ', '머리', '뭔가', '웃기', 'ㅎㅎㅋㅋㄱㅋㅋㅋㅋ', 'ㅋㅋㅋ'], ['열등감', '덩어리', '서준', 'ㅋㅋㅋㅋ', '강형욱', '싫다면서', '꾸역꾸역', '여기', '들어와서', '악플', '도배', '함', 'ㅋㅋㅋㅋㅋ'], ['목소리', '힐링', '되는거', '같아', '좋아요'], ['6551055', '자기', '여자친구', '저러지', '않아서', '다행', '이다', '그럴', '능력', '없어요', '그런', '놈'], ['대리', '만족', '돼서', '좋', '더', '만', 'ㅋㅋㅋ', '돈', '있으면', '명품', '사고', '그런', '거지', '별', '시', '답', '잖은', '참견', '인지'], ['롤모델', '용', '진짜', '사랑', '합', '니', '둥'], ['누린', '많은', '금수', '저가', '맞으니까', '금수', '저냐', '물어', '보는', '질문', '이해', '하지', '못', '하는구나', 'ㅋㅋ', '부럽다'], ['말투', '지적', '넘', '웃기', 'ㅎ', '논리', '적', '따질', '지능', '없으니까', '말투', '이상하다', '뭐', 'ㅋㅋ'], ['혹시', 'ii', '번', '룩', '체크', '스커트', '정보', '없을까요', '…? !! !! !!', '부탁드림다', '!!!', '너무', '예뻐요', '!!'], ['심도있는', '이야기', '감사해요'], ['훈련사', '님', '정말', '마음', '안', '좋네요', '잘', '회복하시고', '정말', '힘내세요', '응원'], ['모카', '진짜', '존나', '이쁘다'], ['뭔가', '논리', '딱', '딱', '떨어지는', '말', '계속', '듣고', '있으니까', '기분', '좋아지나', '나', '왜', '영상', '주', '기적', '보고', '있지'], ['3649507827', '예', '몽', '님', '매력', '이에요', '재밋어', '요', '이대로'], ['아일릿', '노래였구나', '어딜', '가나', '노래', '나오길', '레', 'ㅎㅎ'], ['보는', '재미있는', '예쁘고', '즐거운', '영상', '보는거', '너무', '좋아요', '쓸데없는', '댓글', '너무', '상처', '받지', '마세요'], ['직원', '인간', '이니까', '말', '할', '주둥아리', '있던지말던지', '그리고', '아줌마', '말좀', '그만하세요', '다나', '요', '레오', '가은혜', '원', '수로', '갚은', '아', '나라', '결국', '원수', '원', '수로', '갚았았으니', '너무', '억울해', '하지', '마세요', '부인', '이라는', '너무'], ['아', '보노보노', '귀여웡', '먹방', '븨', '로그', '재밌어서', '계속', '보게', '돼요', '정', '주행', '시작'], ['레오', '얘기', '계속', '하시는', '분', '그', '옥상', '집착', '하여', '옥상', '얘기', '의미', '부여', '그렇게', '감정이입', '하면서', '놓치시는게', '있어요', '거짓', '스토리', '만', '들어서', '레오', '얘기', '쓴', '유튜버', '댓', '글단', '자', '에게는', '왜', '아무', '말', '안', '하세요', '그', '자', '일단', '거짓말', '했고', '레오', '마치', '학대', '견처', '럼', '불쌍하게', '만들어놨어요', '확인', '없이', '댓글', '그냥', '내보낸', '언론사', '문제', '기사', '에도', '댓글', '이라', '써있었는데', '그걸', '그대로', '믿고', '욕', '본인', '인성', '생각', '안', '하고', '그', '거짓', '댓글', '단', '사람', '테', '아무런', '의문', '이나', '언급', '없고', '찾으려는', '노력', '안', '하잖아요', '댁', '레오', '위', '해서가', '아닌', '그냥', '레오', '불쌍한', '견', '됐음', '하는건', '아닌가요', '허', '한마음', '뭔가', '마음', '쓰고', '싶은건', '아니구요'], ['너무', '귀여우시다'], ['현이', 'ㅊㅊ'], ['엄마', '뒤', '에서', '꼬물꼬물', '머리', '따셨을', '생각', '하니까', '너무', '귀', '여우', '심', 'ㅋㅋㅋㅋ'], ['민주', '썸네일', '이끌려', '왔다'], ['언니', '세상', '너무', '귀', '야', '워', '역', '냐', '아악', '하는거'], ['귀척', '너무', '거북하다'], ['언니', '다른', '사람', '말', '하는', '거', '너무', '상처', '안', '받으셨으면', '좋겠어요', '행복해요'], ['필요없고', '저', '강', '형', '욱', '님', '믿어요'], ['ㅋㅋㅋㅋ'], ['당연히', '있어야지', '탈의실', '화장실', '빼고', '이런', '걸', '해명', '라고', '하는것', '자체', 'ㅉㅉ', '적응', '못', '하면', '중세시대', '에서', '살아야지'], ['영상', '긴거', '정말', '매우', '붸리', '스트로베리', '블루베리', '많이', '너무', '엄청', '좋습니다'], ['굴뚝', '외', '연기', '나나', '요'], ['한별', '님', '영상', '보면서', '오늘', '처음', '댓글다는것', '같네요', 'ㅎㅎ', '너무', '멋지고', '똑', '부러지게', '말', '하시는', '한별', '님', '보면서', '무언가', '힐링', '이라', '해야', '할까', '요', '위로', '라', '해야', '할까', '요한', '별', '님', '무얼', '해도', '응원', '하는', '사람', '있다는거', '꼭꼭', '항상', '생각', '햐', '주세요'], ['땋', '머리', '완전', '귀여워용', '몽골', '소녀', '가타', '요'], ['아', '기분', '더러워', '능력', '있으면', '살', '수', '있지', '그리고', '있던', '없던', '사는건', '자기만족', '아닌가', '왜', '열등감', '느껴서', '어떻', '든', '깎아', '내리면서', '자기', '위로', '하는지', '제', '어이', '없네욤'], ['요즘', '가슴', '많이', '아파요', '힘내세요', '믿습니다'], ['형님', '마음', '꼭', '추', '스리', '시', '고요', '항상', '응원'], ['괜찮아요', '행여', '나', '실수', '있으시더라도', '괜찮아요', '절대', '안좋은', '생각', '하지', '마시고', '힘내세요', '잘', '될꺼예요', '훈런사님꼭', '힘내세요', '요즘', '너무', '쉽게', '자살', '하는거', '보', '니까', '괜히', '겁나요'], ['진짜', '길다', '거의', '45분', '이네요', '재밌게', '볼게요'], ['이번', '사건', '인해서', '억측', '비방', '허위', '폭로', '등', '범죄', '라는', '점', '일', '깨워주길', '바', '래', '요'], ['마지막', '악플', '대한', '생각', '대처', '너무', '공감', '되고', '말씀', '잘', '하셨어요'], ['364910491729', '때', '눈썹', '되게', '잘', '그렸어요', '깔', '꼼', '허니'], ['전', '부터', '정말', '느꼈지만', '이런', '가치관', '본받고', '싶다는', '생각', '들었어요', '앞', '응원', '할테니까', '계속', '꾸준히', '활동', '해주세요'], ['one hundred', '번', '들어도', '좋음'], ['오늘', '처음', '구독', '하며', '대리', '만족하고', '있는', '구', '독자', '다른', '아니라', '영상', '보면서', '왼쪽', '목', '부분', '살짝', '튀어나온거', '같아서요', '초음파', '검사', '한번', '받아', '보셨으면', '해서요', '전', '의사', '간호사', '아니지만', '조금', '걱정', '되어서', '글', '올려', '봅니다', '악플', '아닙니다', '절대', '오해', '하지', '말아주세용'], ['진짜', '뉴진스', '같네', '신기하다'], ['당', '진짜', '많이', '먹는다'], ['ㅋㅋㅋㅋㅋㅋㅋ', '저런', '여자', '만나지', '말아야', '짘', 'ㅋㅋㅋㅋㅋㅋㅋㅋㅋ', '그런', '사람', '왜', '당신', '만나'], ['카피', '카피', '모두'], ['평소', '에도', '느꼈지만', '미나', '상', '님', '이랑', '닮으셨어요'], ['뭐', '야', '이분', '첨', '보눈데', '개', '귀엽네'], ['제발', '마녀사냥', '그만', '했으면은', '좋겠어요', '당연히', '씨', '씨', '티비', '없으면', '안되는거', '아닌지', '그걸', '감시', '라고', '하고', '이슈', '터지니', '장단', '맞추고', '전부', '사냥', '감', '찾듯이', '징글징글', '요', '또', '어떤', '사건', '덭', '싶어', '이렇게', '이슈', '키우는지전', '강혁', '욱', '선생님', '응원'], ['정말', '멋진', '사람', '인거', '같아요'], ['힘내요'], ['우울증', '인데', '잘', '먹는', '사람', '부럽다'], ['폭로', '라는', '내용', '대부분', '사적', '감정', '불만', '한정', '되어있다', '명백히', '위법', '내', '용이', '라던가', '사회', '적', '통념', '벗어난', '것', '없다', '이런', '것', '대해', '어째서', '국민', '귀중한', '시간', '쪼개서', '관심', '가져야', '하는가', '그것', '이미', '수년', '전의', '일'], ['헙', '감동', '감동', '45분', '이라뇨', '5분', '씩', 'ennead', '번', '걸쳐서', '볼', '수', '있네요', '예', '몽', '님', '2월', '달도', '파이팅', '하세요'], ['영상', '긴것두', '너무', '좋고', '머리', '땋', '것', '두', '너무', '기엽구', '사랑스럽고', '코로나', '잠잠해지면', '팬', '정모', '이런거', '하면', '안되요', '만약', '한다면', '멀어두', '꼭', '갈꺼에', '용', '나이', '먹어두', '덕질', '어쩔', '수', '옶나바', '예몽', '너무', '좋당'], ['갑자기', '그', '명언', '떠오른다', '니', '꽃뱀', '왜', '무서워', '돈', '없는게'], ['언니', '에게', '남친', '등꼴', '빼먹는다', '명품', '자기', '돈', '산', '아니다', '내', '여친', '안', '그래서', '다행', '이다', '등등', '그런', '댓글', '다는', '사람', '언니', '부러워서', '질투', '나서', '자기한데', '없어서', '그런', '거', '라고', '생각', '해요', '본인', '그', '정도', '비슷한', '수준', '이면', '절대로', '악플', '안달', '죠', '남', '잘', '되는', '꼴', '못', '보는', '인간', '그러는거에요', '정말', '악', '풀러', '들은', '강력한', '처벌', '받았음', '좋겠어요'], ['450분', '짜', '리도', '볼수있어', '예', '모', '옹'], ['단', '그네', '틱'], ['강', '형', '욱', '훈련사', '단순하신', '분', '같습니다', '사람', '나', '무너', '뜨리', '는것', '너무도', '쉬운것', '같아요'], ['우와', '음식', '앞니', '로만', '씹는걸', '까', '아니면', '앞니', '씹는', '착시현상', '인걸', '까', '신기하네'], ['뭔', '일인', '진', '모르겠지만', '얼른', '복귀', '하세요', '언론', '담금질', '하는거', '한두', '번', '보나', '요'], ['그냥', '마음', '가난한', '사람', '있어요', '남잘', '되면', '끌어내리려고', '하는', '부류', '잘하고', '계세', '요', '백퍼', '이해', '함', '자기', '열등감', '왜', '남', '한테', '풀어', 'ㅋㅋ', '부럽고', '사고', '싶으면', '돈', '벌어', '그', '시간', 'ㅋㅋ'], ['2만', '2천원', '티', '금수', '젘', 'ㅌㅌㅌㅌㅋㅋㅋㅋㅋㅋㅋㅋ'], ['thirty nine', 'ixl', 'ixl', '파이팅'], ['답변', '안', '해주셔도', '되는데', '답변', '해', '주셔서', '감사합니다'], ['하나', '하나', '막힘', '없이', '말씀', '하시고', '더군다나', '아들', '욕절', '대못', '참지요', '맘', '아프네', '힘내세요'], ['예', '몽', '님', '혹시', '음식', '드실', '때', '앞니', '드시나요', '나쁜의', '도로', '여쭤', '본건', '아니구', '진짜', '궁금해서요'], ['니', '사람', '이냐', '악마', '야'], ['2만', '2천원', '왜', '금수', '저', '야', '얼마나', '꼬인거야'], ['뉴진스', '안무', '표절', '떠나서', '얘', '한테', '나쁜말하고', '싶진', '않음', '어른', '욕심', '때문', '비난', '하기에는', '얘', '막상', '무대', '보니', '끼', '보이는', '애', '이라'], ['매번', '다시', '볼때', '마다', '깨달음', '주는', '영', '상이', '요', 'ㅎㅎ'], ['화질', '더', '좋아진', '것', '같은', '느낌'], ['헐', '예', '몽', '님', '기다렸어요', '45분', '짜리', '영상', '이라니', '금요일', '까지는', '너무', '바빠서', '못', '보고', '토요일', '아껴', '볼게요'], ['오랜', '만', '뵙는', '한별', '님', '영', '상이', '요', '화장품', '좋아하는', '흔한', '취준생', '에서', '한별', '님', '영상', '쭉', '보고', '있었는데', '젠', '직장인', '에서', '엄마', '까지', '되었습니다', 'ㅋㅋ', '이제', '다시', '한별', '님', '영상', '보러', '올게요', 'ㅋㅋ', '우선', '역주행', '해야되', '겠죠', '열심히', '좋아하는거', '하시는', '모습', '에서', '전', '또', '힘', '얻고', '갑니다', '미모', '여전하세요'], ['악플', '무시', '라는', '건', '너무', '무책임한', '말', '이라는', '것', '이제', '느끼셔야', '악플', '다는', '사람', '나쁜', '겁니다'], ['예', '몽', '님', '어머니', '만드신', '김밥', '너무', '맛있을', '거', '같아요', '아쉽지만', '저', '만들지', '못', '하니', '치킨', '시켜', '먹어야겠어요', 'ㅎㅎ', '항상', '옹심이', '댓글', '읽어', '봐', '주셔서', '너무', '감사합니당'], ['전반', '적', '깔려있는', '스폰지밥', '흐물텅흐밍뮁멩', '너무', '조아여', 'ㅎㅎ', '예', '몽', '님', '영상', '정체', '성', '과도', '잘', '맞는듯', 'ㅋㅋㅋㅋㅋㅋ', '계속', '찾게', '되는', '영상', '예요'], ['저', '댓글', '처음', '써', '보는데', '저', '랑', '제', '친구', '랑', '언니', '완전', '팬', '이에요', '친구', '맨날', '언니', '영상', '만', '보길래', '그렇게', '재밌나', '해서', '보기', '시작', '했는데', '진짜', '중독', '성', '개', '쩔고', '영상', '보고', '있으면', '점점', '힐링', '돼요', '나긋나긋한', '목소리', '랑', '옴뇸뇸', '드시는게', '너무', '토끼', '같구', '귀여워요', '요즘', '항상', '밥', '먹을', '때', '랑', '잘', '때', '언니', '영상', '틀어놓구', '있어용', 'ㅋ', 'ㅋㅎ', '프리미엄', '결제', '했답니당', '요즘', '영상', '자주', '올려주셔서', '감사하구', '앞', '으로도', '많이', '올려주세요', '길면', '더', '좋아요'], ['직장', '생활', '해본', '사람', '라면', '알거라고', '봐요', '사장', '실수', '하고', '화도', '내고', '감정', '움직일', '때', '있습니다', '사람', '니깐'], ['위안부', '피해자', '그렇게', '증언', '해도', '그런', '적', '없다고', '잡아', '때', '일본', '하고', '똑같네', '저', '강형욱', '부부', 'ㅉㅉㅉ', '라이', '썩을', '놈', '아'], ['ixl'], ['사랑스러운', '예', '몽', '님', '얼굴', '예쁘고', '말', '하시는것도', '예쁘고', '먹는것도', '복스러우니', '너무', '예쁘세요', '방송', '오래오래', '보고싶어요'], ['제발', '아까운', '사람', '잃어버리는', '일이', '없었으면', '조금', '이해', '해주고', '서로', '아껴주는', '사회', '이길', '바랍니다'], ['분명한건', '저', '누가', '남녀', '노소', '누구', '든', '다른사람', '명품', '사던말던', '관심', '없어요', 'ㅋ', '모든', '명품', '가격', '비싼게', '문제', 'ㅋ', 'twenty four', '남자', '유튜', '버여', '자유', '튜버', '려면', '서', '남녀', '댓글', '분란', '조', '장하는', '사람', '문제', '사람', '명품', '남녀', '뭘', '사던', '관심', '없음', 'ㅋ', '문제', '명품', '남녀', '사던말던', '관심', '없는데', '남녀', '분란', '조', '장하는', '댓글', '러', '문제'], ['후보', '정이', 'ㅈㄴ', '대단한거구나'], ['얼굴', '기미', '주근깨', '덕지덕지', '개', '줌마', '미니', '진', '얘', '왤케', '싫어하는거냐'], ['건강', '정말', '안', '좋아', '보이네요', '부모님', '생각', '해서라도', '살', '빼시는', '좋을', '것', '같아요', '거', '보시', '참견', '이네', '뭐', '라고', '생각', '하실', '수', '있지만', '건강해지길', '바라겠습니다'], ['악플', '나빠요', '생각', '없이', '샘나서', '다는', '악플러', '나빠요', '한별', '님', '영상', '호기심', '생기', '재밌어요', '악', '으', '적', '댓글', '나쁘죠', '그치만', '한별', '님', '더욱', '힘내시고', '꿋꿋하셔야'], ['뉴진스', '영상', '보다가', '자동', '짭진스'], ['좋아', '진짜', '너무', '귀여워'], ['원희', '한테', '눈', '자꾸', '계속', '간다', '신기해', 'ㅎㅎ'], ['노래', '진짜', '좋네', 'ㅋㅋㅋ', '굿'], ['몇', '일', '째', '계속', '댓글', '쓰지만', '힘내시란', '말', '밖에', '해드릴수가', '없네요', '시간', '약인', '해', '요'], ['금수', '저', '질문', '우문', '현', '답', '넹', '호감', '상승'], ['크리', '수탈', '닮음'], ['지금', '머리', '가젤', '잘어울', '령', '요'], ['강형욱', '인간', '가면', '벗어', '보니', '악마', '있엇구', '나', 'ㅋㅋㅋ', '지금', '이라도', '알', '되서', '다행', '이지', '뭐', 'ㅋㅋㅋ', '고발', '자', '진짜', '고맙다', '레알'], ['이릿일', '언니', '큐큐', '큐', '성은', '만', '음속', '있어요'], ['얘', '뭔', '잘못', '있겠냐', '그냥', '방시혁', '욕심', '이지', '휴'], ['힘내세요', '모두', '강', '형', '욱', '님', '신뢰'], ['이만', '이천원', '금수', '저', '그냥', '할말이', '없다'], ['민주', '개', '이쁘다'], ['하아', '저녁', '땅땅치킨', '먹었는데', '배고프자', '나영', 'ㅎㅎ', '잔치국수', '에다가', '연어초밥', '어오', '침고이네', '용', 'ㅎㅎ', '저', '뷔페', '가면', '연어', '만', '조져요', 'ㅋㅋㅋㅋ'], ['훈련사', '님', '힘내세요'], ['방시혁', '평소', '어떤', '배우', '보는지', '확실히', '알겠네'], ['누가', '한별', '님', '같은', '사람', '너', '만나주겠나고', '돈', '능력', '이구', '너', '부모님', '못', '해주는걸', '웨', '괜히', '자격지심', '찌들어서', '욕', '해', '사고', '싶으면', '너', '한별', '님', '처럼', '일', '하고', '벌어', '여친', '불쌍하네', '들은', '여친', '한테', '오지', '뜯어', '먹을거', '아니야'], ['짭진스'], ['씨', '씨', '티비', '보는', '법', '몰라요', '너무', '힘든', '일이', '에요', '리모컨', '분할', '화면', '번호', '누르고', '줌', '누르면', '확대', '까지', '되는데', '뭐', '어렵다는', '건지'], ['초고', '비만', '인데', '피부', '좋으시고', '뭔가', '음식', '앞', '에서', '성격', '안', '급하시고', '사람', '안정감', '느껴져'], ['한별', '님', '영상', '볼', '때', '마다', '대본', '미리', '써', '둔', '것', '처럼', '정갈하고', '정돈', '된', '말', '차분하게', '해', '주셔서', '편안하게', '보고', '있습니다', '그만큼', '영상', '대해', '많이', '고민', '하고', '찾아보고', '공부', '노력', '결과', '겠지요', '그걸', '깎아내리지', '못', '해', '안달', '난', '사람', '많아', '보여', '속상합니다', '어찌', '되었든', '한별', '님', '시간', '노력', '들어간', '건데', '그게', '부럽다는', '이유', '정확히는', '자신', '할', '수', '없으니까', '폄하하고', '어쩐', '저', '쩐다', '함부로', '말', '하는', '제', 'triplet', '자로', '서', '어이없고', '한심하게', '느껴지네요', '그럼에도', '배운', '사람', '입장', '으로서', '차분하게', '답변', '해', '주시', '모습', '감탄', '하고', '갑니다', '영상', '잘', '봤습니다'], ['나', '국민', '인데', '강', '대표', '국민', '한테', '미안해', '할', '필요없다', '다만', '이번', '소란', '관련', '해', '도의', '적', '책임', '통감', '하는', '정도', '자세', '필요하다', '본다'], ['응원'], ['불현듯', '가마보코', '먹고싶어지는', '저녁', '시간', '이다', '치쿠', '와도', '좋고', '한뻰', '좋다', '절로', '대포', '한잔', '생각나는구나'], ['너무', '부럽다', '난', '22년', '간', '살면서', '해외여행', '커녕', '국내', '여행', '한번', '제대로', '못', '가봤는데', '사람', '무슨', '복', '타고났는지'], ['그럼', '혹시', '너무', '이쁜', '가방', '샤넬', '구찌', '가면', '꼭', '있는건', '아니겠죠', 'ㅋㅋㅋㅋ'], ['개통', '령', '못', '보는게', '안타까울', '뿐입니다', '응원', '미친', '직원', '언론', '여', '직것', '좋은', '일만', '했거', '만나도', '저러면', '열', '받지'], ['최고', '영상', '삭제', '하지', '말아주세요'], ['보고', '있으면', '마음', '편안해진당'], ['맛', '나게', '드세요', '잔치국수', '자주', '해주시구', '먹어도', '진치', '국수', '맛', '나요'], ['이모', '영상', '잘', '보고', '있어용', '건강', '위해', '조금씩', '빼구', '앞니', '음식', '씹지마', '용'], ['감히', '남자', '아가리', '벌려'], ['인종차별', '부분', '너무', '공감', '가요', '저', '일', '년', '살았는데', '정말', '폐쇄적', '이고', '자국', '문화', '프라이드', '굉장히', '강하구', '어느', '정도', '스페인어', '해서는', '무시', '하는', '경향', '있긴하더라구요', '그래서', '용기', '내는데', '시간', '오래', '걸리더라구요'], ['스페인', '예쁘다고', '거기', '서', '살', '싶다고', '하는', '초등학생', '딸', '위해', '이민', '결정', '해주시는', '부모님', '이라니', '대박'], ['강', '대표', '님', '힘내십시오', '같은', '오', '너', '로서', '충분히', '이해', '되는', '일', '들입니다', '저', 'c', '대도', '넘게', '달아놓고', '있습니다', '아무', '뭐라고', '하는', '직원', '없습니다', '그냥', '게으른', '직원', '나가서', '뒤통수', '치는거니까', '똥', '잘', '못', '밟았다', '생각', '하고', '차분히', '잘', '대응', '해서', '꼭', '이겨주기', '바랍니다', '항상', '응원', '하겠습니다', '정', '안되겠다싶으면', '그냥', '한국', '버리고', '해외', '나가서', '지금', '까지', '벌어놓은', '돈', '가지', '편하게', '사는게', '더', '나을듯', '꼭', '화이팅'], ['예', '몽', '님', '조금씩', '말고', '입', '크게', '벌려서', '번', '드셔주면', '대리', '만족', '될', '거', '같아요'], ['피드백', '받아들여져서', '좋아요', '편안'], ['피자', '먹는거', '봤는데', '자유롭게', 'i', 'one', '판', '먹던데', '눈치', '보는', '건가'], ['근데', '금수', '저', '라는', '말', '답변', '뭐', '우리', '가족', '월', '소득', '얼마', '개인', '소득', '얼마', '그런', '걸', '말', '해줘야', '되는', '건가', '뭘', '바라고', '물어보는거지'], ['별로', '안', '심란', '데', '컨셉'], ['한별', '님', '직업', '뭐', '예여'], ['형욱님', '보듬처럼', '다시', '따뜻하고', '멋있는', '강아지', '훈련소', '만들어졌으면', '좋을', '것', '같아요', '그리고', '레오', '일', '언급', '할', '때', '정말', '마음', '찢어지듯이', '아프셨을', '것', '같은데', '정말', '레오', '위해', '기도', '많이', '할게요', '그리고', '보듬에서', '일', '하셨던', '훈련사', '분들', '보듬에서', '일', '했다는', '것', '부끄럽고', '창피한', '경력', '아닌', '정말', '영광', '스러운', '경력', '업적', '이다', '생각', '했음', '좋을', '것', '같아요', '그리고', '훈련사', '분들', '보듬', '모든', '직원', '분', '강', '형', '욱', '님', '앞날', '응원', '하겠습니다'], ['본인', '생각', '말로', '조목조목', '알아듣기', '쉽게', '표현', '하시는게', '너무', '멋있어요', '말씀', '너무', '잘하세요', '한별', '님', '항상', '응원'], ['다이어트', '하면서', '잘', '보고있', '습', '니당', '욕', '하는', '댓글', '무시', '하시고', 'myriad', '칼로리', '챌', '린지', '해주세여'], ['진짜', '귀엽다'], ['저', '언니', '저런', '거슬리는', '말', '대답', '할', '때', '조곤조곤', '말', '할', '때', '진짜', '부', '티나', '거', '같아요'], ['22일', '날', '너무', '이뻐요', '화장', '찰떡', '이구', '요'], ['저', '바람', '함께', '사라지다', '사랑', '빠진', '딸기', '뉴욕', '치즈케이크', '순서', '최애', '바꿨어요', 'ㅋㅋ'], ['민희진', '덕', '아일릿', '빠져', '버림', '원희', '너', '무조', '타'], ['공혁준', '여자', '버전'], ['댓글', '왜', '이리', '가식', '같지', '칭찬', '인데', '칭찬', '안', '같고', '비꼬는거', '같아요', '어쨌든', '가족', '이랑', '화목', '모습', '보기', '조아요', '친', '근', '감', '들고', '그러네요'], ['유툽', '알고리즘', '타고', '서', 'thirty nine', '별별', '쇼핑몰', 'ixl', '영상', '보다', '여기', '까지', '와서', '구독', '하구가요', '하울', '영상', '유독', '금수', '저', '금수', '저', '말', '많아서', '그렇지', 'ㅎ', '한별', '님', '생각', '맞는것', '같아요', '한별', '님', '바라보는', '사람', '생활', '비교', '해봤을', '때', '한별', '님', '금수', '저가', '될수가', '있고', '아닐수가', '있는거라고', '생각', '해요', 'ㅎㅎ', '흐뭇하게', '봤습니다', '결론', '구독'], ['다이어트', '자극', 'ㅈㄴ', '잘', '된다'], ['무슨', '서리', '야', '정말', '부모님', '돈', '이든', '언니', '돈', '이든', '영', '앤', '리치', '언니', '너무', '걸', '크러쉬', '짱짱', '멋있어', '우리', '언닌', '맛있는거', '먹고', '예쁜', '옷', '입으면서', '행벅', '살아야해'], ['애', '왤케', '사랑스러워'], ['영상', '재밌으니까', '더', '많이', '올려주', '새', '요', '늦어도', '되니까', '먹방', '영상', '보고싶어요'], ['되게', '이해', '잘', '되는거', '같아요', '전', '한별', '님', '생각', '너무', '좋은', '거', '같아요', '할말하시는게', '참', '보기', '좋아용', 'trinity'], ['예', '몽', '님', '혹시', '안', '드셔', '보셨다면', '스벅', '초콜렛', '크루아상', '추천', '드려용', '안', '카스테라', '랑', '똑같은', '우유', '크림', '들어있는데', '초코', '맛', '나고', '촉촉', '보', '맛', '바삭', '함', '느낄', '수', '있어용', '꼭', '드셔', '보세요', '생크림', '카스테라', '좋아하시면', '거도', '맛있게', '드실', '수', '있을', '것', '같아요'], ['꼭', '아들', '낳아서', '한남', '소', '추', '라고', '듣길', '바람'], ['슈퍼', '끌림', '들을', '때', '마다', '어처구니', '없긴한데', '그래도', '귀엽고', '매력', '적', '이네'], ['힘내세여', '싫으면', '안보', '되지'], ['민주', '하늘', '에서', '내려온', '천', '사임'], ['안좋은', '댓글', '의연하지', '않고', '긍정', '적', '마인드', '류', '말씀', '하시는', '모습', '좋이', '보기', '좋아요', 'ㅎㅎ', '이런', '영상', '통해', '언니', '대해', '발자국', '더', '알', '되네요'], ['노래실력', '부터', '키워라'], ['원희', '뭐임'], ['커뮤', '에서', '보고', '어쩌다', '영상', '보는데', '되게', '특이하게', '씹어', '드시네요', '거의', '앞니', '로만', '씹으시는듯'], ['몇', '천만원', '명품', '백', '하울', '근사한', '스페인', '집', '등등', '보면', '금수', '저', '라는', '질문', '이해', '할수', '있을것', '같아요', '평범한', '사람', '에게는', '쉽게', '할수', '없는', '것', '들이거든요', '궁금할수는', '있죠', '저런', '환경', '여유', '어디서', '나오는', '걸까', '하지만', '한별', '씨', '답변', '이해', '또', '공감', '갑니다', '또', '이상한', '댓글', '많아', '속상하기도', '하셨겠네요'], ['마지막', 'ㄱㄴ', '잘춤'], ['사건', '반장', '소송', '걸어', '보세요'], ['아', '왜', '자꾸', '쳐', '뜨냐'], ['업무', '시간', '여성시대', '못', '하니', '사장', '가족', '욕', '하고', '감시', '날조함', 'ㅋㅋㅋㅋㅋ'], ['스페인', '에서', '어떤', '일', '하고', '살아요'], ['원래', '자격지심', '심한', '사람', '남', '부러워하고', '욕', '하고', '더', '그런거', '같아요', '그리고', '방송인', '공인', '이니까', '모두', '에게', '잘', '해야한', '공평해야', '다라', '생각', '하는', '무', '개념', '효', '한별', '님', '오래', '봐', '온', '만큼', '절대', '그런', '분', '아니란', '것', '잘', '알', '항상', '잘', '보고있으니까', '앞', '으로도', '화이팅', '이에요'], ['급하게', '배고파서', '치킨', '시켜놓고', '입맛', '돋울', '겸', '먹방', '찾아보다가', '들어왔는데', '왜', '끌리는지', '자세히는', '모르겠는데', '넋', '놓고', '계속', '보게', '되네요', 'ㅋㅋㅋㅋㅋㅋ', '앞', '으로도', '놀러', '올게요'], ['한별', '님', '자체', '그냥', '명품', '인거', '같아요', '저런', '댓글', '좋게', '좋게', '본인', '할', '말', '의사', '말', '하기', '어려운데', '차분하게', '이야기', '이어나가는게', '정말', '좋은', '사람', '이라는', '느껴져요', '유튜브', '많은', '분들', '보면서', '정말', '상처', '받지', '않았으면', '하고', '더', '떴으면', '하는', '분', '처음', '것', '같아요', '질투', '찌든', '사람', '신경', '쓰지', '말고', '영상', '앞', '으로도', '많이', '올려주세용'], ['위안부', '피해자', '증언', '해도', '사실', '아니라고', '잡아', '때', '일본', '이냐', '니', '강형욱', '아', 'ㅋㅋㅋㅋㅋㅋㅋ', '잘', '못', '했으면', '벌', '받어라', '강형욱', '아'], ['444724', '아', '냐', '아아', '아악', '이라니', '냐', '아아', '아', '아악', '이라니', '너무', '귀여워요', '진짜'], ['내', '인종차별', '당하면', '너', '부모님', '안녕하니를', '각국', '언어', '해줄듯'], ['저런', '어머니', '있어서', '너무', '부럽다'], ['반려견', '훈련사', '강형욱', '보듬', '컴퍼니', '대표', '아내', '수', '잔', '엘더', '이사', '직장', '내', '괴롭힘', '의혹', '대한', '해명', '영상', '전', '직원', '더', '분노한', '것', '알려졌다', '사실', '대로', '얘기', '하지', '없는', '얘기', '하고', '아기', '욕', '한적', '없다는데', '핑', 'ㄱㄴ', '는쯔쯔', '그러면', '안되', '직원', '감시', '용', '사용', '요것', '조', '논란', '잇겟다', '감사용', '인지', '직원', '만', '감시', '용인'], ['선물', '받든', '내', '가사', '든', '남', '일', '인데', '왜', '그렇게', '지나친', '관심', '한별', '님', '께서', '유튜버', '하신', '덕분', '저', '한별', '님', '만나서', '기쁘지만', '다른', '한편', '으로는', '그', '따른', '고충', '있어', '안타까워요'], ['의외로', '빼는건', '쉬워요', '사후', '관리', '중요하다는것은', '다이어터', '알고있을건데', '요'], ['문제', '없다는', '저', '지능', '개통령빠', '에게', '바칩니다', '', '기업', '에서', '시설', '보안', '이나', '도난', '방지', '등', '목적', '사업', '장', '내', '설치', '하는', '경우', '늘', '있습니다', '그러나', '직원', '이를', '사생활', '내지', '개인정보', '자기결정권', '대한', '침해', '라고', '생각', '하는', '경우', '있어', '갈등', '발생', '곤', '합니다이와', '관련', '하여', '최근', '대법원', '직원', '동의', '없이', '설치', '된', '검정색', '비닐봉지', '가린', '행위', '업무방해죄', '해당', '하는지', '여부', '관련', '하여', '근로자', '작업', '모습', '찍히는', '카메라', '한하여', '비닐봉지', '씌운', '것', '사회', '상', '규', '위배', '되지', '않는', '정당행위', '라고', '볼', '여지', '있다고', '판시', '하였고', '대법원', '2023', 'half dozen', 'twenty nine', '선고', '2018', '1917', '판결', '이를', '계기', '직장', '내', '설치', '및', '운영', '적', '법성', '관', '논의', '활발하게', '전개', '되고', '있습니다', '가장', '많이', '거론', '되는', '문제', '역시', '', '개인정보보호법', '이슈', '사업', '장', '내', '설치', '된', '통해', '수집', '되는', '영상', '정보', '일종', '개인정보', '이므로', '개인정보보호법', '제', '15조', '적용', '됩니다', '따라서', '사용자', '도입', '통해', '개인정보', '수집', '거나', '이용', '하기', '위', '해서는', '근로자', '동의', '받아야', '하는', '것', '원칙', '제', 'unity', '호', '법률', '특별한', '규정', '있거나', '법령', '상', '의무', '준수', '하기', '위', '하여', '불가피한', '경우', '제', 'ii', '호', '개인', '정보처리', '자', '정당한', '이익', '달성', '하기', '위', '하여', '필요한', '경우', '로서', '명백하게', '정보', '주체', '권리', '보다', '우선하는', '경우', '제', 'vi', '호', '등', '예', '외적인', '경우', '한해', '서', '만', '동의', '없어도', '개인정보', '수집', '거나', '이용', '할', '수', '있습니다', '개인정보보호법', '제', '15조', '근로자', '동의', '없는', '경우', '사용자', '실질', '적', '같은', '예', '외적인', '사정', '소명', '할', '수', '있어야', '하므로', '관련', '분쟁', '발생', '하는', '경우', '사용자', '부담', '작용', '할', '수', '있습니다', '실제', '위', '같은', '예외', '좁게', '인정', '해석', '다수', '발견', '됩니다', '예컨대', '개인', '정보보호', '위원회', '사무실', '내부', '설치', '운영', '것', '회사', '정당한', '이익', '영업비밀', '유출', '및', '도난', '방', '지을', '위', '것', '이라고', '하더라도', '직원', '동의', '없이', '그', '근무', '공간', '책상', '및', '컴퓨터', '화면', '까지', '24시간', '촬영', '하여', '저장', '하는', '것', '근로자', '사생활', '침해', '가능성', '높으므로', '정보', '주체', '권리', '보다', '명백하게', '우선한다고', '보기', '어렵다고', '보았고', '개인정보', '위', '2022', 'hexad', 'xxii', '자', '제', '2022011067', '호', '결정', '국가인권위', '원', '회', '역시', '시설', '관리', '단', '소장', '무단', '외출', '여부', '확인', '한다며', '소속', '미화원', '관련', '된', '사용', '진정', '사건', '에서', '시설', '물', '안전', '관리', '나', '도난', '방지', '등', '위해', '설치', '직원', '동의', '없이', '직원', '근무', '감시', '사용', '것', '인권', '침해', '라고', '결정', '하였습니다', '국가인권위', 'sixteen', '진정', '0959300', '2017', 'ii', 'viii', '나아가', '개인', '정보보호', '위원회', '버스', '내', '에서', '기사', '개별', '적', '동의', '없이', '수집', '된', '녹화물', '운전기사', '징계', '또는', '근무', '평정', '증거', '자료', '사용', '하는', '것', '원칙', '적', '허용', '되지', '않는다는', '법령', '해석', '하였고', '개인정보', '위', '2013', 'pentad', 'xxvii', '자', '제', '9회', '결정', '중앙', '노동', '위원회', '역시', '같은', '취지', '운수', '회사', '영상', '기록', '근거', '징계처분', '것', '위법', '징계', '해당', '판단', '하기도', '하였습니다', '중노위', '2021', 'sextuplet', 'twenty nine', '자', '2021', '부해', '542', '판정', '한편', '통한', '직원', '감시', '행위', '', '직장', '내', '괴롭힘', '인정', '될', '가능성', '있어', '주의', '요', '고용노동부', '직장', '내', '괴롭힘', '판단', '및', '예방', '대응', '매뉴얼', '통한', '감시', '일하거나', '휴식', '하는', '모습', '지나치게', '감시', '직장', '내', '괴롭힘', '사례', '예시', '하고', '있고', '고용노동부', '직장', '내', '괴롭힘', '인한', '건강', '장해', '예방', '매뉴얼', '회사', '내', '설치', '되어', '있고', '해당', '모니터', '중간', '관리자', '자리', '설치', '되어', '있음', '출입구', '등', '사람', '지키고', '있지', '않아', '외', '에는', '직원', '움직임', '확인', '할', '수', '없는', '구', '조', '에도', '간식', '먹고', '난', '후', '간식', '맛있었냐는', '등', '실시간', '모니터', '직원', '관찰', '하고', '경고', '메일', '메시지', '등', '보내는', '방식', '감시', '사실', '직원', '에게', '주지', '시킨', '사례', '사적', '일', '지나치게', '간섭', '하는', '개인', '적', '영역', '대한', '침해', '로서', '직장', '내', '괴롭힘', '해당', '하는', '사례', '예시', '하고', '있습니다'], ['민희진', '욕심', '뉴진스', '까지', '말아먹게', '생겻넹'], ['한별', '님', '너무', '좋은', '마인드', '가지', '계신', '것', '같아요', '좋아요', '꾹', '누르고', '갑니당'], ['유니폼', '안', '입고있다고', '해서', '태', '클거는것만', '봐도', '얼마나', '깐깐한지', '알수있음', '저런', '깐깐한', '부부', '감시안', '했을것', '같냐', '더', '철저하면', '철저했지'], ['피부', '손목시계', '부분', '빼고', '타있어요', '강아지', '훈련', '하신다고', '진심', '응원', '마지막', '자신', '아니라', '지금', '까지', '함께', '했던', '훌륭한', '훈련사', '님', '직원', '지키기', '위해', '서', '또', '보듬에서', '일', '했었던', '이야기', '못', '하게', '될까봐', '제일', '걱정', '된다는', '말', '에서', '형욱씨', '인성', '여실히', '보입니다', '응원', '할게요'], ['이언', '니', '알고리즘', '때문', '봤는데', '마인드', '너무', '좋아', '어휘', '력', '너무', '감탄', '스럽고', '멋있어요', '엉엉', '엉엉', '우', '다른', '영상', '봤는데', '너무', '이뻤어요', '구독', '하고', '갈게요'], ['힉', '언니', '영상', '에서', '넘', '이뻐요', '원래', '와안전', '이쁘신', '데', '깜짝', '놀랐네요', '예쁘셔서'], ['예몽', '넘', '귀여웡'], ['피해자', 'ten', '명', '이상', '방송국', '본인', '피해자', '라고', '고발', '했다는데', '그래도', '아직', '까지', '그런', '적', '없다고', '잡아', '때', '있는', '강형욱', '부부', '니', '들을은', '일', '본가', '서', '살어라', '그게', '딱', '일본', '하는', '짓거리', '인데', '딱', '니', '하고', '어울린다', '니', '일', '본가', '서', '살어라', '한국', '에서', '꺼', '저', '라'], ['오', '이번', '영상', '화장', '찰떡', '이네', '유'], ['역대', '급', '곡임', '나', '치얼업', '들었을', '때', '딱', '그', '느낌', '가사', '의상', '댄스', '빠지는', '없는', '곡임'], ['아', '진짜', '속', '시원해요', '언니'], ['일반', '적', '보면', '직장', '고용', '된', '사람', '사장', '또는', '직장', '상사', '불만', '없는', '사람', '거의', '없죠', '고용', '된', '사람', '사장', '에게', '불만', '가지는', '것', '당연합니다', '왜냐하면', '일', '시키는', '사람', '사장', '이고', '시키는', '일', '수행', '하는', '사람', '직원', '이기', '서로', '입장', '다르니까', '요', '그러나', '뺀질', '거리', '말', '안', '듣고', '일', '저지르고', '하는', '새끼', '직장', '꼭', '두', '명', '씩', '있어요', '이런', '놈', '직장', '에서', '거의', '왕따', '당하게', '되고', '불만', '쌓이고', '하면서', '언론사', '고자질', '걸', '가지', '회사', '전체', '사장', '개인', '모든', '인격', '까지', '모독', '하는', '방송', '방송', '쓰레기', '더', '문제'], ['차분한', '성격', '부럽소'], ['364910611741', '이뻐요', '깜짝', '놀람', '갑자기', '이뻐져서', '귀걸이', '랑', '머리색', '이랑', '찰떡', '이고', '화장', '이쁘게', '잘', '하시네요'], ['이상한', '사람', '보다', '한별', '님', '하울', '리뷰', '일상', '영상', '즐겁게', '보고', '힐링', '하고', '정보', '공유', '하는', '팬', '분들', '훨얼신', '많은거', '아시', '죠', '영상', '잘', '보다가', '댓글', '첨', '달', '아', '봤어요', 'ㅎ', '영상', '즐겁게', '잘', '보고', '있어요', '늘', '행복하고', '건강하세요'], ['언니', '마인드', '넘', '좋아여', '본받고싶은', '마인드'], ['근데', '부모님', '께서', '진짜', '멋있네', '욤', '스페인', '에서', '공부', '하고', '싶다니까', '바로', '이민', '크', '그렇게', '예뻤다니', '여행', '이라도', '갔다', '보고', '싶네욤'], ['근데', '엄청', '많이', '먹는거', '같지', '않은데'], ['저', '오늘', '부터', '다이어트', '시작', '하게', '되었는데', '살이', '너무', '많이', '쪄서', '찌', '빠지고', '반복', '엿', '요', '하루', '끼', '먹고', '버텨', '볼라구요', '화이팅', '해봐요', '우', '링', '너무', '맛있게', '드셔서', '미치겠네요'], ['언니', '영상', '오랜', '만', '봤는데', '살이', '진짜', '너무', '빠졌어요', '마음', '고생', '하시는게', '너무', '너무', '보입니다', '슬퍼', '언니', '꼭', '강한', '마음', '가지세요', '악플러', '고소해요'], ['어제', '1년', '일', '직장', '그만뒀는데', '사장', '수고', '했다고', '퇴직금', '만원', '줬길래', '바로', '노동청', '가서', '신고', '하고', '왔다', 'ㅋ', '알', '보니', '사장', 'quint', '번', '이나', '짓', '해서', '노동청', '신고', '당했', '더', '라고', 'ㅋㅋ', 'ㅋ'], ['개', '안락사', '시켜놓고', '말', '많네'], ['남이사', '명품', '있던', '그걸', '선물', '받던', '먼', '상관', '죠', '남', '한테', '뜯어', '낸것도', '아니고', '열등감', '때문', '열폭', '는걸', '보이', '추', '해보여요'], ['현이', '득남', 'ㅎㅎㅎ'], ['심심할', '때', '예', '몽', '님', '영', '상보', '시간', '훅훅', '가요', '먹방', '대리', '만족', '되고', '드실', '때', '행복', '해보여서', '기분', '좋', '용', '매번', '재밌는', '영상', '올려주셔서', '감사합니다', '화이팅'], ['ㅋㅋㅋㅋㅋ', '진짜', '다른', '질문', '무식하지만', '일곱', '번째', '질문', '진짜', '생각', '못', '했다', '시즌', '백', '왜', '사냐는', '둥', '그만큼', '본인', '돈', '있고', '것', '저', '것', '사도', '살아가는데에', '지장', '없으니', '사고', '싶은', '걸', '사는거고', '기본', '적', '본인', '마음', '들어서', '사는거지', '질리', '든', '말', '든', '제발', '본인', '기준', '위치', '맞춰서', '본인', '경제', '적', '상황', '같다고', '생각', '하지', '마세요', '진짜', '얼마나', '무식하면', '저런', '질문', '할까', '생각', '함', '어짜피', '이런', '큐', '엔', '에이', '찍어도', '본', '사람', '안', '본', '사람', '상관없이', '들이', '생각', '하는대로', '자위', '질', '할', '거', '뻔함'], ['ixl'], ['정도', '업그레이드', '버전', '이지', '무슨', '따라', '만든', '그룹', '타령', 'ㅋㅋㅋㅋㅋㅋㅋㅋㅋ', '애플', '에서', '아이폰', '1만', '들고', '아이폰', 'two', '내놨다고', '아이폰', 'two', '짝퉁', '이라고', '하니', '업그레이드', '라고', '하지'], ['아니', '한별', '님', '뭘', '사고', '뭘', '먹고', '다니는지', '그리고', '그걸', '누가', '샀는지가', '그렇게', '중요해요', '그리고', '자기', '사고', '싶은거', '자기', '돈', '사겠다는데', '뭔', '상관', '인지', '잘', '모르겠어요', '그것', '자신', '노력', '번', '돈', '사는', '건데', '말', '죠', '그리고', '한별', '님', '영상', '마지막', '부분', '쯤', '보면서', '정말', '속상했는데', '솔직히', '무시', '라고', '했던', '그', '분들', '있죠', '제', '봤을', '땐', '그', '사람', '실제', '자신', '에게', '이런', '말', '글', '쏟아졌을', '때', '절대', '무시', '못', '할꺼라고', '생각', '해요', '그러니까', '한별', '님', '이런', '글', '상처', '받을지는', '잘', '모르겠지만', '저', '한별', '님', '좋고', '한별', '님', '영상', '정말', '좋아해요', '그러니까', '한별', '님', '상처', '받지', '않고', '계속', '영상', '올려주셨으면', '좋겠어요', '음지', '나가는', '별별', '마리'], ['잘', '드시니', '좋네요'], ['넘', '사랑스럽구', '노래', '좋', '궁', '진짜', '모든', '걸', '다가', '졌네'], ['노래', '못', '하지만', '귀엽게', '춤', '잘춘다'], ['근데', '화장', '너무', '잘', '한다', '이제', '완전', '찰떡', 'ㄹㅇ', '퍼컬', '있긴', '있나', '봐'], ['시원해', '한별', '님', '넘', '시원하다구요'], ['부러워서', '그런', '댓글', '다는거예요', '너무', '신경', '쓰지', '마', '요', '한별', '님', '좋아하는', '사람', '더', '많아요', '힘내세요'], ['강형욱', '훈련사', '님', '늘', '항상', '응원', '저', '현재', '비', '반려', '이지만', '강아지', '좋아하여', '개는', '훌륭하다라는', '프로그램', '1회', '부터', '챙겨', '보고있고', '유기견', '많다는것', '알고는', '있었지만', '이렇게나', '많을꺼라곤', '상상', '못', '했고', '도움', '필요한', '아이', '많다는걸', '알', '되어', '유기견', '봉사', '계획', '세우게', '되었습니다', '강아지', '반려', '문화', '앞장서서', '이끌어주시는', '강형욱', '훈련사', '님', '존경', '하고', '응원', '현재', '어려운', '상황', '하루빨리', '훌훌', '털고', '일어나시길', '바', '래', '요'], ['그저', '여자', '명품', '들면', '물어', '뜯는', '인간'], ['민주', '너무', '예뻐'], ['노래', '못', '하면', '시키지말자', '서로', '편하지', '않냐', '듣는', '사람', '이나', '부르는', '사람', '이나', '서로', '힘들', '자', '나'], ['힘내세요', '인간', '같이', '안은', '인간', '신경', '쓰지', '마세요'], ['예', '몽', '님', '너무', '이쁘세요', '여신'], ['ㅋㅋ', '왜', '댓글', '수준', '이렇게', '될수밖에', '없었는지', '영상', '고스', '란', '히', '담겨있네'], ['예', '몽', '님', '용돈', '되게', '많이', '받으시나', '봐요', '부럽다', '맛있는거', '자주', '먹을수있고', '364910491729', '때', '완전', '뿌요'], ['저', '거', '포테킹', '겁나', '맛', '나', '보인다'], ['귀여워용'], ['현이', '민주'], ['윤아', '왤케', '이뻐', '완전', '천사', '야', '천사', '윤아', '짱'], ['귀여우세요'], ['언론', '보고', '속', '적', '하도', '많아서', '전', '계속', '지켜보고만', '있었는데', '역시', '한국', '정말', '후진국', '이네', '요', '아직도', '사람', '관심', '끌기', '위해', '무고', '사람', '명', '데려다놓고', '자극', '적', '내용', '글', '싸지르는', '기레기', '놈', '언론플레이', '홀라당', '넘어가서', '악플', '없는', '사실', '폭로', '등', '쓰레기', '짓', '하는', '놈', '많네요', '전', '믿고', '있었습니다', '항상', '응원', '할게요', '언론플레이', '속지', '않은', '제', '자랑스러워요'], ['영상', '길어도', '끝', '까지', '보는건', '예', '몽깅', '뿐'], ['예몽', '영상', '항상', '챙겨', '보는', '중', '중독', '성', '못', '잃어요', '먹방', '만', '봐도', '제', '맘', '풍족해져용', '진짜진짜', '먹는거', '많이', '찍', '어조', '요', '넘', '기여', '워', '요'], ['귀여워여'], ['물', '많이', '마셔요', '귀여워요'], ['이분', '댄서', '인거', '죠'], ['귀엽고', '사랑스러우셔서', '영상', '보는내내', '미소', '지으며', '봤어요'], ['아껴', '봐야지'], ['3. 6492', 'Eastward', '+', 'xi'], ['존나', '어이없다', '강', '형', '욱', '님', '도데', '체', '니', '옷벗은', '거', '보고', '흥분', '이라도', '할까', '아님', '니', '쳐', '만들어', '달라', '하던가', '나', '진짜', '사람', '몰아가는', '수준', 'ㅉㅉ'], ['바고', '파서', '잠', '안', '올', '때', '먹을까', '말까', '할', '때', '마다', '보면', '도움', '되는', '영상', 'single', '위'], ['예', '몽', '님', '화장', '너무', '예쁘게', '잘', '했네요', '잘', '어울려요'], ['음주운전', '김호중', '폭언', '강형욱', '욕', '하지만', '음주운전', '전과자', '이며', '형수', '한테', '폭언', '녹취록', '공개', '된', '이재명', '지지', '하는', '여시노', '괴', '개추', 'ㅋㅋ'], ['썸넬', '하니인줄'], ['진짜', '열심히', '사시는거', '느껴져요', 'ㅠㅠㅠㅜ', '가족', '잘', '챙기고', '일도', '열심히', '하시구', '존경', '항상'], ['한별', '님', '사랑', '상처', '받을', '줄', '아는', '사람', '인데', '왜', '그걸', '존중', '하지', '않고', '뭐라고하는걸', '까요', '속상하네요', '진짜', '나쁜', '사람', '한별', '님', '언제나', '응원', '합니당'], ['너무', '사랑', '해요', '유튜브', '보면서', '언니', '영상', '만', '봐요'], ['아마', '상실', '감', '박탈', '감', '이지', '않을까', '싶네요', '한별', '님', '노력', '보다', '명품', '산것', '들만', '보이', '니까', '요', '그냥', '사람', '심리', '인거', '같아요', '저', '이런', '걸', '크게', '생각', '하지', '않고', '사람', '삶', '다르고', '나', '만', '열심히', '살', '된다고', '생각', '하던', '사람', '인데', '요즘', '그렇게', '생각', '안', '때', '많아요', '이건', '그냥', '그렇게', '살수', '없는', '사람', '자격지심', '이라고', '생각', '해주세요', '그래도', '저', '그냥', '저', '랑', '다른', '사람', '이라고', '생각', '하려고'], ['헐', '사빠', '딸', '저', '맨날', '그것', '만', '먹는데', 'ㅋㅋㅋㅋ', '진짜', '맛있어요'], ['말', '왕', '보다', '왔으면', '개추', 'ㅋㅋ'], ['인트', '구슬', '꿰', '실', '같은', '머리', '요', 'ㅋㅋ'], ['같은', '회사', '에서', '상', '도덕', '무시', '하고', '뉴진스', '컨셉', '똑같이', '만들었다고', '비난', '하길래', '억', '까인가', '싶었는데', '보', '니까', '뭐', 'ㅋㅋㅋㅋㅋㅋ', '화낼', '만', '하네', 'ㅋㅋㅋ', '사실', '같은', '회사', '니까', '음악', '비슷하고', '코', '디도', '비슷하고', '그런다는', '생각', '들었지만', '자꾸', '뉴진스', '겹', '쳐', '보이', 'ㅋㅋㅋㅋ', '심하긴', 'ㅋㅋㅋㅋ', '튼', '애', '참', '이쁘네요', '안타깝네'], ['응원'], ['근데', '진짜', '금수', '저', '이던', '아니던', '뭔', '상관', '이야'], ['나도', '샤넬', '클래식', '백', '여친', '사줬는데', '뭐', '잘', '못', '됨', 'ㅋ', '갖고싶다하면', '사줄수있으면', '사주는거지'], ['전', '되게', '급하게', '먹는데', '천천히', '먹는', '모습', '좋네요'], ['힘내세요'], ['태어난지', '1년', '안된', '아기', '상대로', '인격', '모독', '직원', 'ㄷㄷ', '사상', '문제', '긴'], ['반', '다나', '되게', '잘', '어울리실', '것', '같아요', '빛', '반사', '때문', '반', '다나', '하신', '줄', '알', '우와', '잘', '어울리', '신다', '하구', '생각', '했어요', 'ㅎㅎ'], ['거', '보고', '팔로우', '한다'], ['네이버', '웍스', '본질', '적', '업무', '용', '도구', '이런', '업무', '용', '도구', '가지', '한가롭게', '대표', '그', '가족', '뒷', '다마', '깐다는', '건', '상식', '이하', '대범한', '행동', '였다'], ['현기증', '나', '요'], ['못', '움직이게', '했던', '사람', '레오', '리'], ['악플러', '얘기', '너무', '공감', '돼요', '현실', '에서도', '똑같은', '거', '같아요', '무시', '라는', '말', '왜', '하는', '건지'], ['진짜', '예', '몽', '님', '먹방', '매력', '있는', '것', '같아요', '급하게', '먹지도', '않고', '먹을', '때', '입', '벌리시지도', '않구', '넘', '좋아요'], ['생각', '해보면', '폭로', '시점', '납득', '안된다', '문제', '있었다면', '즉각', '당사자', '간', '합의', '나', '법적', '호소', '했어야지', '수년', '지난', '지금', '와서', '폭로', '한다', '글쎄', '전혀', '공감', '할', '수', '없다', '뿐', '만', '아니라', '부정선거', '선거', '조작', '관련', '하여', '시국', '어수선한', '지금', '언론', '행', '태도', '여러', '모로', '수상한', '많다', '이런', '식', '멀쩡한', '사람', '생매장', '하는', '문화', '빨리', '사라져야', '한다'], ['개돼지', '악의', '적', '모함', '하는거', '신경', '쓰지', '마시고', '가족', '끼리', '시간', '보내시며', '머리', '식히시고', '편안한', '시간', '보내시길', '바랍니다', '저', '대가리', '깨져도', '강', '형', '욱', '님', '응원', '강아지', '항상', '진심', '셨던', '모습', '보면', '알수있', '읍니', '강', '훈련사', '님', '절대', '나쁜', '사람', '아닙니다'], ['피부', '진짜', '좋으세요'], ['481723023', '티아라', '효민', '님', '닮음'], ['뭐', '래', '진짜', '열등감', '파묻혀서', '사나', '사는게', '팍팍하고', '힘들어서', '그런', '가봐요', '유명인', '이라', '해서', '이런', '말', '들어야', '할', '이유', '없고', '민간인', '제', '들어도', '불쾌한', '말', '참', '많네요', '유명인', '살아가기', '참', '힘든', '세', '상이', '구려', '부모님', '사랑', '듬뿍', '받고', '자란', '우리', '모두', '금수', '저', '에요'], ['알아서', '잘', '살겠죠', '알아서', '연애', '하고', '알아서', '쇼핑', '하고', '알아서', '일상', '지내겠지', '자기', '생각', '맞다고', '생각', '할', '수', '있나', '뭘', '하나'], ['현아', '꼭', '푸르지오', '해줘', '어', '갈게'], ['예쁘긴', '해'], ['여론', '흐름', '절대', '적', '강', '대표', '수', '잔', '엘더', '이사', '에게', '힘', '실어', '주고', '있다', '언론', '엿', '이나', '먹어라'], ['존나', '슬프네'], ['금수', '저', '뭐', '고를', '떠나서', '마음', '확실히', '부자', '이신', '것', '같아요', '주변', '시기', '질투', '많이', '겪으신', '것', '같은데', '건강하게', '대처', '하고', '넘기는', '태도', '너무', '멋지고', '대인배', '같네요', '닮고싶다는', '생각', '하면서', '끝', '까지', '봤네요', '요즘', '사는게', '너무', '팍팍하고', '사소한것만으로도', '확', '나고', '그랬는데', '어느', '순간', '제', '너무', '소인배', '되어가고있었던것', '같아서', '한별', '님', '생각', '들으면서', '제', '살아가는', '방식', '대해', '돌아보게', '된', '영상', '이었습니다']]\n",
            "Combined y_train: [0, 0, 1, 0, 0, 1, 0, 0, 0, 0, 1, 0, 0, 1, 1, 0, 1, 0, 1, 0, 1, 1, 1, 0, 0, 0, 0, 0, 0, 0, 1, 0, 0, 0, 0, 0, 0, 0, 0, 0, 1, 0, 0, 0, 0, 1, 0, 1, 0, 0, 0, 0, 1, 0, 0, 1, 1, 1, 1, 0, 0, 0, 1, 0, 1, 0, 1, 0, 0, 0, 0, 0, 0, 1, 0, 0, 1, 0, 0, 0, 0, 0, 0, 0, 0, 1, 0, 0, 0, 1, 0, 0, 0, 0, 1, 0, 0, 0, 1, 1, 1, 1, 0, 0, 0, 0, 1, 1, 0, 0, 1, 0, 0, 0, 1, 0, 0, 0, 1, 0, 0, 0, 1, 0, 0, 0, 0, 0, 0, 1, 0, 1, 0, 0, 1, 0, 0, 1, 1, 0, 1, 0, 0, 0, 0, 0, 0, 0, 0, 0, 0, 0, 0, 0, 0, 0, 0, 0, 0, 1, 0, 0, 1, 0, 1, 0, 0, 0, 0, 1, 0, 1, 1, 0, 0, 1, 1, 1, 0, 1, 1, 1, 1, 0, 1, 1, 0, 0, 0, 1, 1, 1, 1, 1, 0, 0, 0, 0, 0, 1, 0, 0, 0, 1, 0, 0, 0, 0, 0, 0, 0, 1, 0, 0, 0, 1, 0, 0, 0, 1, 0, 1, 1, 1, 0, 0, 0, 0, 0, 1, 0, 1, 0, 0, 1, 0, 0, 0, 1, 0, 0, 0, 0, 1, 0, 1, 0, 0, 1, 0, 0, 1, 0, 0, 0, 1, 0, 0, 0, 0, 1, 0, 0, 1, 0, 0, 1, 0, 1, 1, 1, 1, 0, 0, 1, 0, 0, 0, 0, 0, 1, 1, 1, 1, 0, 0, 1, 0, 0, 0, 0, 1, 0, 0, 0, 1, 0, 0, 1, 1, 0, 1, 0, 0, 1, 0, 0, 0, 0, 0, 0, 0, 0, 1, 1, 0, 1, 0, 0, 1, 1, 0, 0, 1, 1, 1, 0, 1, 1, 1, 1, 1, 0, 1, 1, 1, 0, 0, 0, 0, 0, 0, 0, 1, 0, 1, 0, 0, 0, 0, 0, 1, 0, 0, 0, 1, 0, 1, 0, 0, 1, 1, 0, 0, 1, 0, 0, 0, 0, 0, 0, 0, 1, 0, 0, 1, 0, 0, 0, 0, 0, 0, 0, 0, 0, 0, 1, 0, 0, 0, 0, 0, 0, 0, 0, 1, 0, 0, 0, 0, 0, 0, 0, 0, 0, 0, 1, 0, 0, 0, 0, 1, 0, 0, 0, 0, 1, 1, 1, 0, 0, 0, 1, 1, 0, 0, 1, 0, 0, 0, 1, 1, 0, 0, 0, 0, 0, 1, 0, 1, 1, 0, 0, 0, 0, 1, 1, 1, 1, 0, 1, 1, 1, 0, 0, 1, 0, 0, 1, 1, 0, 0, 0, 1, 0, 1, 0, 1, 0, 1, 0, 0, 0, 0, 0, 0, 0, 0, 1, 0, 1, 0, 0, 0, 0, 1, 1, 0, 0, 0, 0, 0, 0, 0, 0, 1, 0, 1, 0, 0, 0, 0, 0, 1, 0, 0, 0, 1, 0, 1, 0, 0, 1, 0, 0, 0, 0, 0, 0, 0, 0, 0, 0, 1, 1, 0, 1, 0, 0, 0, 0, 0, 0, 0, 0, 0, 1, 0, 0, 1, 0, 1, 0, 1, 1, 0, 0, 0, 0, 1, 0, 0, 0, 0, 0, 0, 0, 0, 0, 0, 0, 1, 0, 0, 0, 0, 1, 1, 0, 0, 1, 0, 0, 0, 0, 0, 0, 0, 1, 0, 1, 0, 1, 0, 0, 0, 1, 1, 1, 1, 0, 0, 0, 0, 0, 1, 1, 1, 0, 0, 0, 1, 1, 0, 0, 0, 0, 0, 1, 0, 0, 1, 0, 0, 0, 0, 0, 0, 0, 0, 1, 1, 0, 1, 0, 0, 0, 0, 0, 1, 0, 0, 0, 0, 1, 1, 1, 0, 0, 0, 1, 1, 0, 1, 0, 0, 1, 0, 1, 0, 1, 0, 1, 1, 1, 0, 1, 0, 0, 0, 0, 1, 0, 0, 0, 1, 0, 0, 0, 0, 0, 0, 0, 0, 1, 1, 1, 0, 0, 1, 0, 1, 0, 0, 0, 1, 0, 0, 0, 0, 0, 0, 1, 0, 0, 1, 0, 0, 0, 0, 0, 0, 1, 0, 0, 0, 0, 1, 0, 0, 0, 1, 0, 0, 1, 0, 0, 0, 0, 0, 0, 0, 0, 1, 0, 0, 0, 0, 0, 1, 0, 0, 0, 0, 1, 0, 0, 0, 1, 0, 0, 0, 0, 0, 0, 1, 1, 0, 0, 0, 1, 0, 0, 1, 0, 0, 0, 0, 1, 0, 0, 1, 1, 0, 1, 0, 1, 0, 1, 1, 1, 0, 0, 0, 0, 0, 0, 0, 1, 0, 0, 0, 0, 0, 0, 0, 0, 0, 1, 0, 0, 0, 0, 1, 0, 1, 0, 0, 0, 0, 1, 0, 0, 1, 1, 1, 1, 0, 0, 0, 1, 0, 1, 0, 1, 0, 0, 0, 0, 0, 0, 1, 0, 0, 1, 0, 0, 0, 0, 0, 0, 0, 0, 1, 0, 0, 0, 1, 0, 0, 0, 0, 1, 0, 0, 0, 1, 1, 1, 1, 0, 0, 0, 0, 1, 1, 0, 0, 1, 0, 0, 0, 1, 0, 0, 0, 1, 0, 0, 0, 1, 0, 0, 0, 0, 0, 0, 1, 0, 1, 0, 0, 1, 0, 0, 1, 1, 0, 1, 0, 0, 0, 0, 0, 0, 0, 0, 0, 0, 0, 0, 0, 0, 0, 0, 0, 0, 1, 0, 0, 1, 0, 1, 0, 0, 0, 0, 1, 0, 1, 1, 0, 0, 1, 1, 1, 0, 1, 1, 1, 1, 0, 1, 1, 0, 0, 0, 1, 1, 1, 1, 1, 0, 0, 0, 0, 0, 1, 0, 0, 0, 1, 0, 0, 0, 0, 0, 0, 0, 1, 0, 0, 0, 1, 0, 0, 0, 1, 0, 1, 1, 1, 0, 0, 0, 0, 0, 1, 0, 1, 0, 0, 1, 0, 0, 0, 1, 0, 0, 0, 0, 1, 0, 1, 0, 0, 1, 0, 0, 1, 0, 0, 0, 1, 0, 0, 0, 0, 1, 0, 0, 1, 0, 0, 1, 0, 1, 1, 1, 1, 0, 0, 1, 0, 0, 0, 0, 0, 1, 1, 1, 1, 0, 0, 1, 0, 0, 0, 0, 1, 0, 0, 0, 1, 0, 0, 1, 1, 0, 1, 0, 0, 1, 0, 0, 0, 0, 0, 0, 0, 0, 1, 1, 0, 1, 0, 0, 1, 1, 0, 0, 1, 1, 1, 0, 1, 1, 1, 1, 1, 0, 1, 1, 1, 0, 0, 0, 0, 0, 0, 0, 1, 0, 1, 0, 0, 0, 0, 0, 1, 0, 0, 0, 1, 0, 1, 0, 0, 1, 1, 0, 0, 1, 0, 0, 0, 0, 0, 0, 0, 1, 0, 0, 1, 0, 0, 0, 0, 0, 0, 0, 0, 0, 0, 1, 0, 0, 0, 0, 0, 0, 0, 0, 1, 0, 0, 0, 0, 0, 0, 0, 0, 0, 0, 1, 0, 0, 0, 0, 1, 0, 0, 0, 0, 1, 1, 1, 0, 0, 0, 1, 1, 0, 0, 1, 0, 0, 0, 1, 1, 0, 0, 0, 0, 0, 1, 0, 1, 1, 0, 0, 0, 0, 1, 1, 1, 1, 0, 1, 1, 1, 0, 0, 1, 0, 0, 1, 1, 0, 0, 0, 1, 0, 1, 0, 1, 0, 1, 0, 0, 0, 0, 0, 0, 0, 0, 1, 0, 1, 0, 0, 0, 0, 1, 1, 0, 0, 0, 0, 0, 0, 0, 0, 1, 0, 1, 0, 0, 0, 0, 0, 1, 0, 0, 0, 1, 0, 1, 0, 0, 1, 0, 0, 0, 0, 0, 0, 0, 0, 0, 0, 1, 1, 0, 1, 0, 0, 0, 0, 0, 0, 0, 0, 0, 1, 0, 0, 1, 0, 1, 0, 1, 1, 0, 0, 0, 0, 1, 0, 0, 0, 0, 0, 0, 0, 0, 0, 0, 0, 1, 0, 0, 0, 0, 1, 1, 0, 0, 1, 0, 0, 0, 0, 0, 0, 0, 1, 0, 1, 0, 1, 0, 0, 0, 1, 1, 1, 1, 0, 0, 0, 0, 0, 1, 1, 1, 0, 0, 0, 1, 1, 0, 0, 0, 0, 0, 1, 0, 0, 1, 0, 0, 0, 0, 0, 0, 0, 0, 1, 1, 0, 1, 0, 0, 0, 0, 0, 1, 0, 0, 0, 0, 1, 1, 1, 0, 0, 0, 1, 1, 0, 1, 0, 0, 1, 0, 1, 0, 1, 0, 1, 1, 1, 0, 1, 0, 0, 0, 0, 1, 0, 0, 0, 1, 0, 0, 0, 0, 0, 0, 0, 0, 1, 1, 1, 0, 0, 1, 0, 1, 0, 0, 0, 1, 0, 0, 0, 0, 0, 0, 1, 0, 0, 1, 0, 0, 0, 0, 0, 0, 1, 0, 0, 0, 0, 1, 0, 0, 0, 1, 0, 0, 1, 0, 0, 0, 0, 0, 0, 0, 0, 1, 0, 0, 0, 0, 0, 1, 0, 0, 0, 0, 1, 0, 0, 0, 1, 0, 0, 0, 0, 0, 0, 1, 1, 0]\n"
          ]
        }
      ],
      "source": [
        "import numpy as np\n",
        "\n",
        "# 리스트를 NumPy 배열로 변환\n",
        "X_train_np = np.array(X_train)\n",
        "y_train_np = np.array(y_train)\n",
        "\n",
        "# 증식된 데이터도 NumPy 배열로 변환\n",
        "augmented_texts_np = np.array(augmented_texts, dtype=object)\n",
        "\n",
        "# 합친 데이터를 다시 리스트로 변환\n",
        "X_train_combined = list(X_train_np) + list(augmented_texts_np)\n",
        "y_train_combined = list(y_train_np) + list(y_train_np)  # 레이블도 증식된 만큼 추가합니다.\n",
        "\n",
        "print(\"Combined X_train:\", X_train_combined)\n",
        "print(\"Combined y_train:\", y_train_combined)\n"
      ]
    },
    {
      "cell_type": "markdown",
      "metadata": {
        "id": "DhAu8hIe25qz"
      },
      "source": [
        "데이터를 증식시켰으므로 원본 데이터와 증식된 데이터를 합치고\n",
        "\n",
        "얼마나 증식되었는지 출력하여 확인합니다"
      ]
    },
    {
      "cell_type": "markdown",
      "metadata": {
        "id": "O3vS2_3RlRVy"
      },
      "source": [
        "### 정수인코딩, 패딩"
      ]
    },
    {
      "cell_type": "markdown",
      "metadata": {
        "id": "DjFYYK6A2EGx"
      },
      "source": [
        "일반화 성능을 어느정도 유지시키기 위해 훈련셋, 테스트셋, 검증셋 분리 후 정수 인코딩과 패딩을 진행하였습니다."
      ]
    },
    {
      "cell_type": "code",
      "execution_count": null,
      "metadata": {
        "id": "2gW43wWbZMUw"
      },
      "outputs": [],
      "source": [
        "from keras.preprocessing.sequence import pad_sequences\n",
        "from keras.preprocessing.text import Tokenizer\n",
        "\n",
        "tokenizer = Tokenizer()\n",
        "\n",
        "# 정수 인코딩 수행\n",
        "X_train_sequences = tokenizer.texts_to_sequences(X_train_combined)\n",
        "X_val_sequences = tokenizer.texts_to_sequences(X_val)\n",
        "X_test_sequences = tokenizer.texts_to_sequences(X_test)\n",
        "\n",
        "# 패딩 수행\n",
        "max_length = 100  # 최대 시퀀스 길이 설정\n",
        "X_train_padded = pad_sequences(X_train_sequences, maxlen=max_length, padding='post')\n",
        "X_val_padded = pad_sequences(X_val_sequences, maxlen=max_length, padding='post')\n",
        "X_test_padded = pad_sequences(X_test_sequences, maxlen=max_length, padding='post')\n"
      ]
    },
    {
      "cell_type": "markdown",
      "metadata": {
        "id": "_xn8jJKXU20N"
      },
      "source": [
        "## 모델 선택 및 학습"
      ]
    },
    {
      "cell_type": "markdown",
      "metadata": {
        "id": "iGfEN6ggTZv2"
      },
      "source": [
        "### 하이퍼 파라미터 튜닝"
      ]
    },
    {
      "cell_type": "code",
      "execution_count": null,
      "metadata": {
        "colab": {
          "base_uri": "https://localhost:8080/"
        },
        "id": "1-M7RieiM1zc",
        "outputId": "5fa45935-e775-455e-82f0-bfbe3d39a2d6"
      },
      "outputs": [
        {
          "name": "stdout",
          "output_type": "stream",
          "text": [
            "Collecting optuna\n",
            "  Downloading optuna-3.6.1-py3-none-any.whl (380 kB)\n",
            "\u001b[2K     \u001b[90m━━━━━━━━━━━━━━━━━━━━━━━━━━━━━━━━━━━━━━━━\u001b[0m \u001b[32m380.1/380.1 kB\u001b[0m \u001b[31m2.3 MB/s\u001b[0m eta \u001b[36m0:00:00\u001b[0m\n",
            "\u001b[?25hCollecting alembic>=1.5.0 (from optuna)\n",
            "  Downloading alembic-1.13.1-py3-none-any.whl (233 kB)\n",
            "\u001b[2K     \u001b[90m━━━━━━━━━━━━━━━━━━━━━━━━━━━━━━━━━━━━━━━━\u001b[0m \u001b[32m233.4/233.4 kB\u001b[0m \u001b[31m15.4 MB/s\u001b[0m eta \u001b[36m0:00:00\u001b[0m\n",
            "\u001b[?25hCollecting colorlog (from optuna)\n",
            "  Downloading colorlog-6.8.2-py3-none-any.whl (11 kB)\n",
            "Requirement already satisfied: numpy in /usr/local/lib/python3.10/dist-packages (from optuna) (1.25.2)\n",
            "Requirement already satisfied: packaging>=20.0 in /usr/local/lib/python3.10/dist-packages (from optuna) (24.0)\n",
            "Requirement already satisfied: sqlalchemy>=1.3.0 in /usr/local/lib/python3.10/dist-packages (from optuna) (2.0.30)\n",
            "Requirement already satisfied: tqdm in /usr/local/lib/python3.10/dist-packages (from optuna) (4.66.4)\n",
            "Requirement already satisfied: PyYAML in /usr/local/lib/python3.10/dist-packages (from optuna) (6.0.1)\n",
            "Collecting Mako (from alembic>=1.5.0->optuna)\n",
            "  Downloading Mako-1.3.5-py3-none-any.whl (78 kB)\n",
            "\u001b[2K     \u001b[90m━━━━━━━━━━━━━━━━━━━━━━━━━━━━━━━━━━━━━━━━\u001b[0m \u001b[32m78.6/78.6 kB\u001b[0m \u001b[31m10.2 MB/s\u001b[0m eta \u001b[36m0:00:00\u001b[0m\n",
            "\u001b[?25hRequirement already satisfied: typing-extensions>=4 in /usr/local/lib/python3.10/dist-packages (from alembic>=1.5.0->optuna) (4.11.0)\n",
            "Requirement already satisfied: greenlet!=0.4.17 in /usr/local/lib/python3.10/dist-packages (from sqlalchemy>=1.3.0->optuna) (3.0.3)\n",
            "Requirement already satisfied: MarkupSafe>=0.9.2 in /usr/local/lib/python3.10/dist-packages (from Mako->alembic>=1.5.0->optuna) (2.1.5)\n",
            "Installing collected packages: Mako, colorlog, alembic, optuna\n",
            "Successfully installed Mako-1.3.5 alembic-1.13.1 colorlog-6.8.2 optuna-3.6.1\n"
          ]
        }
      ],
      "source": [
        "!pip install optuna"
      ]
    },
    {
      "cell_type": "code",
      "execution_count": null,
      "metadata": {
        "id": "h6Pl2_pL82vx"
      },
      "outputs": [],
      "source": [
        "# Embedding 층의 입력으로 들어갈 수 있도록 NumPy 배열로 변환\n",
        "X_train_np = np.array(X_train_padded)\n",
        "X_test_np = np.array(X_test_padded)\n",
        "X_val_np = np.array(X_val_padded)\n",
        "y_train_np = np.array(y_train_combined)\n",
        "y_val_np = np.array(y_val)"
      ]
    },
    {
      "cell_type": "code",
      "execution_count": null,
      "metadata": {
        "colab": {
          "background_save": true,
          "base_uri": "https://localhost:8080/"
        },
        "id": "Jmlxvixqx_JD",
        "outputId": "0f057c9b-6d05-4e21-bbc4-9284e8a14356"
      },
      "outputs": [
        {
          "name": "stderr",
          "output_type": "stream",
          "text": [
            "[I 2024-06-02 12:39:16,351] A new study created in memory with name: no-name-caf2835f-73f6-411d-b0f1-56a6a202d660\n",
            "[I 2024-06-02 12:42:43,151] Trial 0 finished with value: 0.6190476417541504 and parameters: {'embedding_dim': 193, 'lstm_units': 33}. Best is trial 0 with value: 0.6190476417541504.\n",
            "[I 2024-06-02 12:48:09,461] Trial 1 finished with value: 0.6190476417541504 and parameters: {'embedding_dim': 178, 'lstm_units': 92}. Best is trial 0 with value: 0.6190476417541504.\n",
            "[I 2024-06-02 12:51:53,593] Trial 2 finished with value: 0.6190476417541504 and parameters: {'embedding_dim': 107, 'lstm_units': 100}. Best is trial 0 with value: 0.6190476417541504.\n",
            "[I 2024-06-02 12:55:19,483] Trial 3 finished with value: 0.6190476417541504 and parameters: {'embedding_dim': 76, 'lstm_units': 89}. Best is trial 0 with value: 0.6190476417541504.\n",
            "[I 2024-06-02 12:58:44,655] Trial 4 finished with value: 0.6190476417541504 and parameters: {'embedding_dim': 167, 'lstm_units': 53}. Best is trial 0 with value: 0.6190476417541504.\n",
            "[I 2024-06-02 13:02:10,589] Trial 5 finished with value: 0.6190476417541504 and parameters: {'embedding_dim': 86, 'lstm_units': 81}. Best is trial 0 with value: 0.6190476417541504.\n",
            "[I 2024-06-02 13:04:35,182] Trial 6 finished with value: 0.6190476417541504 and parameters: {'embedding_dim': 77, 'lstm_units': 38}. Best is trial 0 with value: 0.6190476417541504.\n",
            "[I 2024-06-02 13:07:59,362] Trial 7 finished with value: 0.6190476417541504 and parameters: {'embedding_dim': 105, 'lstm_units': 48}. Best is trial 0 with value: 0.6190476417541504.\n",
            "[I 2024-06-02 13:13:24,004] Trial 8 finished with value: 0.6190476417541504 and parameters: {'embedding_dim': 149, 'lstm_units': 106}. Best is trial 0 with value: 0.6190476417541504.\n",
            "[I 2024-06-02 13:16:49,467] Trial 9 finished with value: 0.6190476417541504 and parameters: {'embedding_dim': 106, 'lstm_units': 80}. Best is trial 0 with value: 0.6190476417541504.\n",
            "[I 2024-06-02 13:21:13,787] Trial 10 finished with value: 0.6190476417541504 and parameters: {'embedding_dim': 199, 'lstm_units': 63}. Best is trial 0 with value: 0.6190476417541504.\n",
            "[I 2024-06-02 13:25:39,220] Trial 11 finished with value: 0.6190476417541504 and parameters: {'embedding_dim': 199, 'lstm_units': 67}. Best is trial 0 with value: 0.6190476417541504.\n",
            "[I 2024-06-02 13:31:03,949] Trial 12 finished with value: 0.6190476417541504 and parameters: {'embedding_dim': 157, 'lstm_units': 120}. Best is trial 0 with value: 0.6190476417541504.\n",
            "[I 2024-06-02 13:34:29,913] Trial 13 finished with value: 0.6190476417541504 and parameters: {'embedding_dim': 177, 'lstm_units': 35}. Best is trial 0 with value: 0.6190476417541504.\n"
          ]
        }
      ],
      "source": [
        "import optuna\n",
        "from tensorflow.keras.layers import Embedding, LSTM, Dense\n",
        "from tensorflow.keras.models import Sequential\n",
        "from tensorflow.keras.optimizers import Adam\n",
        "\n",
        "def create_model(trial):\n",
        "    # Optuna를 사용하여 Embedding 크기와 LSTM 유닛 수를 조정\n",
        "    embedding_dim = trial.suggest_int('embedding_dim', 50, 200)\n",
        "    lstm_units = trial.suggest_int('lstm_units', 32, 128)\n",
        "\n",
        "    model = Sequential()\n",
        "    model.add(Embedding(vocab_size, embedding_dim, input_length=100))\n",
        "    model.add(LSTM(lstm_units))\n",
        "    model.add(Dense(1, activation='sigmoid'))\n",
        "\n",
        "    # Adam optimizer 사용\n",
        "    optimizer = Adam(learning_rate=0.001)\n",
        "\n",
        "    model.compile(optimizer=optimizer, loss='binary_crossentropy', metrics=['accuracy'])\n",
        "    return model\n",
        "\n",
        "def objective(trial):\n",
        "    model = create_model(trial)\n",
        "    history = model.fit(X_train_np, y_train_np, validation_data=(X_val_np, y_val_np), epochs=20, batch_size=8, verbose=0)\n",
        "    return history.history['val_accuracy'][-1]  # 검증 정확도를 최적화 지표로 사용\n",
        "\n",
        "study = optuna.create_study(direction='maximize')\n",
        "study.optimize(objective, n_trials=20)\n",
        "\n",
        "print('Best trial:')\n",
        "trial = study.best_trial\n",
        "print(f'  Value: {trial.value}')\n",
        "print('  Params: ')\n",
        "for key, value in trial.params.items():\n",
        "    print(f'    {key}: {value}')\n"
      ]
    },
    {
      "cell_type": "markdown",
      "metadata": {
        "id": "oMvqDMTo-GYF"
      },
      "source": [
        "# **<딥러닝 설명>**"
      ]
    },
    {
      "cell_type": "markdown",
      "metadata": {
        "id": "uteDkOc2_TyQ"
      },
      "source": [
        "## <사용된 함수>"
      ]
    },
    {
      "cell_type": "markdown",
      "metadata": {
        "id": "r7RXb7DE-TIc"
      },
      "source": [
        "우선 최적의 하이퍼파라미터 조합으로 모델을 구성하기 위해 하이퍼파라미터 최적화를 위한 오픈소스 프레임워크인 Optuna를 사용하였습니다."
      ]
    },
    {
      "cell_type": "markdown",
      "metadata": {
        "id": "iY0u3z3v-pjS"
      },
      "source": [
        "create_model 함수:\n",
        "\n",
        "이 함수는 Optuna가 제안한 하이퍼파라미터에 따라 모델을 만듭니다. 임베딩 층, LSTM 층 및 출력 층을 포함하는 Sequential 모델을 만듭니다. 이 모델은 임베딩 크기와 LSTM 유닛 수를 하이퍼파라미터로 받습니다."
      ]
    },
    {
      "cell_type": "markdown",
      "metadata": {
        "id": "fdB347Iq-Klx"
      },
      "source": [
        "optuna.create_study 함수:\n",
        "\n",
        "Optuna의 Study 객체를 생성하는 함수입니다. Study는 하이퍼파라미터 튜닝을 위한 최적화 과정을 담당합니다. 이 때 direction='maximize'를 사용하여 최대화를 목표로 하는 최적화를 수행합니다."
      ]
    },
    {
      "cell_type": "markdown",
      "metadata": {
        "id": "V1sFcm13-l0T"
      },
      "source": [
        "objective 함수:\n",
        "\n",
        "이 함수는 주어진 하이퍼파라미터를 사용하여 모델을 훈련하고 검증 세트의 정확도를 반환합니다. 이 정확도가 최적화의 지표로 사용됩니다"
      ]
    },
    {
      "cell_type": "markdown",
      "metadata": {
        "id": "jFX5Jqoo-vly"
      },
      "source": [
        "study.optimize 함수:\n",
        "\n",
        "이 함수는 objective 함수를 최적화하고 최적의 하이퍼파라미터를 찾습니다. 여기서는 최대 20회 시도를 설정하였습니다.\n",
        "\n"
      ]
    },
    {
      "cell_type": "markdown",
      "metadata": {
        "id": "x0jEQOLW-zEF"
      },
      "source": [
        "최적의 결과는 study.best_trial을 통해 얻을 수 있습니다. 여기서는 검증 정확도가 최대화되도록 최적의 하이퍼파라미터를 찾았습니다."
      ]
    },
    {
      "cell_type": "markdown",
      "metadata": {
        "id": "K9gGiNc2_Wwm"
      },
      "source": [
        "## <딥 네트워크 구조>"
      ]
    },
    {
      "cell_type": "markdown",
      "metadata": {
        "id": "PQW1ocfy_ZvX"
      },
      "source": [
        "Embedding 층:\n",
        "\n",
        "이 층에서는 텍스트 데이터의 특성을 고차원의 벡터 공간으로 변환하는 역할을 합니다. vocab_size와 embedding_dim을 인자로 사용하여 Embedding 층을 구성했습니다.\n",
        "\n",
        "\n",
        "---\n",
        "\n",
        "\n",
        "LSTM 층:\n",
        "\n",
        "이 층은 시퀀스 데이터의 장기 의존성을 학습하는 데 사용됩니다. 이 모델에서는 lstm_units를 인자로 사용하여 LSTM 층을 구성했습니다\n",
        "\n",
        "\n",
        "---\n",
        "\n",
        "\n",
        "출력 층:\n",
        "\n",
        "이 모델은 이진 분류 문제를 다루기 때문에 출력 층에는 하나의 뉴런이 있습니다.\n",
        "이 모델에서는 시그모이드 활성화 함수를 사용하여 출력 층의 결과를 0과 1 사이의 확률로 변환하였습니다.\n",
        "\n",
        "이러한 구조의 모델을 통해 텍스트 데이터를 임베딩하여 의미 있는 특성을 추출하고, LSTM 층을 통해 시퀀스 정보를 처리한 후, 출력 층을 통해 이진 분류를 수행하도록 하였습니다."
      ]
    },
    {
      "cell_type": "markdown",
      "metadata": {
        "id": "jrcaDuNGvpED"
      },
      "source": [
        "### 최적의 하이퍼파라미터 조합으로 모델 생성"
      ]
    },
    {
      "cell_type": "code",
      "execution_count": null,
      "metadata": {
        "id": "R9KV-_-2voUm"
      },
      "outputs": [],
      "source": [
        "# 최적의 하이퍼파라미터로 모델 생성\n",
        "best_embedding_dim = study.best_params['embedding_dim']\n",
        "best_lstm_units = study.best_params['lstm_units']\n",
        "best_model = Sequential()\n",
        "best_model.add(Embedding(vocab_size, best_embedding_dim, input_length=100))\n",
        "best_model.add(LSTM(best_lstm_units))\n",
        "best_model.add(Dense(1, activation='sigmoid'))\n",
        "\n",
        "# Adam optimizer 사용\n",
        "optimizer = Adam(learning_rate=0.001)\n",
        "best_model.compile(optimizer=optimizer, loss='binary_crossentropy', metrics=['accuracy'])"
      ]
    },
    {
      "cell_type": "markdown",
      "metadata": {
        "id": "ZJ37aNwcVLcu"
      },
      "source": [
        "## 성능 측정 및 평가"
      ]
    },
    {
      "cell_type": "code",
      "execution_count": null,
      "metadata": {
        "colab": {
          "base_uri": "https://localhost:8080/"
        },
        "id": "6CFharhJrwCW",
        "outputId": "1441a6c9-9bb5-427b-8c7a-fbddb110b78f"
      },
      "outputs": [
        {
          "name": "stdout",
          "output_type": "stream",
          "text": [
            "6/6 [==============================] - 1s 38ms/step - loss: 0.6820 - accuracy: 0.6776\n",
            "Test Loss: 0.6819636821746826, Test Accuracy: 0.6775956153869629\n"
          ]
        }
      ],
      "source": [
        "# 테스트 세트에서 모델 평가\n",
        "test_loss, test_accuracy = best_model.evaluate(X_test_padded, y_test)\n",
        "print(f'Test Loss: {test_loss}, Test Accuracy: {test_accuracy}')\n"
      ]
    },
    {
      "cell_type": "markdown",
      "metadata": {
        "id": "MiWZV9RsAVYu"
      },
      "source": [
        "모델의 일반화 성능을 판단할 수 있도록 test 세트를 이용하여 모델을 평가하였습니다.\n",
        "\n",
        "테스트 손실 - 이 모델의 테스트 손실은 약 0.682입니다.\n",
        "\n",
        "테스트 정확도 - 이 모델의 테스트 정확도는 약 67.76%로 나타났습니다. 이는 테스트 세트의 전체 샘플 중 약 67.76%가 모델에 의해 올바르게 분류되었다는 것을 의미합니다.\n",
        "\n",
        "테스트 결과를 종합하면, 이 모델은 테스트 세트에서 약 67.76%의 정확도로 샘플을 분류하는 것으로 나타났습니다.\n",
        "\n",
        "\n",
        "\n"
      ]
    },
    {
      "cell_type": "markdown",
      "metadata": {
        "id": "eOZYCSSo9r_9"
      },
      "source": [
        "학습 곡선을 그려 모델의 성능 평가 결과를 시각화 해보았습니다."
      ]
    },
    {
      "cell_type": "code",
      "execution_count": null,
      "metadata": {
        "colab": {
          "base_uri": "https://localhost:8080/",
          "height": 484
        },
        "id": "50opeeI6VNB6",
        "outputId": "d2237416-3208-41ad-8608-4b8dde33901d"
      },
      "outputs": [
        {
          "data": {
            "image/png": "[encoded data removed]",
            "text/plain": [
              "<Figure size 1000x500 with 2 Axes>"
            ]
          },
          "metadata": {},
          "output_type": "display_data"
        }
      ],
      "source": [
        "import matplotlib.pyplot as plt\n",
        "\n",
        "def plot_learning_curve(history):\n",
        "    # 훈련 및 검증 손실 추출\n",
        "    train_loss = history.history['loss']\n",
        "    val_loss = history.history['val_loss']\n",
        "\n",
        "    # 훈련 및 검증 정확도 추출\n",
        "    train_accuracy = history.history['accuracy']\n",
        "    val_accuracy = history.history['val_accuracy']\n",
        "\n",
        "    # 손실 그래프\n",
        "    plt.figure(figsize=(10, 5))\n",
        "    plt.subplot(1, 2, 1)\n",
        "    plt.plot(train_loss, label='Training Loss')\n",
        "    plt.plot(val_loss, label='Validation Loss')\n",
        "    plt.xlabel('Epoch')\n",
        "    plt.ylabel('Loss')\n",
        "    plt.title('Loss Curve')\n",
        "    plt.legend()\n",
        "\n",
        "    # 정확도 그래프\n",
        "    plt.subplot(1, 2, 2)\n",
        "    plt.plot(train_accuracy, label='Training Accuracy')\n",
        "    plt.plot(val_accuracy, label='Validation Accuracy')\n",
        "    plt.xlabel('Epoch')\n",
        "    plt.ylabel('Accuracy')\n",
        "    plt.title('Accuracy Curve')\n",
        "    plt.legend()\n",
        "\n",
        "    plt.show()\n",
        "\n",
        "# 모델 훈련\n",
        "history = best_model.fit(X_train_np, y_train_np, validation_data=(X_val_np, y_val_np), epochs=20, batch_size=8, verbose=0)\n",
        "\n",
        "# 학습 곡선 그리기\n",
        "plot_learning_curve(history)\n"
      ]
    },
    {
      "cell_type": "markdown",
      "metadata": {
        "id": "4e6Ydl1NAw5N"
      },
      "source": [
        "학습 곡선의 첫 번째 요소는 훈련 손실과 검증 손실의 변화입니다. 훈련 손실은 모델이 훈련 데이터에 대해 얼마나 잘 적합되는지를 나타내며, 검증 손실은 모델이 검증 데이터에 대해 얼마나 일반화되는지를 나타냅니다."
      ]
    },
    {
      "cell_type": "markdown",
      "metadata": {
        "id": "YH6XENjtA0rG"
      },
      "source": [
        "이 학습 곡선에는 훈련 정확도와 검증 정확도의 변화도 포함됩니다. 이는 모델이 훈련 데이터와 검증 데이터에 대해 얼마나 정확하게 분류하는지를 보여줍니다."
      ]
    },
    {
      "cell_type": "markdown",
      "metadata": {
        "id": "Roy_-O_yYecr"
      },
      "source": [
        "# **PROGRESS REPORT**"
      ]
    },
    {
      "cell_type": "markdown",
      "metadata": {
        "id": "eXUlwKwWYjxi"
      },
      "source": [
        "1. \"유튜브 악성댓글 탐지기\"로 주제 선정 (5/16)\n",
        "\n",
        "2. 데이터 수집 (5/18 ~ 5/25)\n",
        "\n",
        "  Google 의 Youtube data API 활용해 크롤링\n",
        "\n",
        "  댓글과 작성자 추출\n",
        "\n",
        "  한글, 숫자만 골라 추출.(정규표현식)\n",
        "\n",
        "  다양한 유형의 영상 활용하여 일반화 도모\n",
        "\n",
        "  일반댓글 0, 악성댓글 1로 라벨링\n",
        "  \n",
        "3. 데이터 전처리(5/26~29)\n",
        "  결측데이터 삭제\n",
        "  토큰화 with 형태소 분석 -> 이 과정에서 불용어도 제거 가능\n",
        "\n",
        "  훈련셋과 테스트셋으로 분리\n",
        "\n",
        "  훈련셋은 또 검증셋과 훈련셋으로 분리\n",
        "\n",
        "  정수 인코딩 & 패딩(길이 통일)\n",
        "\n",
        "4. 데이터 보완 (5/29~30)\n",
        "  데이터 증식 - RD/RS\n",
        "  전이학습? (Transformer / BERT)\n",
        "  -> 나같이 데이터가 적은 경우 전이학습, 그중에서도 자연어 처리에 매우 유용한 Google사의 BERT 를 사용할까 고민했으나 BERT를 사용하면 내가 직접 딥러닝 한 모델을 사용하여 진행하는 프로젝트라고 할 수 없을 것 같아 포기..\n",
        "\n",
        "5. 모델 선택(5/31)\n",
        "    LSTM\n",
        "\n",
        "6. 모델 하이퍼파라미터 미세 튜닝(5/31)\n",
        "    Optuna\n",
        "\n",
        "7. 모델 훈련 및 성능 평가(5/31)"
      ]
    },
    {
      "cell_type": "markdown",
      "metadata": {
        "id": "8eZrOHfIYYu8"
      },
      "source": [
        "# **참고자료 및 링크 첨부**"
      ]
    },
    {
      "cell_type": "markdown",
      "metadata": {
        "id": "XnTLjWU-YlmC"
      },
      "source": [
        "https://arxiv.org/pdf/1901.11196 - EDA  (공부용)\n",
        "\n",
        "https://nlpaug.readthedocs.io/en/latest/augmenter/word/context_word_embs.html - nlpaug\n",
        "\n",
        "https://bo-10000.tistory.com/202 - optuna 사용법\n",
        "\n",
        "https://blog.naver.com/j7youngh/222875104191 - 한국어 토큰화의 여러 방법\n",
        "\n",
        "https://www.youtube.com/watch?v=r87VZ6YGHM8\n",
        "\n",
        "\n",
        "강의록 4주차 2번째 & 5주차 2번째"
      ]
    },
    {
      "cell_type": "markdown",
      "metadata": {
        "id": "cPLQ0j13Ycde"
      },
      "source": [
        "#**느낀점**\n"
      ]
    },
    {
      "cell_type": "markdown",
      "metadata": {
        "id": "ulsOWCLFYnCN"
      },
      "source": [
        "이제껏 저는 머신러닝과 딥러닝을 배워오면서 항상 주어진 데이터들을 가지고만 코드를 돌려보았었습니다. 그러나 이번 DPR 텀프로젝트를 계기로 '내가 직접' 데이터를 수집하고, 레이블링하고, 전처리 하는 과정을 거치며 하나부터 열까지 스스로의 힘으로 하나의 프로그램을 만드는 경험을 해보니 생각보다 쉽지 않고 엄청난 인내심과 끈기와 성실함이 필요하다는 것을 깨달을 수 있었습니다. 특히나 데이터 수집, 전처리의 중요성과 그 복잡함을 몸소 느낄 수 있었고, 데이터 증식과 모델 미세 튜닝 작업을 통해 바뀌어가는 학습곡선을 확인하면서 뭔지 모를 뿌듯함과 보람 또한 느꼈습니다. 저는 자연어 처리에 이전부터 관심이 있어 이번 프로젝트를 자연어 텍스트 처리 프로그램을 주제로 잡았는데 진행하면서 자연어 처리에 이렇게나 고려할 게 많고, 까다롭고, 그래서 이를 위해 만들어진 모델들과 패키지가 엄청 다양하며, 그 많은 것들 중에 자신의 목적과 용도에 맞게 적절히 사용할 줄 아는 능력이 중요하다는 것도 알게 되었습니다. 비록 고생도 많이 했지만 이번 프로젝트를 계기로 여러 방면에서 성장한 것 같아 의미있고 소중한 시간이었습니다. 감사합니다."
      ]
    }
  ],
  "metadata": {
    "colab": {
      "collapsed_sections": [
        "3UfsdELEX1JE",
        "OyG6IdOhX9iC",
        "A8PcYGn37Ey5",
        "fumj4TxyVDDK",
        "JPhTDPVIKid-",
        "AEozpr-BG7IV",
        "_xn8jJKXU20N",
        "uteDkOc2_TyQ",
        "K9gGiNc2_Wwm",
        "Roy_-O_yYecr",
        "8eZrOHfIYYu8",
        "cPLQ0j13Ycde"
      ],
      "provenance": [],
      "authorship_tag": "ABX9TyMMeTcbyWZ9Tm4DQPLEvQcI",
      "include_colab_link": true
    },
    "kernelspec": {
      "display_name": "Python 3",
      "name": "python3"
    },
    "language_info": {
      "name": "python"
    }
  },
  "nbformat": 4,
  "nbformat_minor": 0
}